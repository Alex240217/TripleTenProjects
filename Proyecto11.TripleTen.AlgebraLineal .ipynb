{
 "cells": [
  {
   "cell_type": "markdown",
   "metadata": {},
   "source": [
    "¡Hola!\n",
    "\n",
    "Mi nombre es Tonatiuh Cruz. Me complace revisar tu proyecto hoy.\n",
    "\n",
    "Al identificar cualquier error inicialmente, simplemente los destacaré. Te animo a localizar y abordar los problemas de forma independiente como parte de tu preparación para un rol como data-scientist. En un entorno profesional, tu líder de equipo seguiría un enfoque similar. Si encuentras la tarea desafiante, proporcionaré una pista más específica en la próxima iteración.\n",
    "\n",
    "Encontrarás mis comentarios a continuación - **por favor no los muevas, modifiques o elimines**.\n",
    "\n",
    "Puedes encontrar mis comentarios en cajas verdes, amarillas o rojas como esta:\n",
    "\n",
    "<div class=\"alert alert-block alert-success\">\n",
    "<b>Comentario del revisor</b> <a class=\"tocSkip\"></a>\n",
    "\n",
    "Éxito. Todo está hecho correctamente.\n",
    "</div>\n",
    "\n",
    "<div class=\"alert alert-block alert-warning\">\n",
    "<b>Comentario del revisor</b> <a class=\"tocSkip\"></a>\n",
    "\n",
    "Observaciones. Algunas recomendaciones.\n",
    "</div>\n",
    "\n",
    "<div class=\"alert alert-block alert-danger\">\n",
    "<b>Comentario del revisor</b> <a class=\"tocSkip\"></a>\n",
    "\n",
    "Necesita corrección. El bloque requiere algunas correcciones. El trabajo no puede ser aceptado con comentarios en rojo.\n",
    "</div>\n",
    "\n",
    "Puedes responderme utilizando esto:\n",
    "\n",
    "<div class=\"alert alert-block alert-info\">\n",
    "<b>Respuesta del estudiante.</b> <a class=\"tocSkip\"></a>\n",
    "</div>"
   ]
  },
  {
   "cell_type": "markdown",
   "metadata": {},
   "source": [
    "# Descripción"
   ]
  },
  {
   "cell_type": "markdown",
   "metadata": {},
   "source": [
    "La compañía de seguros Sure Tomorrow quiere resolver varias tareas con la ayuda de machine learning y te pide que evalúes esa posibilidad.\n",
    "- Tarea 1: encontrar clientes que sean similares a un cliente determinado. Esto ayudará a los agentes de la compañía con el marketing.\n",
    "- Tarea 2: predecir la probabilidad de que un nuevo cliente reciba una prestación del seguro. ¿Puede un modelo de predictivo funcionar mejor que un modelo dummy?\n",
    "- Tarea 3: predecir el número de prestaciones de seguro que un nuevo cliente pueda recibir utilizando un modelo de regresión lineal.\n",
    "- Tarea 4: proteger los datos personales de los clientes sin afectar al modelo del ejercicio anterior. Es necesario desarrollar un algoritmo de transformación de datos que dificulte la recuperación de la información personal si los datos caen en manos equivocadas. Esto se denomina enmascaramiento u ofuscación de datos. Pero los datos deben protegerse de tal manera que no se vea afectada la calidad de los modelos de machine learning. No es necesario elegir el mejor modelo, basta con demostrar que el algoritmo funciona correctamente.\n"
   ]
  },
  {
   "cell_type": "markdown",
   "metadata": {},
   "source": [
    "# Preprocesamiento y exploración de datos\n",
    "\n",
    "## Inicialización"
   ]
  },
  {
   "cell_type": "code",
   "execution_count": 1,
   "metadata": {},
   "outputs": [],
   "source": [
    "#pip install scikit-learn --upgrade"
   ]
  },
  {
   "cell_type": "code",
   "execution_count": 2,
   "metadata": {},
   "outputs": [],
   "source": [
    "import numpy as np\n",
    "import pandas as pd\n",
    "import matplotlib.pyplot as plt\n",
    "\n",
    "import seaborn as sns\n",
    "\n",
    "import sklearn.linear_model\n",
    "import sklearn.metrics\n",
    "import sklearn.neighbors\n",
    "from sklearn.neighbors import NearestNeighbors\n",
    "import sklearn.preprocessing\n",
    "from sklearn.dummy import DummyClassifier\n",
    "from sklearn.neighbors import KNeighborsClassifier\n",
    "import math\n",
    "from sklearn.metrics import f1_score\n",
    "from sklearn.preprocessing import StandardScaler\n",
    "\n",
    "from sklearn.model_selection import train_test_split\n",
    "\n",
    "from IPython.display import display"
   ]
  },
  {
   "cell_type": "markdown",
   "metadata": {},
   "source": [
    "## Carga de datos"
   ]
  },
  {
   "cell_type": "markdown",
   "metadata": {},
   "source": [
    "Carga los datos y haz una revisión básica para comprobar que no hay problemas obvios."
   ]
  },
  {
   "cell_type": "code",
   "execution_count": 3,
   "metadata": {},
   "outputs": [],
   "source": [
    "df = pd.read_csv('/datasets/insurance_us.csv')"
   ]
  },
  {
   "cell_type": "markdown",
   "metadata": {},
   "source": [
    "Renombramos las columnas para que el código se vea más coherente con su estilo."
   ]
  },
  {
   "cell_type": "code",
   "execution_count": 4,
   "metadata": {},
   "outputs": [],
   "source": [
    "df = df.rename(columns={'Gender': 'gender', 'Age': 'age', 'Salary': 'income', 'Family members': 'family_members', 'Insurance benefits': 'insurance_benefits'})"
   ]
  },
  {
   "cell_type": "code",
   "execution_count": 5,
   "metadata": {},
   "outputs": [
    {
     "data": {
      "text/html": [
       "<div>\n",
       "<style scoped>\n",
       "    .dataframe tbody tr th:only-of-type {\n",
       "        vertical-align: middle;\n",
       "    }\n",
       "\n",
       "    .dataframe tbody tr th {\n",
       "        vertical-align: top;\n",
       "    }\n",
       "\n",
       "    .dataframe thead th {\n",
       "        text-align: right;\n",
       "    }\n",
       "</style>\n",
       "<table border=\"1\" class=\"dataframe\">\n",
       "  <thead>\n",
       "    <tr style=\"text-align: right;\">\n",
       "      <th></th>\n",
       "      <th>gender</th>\n",
       "      <th>age</th>\n",
       "      <th>income</th>\n",
       "      <th>family_members</th>\n",
       "      <th>insurance_benefits</th>\n",
       "    </tr>\n",
       "  </thead>\n",
       "  <tbody>\n",
       "    <tr>\n",
       "      <th>4075</th>\n",
       "      <td>0</td>\n",
       "      <td>19.0</td>\n",
       "      <td>47300.0</td>\n",
       "      <td>2</td>\n",
       "      <td>0</td>\n",
       "    </tr>\n",
       "    <tr>\n",
       "      <th>1277</th>\n",
       "      <td>1</td>\n",
       "      <td>26.0</td>\n",
       "      <td>62800.0</td>\n",
       "      <td>0</td>\n",
       "      <td>0</td>\n",
       "    </tr>\n",
       "    <tr>\n",
       "      <th>4024</th>\n",
       "      <td>1</td>\n",
       "      <td>39.0</td>\n",
       "      <td>35500.0</td>\n",
       "      <td>0</td>\n",
       "      <td>0</td>\n",
       "    </tr>\n",
       "    <tr>\n",
       "      <th>2217</th>\n",
       "      <td>1</td>\n",
       "      <td>32.0</td>\n",
       "      <td>40000.0</td>\n",
       "      <td>1</td>\n",
       "      <td>0</td>\n",
       "    </tr>\n",
       "    <tr>\n",
       "      <th>926</th>\n",
       "      <td>1</td>\n",
       "      <td>32.0</td>\n",
       "      <td>43200.0</td>\n",
       "      <td>1</td>\n",
       "      <td>0</td>\n",
       "    </tr>\n",
       "    <tr>\n",
       "      <th>3342</th>\n",
       "      <td>0</td>\n",
       "      <td>38.0</td>\n",
       "      <td>39000.0</td>\n",
       "      <td>3</td>\n",
       "      <td>0</td>\n",
       "    </tr>\n",
       "    <tr>\n",
       "      <th>1867</th>\n",
       "      <td>0</td>\n",
       "      <td>37.0</td>\n",
       "      <td>51500.0</td>\n",
       "      <td>1</td>\n",
       "      <td>0</td>\n",
       "    </tr>\n",
       "    <tr>\n",
       "      <th>3821</th>\n",
       "      <td>0</td>\n",
       "      <td>24.0</td>\n",
       "      <td>33900.0</td>\n",
       "      <td>0</td>\n",
       "      <td>0</td>\n",
       "    </tr>\n",
       "    <tr>\n",
       "      <th>4482</th>\n",
       "      <td>0</td>\n",
       "      <td>26.0</td>\n",
       "      <td>47200.0</td>\n",
       "      <td>2</td>\n",
       "      <td>0</td>\n",
       "    </tr>\n",
       "    <tr>\n",
       "      <th>4625</th>\n",
       "      <td>0</td>\n",
       "      <td>21.0</td>\n",
       "      <td>43300.0</td>\n",
       "      <td>1</td>\n",
       "      <td>0</td>\n",
       "    </tr>\n",
       "  </tbody>\n",
       "</table>\n",
       "</div>"
      ],
      "text/plain": [
       "      gender   age   income  family_members  insurance_benefits\n",
       "4075       0  19.0  47300.0               2                   0\n",
       "1277       1  26.0  62800.0               0                   0\n",
       "4024       1  39.0  35500.0               0                   0\n",
       "2217       1  32.0  40000.0               1                   0\n",
       "926        1  32.0  43200.0               1                   0\n",
       "3342       0  38.0  39000.0               3                   0\n",
       "1867       0  37.0  51500.0               1                   0\n",
       "3821       0  24.0  33900.0               0                   0\n",
       "4482       0  26.0  47200.0               2                   0\n",
       "4625       0  21.0  43300.0               1                   0"
      ]
     },
     "execution_count": 5,
     "metadata": {},
     "output_type": "execute_result"
    }
   ],
   "source": [
    "df.sample(10)"
   ]
  },
  {
   "cell_type": "code",
   "execution_count": 6,
   "metadata": {},
   "outputs": [
    {
     "name": "stdout",
     "output_type": "stream",
     "text": [
      "<class 'pandas.core.frame.DataFrame'>\n",
      "RangeIndex: 5000 entries, 0 to 4999\n",
      "Data columns (total 5 columns):\n",
      " #   Column              Non-Null Count  Dtype  \n",
      "---  ------              --------------  -----  \n",
      " 0   gender              5000 non-null   int64  \n",
      " 1   age                 5000 non-null   float64\n",
      " 2   income              5000 non-null   float64\n",
      " 3   family_members      5000 non-null   int64  \n",
      " 4   insurance_benefits  5000 non-null   int64  \n",
      "dtypes: float64(2), int64(3)\n",
      "memory usage: 195.4 KB\n"
     ]
    }
   ],
   "source": [
    "df.info()"
   ]
  },
  {
   "cell_type": "code",
   "execution_count": 7,
   "metadata": {},
   "outputs": [],
   "source": [
    "# puede que queramos cambiar el tipo de edad (de float a int) aunque esto no es crucial\n",
    "\n",
    "# escribe tu conversión aquí si lo deseas:\n",
    "\n",
    "df['age'] = df['age'].astype('int')"
   ]
  },
  {
   "cell_type": "code",
   "execution_count": 8,
   "metadata": {},
   "outputs": [
    {
     "name": "stdout",
     "output_type": "stream",
     "text": [
      "<class 'pandas.core.frame.DataFrame'>\n",
      "RangeIndex: 5000 entries, 0 to 4999\n",
      "Data columns (total 5 columns):\n",
      " #   Column              Non-Null Count  Dtype  \n",
      "---  ------              --------------  -----  \n",
      " 0   gender              5000 non-null   int64  \n",
      " 1   age                 5000 non-null   int64  \n",
      " 2   income              5000 non-null   float64\n",
      " 3   family_members      5000 non-null   int64  \n",
      " 4   insurance_benefits  5000 non-null   int64  \n",
      "dtypes: float64(1), int64(4)\n",
      "memory usage: 195.4 KB\n"
     ]
    }
   ],
   "source": [
    "# comprueba que la conversión se haya realizado con éxito\n",
    "\n",
    "df.info()"
   ]
  },
  {
   "cell_type": "code",
   "execution_count": 9,
   "metadata": {},
   "outputs": [],
   "source": [
    "# ahora echa un vistazo a las estadísticas descriptivas de los datos.# ¿Se ve todo bien?"
   ]
  },
  {
   "cell_type": "code",
   "execution_count": 10,
   "metadata": {},
   "outputs": [
    {
     "data": {
      "text/html": [
       "<div>\n",
       "<style scoped>\n",
       "    .dataframe tbody tr th:only-of-type {\n",
       "        vertical-align: middle;\n",
       "    }\n",
       "\n",
       "    .dataframe tbody tr th {\n",
       "        vertical-align: top;\n",
       "    }\n",
       "\n",
       "    .dataframe thead th {\n",
       "        text-align: right;\n",
       "    }\n",
       "</style>\n",
       "<table border=\"1\" class=\"dataframe\">\n",
       "  <thead>\n",
       "    <tr style=\"text-align: right;\">\n",
       "      <th></th>\n",
       "      <th>gender</th>\n",
       "      <th>age</th>\n",
       "      <th>income</th>\n",
       "      <th>family_members</th>\n",
       "      <th>insurance_benefits</th>\n",
       "    </tr>\n",
       "  </thead>\n",
       "  <tbody>\n",
       "    <tr>\n",
       "      <th>count</th>\n",
       "      <td>5000.000000</td>\n",
       "      <td>5000.000000</td>\n",
       "      <td>5000.000000</td>\n",
       "      <td>5000.000000</td>\n",
       "      <td>5000.000000</td>\n",
       "    </tr>\n",
       "    <tr>\n",
       "      <th>mean</th>\n",
       "      <td>0.499000</td>\n",
       "      <td>30.952800</td>\n",
       "      <td>39916.360000</td>\n",
       "      <td>1.194200</td>\n",
       "      <td>0.148000</td>\n",
       "    </tr>\n",
       "    <tr>\n",
       "      <th>std</th>\n",
       "      <td>0.500049</td>\n",
       "      <td>8.440807</td>\n",
       "      <td>9900.083569</td>\n",
       "      <td>1.091387</td>\n",
       "      <td>0.463183</td>\n",
       "    </tr>\n",
       "    <tr>\n",
       "      <th>min</th>\n",
       "      <td>0.000000</td>\n",
       "      <td>18.000000</td>\n",
       "      <td>5300.000000</td>\n",
       "      <td>0.000000</td>\n",
       "      <td>0.000000</td>\n",
       "    </tr>\n",
       "    <tr>\n",
       "      <th>0%</th>\n",
       "      <td>0.000000</td>\n",
       "      <td>18.000000</td>\n",
       "      <td>5300.000000</td>\n",
       "      <td>0.000000</td>\n",
       "      <td>0.000000</td>\n",
       "    </tr>\n",
       "    <tr>\n",
       "      <th>10%</th>\n",
       "      <td>0.000000</td>\n",
       "      <td>20.000000</td>\n",
       "      <td>27200.000000</td>\n",
       "      <td>0.000000</td>\n",
       "      <td>0.000000</td>\n",
       "    </tr>\n",
       "    <tr>\n",
       "      <th>20%</th>\n",
       "      <td>0.000000</td>\n",
       "      <td>23.000000</td>\n",
       "      <td>31700.000000</td>\n",
       "      <td>0.000000</td>\n",
       "      <td>0.000000</td>\n",
       "    </tr>\n",
       "    <tr>\n",
       "      <th>30%</th>\n",
       "      <td>0.000000</td>\n",
       "      <td>25.000000</td>\n",
       "      <td>34700.000000</td>\n",
       "      <td>0.000000</td>\n",
       "      <td>0.000000</td>\n",
       "    </tr>\n",
       "    <tr>\n",
       "      <th>40%</th>\n",
       "      <td>0.000000</td>\n",
       "      <td>28.000000</td>\n",
       "      <td>37400.000000</td>\n",
       "      <td>1.000000</td>\n",
       "      <td>0.000000</td>\n",
       "    </tr>\n",
       "    <tr>\n",
       "      <th>50%</th>\n",
       "      <td>0.000000</td>\n",
       "      <td>30.000000</td>\n",
       "      <td>40200.000000</td>\n",
       "      <td>1.000000</td>\n",
       "      <td>0.000000</td>\n",
       "    </tr>\n",
       "    <tr>\n",
       "      <th>60%</th>\n",
       "      <td>1.000000</td>\n",
       "      <td>33.000000</td>\n",
       "      <td>42500.000000</td>\n",
       "      <td>1.000000</td>\n",
       "      <td>0.000000</td>\n",
       "    </tr>\n",
       "    <tr>\n",
       "      <th>70%</th>\n",
       "      <td>1.000000</td>\n",
       "      <td>35.000000</td>\n",
       "      <td>45100.000000</td>\n",
       "      <td>2.000000</td>\n",
       "      <td>0.000000</td>\n",
       "    </tr>\n",
       "    <tr>\n",
       "      <th>80%</th>\n",
       "      <td>1.000000</td>\n",
       "      <td>38.000000</td>\n",
       "      <td>48200.000000</td>\n",
       "      <td>2.000000</td>\n",
       "      <td>0.000000</td>\n",
       "    </tr>\n",
       "    <tr>\n",
       "      <th>90%</th>\n",
       "      <td>1.000000</td>\n",
       "      <td>43.000000</td>\n",
       "      <td>52500.000000</td>\n",
       "      <td>3.000000</td>\n",
       "      <td>1.000000</td>\n",
       "    </tr>\n",
       "    <tr>\n",
       "      <th>100%</th>\n",
       "      <td>1.000000</td>\n",
       "      <td>65.000000</td>\n",
       "      <td>79000.000000</td>\n",
       "      <td>6.000000</td>\n",
       "      <td>5.000000</td>\n",
       "    </tr>\n",
       "    <tr>\n",
       "      <th>max</th>\n",
       "      <td>1.000000</td>\n",
       "      <td>65.000000</td>\n",
       "      <td>79000.000000</td>\n",
       "      <td>6.000000</td>\n",
       "      <td>5.000000</td>\n",
       "    </tr>\n",
       "  </tbody>\n",
       "</table>\n",
       "</div>"
      ],
      "text/plain": [
       "            gender          age        income  family_members  \\\n",
       "count  5000.000000  5000.000000   5000.000000     5000.000000   \n",
       "mean      0.499000    30.952800  39916.360000        1.194200   \n",
       "std       0.500049     8.440807   9900.083569        1.091387   \n",
       "min       0.000000    18.000000   5300.000000        0.000000   \n",
       "0%        0.000000    18.000000   5300.000000        0.000000   \n",
       "10%       0.000000    20.000000  27200.000000        0.000000   \n",
       "20%       0.000000    23.000000  31700.000000        0.000000   \n",
       "30%       0.000000    25.000000  34700.000000        0.000000   \n",
       "40%       0.000000    28.000000  37400.000000        1.000000   \n",
       "50%       0.000000    30.000000  40200.000000        1.000000   \n",
       "60%       1.000000    33.000000  42500.000000        1.000000   \n",
       "70%       1.000000    35.000000  45100.000000        2.000000   \n",
       "80%       1.000000    38.000000  48200.000000        2.000000   \n",
       "90%       1.000000    43.000000  52500.000000        3.000000   \n",
       "100%      1.000000    65.000000  79000.000000        6.000000   \n",
       "max       1.000000    65.000000  79000.000000        6.000000   \n",
       "\n",
       "       insurance_benefits  \n",
       "count         5000.000000  \n",
       "mean             0.148000  \n",
       "std              0.463183  \n",
       "min              0.000000  \n",
       "0%               0.000000  \n",
       "10%              0.000000  \n",
       "20%              0.000000  \n",
       "30%              0.000000  \n",
       "40%              0.000000  \n",
       "50%              0.000000  \n",
       "60%              0.000000  \n",
       "70%              0.000000  \n",
       "80%              0.000000  \n",
       "90%              1.000000  \n",
       "100%             5.000000  \n",
       "max              5.000000  "
      ]
     },
     "execution_count": 10,
     "metadata": {},
     "output_type": "execute_result"
    }
   ],
   "source": [
    "df.describe(np.linspace(0, 1, 11))"
   ]
  },
  {
   "cell_type": "code",
   "execution_count": 11,
   "metadata": {},
   "outputs": [
    {
     "data": {
      "image/png": "[encoded data removed]",
      "text/plain": [
       "<Figure size 640x480 with 1 Axes>"
      ]
     },
     "metadata": {},
     "output_type": "display_data"
    },
    {
     "data": {
      "image/png": "[encoded data removed]",
      "text/plain": [
       "<Figure size 640x480 with 1 Axes>"
      ]
     },
     "metadata": {},
     "output_type": "display_data"
    },
    {
     "data": {
      "image/png": "[encoded data removed]",
      "text/plain": [
       "<Figure size 640x480 with 1 Axes>"
      ]
     },
     "metadata": {},
     "output_type": "display_data"
    },
    {
     "data": {
      "image/png": "[encoded data removed]",
      "text/plain": [
       "<Figure size 640x480 with 1 Axes>"
      ]
     },
     "metadata": {},
     "output_type": "display_data"
    },
    {
     "data": {
      "image/png": "[encoded data removed]",
      "text/plain": [
       "<Figure size 640x480 with 1 Axes>"
      ]
     },
     "metadata": {},
     "output_type": "display_data"
    }
   ],
   "source": [
    "for x in df.columns:\n",
    "    counts = df[x].value_counts().sort_values(ascending=False)\n",
    "    top_counts = counts.head(20)\n",
    "    top_counts.plot(kind='bar', title=f'Distribución de {x}')\n",
    "    plt.xticks(rotation=45, ha='right')\n",
    "    plt.xlabel(x)\n",
    "    plt.ylabel('Frecuencia')\n",
    "    plt.tight_layout()\n",
    "    plt.show()"
   ]
  },
  {
   "cell_type": "markdown",
   "metadata": {},
   "source": [
    "<div class=\"alert alert-block alert-success\">\n",
    "<b>Comentario del revisor</b> <a class=\"tocSkip\"></a>\n",
    "\n",
    "Muy bien! Importaste de forma correcta las librerías y módulos, cambiaste el formato de los nombres y verificaste que no hubiera outliers inválidos en los datos.\n",
    "</div>"
   ]
  },
  {
   "cell_type": "markdown",
   "metadata": {},
   "source": [
    "## Análisis exploratorio de datos"
   ]
  },
  {
   "cell_type": "markdown",
   "metadata": {},
   "source": [
    "Vamos a comprobar rápidamente si existen determinados grupos de clientes observando el gráfico de pares."
   ]
  },
  {
   "cell_type": "code",
   "execution_count": 12,
   "metadata": {},
   "outputs": [
    {
     "data": {
      "image/png": "[encoded data removed]",
      "text/plain": [
       "<Figure size 1200x1200 with 30 Axes>"
      ]
     },
     "metadata": {},
     "output_type": "display_data"
    }
   ],
   "source": [
    "g = sns.pairplot(df, kind='hist')\n",
    "g.fig.set_size_inches(12, 12)"
   ]
  },
  {
   "cell_type": "markdown",
   "metadata": {},
   "source": [
    "De acuerdo, es un poco complicado detectar grupos obvios (clústeres) ya que es difícil combinar diversas variables simultáneamente (para analizar distribuciones multivariadas). Ahí es donde LA y ML pueden ser bastante útiles."
   ]
  },
  {
   "cell_type": "markdown",
   "metadata": {},
   "source": [
    "<div class=\"alert alert-block alert-success\">\n",
    "<b>Comentario del revisor</b> <a class=\"tocSkip\"></a>\n",
    "\n",
    "Excelente trabajo con el desarrollo de la gráfica de pares. \n",
    "</div>"
   ]
  },
  {
   "cell_type": "markdown",
   "metadata": {},
   "source": [
    "# Tarea 1. Clientes similares"
   ]
  },
  {
   "cell_type": "markdown",
   "metadata": {},
   "source": [
    "En el lenguaje de ML, es necesario desarrollar un procedimiento que devuelva los k vecinos más cercanos (objetos) para un objeto dado basándose en la distancia entre los objetos.\n",
    "Es posible que quieras revisar las siguientes lecciones (capítulo -> lección)- Distancia entre vectores -> Distancia euclidiana\n",
    "- Distancia entre vectores -> Distancia Manhattan\n",
    "\n",
    "Para resolver la tarea, podemos probar diferentes métricas de distancia."
   ]
  },
  {
   "cell_type": "markdown",
   "metadata": {},
   "source": [
    "Escribe una función que devuelva los k vecinos más cercanos para un $n^{th}$ objeto basándose en una métrica de distancia especificada. A la hora de realizar esta tarea no debe tenerse en cuenta el número de prestaciones de seguro recibidas.\n",
    "Puedes utilizar una implementación ya existente del algoritmo kNN de scikit-learn (consulta [el enlace](https://scikit-learn.org/stable/modules/generated/sklearn.neighbors.NearestNeighbors.html#sklearn.neighbors.NearestNeighbors)) o tu propia implementación.\n",
    "Pruébalo para cuatro combinaciones de dos casos- Escalado\n",
    "  - los datos no están escalados\n",
    "  - los datos se escalan con el escalador [MaxAbsScaler](https://scikit-learn.org/stable/modules/generated/sklearn.preprocessing.MaxAbsScaler.html)\n",
    "- Métricas de distancia\n",
    "  - Euclidiana\n",
    "  - Manhattan\n",
    "\n",
    "Responde a estas preguntas:- ¿El hecho de que los datos no estén escalados afecta al algoritmo kNN? Si es así, ¿cómo se manifiesta?- ¿Qué tan similares son los resultados al utilizar la métrica de distancia Manhattan (independientemente del escalado)?"
   ]
  },
  {
   "cell_type": "code",
   "execution_count": 13,
   "metadata": {},
   "outputs": [],
   "source": [
    "feature_names = ['gender', 'age', 'income', 'family_members']"
   ]
  },
  {
   "cell_type": "code",
   "execution_count": 14,
   "metadata": {},
   "outputs": [],
   "source": [
    "def get_knn(df, n, k, metric='euclidean'):\n",
    "    \n",
    "    \"\"\"\n",
    "    Devuelve los k vecinos más cercanos\n",
    "\n",
    "    :param df: DataFrame de pandas utilizado para encontrar objetos similares dentro del mismo lugar    :param n: número de objetos para los que se buscan los vecinos más cercanos    :param k: número de vecinos más cercanos a devolver\n",
    "    :param métrica: nombre de la métrica de distancia    \"\"\"\n",
    "\n",
    "    nbrs = NearestNeighbors(n_neighbors=k, metric=metric)\n",
    "    \n",
    "    nbrs.fit(df)\n",
    "    nbrs_distances, nbrs_indices = nbrs.kneighbors([df.iloc[n][feature_names]], k, return_distance=True)\n",
    "    \n",
    "    df_res = pd.concat([\n",
    "        df.iloc[nbrs_indices[0]], \n",
    "        pd.DataFrame(nbrs_distances.T, index=nbrs_indices[0], columns=['distance'])\n",
    "        ], axis=1)\n",
    "    \n",
    "    return df_res"
   ]
  },
  {
   "cell_type": "markdown",
   "metadata": {},
   "source": [
    "Escalar datos."
   ]
  },
  {
   "cell_type": "code",
   "execution_count": 15,
   "metadata": {},
   "outputs": [],
   "source": [
    "feature_names = ['gender', 'age', 'income', 'family_members']\n",
    "\n",
    "transformer_mas = sklearn.preprocessing.MaxAbsScaler().fit(df[feature_names].to_numpy())\n",
    "\n",
    "df_scaled = df.copy()\n",
    "df_scaled.loc[:, feature_names] = transformer_mas.transform(df[feature_names].to_numpy())"
   ]
  },
  {
   "cell_type": "code",
   "execution_count": 16,
   "metadata": {},
   "outputs": [
    {
     "data": {
      "text/html": [
       "<div>\n",
       "<style scoped>\n",
       "    .dataframe tbody tr th:only-of-type {\n",
       "        vertical-align: middle;\n",
       "    }\n",
       "\n",
       "    .dataframe tbody tr th {\n",
       "        vertical-align: top;\n",
       "    }\n",
       "\n",
       "    .dataframe thead th {\n",
       "        text-align: right;\n",
       "    }\n",
       "</style>\n",
       "<table border=\"1\" class=\"dataframe\">\n",
       "  <thead>\n",
       "    <tr style=\"text-align: right;\">\n",
       "      <th></th>\n",
       "      <th>gender</th>\n",
       "      <th>age</th>\n",
       "      <th>income</th>\n",
       "      <th>family_members</th>\n",
       "      <th>insurance_benefits</th>\n",
       "    </tr>\n",
       "  </thead>\n",
       "  <tbody>\n",
       "    <tr>\n",
       "      <th>4810</th>\n",
       "      <td>0.0</td>\n",
       "      <td>0.553846</td>\n",
       "      <td>0.527848</td>\n",
       "      <td>0.000000</td>\n",
       "      <td>0</td>\n",
       "    </tr>\n",
       "    <tr>\n",
       "      <th>2277</th>\n",
       "      <td>1.0</td>\n",
       "      <td>0.507692</td>\n",
       "      <td>0.469620</td>\n",
       "      <td>0.000000</td>\n",
       "      <td>0</td>\n",
       "    </tr>\n",
       "    <tr>\n",
       "      <th>1439</th>\n",
       "      <td>0.0</td>\n",
       "      <td>0.446154</td>\n",
       "      <td>0.454430</td>\n",
       "      <td>0.000000</td>\n",
       "      <td>0</td>\n",
       "    </tr>\n",
       "    <tr>\n",
       "      <th>4846</th>\n",
       "      <td>0.0</td>\n",
       "      <td>0.369231</td>\n",
       "      <td>0.524051</td>\n",
       "      <td>0.166667</td>\n",
       "      <td>0</td>\n",
       "    </tr>\n",
       "    <tr>\n",
       "      <th>3919</th>\n",
       "      <td>0.0</td>\n",
       "      <td>0.384615</td>\n",
       "      <td>0.630380</td>\n",
       "      <td>0.333333</td>\n",
       "      <td>0</td>\n",
       "    </tr>\n",
       "  </tbody>\n",
       "</table>\n",
       "</div>"
      ],
      "text/plain": [
       "      gender       age    income  family_members  insurance_benefits\n",
       "4810     0.0  0.553846  0.527848        0.000000                   0\n",
       "2277     1.0  0.507692  0.469620        0.000000                   0\n",
       "1439     0.0  0.446154  0.454430        0.000000                   0\n",
       "4846     0.0  0.369231  0.524051        0.166667                   0\n",
       "3919     0.0  0.384615  0.630380        0.333333                   0"
      ]
     },
     "execution_count": 16,
     "metadata": {},
     "output_type": "execute_result"
    }
   ],
   "source": [
    "df_scaled.sample(5)"
   ]
  },
  {
   "cell_type": "markdown",
   "metadata": {},
   "source": [
    "Ahora, vamos a obtener registros similares para uno determinado, para cada combinación"
   ]
  },
  {
   "cell_type": "code",
   "execution_count": 17,
   "metadata": {},
   "outputs": [
    {
     "data": {
      "text/html": [
       "<div>\n",
       "<style scoped>\n",
       "    .dataframe tbody tr th:only-of-type {\n",
       "        vertical-align: middle;\n",
       "    }\n",
       "\n",
       "    .dataframe tbody tr th {\n",
       "        vertical-align: top;\n",
       "    }\n",
       "\n",
       "    .dataframe thead th {\n",
       "        text-align: right;\n",
       "    }\n",
       "</style>\n",
       "<table border=\"1\" class=\"dataframe\">\n",
       "  <thead>\n",
       "    <tr style=\"text-align: right;\">\n",
       "      <th></th>\n",
       "      <th>gender</th>\n",
       "      <th>age</th>\n",
       "      <th>income</th>\n",
       "      <th>family_members</th>\n",
       "      <th>distance</th>\n",
       "    </tr>\n",
       "  </thead>\n",
       "  <tbody>\n",
       "    <tr>\n",
       "      <th>1</th>\n",
       "      <td>0.0</td>\n",
       "      <td>0.707692</td>\n",
       "      <td>0.481013</td>\n",
       "      <td>0.166667</td>\n",
       "      <td>0.000000</td>\n",
       "    </tr>\n",
       "    <tr>\n",
       "      <th>4162</th>\n",
       "      <td>0.0</td>\n",
       "      <td>0.707692</td>\n",
       "      <td>0.477215</td>\n",
       "      <td>0.166667</td>\n",
       "      <td>0.003797</td>\n",
       "    </tr>\n",
       "    <tr>\n",
       "      <th>1863</th>\n",
       "      <td>0.0</td>\n",
       "      <td>0.707692</td>\n",
       "      <td>0.492405</td>\n",
       "      <td>0.166667</td>\n",
       "      <td>0.011392</td>\n",
       "    </tr>\n",
       "    <tr>\n",
       "      <th>4986</th>\n",
       "      <td>0.0</td>\n",
       "      <td>0.723077</td>\n",
       "      <td>0.491139</td>\n",
       "      <td>0.166667</td>\n",
       "      <td>0.018418</td>\n",
       "    </tr>\n",
       "    <tr>\n",
       "      <th>4477</th>\n",
       "      <td>0.0</td>\n",
       "      <td>0.692308</td>\n",
       "      <td>0.459494</td>\n",
       "      <td>0.166667</td>\n",
       "      <td>0.026453</td>\n",
       "    </tr>\n",
       "  </tbody>\n",
       "</table>\n",
       "</div>"
      ],
      "text/plain": [
       "      gender       age    income  family_members  distance\n",
       "1        0.0  0.707692  0.481013        0.166667  0.000000\n",
       "4162     0.0  0.707692  0.477215        0.166667  0.003797\n",
       "1863     0.0  0.707692  0.492405        0.166667  0.011392\n",
       "4986     0.0  0.723077  0.491139        0.166667  0.018418\n",
       "4477     0.0  0.692308  0.459494        0.166667  0.026453"
      ]
     },
     "execution_count": 17,
     "metadata": {},
     "output_type": "execute_result"
    }
   ],
   "source": [
    "get_knn(df_scaled[feature_names], n=1, k=5, metric='euclidean')"
   ]
  },
  {
   "cell_type": "code",
   "execution_count": 18,
   "metadata": {},
   "outputs": [
    {
     "data": {
      "text/html": [
       "<div>\n",
       "<style scoped>\n",
       "    .dataframe tbody tr th:only-of-type {\n",
       "        vertical-align: middle;\n",
       "    }\n",
       "\n",
       "    .dataframe tbody tr th {\n",
       "        vertical-align: top;\n",
       "    }\n",
       "\n",
       "    .dataframe thead th {\n",
       "        text-align: right;\n",
       "    }\n",
       "</style>\n",
       "<table border=\"1\" class=\"dataframe\">\n",
       "  <thead>\n",
       "    <tr style=\"text-align: right;\">\n",
       "      <th></th>\n",
       "      <th>gender</th>\n",
       "      <th>age</th>\n",
       "      <th>income</th>\n",
       "      <th>family_members</th>\n",
       "      <th>distance</th>\n",
       "    </tr>\n",
       "  </thead>\n",
       "  <tbody>\n",
       "    <tr>\n",
       "      <th>1</th>\n",
       "      <td>0.0</td>\n",
       "      <td>0.707692</td>\n",
       "      <td>0.481013</td>\n",
       "      <td>0.166667</td>\n",
       "      <td>0.000000</td>\n",
       "    </tr>\n",
       "    <tr>\n",
       "      <th>4162</th>\n",
       "      <td>0.0</td>\n",
       "      <td>0.707692</td>\n",
       "      <td>0.477215</td>\n",
       "      <td>0.166667</td>\n",
       "      <td>0.003797</td>\n",
       "    </tr>\n",
       "    <tr>\n",
       "      <th>1863</th>\n",
       "      <td>0.0</td>\n",
       "      <td>0.707692</td>\n",
       "      <td>0.492405</td>\n",
       "      <td>0.166667</td>\n",
       "      <td>0.011392</td>\n",
       "    </tr>\n",
       "    <tr>\n",
       "      <th>4986</th>\n",
       "      <td>0.0</td>\n",
       "      <td>0.723077</td>\n",
       "      <td>0.491139</td>\n",
       "      <td>0.166667</td>\n",
       "      <td>0.025511</td>\n",
       "    </tr>\n",
       "    <tr>\n",
       "      <th>2434</th>\n",
       "      <td>0.0</td>\n",
       "      <td>0.676923</td>\n",
       "      <td>0.482278</td>\n",
       "      <td>0.166667</td>\n",
       "      <td>0.032035</td>\n",
       "    </tr>\n",
       "  </tbody>\n",
       "</table>\n",
       "</div>"
      ],
      "text/plain": [
       "      gender       age    income  family_members  distance\n",
       "1        0.0  0.707692  0.481013        0.166667  0.000000\n",
       "4162     0.0  0.707692  0.477215        0.166667  0.003797\n",
       "1863     0.0  0.707692  0.492405        0.166667  0.011392\n",
       "4986     0.0  0.723077  0.491139        0.166667  0.025511\n",
       "2434     0.0  0.676923  0.482278        0.166667  0.032035"
      ]
     },
     "execution_count": 18,
     "metadata": {},
     "output_type": "execute_result"
    }
   ],
   "source": [
    "get_knn(df_scaled[feature_names], n=1, k=5, metric='manhattan')"
   ]
  },
  {
   "cell_type": "markdown",
   "metadata": {},
   "source": [
    "Respuestas a las preguntas"
   ]
  },
  {
   "cell_type": "markdown",
   "metadata": {},
   "source": [
    "**¿El hecho de que los datos no estén escalados afecta al algoritmo kNN? Si es así, ¿cómo se manifiesta?** \n",
    "\n",
    "El algoritmo kNN nos permite encontrar los vecinos mas cercanos, por lo que un dataframe que cuenta con diferentes datos y métricas puede favorecer a aquellos cuyas magnitudes son mayores en lugar de tener una perspectiva mas equilibrada de todas las columnas, esa es la razón por la que usamos los escaladores. "
   ]
  },
  {
   "cell_type": "markdown",
   "metadata": {},
   "source": [
    "**¿Qué tan similares son los resultados al utilizar la métrica de distancia Manhattan (independientemente del escalado)?** \n",
    "\n",
    "Después de haber repetido la función cambiando únicamente la métrica de distancia podemos observar resultados muy parecidos, tal vez se nota un ligero aumento de la distancia en los vecinos 4 y 5 pero nada demasiado relevante, en cualquier caso ante esta ligera diferencia se sugiere usar la métrica euclidiana. "
   ]
  },
  {
   "cell_type": "markdown",
   "metadata": {},
   "source": [
    "<div class=\"alert alert-block alert-success\">\n",
    "<b>Comentario del revisor</b> <a class=\"tocSkip\"></a>\n",
    "\n",
    "Bien implementado el modelo. Como acabas de notar, el escalado es muy importante debido a que permite que variables numéricas con rangos muy diferentes sean comparables. Sin escalar los datos las características con valores más grandes pueden dominar las métricas de distancia y no obtener resultados precisos.\n",
    "</div>"
   ]
  },
  {
   "cell_type": "markdown",
   "metadata": {},
   "source": [
    "# Tarea 2. ¿Es probable que el cliente reciba una prestación del seguro?"
   ]
  },
  {
   "cell_type": "markdown",
   "metadata": {},
   "source": [
    "En términos de machine learning podemos considerarlo como una tarea de clasificación binaria."
   ]
  },
  {
   "cell_type": "markdown",
   "metadata": {},
   "source": [
    "Con el valor de `insurance_benefits` superior a cero como objetivo, evalúa si el enfoque de clasificación kNN puede funcionar mejor que el modelo dummy.\n",
    "Instrucciones:\n",
    "- Construye un clasificador basado en KNN y mide su calidad con la métrica F1 para k=1...10 tanto para los datos originales como para los escalados. Sería interesante observar cómo k puede influir en la métrica de evaluación y si el escalado de los datos provoca alguna diferencia. Puedes utilizar una implementación ya existente del algoritmo de clasificación kNN de scikit-learn (consulta [el enlace](https://scikit-learn.org/stable/modules/generated/sklearn.neighbors.KNeighborsClassifier.html)) o tu propia implementación.- Construye un modelo dummy que, en este caso, es simplemente un modelo aleatorio. Debería devolver \"1\" con cierta probabilidad. Probemos el modelo con cuatro valores de probabilidad: 0, la probabilidad de pagar cualquier prestación del seguro, 0.5, 1.\n",
    "La probabilidad de pagar cualquier prestación del seguro puede definirse como\n",
    "$$\n",
    "P\\{\\text{prestación de seguro recibida}\\}=\\frac{\\text{número de clientes que han recibido alguna prestación de seguro}}{\\text{número total de clientes}}.\n",
    "$$\n",
    "\n",
    "Divide todos los datos correspondientes a las etapas de entrenamiento/prueba respetando la proporción 70:30."
   ]
  },
  {
   "cell_type": "code",
   "execution_count": 19,
   "metadata": {},
   "outputs": [],
   "source": [
    "# сalcula el objetivo\n",
    "df['insurance_benefits_received'] = df['insurance_benefits'] > 0"
   ]
  },
  {
   "cell_type": "code",
   "execution_count": 20,
   "metadata": {},
   "outputs": [
    {
     "name": "stdout",
     "output_type": "stream",
     "text": [
      "False    4436\n",
      "True      564\n",
      "Name: insurance_benefits_received, dtype: int64\n",
      "False    88.72\n",
      "True     11.28\n",
      "Name: insurance_benefits_received, dtype: float64\n"
     ]
    }
   ],
   "source": [
    "# comprueba el desequilibrio de clases con value_counts()\n",
    "print(df['insurance_benefits_received'].value_counts())\n",
    "\n",
    "print(df['insurance_benefits_received'].value_counts(normalize=True)*100)"
   ]
  },
  {
   "cell_type": "code",
   "execution_count": 21,
   "metadata": {},
   "outputs": [],
   "source": [
    "def eval_classifier(y_true, y_pred):\n",
    "    \n",
    "    f1_score = sklearn.metrics.f1_score(y_true, y_pred)\n",
    "    print(f'F1: {f1_score:.2f}')\n",
    "    \n",
    "# si tienes algún problema con la siguiente línea, reinicia el kernel y ejecuta el cuaderno de nuevo    cm = sklearn.metrics.confusion_matrix(y_true, y_pred, normalize='all')\n",
    "    cm = sklearn.metrics.confusion_matrix(y_true, y_pred, normalize='all')\n",
    "    print('Matriz de confusión')\n",
    "    print(cm)"
   ]
  },
  {
   "cell_type": "code",
   "execution_count": 22,
   "metadata": {},
   "outputs": [],
   "source": [
    "# generar la salida de un modelo aleatorio\n",
    "\n",
    "def rnd_model_predict(P, size, seed=42):\n",
    "\n",
    "    rng = np.random.default_rng(seed=seed)\n",
    "    return rng.binomial(n=1, p=P, size=size)"
   ]
  },
  {
   "cell_type": "code",
   "execution_count": 23,
   "metadata": {},
   "outputs": [
    {
     "name": "stdout",
     "output_type": "stream",
     "text": [
      "La probabilidad: 0.00\n",
      "F1: 0.00\n",
      "Matriz de confusión\n",
      "[[0.8872 0.    ]\n",
      " [0.1128 0.    ]]\n",
      "\n",
      "La probabilidad: 0.11\n",
      "F1: 0.12\n",
      "Matriz de confusión\n",
      "[[0.7914 0.0958]\n",
      " [0.0994 0.0134]]\n",
      "\n",
      "La probabilidad: 0.50\n",
      "F1: 0.20\n",
      "Matriz de confusión\n",
      "[[0.456  0.4312]\n",
      " [0.053  0.0598]]\n",
      "\n",
      "La probabilidad: 1.00\n",
      "F1: 0.20\n",
      "Matriz de confusión\n",
      "[[0.     0.8872]\n",
      " [0.     0.1128]]\n",
      "\n"
     ]
    }
   ],
   "source": [
    "for P in [0, df['insurance_benefits_received'].sum() / len(df), 0.5, 1]:\n",
    "\n",
    "    print(f'La probabilidad: {P:.2f}')\n",
    "    y_pred_rnd = rnd_model_predict(P=P, size=len(df))# <tu código aquí> \n",
    "        \n",
    "    eval_classifier(df['insurance_benefits_received'], y_pred_rnd)\n",
    "    \n",
    "    print()"
   ]
  },
  {
   "cell_type": "markdown",
   "metadata": {},
   "source": [
    "<div class=\"alert alert-block alert-success\">\n",
    "<b>Comentario del revisor</b> <a class=\"tocSkip\"></a>\n",
    "\n",
    "Excelente! Tu balanceo de clases usando downsampling, separación de datos y resultados del modelo fueron muy buenos! Cuál sería tu intepretación del hecho que el escalado de datos mejore considerablemente el F1?\n",
    "    \n",
    "</div>"
   ]
  },
  {
   "cell_type": "markdown",
   "metadata": {},
   "source": [
    "### El escalado de datos mejora considerablemente el F1 debido a que, cuando revisamos el dataframe original observamos que la escala de valores es muy diferente para cada columna, debido a ello valores como income, son de magnitud notablemente mas grande respecto a otros como gender, que tiene un valor binario 0 o 1. "
   ]
  },
  {
   "cell_type": "markdown",
   "metadata": {},
   "source": [
    "### KNN Model"
   ]
  },
  {
   "cell_type": "code",
   "execution_count": 24,
   "metadata": {},
   "outputs": [],
   "source": [
    "def kclass(x_train, y_train,x_test,y_test, k, metric_to_use):\n",
    "    \n",
    "    \"\"\"\n",
    "    Devuelve los k vecinos más cercanos\n",
    "\n",
    "    :param x_train: datos caracteristicas de entrenamiento\n",
    "    :param y_train: datos objetivo entrenamiento\n",
    "    :param x_test: datos caracteristicas de prueba\n",
    "    :param y_test: datos prueba objetivo\n",
    "    :param k: número de vecinos más cercanos a devolver\n",
    "    :param metric_to_use: nombre de la métrica de distancia: ‘euclidean’,‘manhattan’   \"\"\"\n",
    "\n",
    "    k_class = sklearn.neighbors.KNeighborsClassifier(n_neighbors=k, metric=metric_to_use)\n",
    "    k_class.fit(x_train.values,y_train.values)\n",
    "    y_pred = k_class.predict(x_test)\n",
    "    \n",
    "    print(eval_classifier(y_test,y_pred))\n",
    "    print()\n",
    "    print(sklearn.metrics.classification_report(y_test,y_pred))"
   ]
  },
  {
   "cell_type": "code",
   "execution_count": 25,
   "metadata": {},
   "outputs": [
    {
     "name": "stdout",
     "output_type": "stream",
     "text": [
      "F1: 0.02\n",
      "Matriz de confusión\n",
      "[[8.91515152e-01 6.06060606e-04]\n",
      " [1.06666667e-01 1.21212121e-03]]\n",
      "None\n",
      "\n",
      "              precision    recall  f1-score   support\n",
      "\n",
      "       False       0.89      1.00      0.94      1472\n",
      "        True       0.67      0.01      0.02       178\n",
      "\n",
      "    accuracy                           0.89      1650\n",
      "   macro avg       0.78      0.51      0.48      1650\n",
      "weighted avg       0.87      0.89      0.84      1650\n",
      "\n"
     ]
    }
   ],
   "source": [
    "x_train, x_test, y_train, y_test = train_test_split(df[feature_names],df['insurance_benefits_received'],test_size = 0.33,random_state=8)\n",
    "\n",
    "kclass(x_train, y_train, x_test, y_test,8, 'euclidean')\n",
    "\n"
   ]
  },
  {
   "cell_type": "code",
   "execution_count": 26,
   "metadata": {},
   "outputs": [
    {
     "name": "stdout",
     "output_type": "stream",
     "text": [
      "F1: 0.02\n",
      "Matriz de confusión\n",
      "[[8.91515152e-01 6.06060606e-04]\n",
      " [1.06666667e-01 1.21212121e-03]]\n",
      "None\n",
      "\n",
      "              precision    recall  f1-score   support\n",
      "\n",
      "       False       0.89      1.00      0.94      1472\n",
      "        True       0.67      0.01      0.02       178\n",
      "\n",
      "    accuracy                           0.89      1650\n",
      "   macro avg       0.78      0.51      0.48      1650\n",
      "weighted avg       0.87      0.89      0.84      1650\n",
      "\n"
     ]
    }
   ],
   "source": [
    "kclass(x_train, y_train, x_test, y_test,8, 'manhattan')"
   ]
  },
  {
   "cell_type": "markdown",
   "metadata": {},
   "source": [
    "### Con escalado de datos. "
   ]
  },
  {
   "cell_type": "code",
   "execution_count": 27,
   "metadata": {},
   "outputs": [],
   "source": [
    "x_train, x_test, y_train, y_test = train_test_split(df_scaled[feature_names],df['insurance_benefits_received'],test_size = 0.33,random_state=8)"
   ]
  },
  {
   "cell_type": "code",
   "execution_count": 28,
   "metadata": {},
   "outputs": [
    {
     "name": "stdout",
     "output_type": "stream",
     "text": [
      "F1: 0.88\n",
      "Matriz de confusión\n",
      "[[0.89212121 0.        ]\n",
      " [0.02242424 0.08545455]]\n",
      "None\n",
      "\n",
      "              precision    recall  f1-score   support\n",
      "\n",
      "       False       0.98      1.00      0.99      1472\n",
      "        True       1.00      0.79      0.88       178\n",
      "\n",
      "    accuracy                           0.98      1650\n",
      "   macro avg       0.99      0.90      0.94      1650\n",
      "weighted avg       0.98      0.98      0.98      1650\n",
      "\n"
     ]
    }
   ],
   "source": [
    "kclass(x_train, y_train, x_test, y_test,8, 'euclidean')"
   ]
  },
  {
   "cell_type": "code",
   "execution_count": 29,
   "metadata": {},
   "outputs": [
    {
     "name": "stdout",
     "output_type": "stream",
     "text": [
      "F1: 0.90\n",
      "Matriz de confusión\n",
      "[[0.89212121 0.        ]\n",
      " [0.01939394 0.08848485]]\n",
      "None\n",
      "\n",
      "              precision    recall  f1-score   support\n",
      "\n",
      "       False       0.98      1.00      0.99      1472\n",
      "        True       1.00      0.82      0.90       178\n",
      "\n",
      "    accuracy                           0.98      1650\n",
      "   macro avg       0.99      0.91      0.95      1650\n",
      "weighted avg       0.98      0.98      0.98      1650\n",
      "\n"
     ]
    }
   ],
   "source": [
    "kclass(x_train, y_train, x_test, y_test,8, 'manhattan')"
   ]
  },
  {
   "cell_type": "markdown",
   "metadata": {},
   "source": [
    "<div class=\"alert alert-block alert-success\">\n",
    "<b>Comentario del revisor</b> <a class=\"tocSkip\"></a>\n",
    "\n",
    "Buen trabajo implementando el modelo de regresión lineal tanto para los datos originales como los escalados. Como pudiste notar, el usar un conjunto u otro no afecta a los resultados obtenidos por el modelo, cuál sería tu interpretación de este hecho?\n",
    "</div>"
   ]
  },
  {
   "cell_type": "markdown",
   "metadata": {},
   "source": [
    "### Resulta muy evidente que el escalado de los datos favorece la métrica F1, pasando de valores cercanos a cero en cualquiera de los dos tipos de distancia, a valores de 0.88 (euclidean) y 0.90 (manhattan) respectivamente "
   ]
  },
  {
   "cell_type": "markdown",
   "metadata": {},
   "source": [
    "# Tarea 3. Regresión (con regresión lineal)"
   ]
  },
  {
   "cell_type": "markdown",
   "metadata": {},
   "source": [
    "Con `insurance_benefits` como objetivo, evalúa cuál sería la RECM de un modelo de regresión lineal."
   ]
  },
  {
   "cell_type": "markdown",
   "metadata": {},
   "source": [
    "Construye tu propia implementación de regresión lineal. Para ello, recuerda cómo está formulada la solución de la tarea de regresión lineal en términos de LA. Comprueba la RECM tanto para los datos originales como para los escalados. ¿Puedes ver alguna diferencia en la RECM con respecto a estos dos casos?\n",
    "\n",
    "Denotemos- $X$: matriz de características; cada fila es un caso, cada columna es una característica, la primera columna está formada por unidades- $y$ — objetivo (un vector)- $\\hat{y}$ — objetivo estimado (un vector)- $w$ — vector de pesos\n",
    "La tarea de regresión lineal en el lenguaje de las matrices puede formularse así:\n",
    "$$\n",
    "y = Xw\n",
    "$$\n",
    "\n",
    "El objetivo de entrenamiento es entonces encontrar esa $w$ w que minimice la distancia L2 (ECM) entre $Xw$ y $y$:\n",
    "\n",
    "$$\n",
    "\\min_w d_2(Xw, y) \\quad \\text{or} \\quad \\min_w \\text{MSE}(Xw, y)\n",
    "$$\n",
    "\n",
    "Parece que hay una solución analítica para lo anteriormente expuesto:\n",
    "$$\n",
    "w = (X^T X)^{-1} X^T y\n",
    "$$\n",
    "\n",
    "La fórmula anterior puede servir para encontrar los pesos $w$ y estos últimos pueden utilizarse para calcular los valores predichos\n",
    "$$\n",
    "\\hat{y} = X_{val}w\n",
    "$$"
   ]
  },
  {
   "cell_type": "markdown",
   "metadata": {},
   "source": [
    "Divide todos los datos correspondientes a las etapas de entrenamiento/prueba respetando la proporción 70:30. Utiliza la métrica RECM para evaluar el modelo."
   ]
  },
  {
   "cell_type": "code",
   "execution_count": 30,
   "metadata": {},
   "outputs": [],
   "source": [
    "class MyLinearRegression:\n",
    "    \n",
    "    def __init__(self):\n",
    "        self.weights = None\n",
    "    \n",
    "    def fit(self, X, y):\n",
    "        # Añadir las unidades\n",
    "        X2 = np.append(np.ones([len(X), 1]), X, axis=1)\n",
    "        # Calcular los pesos usando la fórmula de la pseudoinversa\n",
    "        self.weights = np.linalg.inv(X2.T @ X2) @ X2.T @ y\n",
    "\n",
    "    def predict(self, X):\n",
    "        # Añadir las unidades\n",
    "        X2 = np.append(np.ones([len(X), 1]), X, axis=1)\n",
    "        # Realizar la predicción\n",
    "        y_pred = X2 @ self.weights\n",
    "        \n",
    "        return y_pred"
   ]
  },
  {
   "cell_type": "code",
   "execution_count": 31,
   "metadata": {},
   "outputs": [],
   "source": [
    "def eval_regressor(y_true, y_pred):\n",
    "    rmse = math.sqrt(sklearn.metrics.mean_squared_error(y_true, y_pred))\n",
    "    print(f'RMSE: {rmse:.2f}')\n",
    "    \n",
    "    r2_score = sklearn.metrics.r2_score(y_true, y_pred)\n",
    "    print(f'R2: {r2_score:.2f}')"
   ]
  },
  {
   "cell_type": "code",
   "execution_count": 32,
   "metadata": {},
   "outputs": [
    {
     "name": "stdout",
     "output_type": "stream",
     "text": [
      "[-9.53923892e-01  3.56896799e-02  2.26513891e-02  2.39531643e-08\n",
      " -1.12925654e-02]\n",
      "RMSE: 0.35\n",
      "R2: 0.42\n"
     ]
    }
   ],
   "source": [
    "X = df[['age', 'gender', 'income', 'family_members']].to_numpy()\n",
    "y = df['insurance_benefits'].to_numpy()\n",
    "\n",
    "X_train, X_test, y_train, y_test = train_test_split(X, y, test_size=0.3, random_state=8)\n",
    "\n",
    "lr = MyLinearRegression()\n",
    "\n",
    "lr.fit(X_train, y_train)\n",
    "print(lr.weights)\n",
    "\n",
    "y_test_pred = lr.predict(X_test)\n",
    "eval_regressor(y_test, y_test_pred)"
   ]
  },
  {
   "cell_type": "code",
   "execution_count": 33,
   "metadata": {},
   "outputs": [
    {
     "name": "stdout",
     "output_type": "stream",
     "text": [
      "   gender       age    income  family_members  insurance_benefits\n",
      "0     1.0  0.630769  0.627848        0.166667                   0\n",
      "1     0.0  0.707692  0.481013        0.166667                   1\n",
      "2     0.0  0.446154  0.265823        0.000000                   0\n",
      "3     0.0  0.323077  0.527848        0.333333                   0\n",
      "4     1.0  0.430769  0.330380        0.000000                   0\n",
      "   gender  age   income  family_members  insurance_benefits  \\\n",
      "0       1   41  49600.0               1                   0   \n",
      "1       0   46  38000.0               1                   1   \n",
      "2       0   29  21000.0               0                   0   \n",
      "3       0   21  41700.0               2                   0   \n",
      "4       1   28  26100.0               0                   0   \n",
      "\n",
      "   insurance_benefits_received  \n",
      "0                        False  \n",
      "1                         True  \n",
      "2                        False  \n",
      "3                        False  \n",
      "4                        False  \n"
     ]
    }
   ],
   "source": [
    "print(df_scaled.head())\n",
    "print(df.head())"
   ]
  },
  {
   "cell_type": "code",
   "execution_count": 34,
   "metadata": {},
   "outputs": [],
   "source": [
    "X = df_scaled[['age', 'gender', 'income', 'family_members']].to_numpy()\n",
    "y = df['insurance_benefits_received'].to_numpy()\n",
    "\n",
    "X_train, X_test, y_train, y_test = train_test_split(X, y, test_size=0.3, random_state=8)"
   ]
  },
  {
   "cell_type": "code",
   "execution_count": 35,
   "metadata": {},
   "outputs": [
    {
     "name": "stdout",
     "output_type": "stream",
     "text": [
      "[-0.67007206  1.60941507  0.00760203  0.04058376 -0.03165828]\n",
      "RMSE: 0.23\n",
      "R2: 0.43\n"
     ]
    }
   ],
   "source": [
    "lr = MyLinearRegression()\n",
    "\n",
    "lr.fit(X_train, y_train)\n",
    "print(lr.weights)\n",
    "\n",
    "y_test_pred = lr.predict(X_test)\n",
    "eval_regressor(y_test, y_test_pred)"
   ]
  },
  {
   "cell_type": "markdown",
   "metadata": {},
   "source": [
    "<div class=\"alert alert-block alert-success\">\n",
    "<b>Comentario del revisor</b> <a class=\"tocSkip\"></a>\n",
    "\n",
    "Excelente! Lograste ofuscar los datos originales de forma adecuada y después recuperarlos a través de operaciones matriciales. Si bien hay una diferencia muy pequeña entre los datos orginales y los datos recuperados, se debe a los redondeos que se están realizando al hacer las operaciones.\n",
    "</div>"
   ]
  },
  {
   "cell_type": "markdown",
   "metadata": {},
   "source": [
    "# Tarea 4. Ofuscar datos"
   ]
  },
  {
   "cell_type": "markdown",
   "metadata": {},
   "source": [
    "Lo mejor es ofuscar los datos multiplicando las características numéricas (recuerda que se pueden ver como la matriz $X$) por una matriz invertible $P$. \n",
    "\n",
    "$$\n",
    "X' = X \\times P\n",
    "$$\n",
    "\n",
    "Trata de hacerlo y comprueba cómo quedarán los valores de las características después de la transformación. Por cierto, la propiedad de invertibilidad es importante aquí, así que asegúrate de que $P$ sea realmente invertible.\n",
    "\n",
    "Puedes revisar la lección 'Matrices y operaciones matriciales -> Multiplicación de matrices' para recordar la regla de multiplicación de matrices y su implementación con NumPy."
   ]
  },
  {
   "cell_type": "code",
   "execution_count": 36,
   "metadata": {},
   "outputs": [
    {
     "data": {
      "text/html": [
       "<div>\n",
       "<style scoped>\n",
       "    .dataframe tbody tr th:only-of-type {\n",
       "        vertical-align: middle;\n",
       "    }\n",
       "\n",
       "    .dataframe tbody tr th {\n",
       "        vertical-align: top;\n",
       "    }\n",
       "\n",
       "    .dataframe thead th {\n",
       "        text-align: right;\n",
       "    }\n",
       "</style>\n",
       "<table border=\"1\" class=\"dataframe\">\n",
       "  <thead>\n",
       "    <tr style=\"text-align: right;\">\n",
       "      <th></th>\n",
       "      <th>gender</th>\n",
       "      <th>age</th>\n",
       "      <th>income</th>\n",
       "      <th>family_members</th>\n",
       "    </tr>\n",
       "  </thead>\n",
       "  <tbody>\n",
       "    <tr>\n",
       "      <th>0</th>\n",
       "      <td>1</td>\n",
       "      <td>41</td>\n",
       "      <td>49600.0</td>\n",
       "      <td>1</td>\n",
       "    </tr>\n",
       "    <tr>\n",
       "      <th>1</th>\n",
       "      <td>0</td>\n",
       "      <td>46</td>\n",
       "      <td>38000.0</td>\n",
       "      <td>1</td>\n",
       "    </tr>\n",
       "    <tr>\n",
       "      <th>2</th>\n",
       "      <td>0</td>\n",
       "      <td>29</td>\n",
       "      <td>21000.0</td>\n",
       "      <td>0</td>\n",
       "    </tr>\n",
       "    <tr>\n",
       "      <th>3</th>\n",
       "      <td>0</td>\n",
       "      <td>21</td>\n",
       "      <td>41700.0</td>\n",
       "      <td>2</td>\n",
       "    </tr>\n",
       "    <tr>\n",
       "      <th>4</th>\n",
       "      <td>1</td>\n",
       "      <td>28</td>\n",
       "      <td>26100.0</td>\n",
       "      <td>0</td>\n",
       "    </tr>\n",
       "  </tbody>\n",
       "</table>\n",
       "</div>"
      ],
      "text/plain": [
       "   gender  age   income  family_members\n",
       "0       1   41  49600.0               1\n",
       "1       0   46  38000.0               1\n",
       "2       0   29  21000.0               0\n",
       "3       0   21  41700.0               2\n",
       "4       1   28  26100.0               0"
      ]
     },
     "execution_count": 36,
     "metadata": {},
     "output_type": "execute_result"
    }
   ],
   "source": [
    "personal_info_column_list = ['gender', 'age', 'income', 'family_members']\n",
    "df_pn = df[personal_info_column_list]\n",
    "df_pn.head(5)"
   ]
  },
  {
   "cell_type": "code",
   "execution_count": 37,
   "metadata": {},
   "outputs": [
    {
     "name": "stdout",
     "output_type": "stream",
     "text": [
      "[[1.00e+00 4.10e+01 4.96e+04 1.00e+00]\n",
      " [0.00e+00 4.60e+01 3.80e+04 1.00e+00]\n",
      " [0.00e+00 2.90e+01 2.10e+04 0.00e+00]\n",
      " ...\n",
      " [0.00e+00 2.00e+01 3.39e+04 2.00e+00]\n",
      " [1.00e+00 2.20e+01 3.27e+04 3.00e+00]\n",
      " [1.00e+00 2.80e+01 4.06e+04 1.00e+00]]\n",
      "(5000, 4)\n"
     ]
    }
   ],
   "source": [
    "X = df_pn.to_numpy()\n",
    "print(X)\n",
    "print(X.shape)"
   ]
  },
  {
   "cell_type": "markdown",
   "metadata": {},
   "source": [
    "Generar una matriz aleatoria $P$."
   ]
  },
  {
   "cell_type": "code",
   "execution_count": 38,
   "metadata": {},
   "outputs": [],
   "source": [
    "rng = np.random.default_rng(seed=42)\n",
    "P = rng.random(size=(X.shape[1], X.shape[1]))"
   ]
  },
  {
   "cell_type": "markdown",
   "metadata": {},
   "source": [
    "Comprobar que la matriz P sea invertible"
   ]
  },
  {
   "cell_type": "code",
   "execution_count": 39,
   "metadata": {},
   "outputs": [
    {
     "name": "stdout",
     "output_type": "stream",
     "text": [
      "[[ 1.00000000e+00 -1.69848573e-16 -7.58122972e-17 -1.13112497e-16]\n",
      " [-6.94895396e-17  1.00000000e+00 -7.10568689e-17  3.59096970e-17]\n",
      " [-1.21269339e-16 -8.01461326e-17  1.00000000e+00  4.30764008e-19]\n",
      " [-3.60694539e-16 -5.55430227e-16  3.08072404e-16  1.00000000e+00]]\n",
      "\n",
      "[[ 1.00000000e+00 -5.50791672e-16 -5.00098731e-16 -2.57000677e-16]\n",
      " [-5.01929420e-17  1.00000000e+00 -2.91131489e-16 -5.21164428e-17]\n",
      " [-8.80703657e-17 -8.52396441e-17  1.00000000e+00  6.69673657e-18]\n",
      " [-1.04768034e-17 -9.83452208e-17 -1.10108947e-16  1.00000000e+00]]\n"
     ]
    },
    {
     "data": {
      "text/plain": [
       "(1.0, 0.9999999999999999)"
      ]
     },
     "execution_count": 39,
     "metadata": {},
     "output_type": "execute_result"
    }
   ],
   "source": [
    "PPinv = P @ np.linalg.inv(P)\n",
    "print(PPinv)\n",
    "print()\n",
    "PinvP = np.linalg.inv(P) @ P\n",
    "print(PinvP)\n",
    "\n",
    "np.linalg.det(PPinv),np.linalg.det(PinvP)"
   ]
  },
  {
   "cell_type": "code",
   "execution_count": 40,
   "metadata": {},
   "outputs": [
    {
     "name": "stdout",
     "output_type": "stream",
     "text": [
      "[[ 6359.71527314 22380.40467609 18424.09074184 46000.69669016]\n",
      " [ 4873.29406479 17160.36702982 14125.78076133 35253.45577301]\n",
      " [ 2693.11742928  9486.397744    7808.83156024 19484.86063067]\n",
      " ...\n",
      " [ 4346.2234249  15289.24126492 12586.16264392 31433.50888552]\n",
      " [ 4194.09324155 14751.9910242  12144.02930637 30323.88763426]\n",
      " [ 5205.46827354 18314.24814446 15077.01370762 37649.59295455]]\n",
      "\n",
      "(5000, 4)\n"
     ]
    }
   ],
   "source": [
    "X2 = X @ P\n",
    "\n",
    "print(X2)\n",
    "print()\n",
    "print(X2.shape)"
   ]
  },
  {
   "cell_type": "markdown",
   "metadata": {},
   "source": [
    "¿Puedes adivinar la edad o los ingresos de los clientes después de la transformación?"
   ]
  },
  {
   "cell_type": "markdown",
   "metadata": {},
   "source": [
    "### Se complica poder identificar valores como la edad o los ingresos posterior a la transformación, lo cual cumple con su objetivo. "
   ]
  },
  {
   "cell_type": "markdown",
   "metadata": {},
   "source": [
    "¿Puedes recuperar los datos originales de $X'$ si conoces $P$? Intenta comprobarlo a través de los cálculos moviendo $P$ del lado derecho de la fórmula anterior al izquierdo. En este caso las reglas de la multiplicación matricial son realmente útiles"
   ]
  },
  {
   "cell_type": "code",
   "execution_count": 41,
   "metadata": {},
   "outputs": [
    {
     "name": "stdout",
     "output_type": "stream",
     "text": [
      "[[ 1.00000000e+00  4.10000000e+01  4.96000000e+04  1.00000000e+00]\n",
      " [-4.47363596e-12  4.60000000e+01  3.80000000e+04  1.00000000e+00]\n",
      " [-2.51586878e-12  2.90000000e+01  2.10000000e+04  9.52452315e-13]\n",
      " ...\n",
      " [-1.92837871e-12  2.00000000e+01  3.39000000e+04  2.00000000e+00]\n",
      " [ 1.00000000e+00  2.20000000e+01  3.27000000e+04  3.00000000e+00]\n",
      " [ 1.00000000e+00  2.80000000e+01  4.06000000e+04  1.00000000e+00]]\n",
      "\n"
     ]
    },
    {
     "data": {
      "text/html": [
       "<div>\n",
       "<style scoped>\n",
       "    .dataframe tbody tr th:only-of-type {\n",
       "        vertical-align: middle;\n",
       "    }\n",
       "\n",
       "    .dataframe tbody tr th {\n",
       "        vertical-align: top;\n",
       "    }\n",
       "\n",
       "    .dataframe thead th {\n",
       "        text-align: right;\n",
       "    }\n",
       "</style>\n",
       "<table border=\"1\" class=\"dataframe\">\n",
       "  <thead>\n",
       "    <tr style=\"text-align: right;\">\n",
       "      <th></th>\n",
       "      <th>gender</th>\n",
       "      <th>age</th>\n",
       "      <th>income</th>\n",
       "      <th>family_members</th>\n",
       "    </tr>\n",
       "  </thead>\n",
       "  <tbody>\n",
       "    <tr>\n",
       "      <th>0</th>\n",
       "      <td>1</td>\n",
       "      <td>41</td>\n",
       "      <td>49600.0</td>\n",
       "      <td>1</td>\n",
       "    </tr>\n",
       "    <tr>\n",
       "      <th>1</th>\n",
       "      <td>0</td>\n",
       "      <td>46</td>\n",
       "      <td>38000.0</td>\n",
       "      <td>1</td>\n",
       "    </tr>\n",
       "    <tr>\n",
       "      <th>2</th>\n",
       "      <td>0</td>\n",
       "      <td>29</td>\n",
       "      <td>21000.0</td>\n",
       "      <td>0</td>\n",
       "    </tr>\n",
       "    <tr>\n",
       "      <th>3</th>\n",
       "      <td>0</td>\n",
       "      <td>21</td>\n",
       "      <td>41700.0</td>\n",
       "      <td>2</td>\n",
       "    </tr>\n",
       "    <tr>\n",
       "      <th>4</th>\n",
       "      <td>1</td>\n",
       "      <td>28</td>\n",
       "      <td>26100.0</td>\n",
       "      <td>0</td>\n",
       "    </tr>\n",
       "    <tr>\n",
       "      <th>...</th>\n",
       "      <td>...</td>\n",
       "      <td>...</td>\n",
       "      <td>...</td>\n",
       "      <td>...</td>\n",
       "    </tr>\n",
       "    <tr>\n",
       "      <th>4995</th>\n",
       "      <td>0</td>\n",
       "      <td>28</td>\n",
       "      <td>35700.0</td>\n",
       "      <td>2</td>\n",
       "    </tr>\n",
       "    <tr>\n",
       "      <th>4996</th>\n",
       "      <td>0</td>\n",
       "      <td>34</td>\n",
       "      <td>52400.0</td>\n",
       "      <td>1</td>\n",
       "    </tr>\n",
       "    <tr>\n",
       "      <th>4997</th>\n",
       "      <td>0</td>\n",
       "      <td>20</td>\n",
       "      <td>33900.0</td>\n",
       "      <td>2</td>\n",
       "    </tr>\n",
       "    <tr>\n",
       "      <th>4998</th>\n",
       "      <td>1</td>\n",
       "      <td>22</td>\n",
       "      <td>32700.0</td>\n",
       "      <td>3</td>\n",
       "    </tr>\n",
       "    <tr>\n",
       "      <th>4999</th>\n",
       "      <td>1</td>\n",
       "      <td>28</td>\n",
       "      <td>40600.0</td>\n",
       "      <td>1</td>\n",
       "    </tr>\n",
       "  </tbody>\n",
       "</table>\n",
       "<p>5000 rows × 4 columns</p>\n",
       "</div>"
      ],
      "text/plain": [
       "      gender  age   income  family_members\n",
       "0          1   41  49600.0               1\n",
       "1          0   46  38000.0               1\n",
       "2          0   29  21000.0               0\n",
       "3          0   21  41700.0               2\n",
       "4          1   28  26100.0               0\n",
       "...      ...  ...      ...             ...\n",
       "4995       0   28  35700.0               2\n",
       "4996       0   34  52400.0               1\n",
       "4997       0   20  33900.0               2\n",
       "4998       1   22  32700.0               3\n",
       "4999       1   28  40600.0               1\n",
       "\n",
       "[5000 rows x 4 columns]"
      ]
     },
     "metadata": {},
     "output_type": "display_data"
    },
    {
     "data": {
      "text/html": [
       "<div>\n",
       "<style scoped>\n",
       "    .dataframe tbody tr th:only-of-type {\n",
       "        vertical-align: middle;\n",
       "    }\n",
       "\n",
       "    .dataframe tbody tr th {\n",
       "        vertical-align: top;\n",
       "    }\n",
       "\n",
       "    .dataframe thead th {\n",
       "        text-align: right;\n",
       "    }\n",
       "</style>\n",
       "<table border=\"1\" class=\"dataframe\">\n",
       "  <thead>\n",
       "    <tr style=\"text-align: right;\">\n",
       "      <th></th>\n",
       "      <th>gender</th>\n",
       "      <th>age</th>\n",
       "      <th>income</th>\n",
       "      <th>family_members</th>\n",
       "    </tr>\n",
       "  </thead>\n",
       "  <tbody>\n",
       "    <tr>\n",
       "      <th>0</th>\n",
       "      <td>1.000000e+00</td>\n",
       "      <td>41.0</td>\n",
       "      <td>49600.0</td>\n",
       "      <td>1.000000e+00</td>\n",
       "    </tr>\n",
       "    <tr>\n",
       "      <th>1</th>\n",
       "      <td>-4.473636e-12</td>\n",
       "      <td>46.0</td>\n",
       "      <td>38000.0</td>\n",
       "      <td>1.000000e+00</td>\n",
       "    </tr>\n",
       "    <tr>\n",
       "      <th>2</th>\n",
       "      <td>-2.515869e-12</td>\n",
       "      <td>29.0</td>\n",
       "      <td>21000.0</td>\n",
       "      <td>9.524523e-13</td>\n",
       "    </tr>\n",
       "    <tr>\n",
       "      <th>3</th>\n",
       "      <td>-4.844982e-12</td>\n",
       "      <td>21.0</td>\n",
       "      <td>41700.0</td>\n",
       "      <td>2.000000e+00</td>\n",
       "    </tr>\n",
       "    <tr>\n",
       "      <th>4</th>\n",
       "      <td>1.000000e+00</td>\n",
       "      <td>28.0</td>\n",
       "      <td>26100.0</td>\n",
       "      <td>-1.019907e-13</td>\n",
       "    </tr>\n",
       "    <tr>\n",
       "      <th>...</th>\n",
       "      <td>...</td>\n",
       "      <td>...</td>\n",
       "      <td>...</td>\n",
       "      <td>...</td>\n",
       "    </tr>\n",
       "    <tr>\n",
       "      <th>4995</th>\n",
       "      <td>-2.559766e-12</td>\n",
       "      <td>28.0</td>\n",
       "      <td>35700.0</td>\n",
       "      <td>2.000000e+00</td>\n",
       "    </tr>\n",
       "    <tr>\n",
       "      <th>4996</th>\n",
       "      <td>-5.486091e-12</td>\n",
       "      <td>34.0</td>\n",
       "      <td>52400.0</td>\n",
       "      <td>1.000000e+00</td>\n",
       "    </tr>\n",
       "    <tr>\n",
       "      <th>4997</th>\n",
       "      <td>-1.928379e-12</td>\n",
       "      <td>20.0</td>\n",
       "      <td>33900.0</td>\n",
       "      <td>2.000000e+00</td>\n",
       "    </tr>\n",
       "    <tr>\n",
       "      <th>4998</th>\n",
       "      <td>1.000000e+00</td>\n",
       "      <td>22.0</td>\n",
       "      <td>32700.0</td>\n",
       "      <td>3.000000e+00</td>\n",
       "    </tr>\n",
       "    <tr>\n",
       "      <th>4999</th>\n",
       "      <td>1.000000e+00</td>\n",
       "      <td>28.0</td>\n",
       "      <td>40600.0</td>\n",
       "      <td>1.000000e+00</td>\n",
       "    </tr>\n",
       "  </tbody>\n",
       "</table>\n",
       "<p>5000 rows × 4 columns</p>\n",
       "</div>"
      ],
      "text/plain": [
       "            gender   age   income  family_members\n",
       "0     1.000000e+00  41.0  49600.0    1.000000e+00\n",
       "1    -4.473636e-12  46.0  38000.0    1.000000e+00\n",
       "2    -2.515869e-12  29.0  21000.0    9.524523e-13\n",
       "3    -4.844982e-12  21.0  41700.0    2.000000e+00\n",
       "4     1.000000e+00  28.0  26100.0   -1.019907e-13\n",
       "...            ...   ...      ...             ...\n",
       "4995 -2.559766e-12  28.0  35700.0    2.000000e+00\n",
       "4996 -5.486091e-12  34.0  52400.0    1.000000e+00\n",
       "4997 -1.928379e-12  20.0  33900.0    2.000000e+00\n",
       "4998  1.000000e+00  22.0  32700.0    3.000000e+00\n",
       "4999  1.000000e+00  28.0  40600.0    1.000000e+00\n",
       "\n",
       "[5000 rows x 4 columns]"
      ]
     },
     "metadata": {},
     "output_type": "display_data"
    }
   ],
   "source": [
    "X_original = np.dot(X2 , np.linalg.inv(P))\n",
    "print(X_original)\n",
    "print()\n",
    "display(df_pn)\n",
    "display(pd.DataFrame(X_original,columns=personal_info_column_list))"
   ]
  },
  {
   "cell_type": "markdown",
   "metadata": {},
   "source": [
    "Muestra los tres casos para algunos clientes- Datos originales\n",
    "- El que está transformado- El que está invertido (recuperado)"
   ]
  },
  {
   "cell_type": "code",
   "execution_count": 42,
   "metadata": {},
   "outputs": [
    {
     "data": {
      "text/plain": [
       "array([[0.00e+00, 2.90e+01, 2.10e+04, 0.00e+00],\n",
       "       [0.00e+00, 2.10e+01, 4.17e+04, 2.00e+00],\n",
       "       [1.00e+00, 2.80e+01, 2.61e+04, 0.00e+00],\n",
       "       [1.00e+00, 4.30e+01, 4.10e+04, 2.00e+00],\n",
       "       [1.00e+00, 3.90e+01, 3.97e+04, 2.00e+00],\n",
       "       [1.00e+00, 2.50e+01, 3.86e+04, 4.00e+00],\n",
       "       [1.00e+00, 3.60e+01, 4.97e+04, 1.00e+00],\n",
       "       [1.00e+00, 3.20e+01, 5.17e+04, 1.00e+00]])"
      ]
     },
     "execution_count": 42,
     "metadata": {},
     "output_type": "execute_result"
    }
   ],
   "source": [
    "X[2:10]"
   ]
  },
  {
   "cell_type": "code",
   "execution_count": 43,
   "metadata": {},
   "outputs": [
    {
     "data": {
      "text/plain": [
       "array([[ 2693.11742928,  9486.397744  ,  7808.83156024, 19484.86063067],\n",
       "       [ 5345.60393712, 18803.22720286, 15479.14837264, 38663.06186284],\n",
       "       [ 3347.17673462, 11782.82928336,  9699.99894205, 24211.27337753],\n",
       "       [ 5258.77025195, 18509.8596165 , 15237.19342704, 38032.31715339],\n",
       "       [ 5091.84582008, 17920.45540783, 14752.11143673, 36824.37841067],\n",
       "       [ 4950.8900715 , 17413.01768645, 14334.46448264, 35794.3865001 ],\n",
       "       [ 6372.05574967, 22420.56515812, 18457.36484575, 46089.44286752],\n",
       "       [ 6627.90630563, 23317.43454451, 19195.91633541, 47939.82858799]])"
      ]
     },
     "execution_count": 43,
     "metadata": {},
     "output_type": "execute_result"
    }
   ],
   "source": [
    "X2[2:10]"
   ]
  },
  {
   "cell_type": "code",
   "execution_count": 44,
   "metadata": {},
   "outputs": [
    {
     "data": {
      "text/plain": [
       "array([[-2.51586878e-12,  2.90000000e+01,  2.10000000e+04,\n",
       "         9.52452315e-13],\n",
       "       [-4.84498208e-12,  2.10000000e+01,  4.17000000e+04,\n",
       "         2.00000000e+00],\n",
       "       [ 1.00000000e+00,  2.80000000e+01,  2.61000000e+04,\n",
       "        -1.01990740e-13],\n",
       "       [ 1.00000000e+00,  4.30000000e+01,  4.10000000e+04,\n",
       "         2.00000000e+00],\n",
       "       [ 1.00000000e+00,  3.90000000e+01,  3.97000000e+04,\n",
       "         2.00000000e+00],\n",
       "       [ 1.00000000e+00,  2.50000000e+01,  3.86000000e+04,\n",
       "         4.00000000e+00],\n",
       "       [ 1.00000000e+00,  3.60000000e+01,  4.97000000e+04,\n",
       "         1.00000000e+00],\n",
       "       [ 1.00000000e+00,  3.20000000e+01,  5.17000000e+04,\n",
       "         1.00000000e+00]])"
      ]
     },
     "execution_count": 44,
     "metadata": {},
     "output_type": "execute_result"
    }
   ],
   "source": [
    "X_original[2:10]"
   ]
  },
  {
   "cell_type": "markdown",
   "metadata": {},
   "source": [
    "Seguramente puedes ver que algunos valores no son exactamente iguales a los de los datos originales. ¿Cuál podría ser la razón de ello?"
   ]
  },
  {
   "cell_type": "markdown",
   "metadata": {},
   "source": [
    "### La razón de esto es que la multiplicación por la matriz se hace con numeros con decimales. "
   ]
  },
  {
   "cell_type": "markdown",
   "metadata": {},
   "source": [
    "## Prueba de que la ofuscación de datos puede funcionar con regresión lineal"
   ]
  },
  {
   "cell_type": "markdown",
   "metadata": {},
   "source": [
    "En este proyecto la tarea de regresión se ha resuelto con la regresión lineal. Tu siguiente tarea es demostrar _analytically_ que el método de ofuscación no afectará a la regresión lineal en términos de valores predichos, es decir, que sus valores seguirán siendo los mismos. ¿Lo puedes creer? Pues no hace falta que lo creas, ¡tienes que que demostrarlo!"
   ]
  },
  {
   "cell_type": "markdown",
   "metadata": {},
   "source": [
    "Entonces, los datos están ofuscados y ahora tenemos $X \\times P$ en lugar de tener solo $X$. En consecuencia, hay otros pesos $w_P$ como\n",
    "$$\n",
    "w = (X^T X)^{-1} X^T y \\quad \\Rightarrow \\quad w_P = [(XP)^T XP]^{-1} (XP)^T y\n",
    "$$\n",
    "\n",
    "¿Cómo se relacionarían $w$ y $w_P$ si simplificáramos la fórmula de $w_P$ anterior? \n",
    "\n",
    "¿Cuáles serían los valores predichos con $w_P$? \n",
    "\n",
    "¿Qué significa esto para la calidad de la regresión lineal si esta se mide mediante la RECM?\n",
    "Revisa el Apéndice B Propiedades de las matrices al final del cuaderno. ¡Allí encontrarás fórmulas muy útiles!\n",
    "\n",
    "No es necesario escribir código en esta sección, basta con una explicación analítica."
   ]
  },
  {
   "cell_type": "markdown",
   "metadata": {},
   "source": [
    "**Respuesta**"
   ]
  },
  {
   "cell_type": "markdown",
   "metadata": {},
   "source": [
    "Los valores w y wp no son afectados al momenot de dar resultados, ya que tenemos que w es la formula para la regresion lineal y wp es la la formula w pero con un coeficiente que afecta a todas las matrices X por lo que en teoria no afectaria el resultado ya que todas las matrices X se estan multiplicando por un coeficiente P, resultando en que no debieran existir afectaciones asimétricas. "
   ]
  },
  {
   "cell_type": "markdown",
   "metadata": {},
   "source": [
    "**Prueba analítica**"
   ]
  },
  {
   "cell_type": "markdown",
   "metadata": {},
   "source": [
    "Coeficientes de la regresión lineal sin ofuscación\n",
    "\n",
    "Para la regresión lineal sin ofuscación, los coeficientes \\( w \\) se calculan como:\n",
    "\n",
    "\\[\n",
    "w = (X^T X)^{-1} X^T y\n",
    "\\]\n",
    "\n",
    "donde:\n",
    "- \\( X \\) es la matriz de características,\n",
    "- \\( y \\) es el vector de valores observados.\n",
    "\n",
    "Coeficientes de la regresión lineal con ofuscación\n",
    "\n",
    "Después de la ofuscación, tenemos los nuevos datos \\( X \\times P \\). Los nuevos coeficientes \\( w_P \\) se calculan como:\n",
    "\n",
    "\\[\n",
    "w_P = [(X \\times P)^T (X \\times P)]^{-1} (X \\times P)^T y\n",
    "\\]\n",
    "\n",
    "Simplificación de la fórmula de \\( w_P \\)\n",
    "\n",
    "Primero, simplifiquemos la fórmula de \\( w_P \\):\n",
    "\n",
    "\\[\n",
    "w_P = [(P^T X^T X P)]^{-1} (P^T X^T y)\n",
    "\\]\n",
    "\n",
    "Aplicando la propiedad de matrices \\( (AB)^{-1} = B^{-1} A^{-1} \\), tenemos:\n",
    "\n",
    "\\[\n",
    "w_P = P^{-1} (X^T X)^{-1} (P^T)^{-1} P^T X^T y\n",
    "\\]\n",
    "\n",
    "Como \\( P^{-1} P = I \\) (la identidad), esto se simplifica a:\n",
    "\n",
    "\\[\n",
    "w_P = P^{-1} (X^T X)^{-1} X^T y\n",
    "\\]\n",
    "\n",
    "Finalmente, usando \\( w = (X^T X)^{-1} X^T y \\):\n",
    "\n",
    "\\[\n",
    "w_P = P^{-1} w\n",
    "\\]\n",
    "\n",
    "Valores predichos con \\( w_P \\)\n",
    "\n",
    "Los valores predichos para un nuevo conjunto de datos \\( X \\times P \\) serían:\n",
    "\n",
    "y^P = (X \\times P) w_P\n",
    "\n",
    "Sustituyendo \\( w_P \\):\n",
    "\n",
    "y^P = (X \\times P) P^{-1} w = X I w = X w = y^\n",
    "\n",
    "Conclusión\n",
    "\n",
    "Hemos demostrado que los valores predichos y^P con la matriz ofuscada son idénticos a los valores predichos y^ sin ofuscación. Esto implica que la ofuscación de los datos no afecta los valores predichos.\n"
   ]
  },
  {
   "cell_type": "markdown",
   "metadata": {},
   "source": [
    "<div class=\"alert alert-block alert-danger\">\n",
    "<b>Comentario del revisor</b> <a class=\"tocSkip\"></a>\n",
    "\n",
    "Recuerda en este apartado realiar la prueba de la ofuscación de datos\n",
    "</div>"
   ]
  },
  {
   "cell_type": "markdown",
   "metadata": {},
   "source": [
    "<div class=\"alert alert-block alert-success\">\n",
    "<b>Comentario del revisor</b> <a class=\"tocSkip\"></a>\n",
    "\n",
    "Gran trabajo con los ajustes!\n",
    "</div>"
   ]
  },
  {
   "cell_type": "markdown",
   "metadata": {},
   "source": [
    "## Prueba de regresión lineal con ofuscación de datos"
   ]
  },
  {
   "cell_type": "markdown",
   "metadata": {},
   "source": [
    "Ahora, probemos que la regresión lineal pueda funcionar, en términos computacionales, con la transformación de ofuscación elegida.\n",
    "Construye un procedimiento o una clase que ejecute la regresión lineal opcionalmente con la ofuscación. Puedes usar una implementación de regresión lineal de scikit-learn o tu propia implementación.\n",
    "Ejecuta la regresión lineal para los datos originales y los ofuscados, compara los valores predichos y los valores de las métricas RMSE y $R^2$. ¿Hay alguna diferencia?"
   ]
  },
  {
   "cell_type": "markdown",
   "metadata": {},
   "source": [
    "**Procedimiento**\n",
    "\n",
    "- Crea una matriz cuadrada $P$ de números aleatorios.- Comprueba que sea invertible. Si no lo es, repite el primer paso hasta obtener una matriz invertible.- <¡ tu comentario aquí !>\n",
    "- Utiliza $XP$ como la nueva matriz de características"
   ]
  },
  {
   "cell_type": "code",
   "execution_count": 45,
   "metadata": {},
   "outputs": [
    {
     "name": "stdout",
     "output_type": "stream",
     "text": [
      "[[0.32697228 0.98727684 0.31871084 0.78854894]\n",
      " [0.86989651 0.39108481 0.43788187 0.3727489 ]\n",
      " [0.1069536  0.47896545 0.24135215 0.25714525]\n",
      " [0.18473156 0.19386455 0.81382767 0.42298419]]\n"
     ]
    }
   ],
   "source": [
    "rng = np.random.default_rng(seed=8)\n",
    "P = rng.random(size=(X.shape[1],X.shape[1]))\n",
    "print(P)"
   ]
  },
  {
   "cell_type": "code",
   "execution_count": 46,
   "metadata": {},
   "outputs": [
    {
     "name": "stdout",
     "output_type": "stream",
     "text": [
      "[[ 1.00000000e+00  9.86623302e-17 -1.23723811e-16 -8.16348788e-17]\n",
      " [-2.29675668e-17  1.00000000e+00 -3.10372939e-17  1.38623180e-17]\n",
      " [ 6.51018143e-17  1.96453639e-17  1.00000000e+00  5.73044535e-18]\n",
      " [ 1.07742401e-16  4.01515320e-17 -5.47924968e-16  1.00000000e+00]]\n",
      "\n",
      "[[ 1.00000000e+00  7.34395537e-17  9.87605640e-17  1.17319054e-17]\n",
      " [ 3.83458516e-17  1.00000000e+00  4.60563511e-17  1.11281826e-16]\n",
      " [ 6.94628773e-18 -1.63965000e-16  1.00000000e+00  1.23898030e-16]\n",
      " [ 2.11149534e-18 -2.63308877e-16 -4.96613131e-17  1.00000000e+00]]\n"
     ]
    },
    {
     "data": {
      "text/plain": [
       "(0.9999999999999998, 1.0)"
      ]
     },
     "execution_count": 46,
     "metadata": {},
     "output_type": "execute_result"
    }
   ],
   "source": [
    "PPinv = P @ np.linalg.inv(P)\n",
    "print(PPinv)\n",
    "print()\n",
    "PinvP = np.linalg.inv(P) @ P\n",
    "print(PinvP)\n",
    "\n",
    "np.linalg.det(PPinv),np.linalg.det(PinvP)"
   ]
  },
  {
   "cell_type": "markdown",
   "metadata": {},
   "source": [
    "Regresion Lineal con datos sin ofuscar."
   ]
  },
  {
   "cell_type": "code",
   "execution_count": 47,
   "metadata": {},
   "outputs": [
    {
     "name": "stdout",
     "output_type": "stream",
     "text": [
      "[-0.67007206  1.60941507  0.00760203  0.04058376 -0.03165828]\n",
      "RMSE: 0.23\n",
      "R2: 0.43\n"
     ]
    }
   ],
   "source": [
    "X = df_scaled[['age', 'gender', 'income', 'family_members']].to_numpy()\n",
    "y = df['insurance_benefits_received'].to_numpy()\n",
    "\n",
    "X_train, X_test, y_train, y_test = train_test_split(X, y, test_size=0.3, random_state=8)\n",
    "\n",
    "\n",
    "lr = MyLinearRegression()\n",
    "\n",
    "lr.fit(X_train, y_train)\n",
    "print(lr.weights)\n",
    "\n",
    "y_test_pred = lr.predict(X_test)\n",
    "eval_regressor(y_test, y_test_pred)"
   ]
  },
  {
   "cell_type": "markdown",
   "metadata": {},
   "source": [
    "Regresión Lineal con datos ofuscados."
   ]
  },
  {
   "cell_type": "code",
   "execution_count": 48,
   "metadata": {},
   "outputs": [
    {
     "name": "stdout",
     "output_type": "stream",
     "text": [
      "[-0.67007206 -0.36259222 -1.28307913 -2.0569196   4.62912242]\n",
      "RMSE: 0.23\n",
      "R2: 0.43\n"
     ]
    }
   ],
   "source": [
    "X_train, X_test, y_train, y_test = train_test_split(X@P, y, test_size=0.3, random_state=8)\n",
    "\n",
    "lr = MyLinearRegression()\n",
    "\n",
    "lr.fit(X_train, y_train)\n",
    "print(lr.weights)\n",
    "\n",
    "y_test_pred = lr.predict(X_test)\n",
    "eval_regressor(y_test, y_test_pred)"
   ]
  },
  {
   "cell_type": "markdown",
   "metadata": {},
   "source": [
    "<div class=\"alert alert-block alert-success\">\n",
    "<b>Comentario del revisor</b> <a class=\"tocSkip\"></a>\n",
    "\n",
    "Como ya demostramos anteriormente no existe diferencias entre el RMSE y R2 usando los datos originales y los datos ofuscados.\n",
    "</div>"
   ]
  },
  {
   "cell_type": "markdown",
   "metadata": {},
   "source": [
    "# Conclusiones"
   ]
  },
  {
   "cell_type": "markdown",
   "metadata": {},
   "source": [
    "Tarea 1: \n",
    "\n",
    "Resulta interesante la relevancia del escalado de datos para encontrar los vecinos cercanos, respecto al tipo de métricas, a pesar de que se sugiere la métrica euclidiana, no resulta tan diferente a manhattan. \n",
    "\n",
    "Tarea 2:\n",
    "\n",
    "De nuevo observamos la relevancia del escalado de los datos, sin embargo en este caso la métrica manhattan obtiene un mejor valor F1, en este caso el modelo predictivo kNN demostro que sin escalado de datos el valor de F1 no difiere demasiado del modelo dummy, confirmando la relevancia antes mostrada. \n",
    "\n",
    "Tarea 3: \n",
    "\n",
    "Se construye el modelo para poder predecir si los clientes recibirán o no beneficios del seguro, encontrando que para los datos sin escalar el RMSE es de 0.35 con un R2 de 0.42, mientras que para los datos escalados: RMSE: 0.23 R2: 0.43 mostrando una leve pero relevante mejora. \n",
    "\n",
    "Tarea 4: \n",
    "\n",
    "El ofuscado de datos cumplió su propósito, hacer prácticamente inindentificables los datos originales a través de la multiplicación con una matriz aleatoria. \n",
    "\n",
    "Tarea 5:\n",
    "\n",
    "Los valores obtenidos al realizar la regresión lineal al df original y a los datos ofuscados demuestran la factibilidad de trabajar con este tipo de datos en lugar de los datos originales, encontrando en ambos un RMSE de 0.23 y un R2 de 0.43\n",
    "\n"
   ]
  },
  {
   "cell_type": "markdown",
   "metadata": {},
   "source": [
    "<div class=\"alert alert-block alert-success\">\n",
    "<b>Resumen de la revisión</b> <a class=\"tocSkip\"></a>\n",
    "\n",
    "Muy buen trabajo, Alejandro! Te hice un comentario en donde te sugiero complementar con una interpretación, además de que te hice unas pequeñas correcciones en el inciso final del proyecto para evitar unos errores que estaban surgiendo. Sigue esforzándote!\n",
    "</div>"
   ]
  },
  {
   "cell_type": "markdown",
   "metadata": {},
   "source": [
    "# Lista de control"
   ]
  },
  {
   "cell_type": "markdown",
   "metadata": {},
   "source": [
    "Escribe 'x' para verificar. Luego presiona Shift+Enter."
   ]
  },
  {
   "cell_type": "markdown",
   "metadata": {},
   "source": [
    "- [x]  Jupyter Notebook está abierto\n",
    "- [x]  El código no tiene errores- [ ]  Las celdas están ordenadas de acuerdo con la lógica y el orden de ejecución\n",
    "- [x]  Se ha realizado la tarea 1\n",
    "    - [x]  Está presente el procedimiento que puede devolver k clientes similares para un cliente determinado\n",
    "    - [x]  Se probó el procedimiento para las cuatro combinaciones propuestas    - [x]  Se respondieron las preguntas sobre la escala/distancia- [x]  Se ha realizado la tarea 2\n",
    "    - [x]  Se construyó y probó el modelo de clasificación aleatoria para todos los niveles de probabilidad    - [x]  Se construyó y probó el modelo de clasificación kNN tanto para los datos originales como para los escalados. Se calculó la métrica F1.- [x]  Se ha realizado la tarea 3\n",
    "    - [x]  Se implementó la solución de regresión lineal mediante operaciones matriciales    - [x]  Se calculó la RECM para la solución implementada- [x]  Se ha realizado la tarea 4\n",
    "    - [x]  Se ofuscaron los datos mediante una matriz aleatoria e invertible P    - [x]  Se recuperaron los datos ofuscados y se han mostrado algunos ejemplos    - [x]  Se proporcionó la prueba analítica de que la transformación no afecta a la RECM    - [x]  Se proporcionó la prueba computacional de que la transformación no afecta a la RECM- [x]  Se han sacado conclusiones"
   ]
  },
  {
   "cell_type": "markdown",
   "metadata": {},
   "source": [
    "# Apéndices\n",
    "\n",
    "## Apéndice A: Escribir fórmulas en los cuadernos de Jupyter"
   ]
  },
  {
   "cell_type": "markdown",
   "metadata": {},
   "source": [
    "Puedes escribir fórmulas en tu Jupyter Notebook utilizando un lenguaje de marcado proporcionado por un sistema de publicación de alta calidad llamado $\\LaTeX$ (se pronuncia como \"Lah-tech\"). Las fórmulas se verán como las de los libros de texto.\n",
    "\n",
    "Para incorporar una fórmula a un texto, pon el signo de dólar (\\\\$) antes y después del texto de la fórmula, por ejemplo: $\\frac{1}{2} \\times \\frac{3}{2} = \\frac{3}{4}$ or $y = x^2, x \\ge 1$.\n",
    "\n",
    "Si una fórmula debe estar en el mismo párrafo, pon el doble signo de dólar (\\\\$\\\\$) antes y después del texto de la fórmula, por ejemplo:\n",
    "$$\n",
    "\\bar{x} = \\frac{1}{n}\\sum_{i=1}^{n} x_i.\n",
    "$$\n",
    "\n",
    "El lenguaje de marcado de [LaTeX](https://es.wikipedia.org/wiki/LaTeX) es muy popular entre las personas que utilizan fórmulas en sus artículos, libros y textos. Puede resultar complicado, pero sus fundamentos son sencillos. Consulta esta [ficha de ayuda](http://tug.ctan.org/info/undergradmath/undergradmath.pdf) (materiales en inglés) de dos páginas para aprender a componer las fórmulas más comunes."
   ]
  },
  {
   "cell_type": "markdown",
   "metadata": {},
   "source": [
    "## Apéndice B: Propiedades de las matrices"
   ]
  },
  {
   "cell_type": "markdown",
   "metadata": {},
   "source": [
    "Las matrices tienen muchas propiedades en cuanto al álgebra lineal. Aquí se enumeran algunas de ellas que pueden ayudarte a la hora de realizar la prueba analítica de este proyecto."
   ]
  },
  {
   "cell_type": "markdown",
   "metadata": {},
   "source": [
    "<table>\n",
    "<tr>\n",
    "<td>Distributividad</td><td>$A(B+C)=AB+AC$</td>\n",
    "</tr>\n",
    "<tr>\n",
    "<td>No conmutatividad</td><td>$AB \\neq BA$</td>\n",
    "</tr>\n",
    "<tr>\n",
    "<td>Propiedad asociativa de la multiplicación</td><td>$(AB)C = A(BC)$</td>\n",
    "</tr>\n",
    "<tr>\n",
    "<td>Propiedad de identidad multiplicativa</td><td>$IA = AI = A$</td>\n",
    "</tr>\n",
    "<tr>\n",
    "<td></td><td>$A^{-1}A = AA^{-1} = I$\n",
    "</td>\n",
    "</tr>    \n",
    "<tr>\n",
    "<td></td><td>$(AB)^{-1} = B^{-1}A^{-1}$</td>\n",
    "</tr>    \n",
    "<tr>\n",
    "<td>Reversibilidad de la transposición de un producto de matrices,</td><td>$(AB)^T = B^TA^T$</td>\n",
    "</tr>    \n",
    "</table>"
   ]
  },
  {
   "cell_type": "markdown",
   "metadata": {},
   "source": [
    "<div class=\"alert alert-block alert-success\">\n",
    "<b>Comentario del revisor</b> <a class=\"tocSkip\"></a>\n",
    "\n",
    "Gran trabajo con los ajustes! Que sigas disfrutando los siguientes cursos!\n",
    "</div>"
   ]
  }
 ],
 "metadata": {
  "ExecuteTimeLog": [
   {
    "duration": 4417,
    "start_time": "2024-08-20T00:38:16.425Z"
   },
   {
    "duration": 5151,
    "start_time": "2024-08-20T00:38:20.846Z"
   },
   {
    "duration": 17,
    "start_time": "2024-08-20T00:38:25.999Z"
   },
   {
    "duration": 9,
    "start_time": "2024-08-20T00:38:26.020Z"
   },
   {
    "duration": 18,
    "start_time": "2024-08-20T00:38:26.034Z"
   },
   {
    "duration": 15,
    "start_time": "2024-08-20T00:38:26.055Z"
   },
   {
    "duration": 3,
    "start_time": "2024-08-20T00:38:26.074Z"
   },
   {
    "duration": 3,
    "start_time": "2024-08-20T00:38:26.080Z"
   },
   {
    "duration": 4,
    "start_time": "2024-08-20T00:38:26.127Z"
   },
   {
    "duration": 3961,
    "start_time": "2024-08-20T00:38:32.633Z"
   },
   {
    "duration": 1607,
    "start_time": "2024-08-20T00:38:36.598Z"
   },
   {
    "duration": 20,
    "start_time": "2024-08-20T00:38:38.208Z"
   },
   {
    "duration": 6,
    "start_time": "2024-08-20T00:38:38.231Z"
   },
   {
    "duration": 18,
    "start_time": "2024-08-20T00:38:38.242Z"
   },
   {
    "duration": 15,
    "start_time": "2024-08-20T00:38:38.263Z"
   },
   {
    "duration": 3,
    "start_time": "2024-08-20T00:38:38.281Z"
   },
   {
    "duration": 5,
    "start_time": "2024-08-20T00:38:38.325Z"
   },
   {
    "duration": 7,
    "start_time": "2024-08-20T00:38:38.335Z"
   },
   {
    "duration": 4946,
    "start_time": "2024-08-20T00:38:38.345Z"
   },
   {
    "duration": 4,
    "start_time": "2024-08-20T00:38:43.294Z"
   },
   {
    "duration": 7,
    "start_time": "2024-08-20T00:38:43.301Z"
   },
   {
    "duration": 0,
    "start_time": "2024-08-20T00:38:43.313Z"
   },
   {
    "duration": 0,
    "start_time": "2024-08-20T00:38:43.315Z"
   },
   {
    "duration": 0,
    "start_time": "2024-08-20T00:38:43.318Z"
   },
   {
    "duration": 0,
    "start_time": "2024-08-20T00:38:43.320Z"
   },
   {
    "duration": 0,
    "start_time": "2024-08-20T00:38:43.327Z"
   },
   {
    "duration": 0,
    "start_time": "2024-08-20T00:38:43.329Z"
   },
   {
    "duration": 0,
    "start_time": "2024-08-20T00:38:43.332Z"
   },
   {
    "duration": 0,
    "start_time": "2024-08-20T00:38:43.334Z"
   },
   {
    "duration": 0,
    "start_time": "2024-08-20T00:38:43.337Z"
   },
   {
    "duration": 0,
    "start_time": "2024-08-20T00:38:43.340Z"
   },
   {
    "duration": 0,
    "start_time": "2024-08-20T00:38:43.342Z"
   },
   {
    "duration": 0,
    "start_time": "2024-08-20T00:38:43.345Z"
   },
   {
    "duration": 0,
    "start_time": "2024-08-20T00:38:43.347Z"
   },
   {
    "duration": 411,
    "start_time": "2024-08-20T00:40:03.882Z"
   },
   {
    "duration": 4,
    "start_time": "2024-08-20T00:41:15.568Z"
   },
   {
    "duration": 1544,
    "start_time": "2024-08-20T00:41:15.576Z"
   },
   {
    "duration": 439,
    "start_time": "2024-08-20T00:41:17.125Z"
   },
   {
    "duration": 0,
    "start_time": "2024-08-20T00:41:17.569Z"
   },
   {
    "duration": 0,
    "start_time": "2024-08-20T00:41:17.571Z"
   },
   {
    "duration": 0,
    "start_time": "2024-08-20T00:41:17.573Z"
   },
   {
    "duration": 0,
    "start_time": "2024-08-20T00:41:17.575Z"
   },
   {
    "duration": 0,
    "start_time": "2024-08-20T00:41:17.576Z"
   },
   {
    "duration": 0,
    "start_time": "2024-08-20T00:41:17.578Z"
   },
   {
    "duration": 0,
    "start_time": "2024-08-20T00:41:17.579Z"
   },
   {
    "duration": 0,
    "start_time": "2024-08-20T00:41:17.581Z"
   },
   {
    "duration": 0,
    "start_time": "2024-08-20T00:41:17.583Z"
   },
   {
    "duration": 0,
    "start_time": "2024-08-20T00:41:17.585Z"
   },
   {
    "duration": 0,
    "start_time": "2024-08-20T00:41:17.587Z"
   },
   {
    "duration": 0,
    "start_time": "2024-08-20T00:41:17.589Z"
   },
   {
    "duration": 0,
    "start_time": "2024-08-20T00:41:17.592Z"
   },
   {
    "duration": 0,
    "start_time": "2024-08-20T00:41:17.593Z"
   },
   {
    "duration": 0,
    "start_time": "2024-08-20T00:41:17.630Z"
   },
   {
    "duration": 0,
    "start_time": "2024-08-20T00:41:17.632Z"
   },
   {
    "duration": 0,
    "start_time": "2024-08-20T00:41:17.634Z"
   },
   {
    "duration": 0,
    "start_time": "2024-08-20T00:41:17.636Z"
   },
   {
    "duration": 0,
    "start_time": "2024-08-20T00:41:17.638Z"
   },
   {
    "duration": 0,
    "start_time": "2024-08-20T00:41:17.639Z"
   },
   {
    "duration": 0,
    "start_time": "2024-08-20T00:41:17.641Z"
   },
   {
    "duration": 0,
    "start_time": "2024-08-20T00:41:17.643Z"
   },
   {
    "duration": 0,
    "start_time": "2024-08-20T00:41:17.645Z"
   },
   {
    "duration": 10,
    "start_time": "2024-08-20T00:41:39.751Z"
   },
   {
    "duration": 5,
    "start_time": "2024-08-20T00:41:42.002Z"
   },
   {
    "duration": 18,
    "start_time": "2024-08-20T00:41:43.853Z"
   },
   {
    "duration": 15,
    "start_time": "2024-08-20T00:41:45.360Z"
   },
   {
    "duration": 3,
    "start_time": "2024-08-20T00:41:47.136Z"
   },
   {
    "duration": 9,
    "start_time": "2024-08-20T00:41:47.923Z"
   },
   {
    "duration": 3,
    "start_time": "2024-08-20T00:41:50.368Z"
   },
   {
    "duration": 29,
    "start_time": "2024-08-20T00:43:24.891Z"
   },
   {
    "duration": 26,
    "start_time": "2024-08-20T00:55:03.444Z"
   },
   {
    "duration": 29,
    "start_time": "2024-08-20T00:55:20.924Z"
   },
   {
    "duration": 32,
    "start_time": "2024-08-20T01:16:43.905Z"
   },
   {
    "duration": 5660,
    "start_time": "2024-08-21T22:03:38.035Z"
   },
   {
    "duration": 17,
    "start_time": "2024-08-21T22:03:43.698Z"
   },
   {
    "duration": 15,
    "start_time": "2024-08-21T22:03:43.718Z"
   },
   {
    "duration": 22,
    "start_time": "2024-08-21T22:03:43.738Z"
   },
   {
    "duration": 18,
    "start_time": "2024-08-21T22:03:43.763Z"
   },
   {
    "duration": 5,
    "start_time": "2024-08-21T22:03:43.784Z"
   },
   {
    "duration": 54,
    "start_time": "2024-08-21T22:03:43.792Z"
   },
   {
    "duration": 14,
    "start_time": "2024-08-21T22:12:56.968Z"
   },
   {
    "duration": 423,
    "start_time": "2024-08-21T22:14:23.407Z"
   },
   {
    "duration": 201,
    "start_time": "2024-08-21T22:15:03.030Z"
   },
   {
    "duration": 5,
    "start_time": "2024-08-21T22:15:25.530Z"
   },
   {
    "duration": 9,
    "start_time": "2024-08-21T22:15:27.162Z"
   },
   {
    "duration": 5,
    "start_time": "2024-08-21T22:15:28.178Z"
   },
   {
    "duration": 14,
    "start_time": "2024-08-21T22:15:28.664Z"
   },
   {
    "duration": 13,
    "start_time": "2024-08-21T22:15:29.459Z"
   },
   {
    "duration": 5,
    "start_time": "2024-08-21T22:15:30.339Z"
   },
   {
    "duration": 16,
    "start_time": "2024-08-21T22:15:31.551Z"
   },
   {
    "duration": 3,
    "start_time": "2024-08-21T22:15:32.164Z"
   },
   {
    "duration": 31,
    "start_time": "2024-08-21T22:15:32.762Z"
   },
   {
    "duration": 10092,
    "start_time": "2024-08-21T22:15:33.566Z"
   },
   {
    "duration": 10095,
    "start_time": "2024-08-21T23:02:57.658Z"
   },
   {
    "duration": 1573,
    "start_time": "2024-08-21T23:07:08.126Z"
   },
   {
    "duration": 1725,
    "start_time": "2024-08-21T23:07:50.585Z"
   },
   {
    "duration": 1818,
    "start_time": "2024-08-21T23:11:15.392Z"
   },
   {
    "duration": 4839,
    "start_time": "2024-08-21T23:11:18.296Z"
   },
   {
    "duration": 6,
    "start_time": "2024-08-21T23:23:26.206Z"
   },
   {
    "duration": 14,
    "start_time": "2024-08-21T23:23:28.920Z"
   },
   {
    "duration": 13,
    "start_time": "2024-08-21T23:23:30.066Z"
   },
   {
    "duration": 40,
    "start_time": "2024-08-21T23:27:53.580Z"
   },
   {
    "duration": 5,
    "start_time": "2024-08-21T23:28:36.290Z"
   },
   {
    "duration": 8,
    "start_time": "2024-08-22T00:19:45.636Z"
   },
   {
    "duration": 14,
    "start_time": "2024-08-22T00:19:49.447Z"
   },
   {
    "duration": 14,
    "start_time": "2024-08-22T00:19:50.137Z"
   },
   {
    "duration": 40,
    "start_time": "2024-08-22T00:19:52.803Z"
   },
   {
    "duration": 34,
    "start_time": "2024-08-22T00:26:07.242Z"
   },
   {
    "duration": 6,
    "start_time": "2024-08-22T00:28:03.865Z"
   },
   {
    "duration": 13,
    "start_time": "2024-08-22T00:28:05.290Z"
   },
   {
    "duration": 14,
    "start_time": "2024-08-22T00:28:05.306Z"
   },
   {
    "duration": 40,
    "start_time": "2024-08-22T00:28:06.948Z"
   },
   {
    "duration": 5,
    "start_time": "2024-08-23T21:55:26.317Z"
   },
   {
    "duration": 6111,
    "start_time": "2024-08-23T21:55:26.327Z"
   },
   {
    "duration": 18,
    "start_time": "2024-08-23T21:55:32.454Z"
   },
   {
    "duration": 8,
    "start_time": "2024-08-23T21:55:32.481Z"
   },
   {
    "duration": 44,
    "start_time": "2024-08-23T21:55:32.493Z"
   },
   {
    "duration": 22,
    "start_time": "2024-08-23T21:55:32.546Z"
   },
   {
    "duration": 6,
    "start_time": "2024-08-23T21:55:32.573Z"
   },
   {
    "duration": 59,
    "start_time": "2024-08-23T21:55:32.583Z"
   },
   {
    "duration": 5,
    "start_time": "2024-08-23T21:55:32.650Z"
   },
   {
    "duration": 72,
    "start_time": "2024-08-23T21:55:32.659Z"
   },
   {
    "duration": 2061,
    "start_time": "2024-08-23T21:55:32.739Z"
   },
   {
    "duration": 5144,
    "start_time": "2024-08-23T21:55:34.803Z"
   },
   {
    "duration": 4,
    "start_time": "2024-08-23T21:55:39.951Z"
   },
   {
    "duration": 9,
    "start_time": "2024-08-23T21:55:39.958Z"
   },
   {
    "duration": 17,
    "start_time": "2024-08-23T21:55:39.970Z"
   },
   {
    "duration": 18,
    "start_time": "2024-08-23T21:55:39.990Z"
   },
   {
    "duration": 473,
    "start_time": "2024-08-23T21:55:40.027Z"
   },
   {
    "duration": 0,
    "start_time": "2024-08-23T21:55:40.504Z"
   },
   {
    "duration": 0,
    "start_time": "2024-08-23T21:55:40.508Z"
   },
   {
    "duration": 0,
    "start_time": "2024-08-23T21:55:40.511Z"
   },
   {
    "duration": 0,
    "start_time": "2024-08-23T21:55:40.527Z"
   },
   {
    "duration": 0,
    "start_time": "2024-08-23T21:55:40.530Z"
   },
   {
    "duration": 0,
    "start_time": "2024-08-23T21:55:40.533Z"
   },
   {
    "duration": 0,
    "start_time": "2024-08-23T21:55:40.536Z"
   },
   {
    "duration": 0,
    "start_time": "2024-08-23T21:55:40.539Z"
   },
   {
    "duration": 0,
    "start_time": "2024-08-23T21:55:40.542Z"
   },
   {
    "duration": 0,
    "start_time": "2024-08-23T21:55:40.544Z"
   },
   {
    "duration": 0,
    "start_time": "2024-08-23T21:55:40.546Z"
   },
   {
    "duration": 8,
    "start_time": "2024-08-23T21:57:32.655Z"
   },
   {
    "duration": 15,
    "start_time": "2024-08-23T21:57:33.953Z"
   },
   {
    "duration": 14,
    "start_time": "2024-08-23T21:57:34.447Z"
   },
   {
    "duration": 44,
    "start_time": "2024-08-23T21:57:35.682Z"
   },
   {
    "duration": 12,
    "start_time": "2024-08-23T21:57:59.879Z"
   },
   {
    "duration": 15,
    "start_time": "2024-08-23T21:58:00.925Z"
   },
   {
    "duration": 16,
    "start_time": "2024-08-23T21:58:01.607Z"
   },
   {
    "duration": 507,
    "start_time": "2024-08-23T21:58:03.082Z"
   },
   {
    "duration": 16,
    "start_time": "2024-08-23T22:08:16.504Z"
   },
   {
    "duration": 172,
    "start_time": "2024-08-23T22:11:18.362Z"
   },
   {
    "duration": 47,
    "start_time": "2024-08-23T22:14:36.466Z"
   },
   {
    "duration": 199,
    "start_time": "2024-08-23T22:23:13.255Z"
   },
   {
    "duration": 38,
    "start_time": "2024-08-23T22:23:19.687Z"
   },
   {
    "duration": 26,
    "start_time": "2024-08-23T22:37:08.067Z"
   },
   {
    "duration": 24,
    "start_time": "2024-08-23T22:43:43.915Z"
   },
   {
    "duration": 24,
    "start_time": "2024-08-23T22:44:04.151Z"
   },
   {
    "duration": 24,
    "start_time": "2024-08-23T22:44:12.320Z"
   },
   {
    "duration": 26,
    "start_time": "2024-08-23T22:45:38.424Z"
   },
   {
    "duration": 5,
    "start_time": "2024-08-23T22:46:14.454Z"
   },
   {
    "duration": 7,
    "start_time": "2024-08-23T22:53:38.736Z"
   },
   {
    "duration": 7,
    "start_time": "2024-08-23T22:54:34.405Z"
   },
   {
    "duration": 909,
    "start_time": "2024-08-23T22:59:28.805Z"
   },
   {
    "duration": 7,
    "start_time": "2024-08-23T22:59:49.324Z"
   },
   {
    "duration": 7,
    "start_time": "2024-08-23T23:00:03.088Z"
   },
   {
    "duration": 7,
    "start_time": "2024-08-23T23:01:49.909Z"
   },
   {
    "duration": 4,
    "start_time": "2024-08-23T23:02:09.477Z"
   },
   {
    "duration": 9,
    "start_time": "2024-08-23T23:04:01.945Z"
   },
   {
    "duration": 7,
    "start_time": "2024-08-23T23:12:10.214Z"
   },
   {
    "duration": 4,
    "start_time": "2024-08-23T23:12:30.546Z"
   },
   {
    "duration": 1540,
    "start_time": "2024-08-23T23:12:30.555Z"
   },
   {
    "duration": 12,
    "start_time": "2024-08-23T23:12:32.098Z"
   },
   {
    "duration": 5,
    "start_time": "2024-08-23T23:12:32.125Z"
   },
   {
    "duration": 19,
    "start_time": "2024-08-23T23:12:32.135Z"
   },
   {
    "duration": 14,
    "start_time": "2024-08-23T23:12:32.157Z"
   },
   {
    "duration": 6,
    "start_time": "2024-08-23T23:12:32.175Z"
   },
   {
    "duration": 55,
    "start_time": "2024-08-23T23:12:32.184Z"
   },
   {
    "duration": 4,
    "start_time": "2024-08-23T23:12:32.242Z"
   },
   {
    "duration": 33,
    "start_time": "2024-08-23T23:12:32.249Z"
   },
   {
    "duration": 1813,
    "start_time": "2024-08-23T23:12:32.285Z"
   },
   {
    "duration": 4921,
    "start_time": "2024-08-23T23:12:34.101Z"
   },
   {
    "duration": 4,
    "start_time": "2024-08-23T23:12:39.026Z"
   },
   {
    "duration": 6,
    "start_time": "2024-08-23T23:12:39.037Z"
   },
   {
    "duration": 15,
    "start_time": "2024-08-23T23:12:39.047Z"
   },
   {
    "duration": 16,
    "start_time": "2024-08-23T23:12:39.065Z"
   },
   {
    "duration": 75,
    "start_time": "2024-08-23T23:12:39.085Z"
   },
   {
    "duration": 39,
    "start_time": "2024-08-23T23:12:39.163Z"
   },
   {
    "duration": 7,
    "start_time": "2024-08-23T23:12:39.228Z"
   },
   {
    "duration": 10,
    "start_time": "2024-08-23T23:12:39.239Z"
   },
   {
    "duration": 4,
    "start_time": "2024-08-23T23:12:39.252Z"
   },
   {
    "duration": 5,
    "start_time": "2024-08-23T23:12:39.260Z"
   },
   {
    "duration": 63,
    "start_time": "2024-08-23T23:12:39.268Z"
   },
   {
    "duration": 0,
    "start_time": "2024-08-23T23:12:39.335Z"
   },
   {
    "duration": 0,
    "start_time": "2024-08-23T23:12:39.338Z"
   },
   {
    "duration": 0,
    "start_time": "2024-08-23T23:12:39.339Z"
   },
   {
    "duration": 0,
    "start_time": "2024-08-23T23:12:39.348Z"
   },
   {
    "duration": 0,
    "start_time": "2024-08-23T23:12:39.351Z"
   },
   {
    "duration": 0,
    "start_time": "2024-08-23T23:12:39.353Z"
   },
   {
    "duration": 4,
    "start_time": "2024-08-23T23:27:42.591Z"
   },
   {
    "duration": 10,
    "start_time": "2024-08-23T23:27:44.330Z"
   },
   {
    "duration": 24,
    "start_time": "2024-08-23T23:29:25.690Z"
   },
   {
    "duration": 28,
    "start_time": "2024-08-23T23:29:30.443Z"
   },
   {
    "duration": 28,
    "start_time": "2024-08-23T23:29:38.949Z"
   },
   {
    "duration": 1026,
    "start_time": "2024-08-23T23:31:02.348Z"
   },
   {
    "duration": 65,
    "start_time": "2024-08-23T23:31:40.120Z"
   },
   {
    "duration": 21,
    "start_time": "2024-08-23T23:32:10.783Z"
   },
   {
    "duration": 8,
    "start_time": "2024-08-23T23:32:16.207Z"
   },
   {
    "duration": 26,
    "start_time": "2024-08-23T23:32:36.559Z"
   },
   {
    "duration": 27,
    "start_time": "2024-08-23T23:35:53.507Z"
   },
   {
    "duration": 4,
    "start_time": "2024-08-23T23:44:45.855Z"
   },
   {
    "duration": 8,
    "start_time": "2024-08-23T23:44:47.032Z"
   },
   {
    "duration": 4,
    "start_time": "2024-08-23T23:51:07.717Z"
   },
   {
    "duration": 4,
    "start_time": "2024-08-23T23:52:20.984Z"
   },
   {
    "duration": 7,
    "start_time": "2024-08-23T23:52:25.516Z"
   },
   {
    "duration": 44,
    "start_time": "2024-08-23T23:56:05.534Z"
   },
   {
    "duration": 8,
    "start_time": "2024-08-23T23:58:47.454Z"
   },
   {
    "duration": 4,
    "start_time": "2024-08-23T23:58:50.160Z"
   },
   {
    "duration": 5,
    "start_time": "2024-08-23T23:58:56.582Z"
   },
   {
    "duration": 1595,
    "start_time": "2024-08-23T23:58:56.590Z"
   },
   {
    "duration": 12,
    "start_time": "2024-08-23T23:58:58.189Z"
   },
   {
    "duration": 5,
    "start_time": "2024-08-23T23:58:58.203Z"
   },
   {
    "duration": 19,
    "start_time": "2024-08-23T23:58:58.228Z"
   },
   {
    "duration": 16,
    "start_time": "2024-08-23T23:58:58.250Z"
   },
   {
    "duration": 5,
    "start_time": "2024-08-23T23:58:58.269Z"
   },
   {
    "duration": 57,
    "start_time": "2024-08-23T23:58:58.278Z"
   },
   {
    "duration": 4,
    "start_time": "2024-08-23T23:58:58.338Z"
   },
   {
    "duration": 33,
    "start_time": "2024-08-23T23:58:58.344Z"
   },
   {
    "duration": 1828,
    "start_time": "2024-08-23T23:58:58.382Z"
   },
   {
    "duration": 4893,
    "start_time": "2024-08-23T23:59:00.213Z"
   },
   {
    "duration": 5,
    "start_time": "2024-08-23T23:59:05.109Z"
   },
   {
    "duration": 6,
    "start_time": "2024-08-23T23:59:05.117Z"
   },
   {
    "duration": 15,
    "start_time": "2024-08-23T23:59:05.127Z"
   },
   {
    "duration": 14,
    "start_time": "2024-08-23T23:59:05.145Z"
   },
   {
    "duration": 71,
    "start_time": "2024-08-23T23:59:05.162Z"
   },
   {
    "duration": 38,
    "start_time": "2024-08-23T23:59:05.236Z"
   },
   {
    "duration": 5,
    "start_time": "2024-08-23T23:59:05.278Z"
   },
   {
    "duration": 42,
    "start_time": "2024-08-23T23:59:05.286Z"
   },
   {
    "duration": 7,
    "start_time": "2024-08-23T23:59:05.332Z"
   },
   {
    "duration": 0,
    "start_time": "2024-08-23T23:59:05.342Z"
   },
   {
    "duration": 0,
    "start_time": "2024-08-23T23:59:05.344Z"
   },
   {
    "duration": 0,
    "start_time": "2024-08-23T23:59:05.346Z"
   },
   {
    "duration": 0,
    "start_time": "2024-08-23T23:59:05.348Z"
   },
   {
    "duration": 0,
    "start_time": "2024-08-23T23:59:05.351Z"
   },
   {
    "duration": 0,
    "start_time": "2024-08-23T23:59:05.353Z"
   },
   {
    "duration": 1,
    "start_time": "2024-08-23T23:59:05.355Z"
   },
   {
    "duration": 0,
    "start_time": "2024-08-23T23:59:05.358Z"
   },
   {
    "duration": 5,
    "start_time": "2024-08-24T00:01:42.647Z"
   },
   {
    "duration": 4,
    "start_time": "2024-08-24T00:01:44.422Z"
   },
   {
    "duration": 93,
    "start_time": "2024-08-24T00:01:45.288Z"
   },
   {
    "duration": 8,
    "start_time": "2024-08-24T00:21:46.827Z"
   },
   {
    "duration": 5,
    "start_time": "2024-08-24T00:21:49.586Z"
   },
   {
    "duration": 689,
    "start_time": "2024-08-24T00:27:12.006Z"
   },
   {
    "duration": 5,
    "start_time": "2024-08-24T00:28:25.664Z"
   },
   {
    "duration": 5,
    "start_time": "2024-08-24T00:28:26.156Z"
   },
   {
    "duration": 5,
    "start_time": "2024-08-24T00:28:27.556Z"
   },
   {
    "duration": 22,
    "start_time": "2024-08-24T00:28:29.240Z"
   },
   {
    "duration": 342,
    "start_time": "2024-08-24T23:13:45.850Z"
   },
   {
    "duration": 5,
    "start_time": "2024-08-24T23:13:58.002Z"
   },
   {
    "duration": 5129,
    "start_time": "2024-08-24T23:13:58.019Z"
   },
   {
    "duration": 17,
    "start_time": "2024-08-24T23:14:03.152Z"
   },
   {
    "duration": 6,
    "start_time": "2024-08-24T23:14:03.172Z"
   },
   {
    "duration": 32,
    "start_time": "2024-08-24T23:14:03.181Z"
   },
   {
    "duration": 15,
    "start_time": "2024-08-24T23:14:03.218Z"
   },
   {
    "duration": 5,
    "start_time": "2024-08-24T23:14:03.236Z"
   },
   {
    "duration": 16,
    "start_time": "2024-08-24T23:14:03.244Z"
   },
   {
    "duration": 4,
    "start_time": "2024-08-24T23:14:03.302Z"
   },
   {
    "duration": 32,
    "start_time": "2024-08-24T23:14:03.309Z"
   },
   {
    "duration": 1839,
    "start_time": "2024-08-24T23:14:03.344Z"
   },
   {
    "duration": 4904,
    "start_time": "2024-08-24T23:14:05.186Z"
   },
   {
    "duration": 5,
    "start_time": "2024-08-24T23:14:10.093Z"
   },
   {
    "duration": 7,
    "start_time": "2024-08-24T23:14:10.101Z"
   },
   {
    "duration": 14,
    "start_time": "2024-08-24T23:14:10.115Z"
   },
   {
    "duration": 15,
    "start_time": "2024-08-24T23:14:10.131Z"
   },
   {
    "duration": 72,
    "start_time": "2024-08-24T23:14:10.149Z"
   },
   {
    "duration": 39,
    "start_time": "2024-08-24T23:14:10.224Z"
   },
   {
    "duration": 5,
    "start_time": "2024-08-24T23:14:10.265Z"
   },
   {
    "duration": 10,
    "start_time": "2024-08-24T23:14:10.301Z"
   },
   {
    "duration": 5,
    "start_time": "2024-08-24T23:14:10.314Z"
   },
   {
    "duration": 4,
    "start_time": "2024-08-24T23:14:10.323Z"
   },
   {
    "duration": 128,
    "start_time": "2024-08-24T23:14:10.330Z"
   },
   {
    "duration": 10,
    "start_time": "2024-08-24T23:14:10.461Z"
   },
   {
    "duration": 7,
    "start_time": "2024-08-24T23:14:10.473Z"
   },
   {
    "duration": 23,
    "start_time": "2024-08-24T23:14:10.482Z"
   },
   {
    "duration": 606,
    "start_time": "2024-08-24T23:14:10.508Z"
   },
   {
    "duration": 0,
    "start_time": "2024-08-24T23:14:11.116Z"
   },
   {
    "duration": 0,
    "start_time": "2024-08-24T23:14:11.122Z"
   },
   {
    "duration": 0,
    "start_time": "2024-08-24T23:14:11.124Z"
   },
   {
    "duration": 0,
    "start_time": "2024-08-24T23:14:11.126Z"
   },
   {
    "duration": 7,
    "start_time": "2024-08-24T23:22:03.209Z"
   },
   {
    "duration": 3,
    "start_time": "2024-08-24T23:22:08.463Z"
   },
   {
    "duration": 6,
    "start_time": "2024-08-24T23:22:08.470Z"
   },
   {
    "duration": 10,
    "start_time": "2024-08-24T23:22:08.480Z"
   },
   {
    "duration": 6,
    "start_time": "2024-08-24T23:22:08.493Z"
   },
   {
    "duration": 14,
    "start_time": "2024-08-24T23:22:08.503Z"
   },
   {
    "duration": 15,
    "start_time": "2024-08-24T23:22:08.520Z"
   },
   {
    "duration": 5,
    "start_time": "2024-08-24T23:22:08.619Z"
   },
   {
    "duration": 14,
    "start_time": "2024-08-24T23:22:08.629Z"
   },
   {
    "duration": 3,
    "start_time": "2024-08-24T23:22:08.646Z"
   },
   {
    "duration": 52,
    "start_time": "2024-08-24T23:22:08.652Z"
   },
   {
    "duration": 1871,
    "start_time": "2024-08-24T23:22:08.708Z"
   },
   {
    "duration": 4963,
    "start_time": "2024-08-24T23:22:10.582Z"
   },
   {
    "duration": 4,
    "start_time": "2024-08-24T23:22:15.549Z"
   },
   {
    "duration": 7,
    "start_time": "2024-08-24T23:22:15.556Z"
   },
   {
    "duration": 39,
    "start_time": "2024-08-24T23:22:15.565Z"
   },
   {
    "duration": 14,
    "start_time": "2024-08-24T23:22:15.607Z"
   },
   {
    "duration": 39,
    "start_time": "2024-08-24T23:22:15.624Z"
   },
   {
    "duration": 38,
    "start_time": "2024-08-24T23:22:15.702Z"
   },
   {
    "duration": 5,
    "start_time": "2024-08-24T23:22:15.743Z"
   },
   {
    "duration": 9,
    "start_time": "2024-08-24T23:22:15.752Z"
   },
   {
    "duration": 38,
    "start_time": "2024-08-24T23:22:15.764Z"
   },
   {
    "duration": 4,
    "start_time": "2024-08-24T23:22:15.806Z"
   },
   {
    "duration": 120,
    "start_time": "2024-08-24T23:22:15.813Z"
   },
   {
    "duration": 48,
    "start_time": "2024-08-24T23:22:15.936Z"
   },
   {
    "duration": 0,
    "start_time": "2024-08-24T23:22:16.002Z"
   },
   {
    "duration": 0,
    "start_time": "2024-08-24T23:22:16.004Z"
   },
   {
    "duration": 0,
    "start_time": "2024-08-24T23:22:16.007Z"
   },
   {
    "duration": 0,
    "start_time": "2024-08-24T23:22:16.009Z"
   },
   {
    "duration": 0,
    "start_time": "2024-08-24T23:22:16.015Z"
   },
   {
    "duration": 0,
    "start_time": "2024-08-24T23:22:16.017Z"
   },
   {
    "duration": 0,
    "start_time": "2024-08-24T23:22:16.019Z"
   },
   {
    "duration": 0,
    "start_time": "2024-08-24T23:22:16.022Z"
   },
   {
    "duration": 0,
    "start_time": "2024-08-24T23:22:16.024Z"
   },
   {
    "duration": 6,
    "start_time": "2024-08-24T23:25:33.757Z"
   },
   {
    "duration": 3,
    "start_time": "2024-08-24T23:25:36.887Z"
   },
   {
    "duration": 6,
    "start_time": "2024-08-24T23:25:36.894Z"
   },
   {
    "duration": 12,
    "start_time": "2024-08-24T23:25:36.904Z"
   },
   {
    "duration": 6,
    "start_time": "2024-08-24T23:25:36.919Z"
   },
   {
    "duration": 16,
    "start_time": "2024-08-24T23:25:36.930Z"
   },
   {
    "duration": 60,
    "start_time": "2024-08-24T23:25:36.950Z"
   },
   {
    "duration": 5,
    "start_time": "2024-08-24T23:25:37.013Z"
   },
   {
    "duration": 17,
    "start_time": "2024-08-24T23:25:37.022Z"
   },
   {
    "duration": 4,
    "start_time": "2024-08-24T23:25:37.042Z"
   },
   {
    "duration": 76,
    "start_time": "2024-08-24T23:25:37.049Z"
   },
   {
    "duration": 1756,
    "start_time": "2024-08-24T23:25:37.128Z"
   },
   {
    "duration": 5005,
    "start_time": "2024-08-24T23:25:38.887Z"
   },
   {
    "duration": 4,
    "start_time": "2024-08-24T23:25:43.902Z"
   },
   {
    "duration": 6,
    "start_time": "2024-08-24T23:25:43.910Z"
   },
   {
    "duration": 15,
    "start_time": "2024-08-24T23:25:43.920Z"
   },
   {
    "duration": 14,
    "start_time": "2024-08-24T23:25:43.938Z"
   },
   {
    "duration": 81,
    "start_time": "2024-08-24T23:25:43.956Z"
   },
   {
    "duration": 38,
    "start_time": "2024-08-24T23:25:44.040Z"
   },
   {
    "duration": 23,
    "start_time": "2024-08-24T23:25:44.081Z"
   },
   {
    "duration": 9,
    "start_time": "2024-08-24T23:25:44.107Z"
   },
   {
    "duration": 5,
    "start_time": "2024-08-24T23:25:44.119Z"
   },
   {
    "duration": 6,
    "start_time": "2024-08-24T23:25:44.126Z"
   },
   {
    "duration": 144,
    "start_time": "2024-08-24T23:25:44.136Z"
   },
   {
    "duration": 1461,
    "start_time": "2024-08-24T23:25:44.283Z"
   },
   {
    "duration": 16,
    "start_time": "2024-08-24T23:25:45.747Z"
   },
   {
    "duration": 425,
    "start_time": "2024-08-24T23:25:45.766Z"
   },
   {
    "duration": 15,
    "start_time": "2024-08-24T23:25:46.194Z"
   },
   {
    "duration": 9,
    "start_time": "2024-08-24T23:25:46.213Z"
   },
   {
    "duration": 187,
    "start_time": "2024-08-24T23:25:46.225Z"
   },
   {
    "duration": 0,
    "start_time": "2024-08-24T23:25:46.415Z"
   },
   {
    "duration": 0,
    "start_time": "2024-08-24T23:25:46.417Z"
   },
   {
    "duration": 0,
    "start_time": "2024-08-24T23:25:46.420Z"
   },
   {
    "duration": 0,
    "start_time": "2024-08-24T23:25:46.422Z"
   },
   {
    "duration": 3,
    "start_time": "2024-08-25T00:08:32.175Z"
   },
   {
    "duration": 6,
    "start_time": "2024-08-25T00:08:32.182Z"
   },
   {
    "duration": 37,
    "start_time": "2024-08-25T00:08:32.191Z"
   },
   {
    "duration": 5,
    "start_time": "2024-08-25T00:08:32.231Z"
   },
   {
    "duration": 14,
    "start_time": "2024-08-25T00:08:32.243Z"
   },
   {
    "duration": 16,
    "start_time": "2024-08-25T00:08:32.259Z"
   },
   {
    "duration": 51,
    "start_time": "2024-08-25T00:08:32.278Z"
   },
   {
    "duration": 15,
    "start_time": "2024-08-25T00:08:32.332Z"
   },
   {
    "duration": 3,
    "start_time": "2024-08-25T00:08:32.350Z"
   },
   {
    "duration": 56,
    "start_time": "2024-08-25T00:08:32.356Z"
   },
   {
    "duration": 1955,
    "start_time": "2024-08-25T00:08:32.427Z"
   },
   {
    "duration": 5347,
    "start_time": "2024-08-25T00:08:34.385Z"
   },
   {
    "duration": 4,
    "start_time": "2024-08-25T00:08:39.736Z"
   },
   {
    "duration": 5,
    "start_time": "2024-08-25T00:08:39.748Z"
   },
   {
    "duration": 16,
    "start_time": "2024-08-25T00:08:39.756Z"
   },
   {
    "duration": 30,
    "start_time": "2024-08-25T00:08:39.774Z"
   },
   {
    "duration": 52,
    "start_time": "2024-08-25T00:08:39.807Z"
   },
   {
    "duration": 61,
    "start_time": "2024-08-25T00:08:39.862Z"
   },
   {
    "duration": 5,
    "start_time": "2024-08-25T00:08:39.925Z"
   },
   {
    "duration": 8,
    "start_time": "2024-08-25T00:08:39.935Z"
   },
   {
    "duration": 5,
    "start_time": "2024-08-25T00:08:39.946Z"
   },
   {
    "duration": 5,
    "start_time": "2024-08-25T00:08:39.954Z"
   },
   {
    "duration": 130,
    "start_time": "2024-08-25T00:08:39.962Z"
   },
   {
    "duration": 10,
    "start_time": "2024-08-25T00:08:40.096Z"
   },
   {
    "duration": 143,
    "start_time": "2024-08-25T00:08:40.109Z"
   },
   {
    "duration": 98,
    "start_time": "2024-08-25T00:08:40.255Z"
   },
   {
    "duration": 1494,
    "start_time": "2024-08-25T00:08:40.356Z"
   },
   {
    "duration": 16,
    "start_time": "2024-08-25T00:08:41.853Z"
   },
   {
    "duration": 421,
    "start_time": "2024-08-25T00:08:41.871Z"
   },
   {
    "duration": 7,
    "start_time": "2024-08-25T00:08:42.295Z"
   },
   {
    "duration": 9,
    "start_time": "2024-08-25T00:08:42.305Z"
   },
   {
    "duration": 101,
    "start_time": "2024-08-25T00:08:42.321Z"
   },
   {
    "duration": 0,
    "start_time": "2024-08-25T00:08:42.424Z"
   },
   {
    "duration": 0,
    "start_time": "2024-08-25T00:08:42.428Z"
   },
   {
    "duration": 0,
    "start_time": "2024-08-25T00:08:42.431Z"
   },
   {
    "duration": 0,
    "start_time": "2024-08-25T00:08:42.433Z"
   },
   {
    "duration": 4,
    "start_time": "2024-08-25T00:14:59.961Z"
   },
   {
    "duration": 1571,
    "start_time": "2024-08-25T00:14:59.970Z"
   },
   {
    "duration": 10,
    "start_time": "2024-08-25T00:15:01.544Z"
   },
   {
    "duration": 6,
    "start_time": "2024-08-25T00:15:01.557Z"
   },
   {
    "duration": 42,
    "start_time": "2024-08-25T00:15:01.568Z"
   },
   {
    "duration": 15,
    "start_time": "2024-08-25T00:15:01.613Z"
   },
   {
    "duration": 5,
    "start_time": "2024-08-25T00:15:01.631Z"
   },
   {
    "duration": 15,
    "start_time": "2024-08-25T00:15:01.639Z"
   },
   {
    "duration": 45,
    "start_time": "2024-08-25T00:15:01.657Z"
   },
   {
    "duration": 33,
    "start_time": "2024-08-25T00:15:01.705Z"
   },
   {
    "duration": 1733,
    "start_time": "2024-08-25T00:15:01.741Z"
   },
   {
    "duration": 4953,
    "start_time": "2024-08-25T00:15:03.477Z"
   },
   {
    "duration": 4,
    "start_time": "2024-08-25T00:15:08.433Z"
   },
   {
    "duration": 6,
    "start_time": "2024-08-25T00:15:08.447Z"
   },
   {
    "duration": 14,
    "start_time": "2024-08-25T00:15:08.456Z"
   },
   {
    "duration": 30,
    "start_time": "2024-08-25T00:15:08.473Z"
   },
   {
    "duration": 38,
    "start_time": "2024-08-25T00:15:08.506Z"
   },
   {
    "duration": 63,
    "start_time": "2024-08-25T00:15:08.547Z"
   },
   {
    "duration": 5,
    "start_time": "2024-08-25T00:15:08.613Z"
   },
   {
    "duration": 10,
    "start_time": "2024-08-25T00:15:08.621Z"
   },
   {
    "duration": 5,
    "start_time": "2024-08-25T00:15:08.634Z"
   },
   {
    "duration": 5,
    "start_time": "2024-08-25T00:15:08.642Z"
   },
   {
    "duration": 142,
    "start_time": "2024-08-25T00:15:08.650Z"
   },
   {
    "duration": 10,
    "start_time": "2024-08-25T00:15:08.794Z"
   },
   {
    "duration": 204,
    "start_time": "2024-08-25T00:15:08.807Z"
   },
   {
    "duration": 98,
    "start_time": "2024-08-25T00:15:09.014Z"
   },
   {
    "duration": 8,
    "start_time": "2024-08-25T00:15:09.115Z"
   },
   {
    "duration": 131,
    "start_time": "2024-08-25T00:15:09.125Z"
   },
   {
    "duration": 118,
    "start_time": "2024-08-25T00:15:09.258Z"
   },
   {
    "duration": 1606,
    "start_time": "2024-08-25T00:15:09.379Z"
   },
   {
    "duration": 23,
    "start_time": "2024-08-25T00:15:10.988Z"
   },
   {
    "duration": 378,
    "start_time": "2024-08-25T00:15:11.013Z"
   },
   {
    "duration": 11,
    "start_time": "2024-08-25T00:15:11.394Z"
   },
   {
    "duration": 5,
    "start_time": "2024-08-25T00:15:11.408Z"
   },
   {
    "duration": 679,
    "start_time": "2024-08-25T00:15:11.417Z"
   },
   {
    "duration": 0,
    "start_time": "2024-08-25T00:15:12.102Z"
   },
   {
    "duration": 0,
    "start_time": "2024-08-25T00:15:12.104Z"
   },
   {
    "duration": 0,
    "start_time": "2024-08-25T00:15:12.105Z"
   },
   {
    "duration": 1,
    "start_time": "2024-08-25T00:15:12.107Z"
   },
   {
    "duration": 7,
    "start_time": "2024-08-27T00:57:33.434Z"
   },
   {
    "duration": 2,
    "start_time": "2024-08-27T00:57:33.962Z"
   },
   {
    "duration": 154,
    "start_time": "2024-08-27T00:57:34.961Z"
   },
   {
    "duration": 3,
    "start_time": "2024-08-27T00:57:43.345Z"
   },
   {
    "duration": 2644,
    "start_time": "2024-08-27T00:57:43.350Z"
   },
   {
    "duration": 9,
    "start_time": "2024-08-27T00:57:45.997Z"
   },
   {
    "duration": 3,
    "start_time": "2024-08-27T00:57:46.008Z"
   },
   {
    "duration": 9,
    "start_time": "2024-08-27T00:57:46.013Z"
   },
   {
    "duration": 10,
    "start_time": "2024-08-27T00:57:46.034Z"
   },
   {
    "duration": 3,
    "start_time": "2024-08-27T00:57:46.046Z"
   },
   {
    "duration": 9,
    "start_time": "2024-08-27T00:57:46.050Z"
   },
   {
    "duration": 3,
    "start_time": "2024-08-27T00:57:46.060Z"
   },
   {
    "duration": 16,
    "start_time": "2024-08-27T00:57:46.064Z"
   },
   {
    "duration": 1266,
    "start_time": "2024-08-27T00:57:46.084Z"
   },
   {
    "duration": 2551,
    "start_time": "2024-08-27T00:57:47.352Z"
   },
   {
    "duration": 2,
    "start_time": "2024-08-27T00:57:49.905Z"
   },
   {
    "duration": 4,
    "start_time": "2024-08-27T00:57:49.909Z"
   },
   {
    "duration": 8,
    "start_time": "2024-08-27T00:57:49.915Z"
   },
   {
    "duration": 12,
    "start_time": "2024-08-27T00:57:49.925Z"
   },
   {
    "duration": 21,
    "start_time": "2024-08-27T00:57:49.939Z"
   },
   {
    "duration": 20,
    "start_time": "2024-08-27T00:57:49.962Z"
   },
   {
    "duration": 2,
    "start_time": "2024-08-27T00:57:49.985Z"
   },
   {
    "duration": 6,
    "start_time": "2024-08-27T00:57:49.989Z"
   },
   {
    "duration": 4,
    "start_time": "2024-08-27T00:57:49.997Z"
   },
   {
    "duration": 3,
    "start_time": "2024-08-27T00:57:50.034Z"
   },
   {
    "duration": 45,
    "start_time": "2024-08-27T00:57:50.039Z"
   },
   {
    "duration": 3,
    "start_time": "2024-08-27T00:57:50.086Z"
   },
   {
    "duration": 54,
    "start_time": "2024-08-27T00:57:50.092Z"
   },
   {
    "duration": 38,
    "start_time": "2024-08-27T00:57:50.148Z"
   },
   {
    "duration": 4,
    "start_time": "2024-08-27T00:57:50.188Z"
   },
   {
    "duration": 64,
    "start_time": "2024-08-27T00:57:50.194Z"
   },
   {
    "duration": 46,
    "start_time": "2024-08-27T00:57:50.262Z"
   },
   {
    "duration": 4,
    "start_time": "2024-08-27T00:57:50.310Z"
   },
   {
    "duration": 3,
    "start_time": "2024-08-27T00:57:50.315Z"
   },
   {
    "duration": 339,
    "start_time": "2024-08-27T00:57:50.335Z"
   },
   {
    "duration": 0,
    "start_time": "2024-08-27T00:57:50.676Z"
   },
   {
    "duration": 0,
    "start_time": "2024-08-27T00:57:50.677Z"
   },
   {
    "duration": 0,
    "start_time": "2024-08-27T00:57:50.679Z"
   },
   {
    "duration": 0,
    "start_time": "2024-08-27T00:57:50.680Z"
   },
   {
    "duration": 4,
    "start_time": "2024-08-27T01:15:30.473Z"
   },
   {
    "duration": 3,
    "start_time": "2024-08-27T01:15:31.180Z"
   },
   {
    "duration": 57,
    "start_time": "2024-08-27T01:15:31.712Z"
   },
   {
    "duration": 3,
    "start_time": "2024-08-27T01:16:50.243Z"
   },
   {
    "duration": 106,
    "start_time": "2024-08-27T01:16:50.840Z"
   },
   {
    "duration": 4,
    "start_time": "2024-08-27T01:24:24.522Z"
   },
   {
    "duration": 3,
    "start_time": "2024-08-27T01:24:25.093Z"
   },
   {
    "duration": 33,
    "start_time": "2024-08-27T01:24:26.220Z"
   },
   {
    "duration": 3,
    "start_time": "2024-08-27T01:25:46.292Z"
   },
   {
    "duration": 2,
    "start_time": "2024-08-27T01:25:49.482Z"
   },
   {
    "duration": 3,
    "start_time": "2024-08-27T01:25:49.488Z"
   },
   {
    "duration": 8,
    "start_time": "2024-08-27T01:25:49.493Z"
   },
   {
    "duration": 3,
    "start_time": "2024-08-27T01:25:49.502Z"
   },
   {
    "duration": 8,
    "start_time": "2024-08-27T01:25:49.506Z"
   },
   {
    "duration": 8,
    "start_time": "2024-08-27T01:25:49.516Z"
   },
   {
    "duration": 3,
    "start_time": "2024-08-27T01:25:49.526Z"
   },
   {
    "duration": 8,
    "start_time": "2024-08-27T01:25:49.530Z"
   },
   {
    "duration": 3,
    "start_time": "2024-08-27T01:25:49.539Z"
   },
   {
    "duration": 17,
    "start_time": "2024-08-27T01:25:49.543Z"
   },
   {
    "duration": 1207,
    "start_time": "2024-08-27T01:25:49.561Z"
   },
   {
    "duration": 2551,
    "start_time": "2024-08-27T01:25:50.772Z"
   },
   {
    "duration": 9,
    "start_time": "2024-08-27T01:25:53.325Z"
   },
   {
    "duration": 3,
    "start_time": "2024-08-27T01:25:53.336Z"
   },
   {
    "duration": 9,
    "start_time": "2024-08-27T01:25:53.341Z"
   },
   {
    "duration": 8,
    "start_time": "2024-08-27T01:25:53.351Z"
   },
   {
    "duration": 20,
    "start_time": "2024-08-27T01:25:53.360Z"
   },
   {
    "duration": 19,
    "start_time": "2024-08-27T01:25:53.382Z"
   },
   {
    "duration": 3,
    "start_time": "2024-08-27T01:25:53.402Z"
   },
   {
    "duration": 5,
    "start_time": "2024-08-27T01:25:53.436Z"
   },
   {
    "duration": 3,
    "start_time": "2024-08-27T01:25:53.443Z"
   },
   {
    "duration": 3,
    "start_time": "2024-08-27T01:25:53.448Z"
   },
   {
    "duration": 45,
    "start_time": "2024-08-27T01:25:53.452Z"
   },
   {
    "duration": 3,
    "start_time": "2024-08-27T01:25:53.502Z"
   },
   {
    "duration": 43,
    "start_time": "2024-08-27T01:25:53.535Z"
   },
   {
    "duration": 35,
    "start_time": "2024-08-27T01:25:53.580Z"
   },
   {
    "duration": 6,
    "start_time": "2024-08-27T01:25:53.617Z"
   },
   {
    "duration": 45,
    "start_time": "2024-08-27T01:25:53.635Z"
   },
   {
    "duration": 53,
    "start_time": "2024-08-27T01:25:53.682Z"
   },
   {
    "duration": 4,
    "start_time": "2024-08-27T01:25:53.736Z"
   },
   {
    "duration": 3,
    "start_time": "2024-08-27T01:25:53.742Z"
   },
   {
    "duration": 5,
    "start_time": "2024-08-27T01:25:53.748Z"
   },
   {
    "duration": 3,
    "start_time": "2024-08-27T01:25:53.755Z"
   },
   {
    "duration": 2,
    "start_time": "2024-08-27T01:25:53.760Z"
   },
   {
    "duration": 3,
    "start_time": "2024-08-27T01:25:53.764Z"
   },
   {
    "duration": 69,
    "start_time": "2024-08-27T01:25:53.768Z"
   },
   {
    "duration": 6,
    "start_time": "2024-08-27T01:25:53.839Z"
   },
   {
    "duration": 7,
    "start_time": "2024-08-27T01:25:53.847Z"
   },
   {
    "duration": 100,
    "start_time": "2024-08-27T01:25:53.856Z"
   },
   {
    "duration": 5,
    "start_time": "2024-08-27T01:27:09.609Z"
   },
   {
    "duration": 33,
    "start_time": "2024-08-27T01:27:10.703Z"
   },
   {
    "duration": 5,
    "start_time": "2024-08-27T01:47:54.685Z"
   },
   {
    "duration": 4,
    "start_time": "2024-08-27T01:47:59.517Z"
   },
   {
    "duration": 25,
    "start_time": "2024-08-27T01:48:00.624Z"
   },
   {
    "duration": 6,
    "start_time": "2024-08-27T01:49:18.646Z"
   },
   {
    "duration": 472,
    "start_time": "2024-08-27T01:54:25.071Z"
   },
   {
    "duration": 27,
    "start_time": "2024-08-27T01:54:25.809Z"
   },
   {
    "duration": 4,
    "start_time": "2024-08-27T01:54:52.668Z"
   },
   {
    "duration": 27,
    "start_time": "2024-08-27T01:54:54.229Z"
   },
   {
    "duration": 3,
    "start_time": "2024-08-27T01:57:07.073Z"
   },
   {
    "duration": 1034,
    "start_time": "2024-08-27T01:57:07.083Z"
   },
   {
    "duration": 7,
    "start_time": "2024-08-27T01:57:08.119Z"
   },
   {
    "duration": 7,
    "start_time": "2024-08-27T01:57:08.128Z"
   },
   {
    "duration": 10,
    "start_time": "2024-08-27T01:57:08.137Z"
   },
   {
    "duration": 9,
    "start_time": "2024-08-27T01:57:08.150Z"
   },
   {
    "duration": 3,
    "start_time": "2024-08-27T01:57:08.161Z"
   },
   {
    "duration": 7,
    "start_time": "2024-08-27T01:57:08.165Z"
   },
   {
    "duration": 3,
    "start_time": "2024-08-27T01:57:08.174Z"
   },
   {
    "duration": 17,
    "start_time": "2024-08-27T01:57:08.178Z"
   },
   {
    "duration": 1153,
    "start_time": "2024-08-27T01:57:08.198Z"
   },
   {
    "duration": 2515,
    "start_time": "2024-08-27T01:57:09.352Z"
   },
   {
    "duration": 2,
    "start_time": "2024-08-27T01:57:11.869Z"
   },
   {
    "duration": 4,
    "start_time": "2024-08-27T01:57:11.873Z"
   },
   {
    "duration": 8,
    "start_time": "2024-08-27T01:57:11.880Z"
   },
   {
    "duration": 7,
    "start_time": "2024-08-27T01:57:11.889Z"
   },
   {
    "duration": 20,
    "start_time": "2024-08-27T01:57:11.898Z"
   },
   {
    "duration": 32,
    "start_time": "2024-08-27T01:57:11.919Z"
   },
   {
    "duration": 3,
    "start_time": "2024-08-27T01:57:11.953Z"
   },
   {
    "duration": 5,
    "start_time": "2024-08-27T01:57:11.958Z"
   },
   {
    "duration": 5,
    "start_time": "2024-08-27T01:57:11.964Z"
   },
   {
    "duration": 3,
    "start_time": "2024-08-27T01:57:11.970Z"
   },
   {
    "duration": 71,
    "start_time": "2024-08-27T01:57:11.975Z"
   },
   {
    "duration": 3,
    "start_time": "2024-08-27T01:57:12.048Z"
   },
   {
    "duration": 37,
    "start_time": "2024-08-27T01:57:12.053Z"
   },
   {
    "duration": 50,
    "start_time": "2024-08-27T01:57:12.092Z"
   },
   {
    "duration": 4,
    "start_time": "2024-08-27T01:57:12.145Z"
   },
   {
    "duration": 44,
    "start_time": "2024-08-27T01:57:12.152Z"
   },
   {
    "duration": 65,
    "start_time": "2024-08-27T01:57:12.198Z"
   },
   {
    "duration": 3,
    "start_time": "2024-08-27T01:57:12.265Z"
   },
   {
    "duration": 4,
    "start_time": "2024-08-27T01:57:12.270Z"
   },
   {
    "duration": 13,
    "start_time": "2024-08-27T01:57:12.275Z"
   },
   {
    "duration": 51,
    "start_time": "2024-08-27T01:57:12.290Z"
   },
   {
    "duration": 6,
    "start_time": "2024-08-27T01:57:12.343Z"
   },
   {
    "duration": 5,
    "start_time": "2024-08-27T01:57:12.351Z"
   },
   {
    "duration": 4,
    "start_time": "2024-08-27T01:57:12.358Z"
   },
   {
    "duration": 73,
    "start_time": "2024-08-27T01:57:12.363Z"
   },
   {
    "duration": 3,
    "start_time": "2024-08-27T01:57:12.438Z"
   },
   {
    "duration": 7,
    "start_time": "2024-08-27T01:57:12.443Z"
   },
   {
    "duration": 5,
    "start_time": "2024-08-27T01:57:12.453Z"
   },
   {
    "duration": 76,
    "start_time": "2024-08-27T01:57:12.460Z"
   },
   {
    "duration": 446,
    "start_time": "2024-08-27T01:57:12.543Z"
   },
   {
    "duration": 0,
    "start_time": "2024-08-27T01:57:12.991Z"
   },
   {
    "duration": 0,
    "start_time": "2024-08-27T01:57:12.992Z"
   },
   {
    "duration": 7,
    "start_time": "2024-08-27T02:00:47.844Z"
   },
   {
    "duration": 3,
    "start_time": "2024-08-27T02:02:43.575Z"
   },
   {
    "duration": 2,
    "start_time": "2024-08-27T02:02:46.817Z"
   },
   {
    "duration": 3,
    "start_time": "2024-08-27T02:07:33.784Z"
   },
   {
    "duration": 7,
    "start_time": "2024-08-27T02:07:35.555Z"
   },
   {
    "duration": 4,
    "start_time": "2024-08-27T02:08:00.080Z"
   },
   {
    "duration": 14,
    "start_time": "2024-08-27T02:13:23.764Z"
   },
   {
    "duration": 7,
    "start_time": "2024-08-27T02:14:08.997Z"
   },
   {
    "duration": 4,
    "start_time": "2024-08-27T02:14:09.524Z"
   },
   {
    "duration": 3,
    "start_time": "2024-08-27T02:14:10.929Z"
   },
   {
    "duration": 6,
    "start_time": "2024-08-27T02:14:12.508Z"
   },
   {
    "duration": 13,
    "start_time": "2024-08-27T02:14:19.418Z"
   },
   {
    "duration": 3,
    "start_time": "2024-08-27T02:23:01.489Z"
   },
   {
    "duration": 21,
    "start_time": "2024-08-27T02:23:05.382Z"
   },
   {
    "duration": 5,
    "start_time": "2024-08-27T02:24:19.151Z"
   },
   {
    "duration": 5,
    "start_time": "2024-08-27T02:24:21.471Z"
   },
   {
    "duration": 5,
    "start_time": "2024-08-27T02:24:22.626Z"
   },
   {
    "duration": 4,
    "start_time": "2024-08-27T02:31:19.738Z"
   },
   {
    "duration": 5,
    "start_time": "2024-08-27T02:31:35.306Z"
   },
   {
    "duration": 79,
    "start_time": "2024-08-27T02:32:44.757Z"
   },
   {
    "duration": 57,
    "start_time": "2024-08-27T02:49:41.779Z"
   },
   {
    "duration": 3,
    "start_time": "2024-08-27T02:49:51.257Z"
   },
   {
    "duration": 1019,
    "start_time": "2024-08-27T02:49:51.263Z"
   },
   {
    "duration": 7,
    "start_time": "2024-08-27T02:49:52.285Z"
   },
   {
    "duration": 3,
    "start_time": "2024-08-27T02:49:52.294Z"
   },
   {
    "duration": 10,
    "start_time": "2024-08-27T02:49:52.299Z"
   },
   {
    "duration": 9,
    "start_time": "2024-08-27T02:49:52.311Z"
   },
   {
    "duration": 3,
    "start_time": "2024-08-27T02:49:52.336Z"
   },
   {
    "duration": 8,
    "start_time": "2024-08-27T02:49:52.340Z"
   },
   {
    "duration": 2,
    "start_time": "2024-08-27T02:49:52.350Z"
   },
   {
    "duration": 17,
    "start_time": "2024-08-27T02:49:52.354Z"
   },
   {
    "duration": 1189,
    "start_time": "2024-08-27T02:49:52.372Z"
   },
   {
    "duration": 2533,
    "start_time": "2024-08-27T02:49:53.562Z"
   },
   {
    "duration": 3,
    "start_time": "2024-08-27T02:49:56.097Z"
   },
   {
    "duration": 4,
    "start_time": "2024-08-27T02:49:56.101Z"
   },
   {
    "duration": 8,
    "start_time": "2024-08-27T02:49:56.109Z"
   },
   {
    "duration": 8,
    "start_time": "2024-08-27T02:49:56.118Z"
   },
   {
    "duration": 25,
    "start_time": "2024-08-27T02:49:56.127Z"
   },
   {
    "duration": 19,
    "start_time": "2024-08-27T02:49:56.154Z"
   },
   {
    "duration": 4,
    "start_time": "2024-08-27T02:49:56.175Z"
   },
   {
    "duration": 5,
    "start_time": "2024-08-27T02:49:56.180Z"
   },
   {
    "duration": 2,
    "start_time": "2024-08-27T02:49:56.187Z"
   },
   {
    "duration": 3,
    "start_time": "2024-08-27T02:49:56.191Z"
   },
   {
    "duration": 77,
    "start_time": "2024-08-27T02:49:56.195Z"
   },
   {
    "duration": 3,
    "start_time": "2024-08-27T02:49:56.274Z"
   },
   {
    "duration": 38,
    "start_time": "2024-08-27T02:49:56.279Z"
   },
   {
    "duration": 50,
    "start_time": "2024-08-27T02:49:56.319Z"
   },
   {
    "duration": 4,
    "start_time": "2024-08-27T02:49:56.370Z"
   },
   {
    "duration": 42,
    "start_time": "2024-08-27T02:49:56.376Z"
   },
   {
    "duration": 46,
    "start_time": "2024-08-27T02:49:56.435Z"
   },
   {
    "duration": 4,
    "start_time": "2024-08-27T02:49:56.482Z"
   },
   {
    "duration": 3,
    "start_time": "2024-08-27T02:49:56.488Z"
   },
   {
    "duration": 41,
    "start_time": "2024-08-27T02:49:56.493Z"
   },
   {
    "duration": 7,
    "start_time": "2024-08-27T02:49:56.536Z"
   },
   {
    "duration": 4,
    "start_time": "2024-08-27T02:49:56.544Z"
   },
   {
    "duration": 11,
    "start_time": "2024-08-27T02:49:56.549Z"
   },
   {
    "duration": 8,
    "start_time": "2024-08-27T02:49:56.637Z"
   },
   {
    "duration": 4,
    "start_time": "2024-08-27T02:49:56.650Z"
   },
   {
    "duration": 3,
    "start_time": "2024-08-27T02:49:56.656Z"
   },
   {
    "duration": 5,
    "start_time": "2024-08-27T02:49:56.735Z"
   },
   {
    "duration": 5,
    "start_time": "2024-08-27T02:49:56.742Z"
   },
   {
    "duration": 93,
    "start_time": "2024-08-27T02:49:56.748Z"
   },
   {
    "duration": 6,
    "start_time": "2024-08-27T02:49:56.847Z"
   },
   {
    "duration": 4,
    "start_time": "2024-08-27T02:49:56.856Z"
   },
   {
    "duration": 5,
    "start_time": "2024-08-27T02:49:56.861Z"
   },
   {
    "duration": 4,
    "start_time": "2024-08-27T02:49:56.936Z"
   },
   {
    "duration": 10,
    "start_time": "2024-08-27T02:49:56.942Z"
   },
   {
    "duration": 8,
    "start_time": "2024-08-27T02:49:56.956Z"
   },
   {
    "duration": 6,
    "start_time": "2024-08-27T02:49:57.036Z"
   },
   {
    "duration": 5,
    "start_time": "2024-08-27T02:49:57.045Z"
   },
   {
    "duration": 471,
    "start_time": "2024-08-27T02:49:57.054Z"
   },
   {
    "duration": 0,
    "start_time": "2024-08-27T02:49:57.527Z"
   },
   {
    "duration": 0,
    "start_time": "2024-08-27T02:49:57.528Z"
   },
   {
    "duration": 0,
    "start_time": "2024-08-27T02:49:57.534Z"
   },
   {
    "duration": 82,
    "start_time": "2024-08-27T02:51:05.855Z"
   },
   {
    "duration": 49,
    "start_time": "2024-08-27T02:53:59.186Z"
   },
   {
    "duration": 28,
    "start_time": "2024-08-27T02:54:01.191Z"
   },
   {
    "duration": 3,
    "start_time": "2024-08-27T02:54:20.343Z"
   },
   {
    "duration": 1044,
    "start_time": "2024-08-27T02:54:20.347Z"
   },
   {
    "duration": 7,
    "start_time": "2024-08-27T02:54:21.393Z"
   },
   {
    "duration": 3,
    "start_time": "2024-08-27T02:54:21.402Z"
   },
   {
    "duration": 10,
    "start_time": "2024-08-27T02:54:21.406Z"
   },
   {
    "duration": 23,
    "start_time": "2024-08-27T02:54:21.418Z"
   },
   {
    "duration": 3,
    "start_time": "2024-08-27T02:54:21.443Z"
   },
   {
    "duration": 8,
    "start_time": "2024-08-27T02:54:21.447Z"
   },
   {
    "duration": 2,
    "start_time": "2024-08-27T02:54:21.459Z"
   },
   {
    "duration": 17,
    "start_time": "2024-08-27T02:54:21.463Z"
   },
   {
    "duration": 1184,
    "start_time": "2024-08-27T02:54:21.481Z"
   },
   {
    "duration": 2501,
    "start_time": "2024-08-27T02:54:22.667Z"
   },
   {
    "duration": 2,
    "start_time": "2024-08-27T02:54:25.170Z"
   },
   {
    "duration": 4,
    "start_time": "2024-08-27T02:54:25.174Z"
   },
   {
    "duration": 8,
    "start_time": "2024-08-27T02:54:25.179Z"
   },
   {
    "duration": 7,
    "start_time": "2024-08-27T02:54:25.188Z"
   },
   {
    "duration": 21,
    "start_time": "2024-08-27T02:54:25.197Z"
   },
   {
    "duration": 32,
    "start_time": "2024-08-27T02:54:25.219Z"
   },
   {
    "duration": 3,
    "start_time": "2024-08-27T02:54:25.254Z"
   },
   {
    "duration": 5,
    "start_time": "2024-08-27T02:54:25.259Z"
   },
   {
    "duration": 4,
    "start_time": "2024-08-27T02:54:25.265Z"
   },
   {
    "duration": 3,
    "start_time": "2024-08-27T02:54:25.271Z"
   },
   {
    "duration": 73,
    "start_time": "2024-08-27T02:54:25.275Z"
   },
   {
    "duration": 4,
    "start_time": "2024-08-27T02:54:25.353Z"
   },
   {
    "duration": 39,
    "start_time": "2024-08-27T02:54:25.358Z"
   },
   {
    "duration": 53,
    "start_time": "2024-08-27T02:54:25.398Z"
   },
   {
    "duration": 4,
    "start_time": "2024-08-27T02:54:25.453Z"
   },
   {
    "duration": 43,
    "start_time": "2024-08-27T02:54:25.459Z"
   },
   {
    "duration": 61,
    "start_time": "2024-08-27T02:54:25.504Z"
   },
   {
    "duration": 4,
    "start_time": "2024-08-27T02:54:25.566Z"
   },
   {
    "duration": 3,
    "start_time": "2024-08-27T02:54:25.571Z"
   },
   {
    "duration": 11,
    "start_time": "2024-08-27T02:54:25.576Z"
   },
   {
    "duration": 48,
    "start_time": "2024-08-27T02:54:25.589Z"
   },
   {
    "duration": 6,
    "start_time": "2024-08-27T02:54:25.638Z"
   },
   {
    "duration": 6,
    "start_time": "2024-08-27T02:54:25.648Z"
   },
   {
    "duration": 87,
    "start_time": "2024-08-27T02:54:25.657Z"
   },
   {
    "duration": 6,
    "start_time": "2024-08-27T02:54:25.747Z"
   },
   {
    "duration": 3,
    "start_time": "2024-08-27T02:54:25.755Z"
   },
   {
    "duration": 78,
    "start_time": "2024-08-27T02:54:25.759Z"
   },
   {
    "duration": 4,
    "start_time": "2024-08-27T02:54:25.838Z"
   },
   {
    "duration": 93,
    "start_time": "2024-08-27T02:54:25.843Z"
   },
   {
    "duration": 3,
    "start_time": "2024-08-27T02:54:25.938Z"
   },
   {
    "duration": 4,
    "start_time": "2024-08-27T02:54:25.943Z"
   },
   {
    "duration": 3,
    "start_time": "2024-08-27T02:54:25.949Z"
   },
   {
    "duration": 4,
    "start_time": "2024-08-27T02:54:25.955Z"
   },
   {
    "duration": 5,
    "start_time": "2024-08-27T02:54:25.960Z"
   },
   {
    "duration": 7,
    "start_time": "2024-08-27T02:54:26.034Z"
   },
   {
    "duration": 7,
    "start_time": "2024-08-27T02:54:26.043Z"
   },
   {
    "duration": 85,
    "start_time": "2024-08-27T02:54:26.052Z"
   },
   {
    "duration": 4,
    "start_time": "2024-08-27T02:54:26.139Z"
   },
   {
    "duration": 443,
    "start_time": "2024-08-27T02:54:26.145Z"
   },
   {
    "duration": 0,
    "start_time": "2024-08-27T02:54:26.590Z"
   },
   {
    "duration": 0,
    "start_time": "2024-08-27T02:54:26.591Z"
   },
   {
    "duration": 0,
    "start_time": "2024-08-27T02:54:26.592Z"
   },
   {
    "duration": 9,
    "start_time": "2024-08-30T20:54:10.633Z"
   }
  ],
  "kernelspec": {
   "display_name": "Python 3 (ipykernel)",
   "language": "python",
   "name": "python3"
  },
  "language_info": {
   "codemirror_mode": {
    "name": "ipython",
    "version": 3
   },
   "file_extension": ".py",
   "mimetype": "text/x-python",
   "name": "python",
   "nbconvert_exporter": "python",
   "pygments_lexer": "ipython3",
   "version": "3.9.19"
  },
  "toc": {
   "base_numbering": 1,
   "nav_menu": {},
   "number_sections": true,
   "sideBar": true,
   "skip_h1_title": true,
   "title_cell": "Table of Contents",
   "title_sidebar": "Contents",
   "toc_cell": false,
   "toc_position": {},
   "toc_section_display": true,
   "toc_window_display": false
  }
 },
 "nbformat": 4,
 "nbformat_minor": 4
}
