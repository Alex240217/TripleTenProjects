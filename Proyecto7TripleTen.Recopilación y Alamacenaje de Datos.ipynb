{
 "cells": [
  {
   "cell_type": "markdown",
   "metadata": {},
   "source": [
    "\n",
    "¡Hola!\n",
    "\n",
    "Mi nombre es Tonatiuh Cruz. Me complace revisar tu proyecto hoy.\n",
    "\n",
    "Al identificar cualquier error inicialmente, simplemente los destacaré. Te animo a localizar y abordar los problemas de forma independiente como parte de tu preparación para un rol como data-scientist. En un entorno profesional, tu líder de equipo seguiría un enfoque similar. Si encuentras la tarea desafiante, proporcionaré una pista más específica en la próxima iteración.\n",
    "\n",
    "Encontrarás mis comentarios a continuación - **por favor no los muevas, modifiques o elimines**.\n",
    "\n",
    "Puedes encontrar mis comentarios en cajas verdes, amarillas o rojas como esta:\n",
    "\n",
    "<div class=\"alert alert-block alert-success\">\n",
    "<b>Comentario del revisor</b> <a class=\"tocSkip\"></a>\n",
    "\n",
    "Éxito. Todo está hecho correctamente.\n",
    "</div>\n",
    "\n",
    "<div class=\"alert alert-block alert-warning\">\n",
    "<b>Comentario del revisor</b> <a class=\"tocSkip\"></a>\n",
    "\n",
    "Observaciones. Algunas recomendaciones.\n",
    "</div>\n",
    "\n",
    "<div class=\"alert alert-block alert-danger\">\n",
    "<b>Comentario del revisor</b> <a class=\"tocSkip\"></a>\n",
    "\n",
    "Necesita corrección. El bloque requiere algunas correcciones. El trabajo no puede ser aceptado con comentarios en rojo.\n",
    "</div>\n",
    "\n",
    "Puedes responderme utilizando esto:\n",
    "\n",
    "<div class=\"alert alert-block alert-info\">\n",
    "<b>Respuesta del estudiante.</b> <a class=\"tocSkip\"></a>"
   ]
  },
  {
   "cell_type": "markdown",
   "metadata": {},
   "source": [
    "## PROYECTO 7\n",
    "\n",
    "Introducción.\n",
    "\n",
    "El proyecto que se desarrolla a continuación cuenta con información referente a una empresa de taxis contenida en 3 dataframes.\n",
    "\n",
    "DF1: contiene nombre de la empresa de taxis, así como el número de viajes de cada compañía de taxis el 15 y 16 de noviembre de 2017. \n",
    "\n",
    "DF2: contiene barrios de Chicago donde finalizaron los viajes así como el promedio de viajes que terminaron en cada barrio en noviembre de 2017.\n",
    "\n",
    "DF3: contiene la fecha y hora de la recogida, las condiciones climáticas en el momento en el que comenzó el viaje y la duración del viaje en segundos\n",
    "\n",
    "Los objetivos, además de la correcta importación de librerias y de los archivos csv, son 3:\n",
    "\n",
    "1.- Observar las compañias que mas viajes tieen entre el 15 y 16 de noviembre de 2017\n",
    "\n",
    "2.- Conocer cuales son los principales destinos en la ciudad de Chicago en el mes de noviembre de 2017\n",
    "\n",
    "3.- Conocer si la duración promedio de los viajes desde el Loop hasta el Aeropuerto Internacional O'Hare cambia los sábados lluviosos. "
   ]
  },
  {
   "cell_type": "markdown",
   "metadata": {},
   "source": [
    "<div class=\"alert alert-block alert-warning\">\n",
    "\n",
    "<b>Comentario del revisor</b> <a class=\"tocSkip\"></a>\n",
    "\n",
    "\n",
    "Alejandro, cuando hacemos análisis de datos es muy útil escribir una introducción al proyecto donde se especifiquen claramente los objetivos y se explique el propósito del mismo. Es esencial hacer esto para establecer las bases del proyecto y aclarar lo que buscamos alcanzar. Con la introducción, queda de manera clarar el análisis que desarrollaremos en el proyecto y cómo lo pretendemos abordar.</div>"
   ]
  },
  {
   "cell_type": "markdown",
   "metadata": {},
   "source": [
    "<div class=\"alert alert-block alert-info\">\n",
    "<b>Respuesta del estudiante.</b> <a class=\"tocSkip\"></a>\n",
    "Hola Tonatiuh, buenos dias, hice los cambios solicitados y al cambiar el valor de la prueba ttest cambié tambien la conclusión, muchas gracias"
   ]
  },
  {
   "cell_type": "markdown",
   "metadata": {},
   "source": [
    "### Preparación"
   ]
  },
  {
   "cell_type": "code",
   "execution_count": 1,
   "metadata": {},
   "outputs": [],
   "source": [
    "import pandas as pd \n",
    "import matplotlib.pyplot as plt\n",
    "import numpy as nd\n",
    "import math as mt\n",
    "from scipy import stats"
   ]
  },
  {
   "cell_type": "code",
   "execution_count": 2,
   "metadata": {},
   "outputs": [],
   "source": [
    "df1 = pd.read_csv(\"/datasets/project_sql_result_01.csv\")\n",
    "df2 = pd.read_csv(\"/datasets/project_sql_result_04.csv\")\n",
    "df3 = pd.read_csv(\"/datasets/project_sql_result_07.csv\")"
   ]
  },
  {
   "cell_type": "markdown",
   "metadata": {},
   "source": [
    "<div class=\"alert alert-block alert-success\">\n",
    "<b>Comentario del revisor:</b> <a class=\"tocSkip\"></a>\n",
    "    \n",
    "Has realizado un excelente trabajo al importar los datos y las bibliotecas necesarias.\n",
    "\n",
    "</div>"
   ]
  },
  {
   "cell_type": "markdown",
   "metadata": {},
   "source": [
    "### Análisis Exploratorio de Datos\n"
   ]
  },
  {
   "cell_type": "markdown",
   "metadata": {},
   "source": [
    "#### Revisión de datos y tipos de datos \n",
    "\n",
    "Se puede observar que los datos corresponden con la descripción dada en las instrucciones, de igual manera no encontramos valores nulos ni filas duplicadas en ninguno de los dataframe. unicamente se hizo una modificación en el df3 para cambiar la columna start_ts a datetime para facilitar su manipulación posterior. \n"
   ]
  },
  {
   "cell_type": "code",
   "execution_count": 3,
   "metadata": {},
   "outputs": [
    {
     "name": "stdout",
     "output_type": "stream",
     "text": [
      "                      company_name  trips_amount\n",
      "0                        Flash Cab         19558\n",
      "1        Taxi Affiliation Services         11422\n",
      "2                Medallion Leasing         10367\n",
      "3                       Yellow Cab          9888\n",
      "4  Taxi Affiliation Service Yellow          9299\n",
      "\n",
      "<class 'pandas.core.frame.DataFrame'>\n",
      "RangeIndex: 64 entries, 0 to 63\n",
      "Data columns (total 2 columns):\n",
      " #   Column        Non-Null Count  Dtype \n",
      "---  ------        --------------  ----- \n",
      " 0   company_name  64 non-null     object\n",
      " 1   trips_amount  64 non-null     int64 \n",
      "dtypes: int64(1), object(1)\n",
      "memory usage: 1.1+ KB\n",
      "None\n",
      "\n",
      "company_name    0\n",
      "trips_amount    0\n",
      "dtype: int64\n",
      "\n",
      "0\n"
     ]
    }
   ],
   "source": [
    "print(df1.head())\n",
    "print()\n",
    "print(df1.info())\n",
    "print()\n",
    "print(df1.isnull().sum())\n",
    "print()\n",
    "print(df1.duplicated().sum())"
   ]
  },
  {
   "cell_type": "code",
   "execution_count": 4,
   "metadata": {},
   "outputs": [
    {
     "name": "stdout",
     "output_type": "stream",
     "text": [
      "  dropoff_location_name  average_trips\n",
      "0                  Loop   10727.466667\n",
      "1           River North    9523.666667\n",
      "2         Streeterville    6664.666667\n",
      "3             West Loop    5163.666667\n",
      "4                O'Hare    2546.900000\n",
      "\n",
      "<class 'pandas.core.frame.DataFrame'>\n",
      "RangeIndex: 94 entries, 0 to 93\n",
      "Data columns (total 2 columns):\n",
      " #   Column                 Non-Null Count  Dtype  \n",
      "---  ------                 --------------  -----  \n",
      " 0   dropoff_location_name  94 non-null     object \n",
      " 1   average_trips          94 non-null     float64\n",
      "dtypes: float64(1), object(1)\n",
      "memory usage: 1.6+ KB\n",
      "None\n",
      "\n",
      "dropoff_location_name    0\n",
      "average_trips            0\n",
      "dtype: int64\n",
      "\n",
      "0\n"
     ]
    }
   ],
   "source": [
    "print(df2.head())\n",
    "print()\n",
    "print(df2.info())\n",
    "print()\n",
    "print(df2.isnull().sum())\n",
    "print()\n",
    "print(df2.duplicated().sum())"
   ]
  },
  {
   "cell_type": "code",
   "execution_count": 5,
   "metadata": {},
   "outputs": [
    {
     "name": "stdout",
     "output_type": "stream",
     "text": [
      "              start_ts weather_conditions  duration_seconds\n",
      "0  2017-11-25 16:00:00               Good            2410.0\n",
      "1  2017-11-25 14:00:00               Good            1920.0\n",
      "2  2017-11-25 12:00:00               Good            1543.0\n",
      "3  2017-11-04 10:00:00               Good            2512.0\n",
      "4  2017-11-11 07:00:00               Good            1440.0\n",
      "\n",
      "<class 'pandas.core.frame.DataFrame'>\n",
      "RangeIndex: 1068 entries, 0 to 1067\n",
      "Data columns (total 3 columns):\n",
      " #   Column              Non-Null Count  Dtype         \n",
      "---  ------              --------------  -----         \n",
      " 0   start_ts            1068 non-null   datetime64[ns]\n",
      " 1   weather_conditions  1068 non-null   object        \n",
      " 2   duration_seconds    1068 non-null   float64       \n",
      "dtypes: datetime64[ns](1), float64(1), object(1)\n",
      "memory usage: 25.2+ KB\n",
      "None\n",
      "\n",
      "start_ts              0\n",
      "weather_conditions    0\n",
      "duration_seconds      0\n",
      "dtype: int64\n",
      "\n",
      "0\n"
     ]
    }
   ],
   "source": [
    "print(df3.head())\n",
    "df3['start_ts'] = pd.to_datetime(df3['start_ts'], format='%Y-%m-%d %H:%M:%S')\n",
    "print()\n",
    "print(df3.info())\n",
    "print()\n",
    "print(df3.isnull().sum())\n",
    "print()\n",
    "print(df1.duplicated().sum())"
   ]
  },
  {
   "cell_type": "markdown",
   "metadata": {},
   "source": [
    "<div class=\"alert alert-block alert-success\">\n",
    "\n",
    "<b>Comentario del revisor</b> <a class=\"tocSkip\"></a>\n",
    "\n",
    "Muy buen trabajo con el análisis de registros duplicados!.</div>"
   ]
  },
  {
   "cell_type": "markdown",
   "metadata": {},
   "source": [
    "####  ¿Cuáles son los 10 principales barrios en términos de finalización del recorrido?"
   ]
  },
  {
   "cell_type": "code",
   "execution_count": 6,
   "metadata": {},
   "outputs": [
    {
     "name": "stdout",
     "output_type": "stream",
     "text": [
      "  dropoff_location_name  average_trips\n",
      "0                  Loop   10727.466667\n",
      "1           River North    9523.666667\n",
      "2         Streeterville    6664.666667\n",
      "3             West Loop    5163.666667\n",
      "4                O'Hare    2546.900000\n",
      "5             Lake View    2420.966667\n",
      "6            Grant Park    2068.533333\n",
      "7         Museum Campus    1510.000000\n",
      "8            Gold Coast    1364.233333\n",
      "9    Sheffield & DePaul    1259.766667\n"
     ]
    }
   ],
   "source": [
    "top10_dropoff= df2.sort_values(by='average_trips',ascending=False).head(10)\n",
    "\n",
    "print(top10_dropoff)"
   ]
  },
  {
   "cell_type": "markdown",
   "metadata": {},
   "source": [
    "#### Gráficos sobre las empresas de taxis (1) y como sobre los 10 barrios principales por número de finalizaciones(2).\n",
    "\n",
    "1.- Podemos observar que la empresa con mayor cantidad de viajes es Flash Cabs, seguido por Taxi Affiliation Services y Medallion Leasing. Resulta notoria la participación de mercado de la primera, superando en aproximadamente 50% la participación de mercado de la segunda.\n",
    "\n",
    "2.- Respecto a los destinos, existen 4 que pueden identificarse como los más frecuentes, siendo estos Loop, River North, Streeterville y West Loop, a partir de estos 4 es notoria la reducción de viajes. \n",
    "\n",
    "\n"
   ]
  },
  {
   "cell_type": "code",
   "execution_count": 7,
   "metadata": {},
   "outputs": [
    {
     "data": {
      "image/png": "[encoded data removed]",
      "text/plain": [
       "<Figure size 1200x800 with 1 Axes>"
      ]
     },
     "metadata": {},
     "output_type": "display_data"
    }
   ],
   "source": [
    "top10_company= df1.sort_values(by='trips_amount',ascending=False).head(10)\n",
    "top10_company.plot(kind=\"bar\",\n",
    "             x = 'company_name',\n",
    "             rot=90,\n",
    "             fontsize=12,\n",
    "             figsize=(12,8),\n",
    "             color='orange')\n",
    "plt.title('Top 10 de compañias en viajes del 15 y 16 de noviembre de 2017')\n",
    "plt.xlabel('Compañias')\n",
    "plt.ylabel('Viajes')\n",
    "plt.show()"
   ]
  },
  {
   "cell_type": "markdown",
   "metadata": {},
   "source": [
    "<div class=\"alert alert-block alert-success\">\n",
    "\n",
    "<b>Comentario del revisor</b> <a class=\"tocSkip\"></a>\n",
    "\n",
    "Excelente trabajo con el desarrollo de este análisis, muestras de manera clara cuales son los 10 principales barrios en términos de finalización del recorrido\n",
    "    </div>"
   ]
  },
  {
   "cell_type": "code",
   "execution_count": 8,
   "metadata": {},
   "outputs": [
    {
     "data": {
      "image/png": "[encoded data removed]",
      "text/plain": [
       "<Figure size 1200x800 with 1 Axes>"
      ]
     },
     "metadata": {},
     "output_type": "display_data"
    }
   ],
   "source": [
    "top10_dropoff.plot(kind=\"bar\",\n",
    "             x = 'dropoff_location_name',\n",
    "             rot=90,\n",
    "             fontsize=12,\n",
    "             figsize=(12,8),\n",
    "             color='green')\n",
    "plt.title('Top 10 de destinos en la ciudad de Chicago, Novimebre, 2017')\n",
    "plt.xlabel('Compañias')\n",
    "plt.ylabel('Viajes')\n",
    "plt.show()"
   ]
  },
  {
   "cell_type": "markdown",
   "metadata": {},
   "source": [
    "<div class=\"alert alert-block alert-success\">\n",
    "\n",
    "<b>Comentario del revisor</b> <a class=\"tocSkip\"></a>\n",
    "\n",
    "Excelente trabajo con el desarrollo de este análisis y lo complementaste con una gráfica.\n",
    "    </div>"
   ]
  },
  {
   "cell_type": "markdown",
   "metadata": {},
   "source": [
    "### Pruebas de Hipótesis "
   ]
  },
  {
   "cell_type": "markdown",
   "metadata": {},
   "source": [
    "#### La hipotesis que se probará, sera: \"La duración promedio de los viajes desde el Loop hasta el Aeropuerto Internacional O'Hare cambia los sábados lluviosos\". Debido a lo cual se usará una prueba t-student para revisar si hay una diferencia estadísticamente relevante entre los promedios.\n",
    "\n",
    "#### La hipótesis nula es : No existe diferencia estadística significativa entre la duración promedio de los viajes desde Loop hasta el Aeropuerto Internacional O´Hare en los sábados lluviosos\n",
    "\n",
    "#### La hipótesis alternativa es:  No existe diferencia estadística significativa entre la duración promedio de los viajes desde Loop hasta el Aeropuerto Internacional O´Hare en los sábados lluviosos\n",
    "\n",
    "#### Se establece alpha en 0.05.\n"
   ]
  },
  {
   "cell_type": "code",
   "execution_count": 9,
   "metadata": {},
   "outputs": [
    {
     "name": "stdout",
     "output_type": "stream",
     "text": [
      "             start_ts weather_conditions  duration_seconds       day\n",
      "0 2017-11-25 16:00:00               Good            2410.0  Saturday\n",
      "1 2017-11-25 14:00:00               Good            1920.0  Saturday\n",
      "2 2017-11-25 12:00:00               Good            1543.0  Saturday\n",
      "3 2017-11-04 10:00:00               Good            2512.0  Saturday\n",
      "4 2017-11-11 07:00:00               Good            1440.0  Saturday\n",
      "['Saturday']\n",
      "['Good' 'Bad']\n"
     ]
    }
   ],
   "source": [
    "df3['day'] = df3['start_ts'].dt.day_name()\n",
    "print(df3.head())\n",
    "print(df3[\"day\"].unique())\n",
    "print(df3[\"weather_conditions\"].unique())\n",
    "#en este paso revisamos que todas las fechas correspondan con dias sábado, así como que las condiciones del clima\n",
    "#sean bueno o malo. "
   ]
  },
  {
   "cell_type": "code",
   "execution_count": 10,
   "metadata": {},
   "outputs": [],
   "source": [
    "#Para poder usar la prueba ttest_ind se necesita: \n",
    "# Crear los grupos que se analizarán\n",
    "# Realizar la prueba de levene para evaluar la igualdad de las varianzas\n",
    "# Determinar el valor alpha.\n",
    "\n",
    "good_weather = (df3.query('weather_conditions == \"Good\"')['duration_seconds'])\n",
    "bad_weather = (df3.query('weather_conditions == \"Bad\"')['duration_seconds'])\n",
    "\n",
    "alpha=0.05\n"
   ]
  },
  {
   "cell_type": "markdown",
   "metadata": {},
   "source": [
    "<div class=\"alert alert-block alert-danger\">\n",
    "\n",
    "<b>Comentario del revisor</b> <a class=\"tocSkip\"></a>\n",
    "\n",
    "Excelente trabajo, solamente verifica que estamos haciendo el filtro correcto para los días con buen clima y los de mal clima. Pareciera que en ambos casos filtramos por \"good\"\n",
    "    </div>"
   ]
  },
  {
   "cell_type": "code",
   "execution_count": 11,
   "metadata": {},
   "outputs": [
    {
     "name": "stdout",
     "output_type": "stream",
     "text": [
      "Estadística de Levene: 0.38853489683656073\n",
      "P-value de Levene: 0.5332038671974493\n",
      "¿Podemos asumir varianzas iguales?: True\n"
     ]
    }
   ],
   "source": [
    "# Levene \n",
    "\n",
    "stat, p_value_levene = stats.levene(good_weather, bad_weather)\n",
    "print(f\"Estadística de Levene: {stat}\")\n",
    "print(f\"P-value de Levene: {p_value_levene}\")\n",
    "equal_var = p_value_levene > 0.05\n",
    "print(f\"¿Podemos asumir varianzas iguales?: {equal_var}\")"
   ]
  },
  {
   "cell_type": "code",
   "execution_count": 12,
   "metadata": {},
   "outputs": [
    {
     "name": "stdout",
     "output_type": "stream",
     "text": [
      "T-statistic: -6.946177714041499\n",
      "P-value: 6.517970327099473e-12\n",
      "Hay una diferencia significativa entre las medias de los dos grupos.\n"
     ]
    }
   ],
   "source": [
    "# ttest\n",
    "\n",
    "t_stat, p_value_ttest = stats.ttest_ind(good_weather, bad_weather, equal_var=True)\n",
    "\n",
    "print(f\"T-statistic: {t_stat}\")\n",
    "print(f\"P-value: {p_value_ttest}\")\n",
    "\n",
    "alpha = 0.05\n",
    "if p_value_ttest < alpha:\n",
    "    print(\"Hay una diferencia significativa entre las medias de los dos grupos.\")\n",
    "else:\n",
    "    print(\"No hay una diferencia significativa entre las medias de los dos grupos.\")\n"
   ]
  },
  {
   "cell_type": "markdown",
   "metadata": {},
   "source": [
    "<div class=\"alert alert-block alert-success\">\n",
    "\n",
    "<b>Comentario del revisor</b> <a class=\"tocSkip\"></a>\n",
    "\n",
    "Muy buen trabajo con la prueba de levene y la prueba de hipótesis, solamente con el ajuste que te comento an\n",
    "    </div>"
   ]
  },
  {
   "cell_type": "markdown",
   "metadata": {},
   "source": [
    "#### En la interpretación de la prueba de hipótesis podemos concluir que:\n",
    "Parece no existir diferencias estadísticas significativas en la prueba de levene, por lo tanto asumimos la hipoteiss nula\n",
    "\n",
    "Respecto a la prueba ttest se puede aceptar la hipótesis alternativa, encontrando que si existen diferencias estadisticas significativas en la duración de los viajes que se realizan con buen clima o mal clima los dias sábado. "
   ]
  }
 ],
 "metadata": {
  "ExecuteTimeLog": [
   {
    "duration": 309,
    "start_time": "2024-06-22T23:35:05.057Z"
   },
   {
    "duration": 4845,
    "start_time": "2024-06-22T23:35:12.108Z"
   },
   {
    "duration": 879,
    "start_time": "2024-06-22T23:35:17.864Z"
   },
   {
    "duration": 134,
    "start_time": "2024-06-22T23:35:44.164Z"
   },
   {
    "duration": 19,
    "start_time": "2024-06-22T23:35:50.653Z"
   },
   {
    "duration": 9,
    "start_time": "2024-06-22T23:36:20.881Z"
   },
   {
    "duration": 8,
    "start_time": "2024-06-22T23:36:28.881Z"
   },
   {
    "duration": 8,
    "start_time": "2024-06-22T23:36:36.493Z"
   },
   {
    "duration": 27,
    "start_time": "2024-06-22T23:38:03.514Z"
   },
   {
    "duration": 28,
    "start_time": "2024-06-22T23:38:09.153Z"
   },
   {
    "duration": 23,
    "start_time": "2024-06-22T23:38:14.280Z"
   },
   {
    "duration": 19,
    "start_time": "2024-06-22T23:38:20.203Z"
   },
   {
    "duration": 20,
    "start_time": "2024-06-22T23:38:28.139Z"
   },
   {
    "duration": 4,
    "start_time": "2024-06-22T23:38:57.653Z"
   },
   {
    "duration": 15,
    "start_time": "2024-06-22T23:38:57.662Z"
   },
   {
    "duration": 18,
    "start_time": "2024-06-22T23:38:57.680Z"
   },
   {
    "duration": 15,
    "start_time": "2024-06-22T23:38:57.701Z"
   },
   {
    "duration": 16,
    "start_time": "2024-06-22T23:38:57.721Z"
   },
   {
    "duration": 23,
    "start_time": "2024-06-22T23:45:05.852Z"
   },
   {
    "duration": 6,
    "start_time": "2024-06-22T23:45:13.484Z"
   },
   {
    "duration": 21,
    "start_time": "2024-06-22T23:51:07.672Z"
   },
   {
    "duration": 24,
    "start_time": "2024-06-23T00:03:07.904Z"
   },
   {
    "duration": 22,
    "start_time": "2024-06-23T00:03:21.147Z"
   },
   {
    "duration": 30,
    "start_time": "2024-06-23T00:03:30.978Z"
   },
   {
    "duration": 1130,
    "start_time": "2024-06-23T00:04:06.127Z"
   },
   {
    "duration": 18,
    "start_time": "2024-06-23T00:04:07.262Z"
   },
   {
    "duration": 28,
    "start_time": "2024-06-23T00:04:07.283Z"
   },
   {
    "duration": 18,
    "start_time": "2024-06-23T00:04:07.313Z"
   },
   {
    "duration": 21,
    "start_time": "2024-06-23T00:04:07.335Z"
   },
   {
    "duration": 18,
    "start_time": "2024-06-23T00:10:15.984Z"
   },
   {
    "duration": 21,
    "start_time": "2024-06-23T00:10:28.710Z"
   },
   {
    "duration": 23,
    "start_time": "2024-06-23T00:10:33.435Z"
   },
   {
    "duration": 4,
    "start_time": "2024-06-23T00:17:48.509Z"
   },
   {
    "duration": 17,
    "start_time": "2024-06-23T00:17:49.357Z"
   },
   {
    "duration": 18,
    "start_time": "2024-06-23T00:17:54.547Z"
   },
   {
    "duration": 18,
    "start_time": "2024-06-23T00:17:55.204Z"
   },
   {
    "duration": 21,
    "start_time": "2024-06-23T00:17:55.646Z"
   },
   {
    "duration": 7,
    "start_time": "2024-06-23T00:22:52.204Z"
   },
   {
    "duration": 8,
    "start_time": "2024-06-23T00:30:16.494Z"
   },
   {
    "duration": 405,
    "start_time": "2024-06-23T00:33:05.388Z"
   },
   {
    "duration": 243,
    "start_time": "2024-06-23T00:33:13.333Z"
   },
   {
    "duration": 38,
    "start_time": "2024-06-23T00:44:20.631Z"
   },
   {
    "duration": 26,
    "start_time": "2024-06-23T00:44:50.419Z"
   },
   {
    "duration": 70,
    "start_time": "2024-06-23T00:45:09.719Z"
   },
   {
    "duration": 91,
    "start_time": "2024-06-23T00:46:01.641Z"
   },
   {
    "duration": 227,
    "start_time": "2024-06-23T00:46:13.042Z"
   },
   {
    "duration": 6,
    "start_time": "2024-06-23T00:47:00.143Z"
   },
   {
    "duration": 379,
    "start_time": "2024-06-23T00:47:08.788Z"
   },
   {
    "duration": 925,
    "start_time": "2024-06-23T00:47:37.406Z"
   },
   {
    "duration": 100,
    "start_time": "2024-06-23T00:47:43.310Z"
   },
   {
    "duration": 275,
    "start_time": "2024-06-23T00:47:58.093Z"
   },
   {
    "duration": 10,
    "start_time": "2024-06-23T00:48:19.655Z"
   },
   {
    "duration": 100,
    "start_time": "2024-06-23T00:48:31.692Z"
   },
   {
    "duration": 347,
    "start_time": "2024-06-23T00:48:43.441Z"
   },
   {
    "duration": 389,
    "start_time": "2024-06-23T00:48:55.329Z"
   },
   {
    "duration": 434,
    "start_time": "2024-06-23T00:49:36.692Z"
   },
   {
    "duration": 7,
    "start_time": "2024-06-23T00:51:47.228Z"
   },
   {
    "duration": 107,
    "start_time": "2024-06-23T00:51:54.178Z"
   },
   {
    "duration": 9,
    "start_time": "2024-06-23T00:53:24.742Z"
   },
   {
    "duration": 387,
    "start_time": "2024-06-23T00:53:29.374Z"
   },
   {
    "duration": 363,
    "start_time": "2024-06-23T00:53:30.665Z"
   },
   {
    "duration": 397,
    "start_time": "2024-06-23T00:54:24.610Z"
   },
   {
    "duration": 337,
    "start_time": "2024-06-23T00:54:40.039Z"
   },
   {
    "duration": 1130,
    "start_time": "2024-06-23T00:55:39.850Z"
   },
   {
    "duration": 21,
    "start_time": "2024-06-23T00:55:40.985Z"
   },
   {
    "duration": 22,
    "start_time": "2024-06-23T00:55:41.010Z"
   },
   {
    "duration": 22,
    "start_time": "2024-06-23T00:55:41.036Z"
   },
   {
    "duration": 57,
    "start_time": "2024-06-23T00:55:41.062Z"
   },
   {
    "duration": 7,
    "start_time": "2024-06-23T00:55:41.123Z"
   },
   {
    "duration": 465,
    "start_time": "2024-06-23T00:55:41.134Z"
   },
   {
    "duration": 346,
    "start_time": "2024-06-23T00:55:41.602Z"
   },
   {
    "duration": 14,
    "start_time": "2024-06-23T01:22:37.572Z"
   },
   {
    "duration": 6,
    "start_time": "2024-06-23T01:24:41.853Z"
   },
   {
    "duration": 10,
    "start_time": "2024-06-23T01:24:58.695Z"
   },
   {
    "duration": 13,
    "start_time": "2024-06-23T01:25:25.721Z"
   },
   {
    "duration": 11,
    "start_time": "2024-06-23T01:29:16.053Z"
   },
   {
    "duration": 9,
    "start_time": "2024-06-23T01:29:35.595Z"
   },
   {
    "duration": 527,
    "start_time": "2024-06-23T01:30:17.224Z"
   },
   {
    "duration": 11,
    "start_time": "2024-06-23T01:30:25.268Z"
   },
   {
    "duration": 10,
    "start_time": "2024-06-23T01:30:42.131Z"
   },
   {
    "duration": 25,
    "start_time": "2024-06-23T02:00:58.164Z"
   },
   {
    "duration": 17,
    "start_time": "2024-06-23T02:01:06.318Z"
   },
   {
    "duration": 5,
    "start_time": "2024-06-23T02:01:07.266Z"
   },
   {
    "duration": 6,
    "start_time": "2024-06-23T02:01:19.449Z"
   },
   {
    "duration": 7,
    "start_time": "2024-06-23T02:02:31.681Z"
   },
   {
    "duration": 7,
    "start_time": "2024-06-23T02:04:38.517Z"
   },
   {
    "duration": 7,
    "start_time": "2024-06-23T02:05:03.161Z"
   },
   {
    "duration": 1188,
    "start_time": "2024-06-23T02:11:01.872Z"
   },
   {
    "duration": 17,
    "start_time": "2024-06-23T02:11:03.065Z"
   },
   {
    "duration": 33,
    "start_time": "2024-06-23T02:11:03.085Z"
   },
   {
    "duration": 18,
    "start_time": "2024-06-23T02:11:03.121Z"
   },
   {
    "duration": 23,
    "start_time": "2024-06-23T02:11:03.144Z"
   },
   {
    "duration": 39,
    "start_time": "2024-06-23T02:11:03.171Z"
   },
   {
    "duration": 468,
    "start_time": "2024-06-23T02:11:03.213Z"
   },
   {
    "duration": 338,
    "start_time": "2024-06-23T02:11:03.684Z"
   },
   {
    "duration": 13,
    "start_time": "2024-06-23T02:11:04.026Z"
   },
   {
    "duration": 14,
    "start_time": "2024-06-23T02:11:04.042Z"
   },
   {
    "duration": 7,
    "start_time": "2024-06-23T02:11:04.059Z"
   },
   {
    "duration": 7,
    "start_time": "2024-06-23T02:11:04.106Z"
   },
   {
    "duration": 340,
    "start_time": "2024-06-24T15:53:36.507Z"
   },
   {
    "duration": 6189,
    "start_time": "2024-06-24T15:54:24.923Z"
   },
   {
    "duration": 36,
    "start_time": "2024-06-24T15:54:31.117Z"
   },
   {
    "duration": 24,
    "start_time": "2024-06-24T15:54:31.157Z"
   },
   {
    "duration": 22,
    "start_time": "2024-06-24T15:54:31.186Z"
   },
   {
    "duration": 30,
    "start_time": "2024-06-24T15:54:31.233Z"
   },
   {
    "duration": 10,
    "start_time": "2024-06-24T15:54:31.266Z"
   },
   {
    "duration": 597,
    "start_time": "2024-06-24T15:54:31.282Z"
   },
   {
    "duration": 421,
    "start_time": "2024-06-24T15:54:31.883Z"
   },
   {
    "duration": 26,
    "start_time": "2024-06-24T15:54:32.307Z"
   },
   {
    "duration": 18,
    "start_time": "2024-06-24T15:54:32.339Z"
   },
   {
    "duration": 18,
    "start_time": "2024-06-24T15:54:32.360Z"
   },
   {
    "duration": 8,
    "start_time": "2024-06-24T15:54:32.390Z"
   },
   {
    "duration": 5,
    "start_time": "2024-06-24T16:34:42.016Z"
   },
   {
    "duration": 18,
    "start_time": "2024-06-24T16:34:42.488Z"
   },
   {
    "duration": 19,
    "start_time": "2024-06-24T16:34:44.484Z"
   },
   {
    "duration": 20,
    "start_time": "2024-06-24T16:34:44.890Z"
   },
   {
    "duration": 29,
    "start_time": "2024-06-24T16:34:45.366Z"
   },
   {
    "duration": 7,
    "start_time": "2024-06-24T16:34:46.796Z"
   },
   {
    "duration": 393,
    "start_time": "2024-06-24T16:34:47.675Z"
   },
   {
    "duration": 339,
    "start_time": "2024-06-24T16:34:49.215Z"
   },
   {
    "duration": 1169,
    "start_time": "2024-06-24T16:37:25.099Z"
   },
   {
    "duration": 16,
    "start_time": "2024-06-24T16:37:26.273Z"
   },
   {
    "duration": 19,
    "start_time": "2024-06-24T16:37:26.292Z"
   },
   {
    "duration": 18,
    "start_time": "2024-06-24T16:37:26.331Z"
   },
   {
    "duration": 23,
    "start_time": "2024-06-24T16:37:26.355Z"
   },
   {
    "duration": 8,
    "start_time": "2024-06-24T16:37:26.380Z"
   },
   {
    "duration": 488,
    "start_time": "2024-06-24T16:37:26.391Z"
   },
   {
    "duration": 339,
    "start_time": "2024-06-24T16:37:26.883Z"
   },
   {
    "duration": 12,
    "start_time": "2024-06-24T16:37:27.231Z"
   },
   {
    "duration": 12,
    "start_time": "2024-06-24T16:37:27.246Z"
   },
   {
    "duration": 7,
    "start_time": "2024-06-24T16:37:27.261Z"
   },
   {
    "duration": 9,
    "start_time": "2024-06-24T16:37:27.271Z"
   },
   {
    "duration": 1156,
    "start_time": "2024-06-24T16:40:17.345Z"
   },
   {
    "duration": 16,
    "start_time": "2024-06-24T16:40:18.506Z"
   },
   {
    "duration": 21,
    "start_time": "2024-06-24T16:40:18.530Z"
   },
   {
    "duration": 20,
    "start_time": "2024-06-24T16:40:18.554Z"
   },
   {
    "duration": 58,
    "start_time": "2024-06-24T16:40:18.578Z"
   },
   {
    "duration": 9,
    "start_time": "2024-06-24T16:40:18.639Z"
   },
   {
    "duration": 452,
    "start_time": "2024-06-24T16:40:18.651Z"
   },
   {
    "duration": 346,
    "start_time": "2024-06-24T16:40:19.106Z"
   },
   {
    "duration": 13,
    "start_time": "2024-06-24T16:40:19.455Z"
   },
   {
    "duration": 13,
    "start_time": "2024-06-24T16:40:19.471Z"
   },
   {
    "duration": 7,
    "start_time": "2024-06-24T16:40:19.487Z"
   },
   {
    "duration": 8,
    "start_time": "2024-06-24T16:40:19.532Z"
   }
  ],
  "kernelspec": {
   "display_name": "Python 3 (ipykernel)",
   "language": "python",
   "name": "python3"
  },
  "language_info": {
   "codemirror_mode": {
    "name": "ipython",
    "version": 3
   },
   "file_extension": ".py",
   "mimetype": "text/x-python",
   "name": "python",
   "nbconvert_exporter": "python",
   "pygments_lexer": "ipython3",
   "version": "3.9.19"
  },
  "toc": {
   "base_numbering": 1,
   "nav_menu": {},
   "number_sections": true,
   "sideBar": true,
   "skip_h1_title": true,
   "title_cell": "Table of Contents",
   "title_sidebar": "Contents",
   "toc_cell": false,
   "toc_position": {},
   "toc_section_display": true,
   "toc_window_display": false
  }
 },
 "nbformat": 4,
 "nbformat_minor": 2
}
