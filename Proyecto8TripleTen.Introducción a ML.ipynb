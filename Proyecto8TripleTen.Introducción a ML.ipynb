{
 "cells": [
  {
   "cell_type": "markdown",
   "metadata": {},
   "source": [
    "# Hola Alejandro!\n",
    "\n",
    "Mi nombre es David Bautista, soy code reviewer de TripleTen y voy a revisar el proyecto que acabas de desarrollar.\n",
    "\n",
    "Cuando vea un error la primera vez, lo señalaré. Deberás encontrarlo y arreglarlo. La intención es que te prepares para un espacio real de trabajo. En un trabajo, el líder de tu equipo hará lo mismo. Si no puedes solucionar el error, te daré más información en la próxima ocasión.\n",
    "\n",
    "Encontrarás mis comentarios más abajo - **por favor, no los muevas, no los modifiques ni los borres.**\n",
    "\n",
    "¿Cómo lo voy a hacer? Voy a leer detenidamente cada una de las implementaciones que has llevado a cabo para cumplir con lo solicitado. Verás los comentarios de esta forma:\n",
    "\n",
    "\n",
    "<div class=\"alert alert-block alert-success\">\n",
    "<b>Comentario del revisor</b> <a class=\"tocSkip\"></a>\n",
    "    \n",
    "Si todo está perfecto.\n",
    "</div>\n",
    "\n",
    "\n",
    "<div class=\"alert alert-block alert-warning\">\n",
    "<b>Comentario del revisor</b> <a class=\"tocSkip\"></a>\n",
    "    \n",
    "Si tu código está bien pero se puede mejorar o hay algún detalle que le hace falta.\n",
    "</div>\n",
    "\n",
    "\n",
    "<div class=\"alert alert-block alert-danger\">\n",
    "    \n",
    "<b>Comentario del revisor</b> <a class=\"tocSkip\"></a>\n",
    "    \n",
    "    \n",
    "Si de pronto hace falta algo o existe algún problema con tu código o conclusiones.\n",
    "</div>\n",
    "\n",
    "\n",
    "Puedes responderme de esta forma: \n",
    "\n",
    "<div class=\"alert alert-block alert-info\">\n",
    "<b>Respuesta del estudiante</b> <a class=\"tocSkip\"></a>\n",
    "</div\n",
    "\n",
    "¡Empecemos!"
   ]
  },
  {
   "cell_type": "markdown",
   "metadata": {},
   "source": [
    "<div class=\"alert alert-block alert-danger\">\n",
    "<b>Comentario del revisor</b> <a class=\"tocSkip\"></a>\n",
    "    \n",
    "# Comentario General\n",
    "\n",
    "~~Hola, Alejandro, te felicito por el buen desarrollo del proyecto hasta el momento. Ahora bien, he dejado un comentario en rojo para que lo puedas tener en cuenta para la siguiente entrega. Quedo atento.~~ </div>"
   ]
  },
  {
   "cell_type": "markdown",
   "metadata": {},
   "source": [
    "<div class=\"alert alert-block alert-info\">\n",
    "<b>Respuesta del estudiante</b> <a class=\"tocSkip\"></a>\n",
    "</div> \n",
    "    Buenas tardes David, muchas gracias por tus comentarios, ya agregué el .describe() a la revisión del dataframe como fue solicitado. \n",
    "    Saludos!"
   ]
  },
  {
   "cell_type": "markdown",
   "metadata": {},
   "source": [
    "<div class=\"alert alert-block alert-success\">\n",
    "<b>Comentario del revisor</b> <a class=\"tocSkip\"></a>\n",
    "    \n",
    "# Comentario General #2\n",
    "\n",
    "Hola, Alejandro, te felicito por la culminación del proyecto. Muy buen trabajo. </div>"
   ]
  },
  {
   "cell_type": "markdown",
   "metadata": {},
   "source": [
    "# Proyecto 8"
   ]
  },
  {
   "cell_type": "markdown",
   "metadata": {},
   "source": [
    "## Introducción.\n",
    "\n",
    "El objetivo del proyecto es desarrollar un modelo que pueda analizar el comportamiento de los clientes y recomendar uno de los nuevos planes de Megaline: Smart o Ultra, para ello se tiene acceso a los datos de comportamiento de los suscriptores (llamadas, minutos, mensajes, mb usados) que ya se han cambiado a los planes nuevos. \n",
    "\n",
    "El umbral de exactitud solicitado es de 0.75.\n"
   ]
  },
  {
   "cell_type": "markdown",
   "metadata": {},
   "source": [
    "<div class=\"alert alert-block alert-success\">\n",
    "<b>Comentario del revisor</b> <a class=\"tocSkip\"></a>\n",
    "    \n",
    "Buen trabajo, Alejandri. Desarrollar una sección de introducción del proyecto siempre es importante para poder generar un contenido con altos estándares de calidad.\n",
    "</div>"
   ]
  },
  {
   "cell_type": "markdown",
   "metadata": {},
   "source": [
    "## Importación de Librerias e Importación del Dataframe"
   ]
  },
  {
   "cell_type": "code",
   "execution_count": 1,
   "metadata": {},
   "outputs": [],
   "source": [
    "import pandas as pd\n",
    "from sklearn.model_selection import train_test_split \n",
    "from sklearn.ensemble import RandomForestClassifier\n",
    "from sklearn.linear_model import LogisticRegression\n",
    "from sklearn.tree import DecisionTreeClassifier\n",
    "from sklearn.model_selection import GridSearchCV\n",
    "from sklearn.metrics import accuracy_score, classification_report\n",
    "import numpy as np \n",
    "\n"
   ]
  },
  {
   "cell_type": "markdown",
   "metadata": {},
   "source": [
    "<div class=\"alert alert-block alert-success\">\n",
    "<b>Comentario del revisor</b> <a class=\"tocSkip\"></a>\n",
    "    \n",
    "Perfecto, buen trabajo importando las librerías necesarias para el desarrollo del proyecto. \n",
    "</div>"
   ]
  },
  {
   "cell_type": "code",
   "execution_count": 2,
   "metadata": {},
   "outputs": [],
   "source": [
    "megaline = pd.read_csv(\"/datasets/users_behavior.csv\")"
   ]
  },
  {
   "cell_type": "code",
   "execution_count": 3,
   "metadata": {},
   "outputs": [
    {
     "data": {
      "text/html": [
       "<div>\n",
       "<style scoped>\n",
       "    .dataframe tbody tr th:only-of-type {\n",
       "        vertical-align: middle;\n",
       "    }\n",
       "\n",
       "    .dataframe tbody tr th {\n",
       "        vertical-align: top;\n",
       "    }\n",
       "\n",
       "    .dataframe thead th {\n",
       "        text-align: right;\n",
       "    }\n",
       "</style>\n",
       "<table border=\"1\" class=\"dataframe\">\n",
       "  <thead>\n",
       "    <tr style=\"text-align: right;\">\n",
       "      <th></th>\n",
       "      <th>calls</th>\n",
       "      <th>minutes</th>\n",
       "      <th>messages</th>\n",
       "      <th>mb_used</th>\n",
       "      <th>is_ultra</th>\n",
       "    </tr>\n",
       "  </thead>\n",
       "  <tbody>\n",
       "    <tr>\n",
       "      <th>0</th>\n",
       "      <td>40.0</td>\n",
       "      <td>311.90</td>\n",
       "      <td>83.0</td>\n",
       "      <td>19915.42</td>\n",
       "      <td>0</td>\n",
       "    </tr>\n",
       "    <tr>\n",
       "      <th>1</th>\n",
       "      <td>85.0</td>\n",
       "      <td>516.75</td>\n",
       "      <td>56.0</td>\n",
       "      <td>22696.96</td>\n",
       "      <td>0</td>\n",
       "    </tr>\n",
       "    <tr>\n",
       "      <th>2</th>\n",
       "      <td>77.0</td>\n",
       "      <td>467.66</td>\n",
       "      <td>86.0</td>\n",
       "      <td>21060.45</td>\n",
       "      <td>0</td>\n",
       "    </tr>\n",
       "    <tr>\n",
       "      <th>3</th>\n",
       "      <td>106.0</td>\n",
       "      <td>745.53</td>\n",
       "      <td>81.0</td>\n",
       "      <td>8437.39</td>\n",
       "      <td>1</td>\n",
       "    </tr>\n",
       "    <tr>\n",
       "      <th>4</th>\n",
       "      <td>66.0</td>\n",
       "      <td>418.74</td>\n",
       "      <td>1.0</td>\n",
       "      <td>14502.75</td>\n",
       "      <td>0</td>\n",
       "    </tr>\n",
       "  </tbody>\n",
       "</table>\n",
       "</div>"
      ],
      "text/plain": [
       "   calls  minutes  messages   mb_used  is_ultra\n",
       "0   40.0   311.90      83.0  19915.42         0\n",
       "1   85.0   516.75      56.0  22696.96         0\n",
       "2   77.0   467.66      86.0  21060.45         0\n",
       "3  106.0   745.53      81.0   8437.39         1\n",
       "4   66.0   418.74       1.0  14502.75         0"
      ]
     },
     "execution_count": 3,
     "metadata": {},
     "output_type": "execute_result"
    }
   ],
   "source": [
    "megaline.head()"
   ]
  },
  {
   "cell_type": "code",
   "execution_count": 4,
   "metadata": {},
   "outputs": [
    {
     "name": "stdout",
     "output_type": "stream",
     "text": [
      "<class 'pandas.core.frame.DataFrame'>\n",
      "RangeIndex: 3214 entries, 0 to 3213\n",
      "Data columns (total 5 columns):\n",
      " #   Column    Non-Null Count  Dtype  \n",
      "---  ------    --------------  -----  \n",
      " 0   calls     3214 non-null   float64\n",
      " 1   minutes   3214 non-null   float64\n",
      " 2   messages  3214 non-null   float64\n",
      " 3   mb_used   3214 non-null   float64\n",
      " 4   is_ultra  3214 non-null   int64  \n",
      "dtypes: float64(4), int64(1)\n",
      "memory usage: 125.7 KB\n",
      "None\n",
      "\n",
      "0\n",
      "\n",
      "calls       0\n",
      "minutes     0\n",
      "messages    0\n",
      "mb_used     0\n",
      "is_ultra    0\n",
      "dtype: int64\n",
      "\n",
      "             calls      minutes     messages       mb_used     is_ultra\n",
      "count  3214.000000  3214.000000  3214.000000   3214.000000  3214.000000\n",
      "mean     63.038892   438.208787    38.281269  17207.673836     0.306472\n",
      "std      33.236368   234.569872    36.148326   7570.968246     0.461100\n",
      "min       0.000000     0.000000     0.000000      0.000000     0.000000\n",
      "25%      40.000000   274.575000     9.000000  12491.902500     0.000000\n",
      "50%      62.000000   430.600000    30.000000  16943.235000     0.000000\n",
      "75%      82.000000   571.927500    57.000000  21424.700000     1.000000\n",
      "max     244.000000  1632.060000   224.000000  49745.730000     1.000000\n"
     ]
    }
   ],
   "source": [
    "print(megaline.info())\n",
    "print()\n",
    "print(megaline.duplicated().sum())\n",
    "print()\n",
    "print(megaline.isna().sum())\n",
    "print()\n",
    "print(megaline.describe())\n"
   ]
  },
  {
   "cell_type": "markdown",
   "metadata": {},
   "source": [
    "<div class=\"alert alert-block alert-danger\">\n",
    "<b>Comentario del revisor</b> <a class=\"tocSkip\"></a>\n",
    "    \n",
    "~~Buen trabajo realizando la exploración inicial del contenido de la tabla, aun así , podrías agregar elementos adicionales como el uso del método ``describe()``.~~\n",
    "</div>\n",
    "\n",
    "<div class=\"alert alert-block alert-success\">\n",
    "<b>Comentario del revisor #2</b> <a class=\"tocSkip\"></a>\n",
    "    \n",
    "Genial, buen trabajo.\n",
    "</div>"
   ]
  },
  {
   "cell_type": "markdown",
   "metadata": {},
   "source": [
    "### Conclusiones.\n",
    "\n",
    "Se importaron las librerias necesarias y se revisó de forma general el dataframe, los tipos de datos son correctos y no se encuentran valores nulos ni filas repetidas. de igual manera se incluyo un .describe() para poder tener una vision general de algunos parámetros estadísticos dentro del dataframe. "
   ]
  },
  {
   "cell_type": "markdown",
   "metadata": {},
   "source": [
    "## Segmentación de los datos.\n"
   ]
  },
  {
   "cell_type": "code",
   "execution_count": 5,
   "metadata": {},
   "outputs": [],
   "source": [
    "target= \"is_ultra\"\n",
    "features= [\"calls\", \"minutes\", \"messages\", \"mb_used\"]"
   ]
  },
  {
   "cell_type": "code",
   "execution_count": 6,
   "metadata": {},
   "outputs": [],
   "source": [
    "train, temp = train_test_split(megaline, test_size=0.4, random_state=8)\n",
    "val, test = train_test_split(temp, test_size=0.4, random_state=8)"
   ]
  },
  {
   "cell_type": "code",
   "execution_count": 7,
   "metadata": {},
   "outputs": [
    {
     "name": "stdout",
     "output_type": "stream",
     "text": [
      "(1928, 5)\n",
      "(771, 5)\n",
      "(515, 5)\n"
     ]
    }
   ],
   "source": [
    "print(train.shape)\n",
    "print(val.shape)\n",
    "print(test.shape)"
   ]
  },
  {
   "cell_type": "markdown",
   "metadata": {},
   "source": [
    "<div class=\"alert alert-block alert-success\">\n",
    "<b>Comentario del revisor</b> <a class=\"tocSkip\"></a>\n",
    "    \n",
    "Perfecto, buen trabajo realizando el split de los datos en los sub sets necesarios para el desarrollo correcto de los modelos. \n",
    "</div>"
   ]
  },
  {
   "cell_type": "code",
   "execution_count": 8,
   "metadata": {},
   "outputs": [],
   "source": [
    "X_train = train.drop(columns=['is_ultra'])\n",
    "y_train = train['is_ultra']\n",
    "\n",
    "X_val = val.drop(columns=['is_ultra'])\n",
    "y_val = val['is_ultra']\n",
    "\n",
    "X_test = test.drop(columns=['is_ultra'])\n",
    "y_test = test['is_ultra']"
   ]
  },
  {
   "cell_type": "markdown",
   "metadata": {},
   "source": [
    "<div class=\"alert alert-block alert-success\">\n",
    "<b>Comentario del revisor</b> <a class=\"tocSkip\"></a>\n",
    "    \n",
    "Perfecto, buen trabajo realizando la separación de las características y los targets. \n",
    "</div>"
   ]
  },
  {
   "cell_type": "markdown",
   "metadata": {},
   "source": [
    "### Conclusiones. \n",
    "Se identiticó el target en la columna \"is_ultra\", quedando las demás columnas para realizar el aprendizaje, de igual manera se segmento como es requerido en el ejercicio en 3 conjuntos, uno de entrenamiento (60%, 1928 filas) uno de validación (24%, 711 filas ) y uno de prueba (16%, 515 filas). Esta división se basa en la necesidad de contar con el grupo de entrenamiento como el mayoritario y un grupo de validación ligeramente mayor que el grupo de prueba."
   ]
  },
  {
   "cell_type": "markdown",
   "metadata": {},
   "source": [
    "<div class=\"alert alert-block alert-success\">\n",
    "<b>Comentario del revisor</b> <a class=\"tocSkip\"></a>\n",
    "    \n",
    "Buen trabajo. \n",
    "</div>"
   ]
  },
  {
   "cell_type": "markdown",
   "metadata": {},
   "source": [
    "## Modelo de aprendizaje. (Random Forest Classifier)"
   ]
  },
  {
   "cell_type": "markdown",
   "metadata": {},
   "source": [
    "### Random Forest Clasiffier"
   ]
  },
  {
   "cell_type": "code",
   "execution_count": 9,
   "metadata": {},
   "outputs": [
    {
     "name": "stdout",
     "output_type": "stream",
     "text": [
      "Accuracy de validación: 0.8054474708171206\n",
      "\n",
      "              precision    recall  f1-score   support\n",
      "\n",
      "           0       0.83      0.91      0.87       541\n",
      "           1       0.73      0.55      0.63       230\n",
      "\n",
      "    accuracy                           0.81       771\n",
      "   macro avg       0.78      0.73      0.75       771\n",
      "weighted avg       0.80      0.81      0.80       771\n",
      "\n"
     ]
    }
   ],
   "source": [
    "model = RandomForestClassifier(random_state=8)\n",
    "model.fit(X_train, y_train)\n",
    "\n",
    "y_val_pred = model.predict(X_val)\n",
    "\n",
    "val_accuracy = accuracy_score(y_val, y_val_pred)\n",
    "print(f'Accuracy de validación: {val_accuracy}')\n",
    "\n",
    "print()\n",
    "\n",
    "print(classification_report(y_val, y_val_pred))\n"
   ]
  },
  {
   "cell_type": "markdown",
   "metadata": {},
   "source": [
    "### Logistic Regression "
   ]
  },
  {
   "cell_type": "code",
   "execution_count": 10,
   "metadata": {},
   "outputs": [
    {
     "name": "stdout",
     "output_type": "stream",
     "text": [
      "Accuracy de validación: 0.7107652399481194\n",
      "\n",
      "              precision    recall  f1-score   support\n",
      "\n",
      "           0       0.72      0.97      0.83       541\n",
      "           1       0.59      0.10      0.16       230\n",
      "\n",
      "    accuracy                           0.71       771\n",
      "   macro avg       0.66      0.53      0.49       771\n",
      "weighted avg       0.68      0.71      0.63       771\n",
      "\n"
     ]
    }
   ],
   "source": [
    "model = LogisticRegression(random_state=8)\n",
    "\n",
    "model.fit(X_train, y_train)\n",
    "\n",
    "y_val_pred = model.predict(X_val)\n",
    "\n",
    "val_accuracy = accuracy_score(y_val, y_val_pred)\n",
    "print(f'Accuracy de validación: {val_accuracy}')\n",
    "\n",
    "print()\n",
    "\n",
    "print(classification_report(y_val, y_val_pred))"
   ]
  },
  {
   "cell_type": "markdown",
   "metadata": {},
   "source": [
    "### Decision Tree Classifier"
   ]
  },
  {
   "cell_type": "code",
   "execution_count": 11,
   "metadata": {},
   "outputs": [
    {
     "name": "stdout",
     "output_type": "stream",
     "text": [
      "Accuracy de validación: 0.7380025940337225\n",
      "\n",
      "              precision    recall  f1-score   support\n",
      "\n",
      "           0       0.82      0.80      0.81       541\n",
      "           1       0.56      0.60      0.58       230\n",
      "\n",
      "    accuracy                           0.74       771\n",
      "   macro avg       0.69      0.70      0.69       771\n",
      "weighted avg       0.74      0.74      0.74       771\n",
      "\n"
     ]
    }
   ],
   "source": [
    "model = DecisionTreeClassifier(random_state=8)\n",
    "model.fit(X_train, y_train)\n",
    "y_val_pred = model.predict(X_val)\n",
    "\n",
    "val_accuracy = accuracy_score(y_val, y_val_pred)\n",
    "print(f'Accuracy de validación: {val_accuracy}')\n",
    "\n",
    "print()\n",
    "\n",
    "print(classification_report(y_val, y_val_pred))\n"
   ]
  },
  {
   "cell_type": "markdown",
   "metadata": {},
   "source": [
    "<div class=\"alert alert-block alert-success\">\n",
    "<b>Comentario del revisor</b> <a class=\"tocSkip\"></a>\n",
    "    \n",
    "Perfecto, buen trabajo desplegando y aplicando las métricas de evaluación para cada uno de los modelos.  \n",
    "</div>"
   ]
  },
  {
   "cell_type": "markdown",
   "metadata": {},
   "source": [
    "## Hiperparámetros y Calidad del Modelo."
   ]
  },
  {
   "cell_type": "markdown",
   "metadata": {},
   "source": [
    "### Random Forest Classifier"
   ]
  },
  {
   "cell_type": "code",
   "execution_count": 12,
   "metadata": {},
   "outputs": [
    {
     "name": "stdout",
     "output_type": "stream",
     "text": [
      "Mejores hiperparámetros: {'max_depth': 5, 'n_estimators': 40}\n",
      "\n",
      "Mejor exactitud de validación: 0.8028534370946822\n"
     ]
    }
   ],
   "source": [
    "param_grid = {\n",
    "    'n_estimators': [40, 60, 80],\n",
    "    'max_depth': [2, 5, 10]\n",
    "}\n",
    "model = RandomForestClassifier(random_state=8)\n",
    "\n",
    "grid_search = GridSearchCV(estimator=model, param_grid=param_grid, cv=3, n_jobs=-1, scoring='accuracy')\n",
    "\n",
    "grid_search.fit(X_val, y_val)\n",
    "\n",
    "print(f'Mejores hiperparámetros: {grid_search.best_params_}')\n",
    "\n",
    "print()\n",
    "\n",
    "print(f'Mejor exactitud de validación: {grid_search.best_score_}')"
   ]
  },
  {
   "cell_type": "code",
   "execution_count": 13,
   "metadata": {},
   "outputs": [
    {
     "name": "stdout",
     "output_type": "stream",
     "text": [
      "Accuracy de prueba del mejor modelo: 0.8612191958495461\n",
      "\n",
      "              precision    recall  f1-score   support\n",
      "\n",
      "           0       0.85      0.98      0.91       541\n",
      "           1       0.91      0.59      0.72       230\n",
      "\n",
      "    accuracy                           0.86       771\n",
      "   macro avg       0.88      0.78      0.81       771\n",
      "weighted avg       0.87      0.86      0.85       771\n",
      "\n"
     ]
    }
   ],
   "source": [
    "best_model = grid_search.best_estimator_\n",
    "\n",
    "y_val_pred = best_model.predict(X_val)\n",
    "\n",
    "val_accuracy = accuracy_score(y_val, y_val_pred)\n",
    "\n",
    "print(f'Accuracy de prueba del mejor modelo: {val_accuracy}')\n",
    "\n",
    "print()\n",
    "\n",
    "print(classification_report(y_val, y_val_pred))"
   ]
  },
  {
   "cell_type": "markdown",
   "metadata": {},
   "source": [
    "### Logistic Regresion."
   ]
  },
  {
   "cell_type": "code",
   "execution_count": 14,
   "metadata": {},
   "outputs": [
    {
     "name": "stdout",
     "output_type": "stream",
     "text": [
      "Fitting 5 folds for each of 10 candidates, totalling 50 fits\n",
      "Mejores hiperparámetros: {'C': 1, 'penalty': 'l1'}\n",
      "\n",
      "Mejor exactitud de validación: 0.7561374109761206\n",
      "Accuracy de prueba del mejor modelo: 0.7600518806744487\n",
      "\n",
      "              precision    recall  f1-score   support\n",
      "\n",
      "           0       0.75      0.98      0.85       541\n",
      "           1       0.86      0.23      0.37       230\n",
      "\n",
      "    accuracy                           0.76       771\n",
      "   macro avg       0.80      0.61      0.61       771\n",
      "weighted avg       0.78      0.76      0.71       771\n",
      "\n"
     ]
    }
   ],
   "source": [
    "param_grid = {\n",
    "    'C': [0.001, 0.01, 0.1, 1, 10],\n",
    "    'penalty': ['l1', 'l2'],\n",
    "}\n",
    "\n",
    "model = LogisticRegression(random_state=8, max_iter=200, solver=\"liblinear\")\n",
    "\n",
    "grid_search = GridSearchCV(estimator=model, param_grid=param_grid, cv=5, scoring='accuracy', verbose=1, n_jobs=-1)\n",
    "\n",
    "grid_search.fit(X_val, y_val)\n",
    "\n",
    "print(f'Mejores hiperparámetros: {grid_search.best_params_}')\n",
    "\n",
    "print()\n",
    "\n",
    "print(f'Mejor exactitud de validación: {grid_search.best_score_}')\n",
    "\n",
    "best_model = grid_search.best_estimator_\n",
    "y_val_pred = best_model.predict(X_val)\n",
    "test_accuracy = accuracy_score(y_val, y_val_pred)\n",
    "\n",
    "print(f'Accuracy de prueba del mejor modelo: {test_accuracy}')\n",
    "\n",
    "print()\n",
    "\n",
    "print(classification_report(y_val, y_val_pred))"
   ]
  },
  {
   "cell_type": "markdown",
   "metadata": {},
   "source": [
    "### Decision Tree Classifier"
   ]
  },
  {
   "cell_type": "code",
   "execution_count": 15,
   "metadata": {},
   "outputs": [
    {
     "name": "stdout",
     "output_type": "stream",
     "text": [
      "Fitting 5 folds for each of 36 candidates, totalling 180 fits\n",
      "Mejores hiperparámetros: {'max_depth': 5, 'min_samples_leaf': 1, 'min_samples_split': 5}\n",
      "Mejor exactitud de validación: 0.796156382477626\n",
      "Accuracy de prueba del mejor modelo: 0.8067444876783398\n",
      "              precision    recall  f1-score   support\n",
      "\n",
      "           0       0.81      0.94      0.87       541\n",
      "           1       0.79      0.48      0.60       230\n",
      "\n",
      "    accuracy                           0.81       771\n",
      "   macro avg       0.80      0.71      0.74       771\n",
      "weighted avg       0.80      0.81      0.79       771\n",
      "\n"
     ]
    }
   ],
   "source": [
    "param_grid = {\n",
    "    'max_depth': [3, 5, 7, 10],\n",
    "    'min_samples_split': [2, 5, 10],\n",
    "    'min_samples_leaf': [1, 2, 4],\n",
    "}\n",
    "\n",
    "model = DecisionTreeClassifier()\n",
    "# Configurar GridSearchCV\n",
    "grid_search = GridSearchCV(estimator=model, param_grid=param_grid, cv=5, scoring='accuracy', verbose=1, n_jobs=-1)\n",
    "\n",
    "# Ajustar GridSearchCV con los datos de entrenamiento\n",
    "grid_search.fit(X_train, y_train)\n",
    "\n",
    "# Mostrar los mejores hiperparámetros y la mejor precisión\n",
    "print(f'Mejores hiperparámetros: {grid_search.best_params_}')\n",
    "print(f'Mejor exactitud de validación: {grid_search.best_score_}')\n",
    "\n",
    "# Evaluar el mejor modelo en el conjunto de prueba\n",
    "best_model = grid_search.best_estimator_\n",
    "y_val_pred = best_model.predict(X_val)\n",
    "val_accuracy = accuracy_score(y_val, y_val_pred)\n",
    "print(f'Accuracy de prueba del mejor modelo: {val_accuracy}')\n",
    "print(classification_report(y_val, y_val_pred))\n"
   ]
  },
  {
   "cell_type": "markdown",
   "metadata": {},
   "source": [
    "<div class=\"alert alert-block alert-success\">\n",
    "<b>Comentario del revisor</b> <a class=\"tocSkip\"></a>\n",
    "    \n",
    "Excelente, Alejandro, buen trabajo desarrollando los modelos de manera más robusta por medio del uso de las grillas de optimización de hiperametros para después también tener el reporte de métricas de calidad. </div>"
   ]
  },
  {
   "cell_type": "markdown",
   "metadata": {},
   "source": [
    "### Conclusiones.\n",
    "\n",
    "Al buscar los mejores hiperparámetros para los tres modelos, encontramos que Random Forest Clasiffier es el mejor modelo con max_depth=5 y n_estimators=40, estas pruebas se realizaron en el conjunto de validación, el umbral de exactitud de este modelo se ubica en .80 cumpiendo con las características requeridas, siendo necesario mencionar que los tres modelos alcanzaron el mínimo requerido de 0.75"
   ]
  },
  {
   "cell_type": "markdown",
   "metadata": {},
   "source": [
    "## Prueba del Modelo."
   ]
  },
  {
   "cell_type": "markdown",
   "metadata": {},
   "source": [
    "### Random Forest Clasiffier."
   ]
  },
  {
   "cell_type": "code",
   "execution_count": 16,
   "metadata": {},
   "outputs": [
    {
     "name": "stdout",
     "output_type": "stream",
     "text": [
      "Accuracy de prueba: 0.8485436893203884\n",
      "              precision    recall  f1-score   support\n",
      "\n",
      "           0       0.83      0.99      0.90       360\n",
      "           1       0.94      0.53      0.68       155\n",
      "\n",
      "    accuracy                           0.85       515\n",
      "   macro avg       0.89      0.76      0.79       515\n",
      "weighted avg       0.86      0.85      0.83       515\n",
      "\n"
     ]
    }
   ],
   "source": [
    "model = RandomForestClassifier(random_state=8, max_depth=5, n_estimators=40)\n",
    "\n",
    "model.fit(X_test, y_test)\n",
    "\n",
    "# Predecir con el conjunto de prueba (X_test)\n",
    "y_test_pred = model.predict(X_test)\n",
    "\n",
    "test_accuracy = accuracy_score(y_test, y_test_pred)\n",
    "print(f'Accuracy de prueba: {test_accuracy}')\n",
    "\n",
    "print(classification_report(y_test, y_test_pred))"
   ]
  },
  {
   "cell_type": "markdown",
   "metadata": {},
   "source": [
    "### Conclusiones.\n",
    "Se puede observar un incremento del umbral de exactitud entre el conjunto de validación y el conjunto de prueba, lo que sugiere que el modelo no se encuentra sobreajustado y puede llegar a ser funcional para la predicción solicitada. "
   ]
  },
  {
   "cell_type": "markdown",
   "metadata": {},
   "source": [
    "<div class=\"alert alert-block alert-success\">\n",
    "<b>Comentario del revisor</b> <a class=\"tocSkip\"></a>\n",
    "    \n",
    "Perfecto, buen trabajo con el desarollo de la prueba final del modelo. </div>"
   ]
  },
  {
   "cell_type": "markdown",
   "metadata": {},
   "source": [
    "## Prueba de Cordura. "
   ]
  },
  {
   "cell_type": "code",
   "execution_count": 17,
   "metadata": {},
   "outputs": [
    {
     "data": {
      "text/plain": [
       "0.6990291262135923"
      ]
     },
     "execution_count": 17,
     "metadata": {},
     "output_type": "execute_result"
    }
   ],
   "source": [
    "accuracy_score(test[target], pd.Series([0] * len(test)))"
   ]
  },
  {
   "cell_type": "code",
   "execution_count": 18,
   "metadata": {},
   "outputs": [
    {
     "data": {
      "text/plain": [
       "0.30097087378640774"
      ]
     },
     "execution_count": 18,
     "metadata": {},
     "output_type": "execute_result"
    }
   ],
   "source": [
    "accuracy_score(test[target], pd.Series([1] * len(test)))"
   ]
  },
  {
   "cell_type": "code",
   "execution_count": 19,
   "metadata": {},
   "outputs": [
    {
     "name": "stdout",
     "output_type": "stream",
     "text": [
      "0.5048543689320388\n"
     ]
    }
   ],
   "source": [
    "y_test_pred_random = np.random.choice([0, 1], size=len(test))\n",
    "\n",
    "test_accuracy_random = accuracy_score(test[target], y_test_pred_random)\n",
    "\n",
    "print(test_accuracy_random)"
   ]
  },
  {
   "cell_type": "markdown",
   "metadata": {},
   "source": [
    "### Conclusión.\n",
    "Se desafió el modelo Random Forest Clasiffier con hiperparámetros de max_depth=5, n_estimators=40 frente a dos escenarios donde todos los resultados son homogeneos (0 y 1) asi como uno con números aleatorios para verificar que el umbral de exactitud sea superior (0.84 vs 0.69, 0.30, 0.51), concluyendo que el modelo es satisfactorio en estas pruebas. "
   ]
  },
  {
   "cell_type": "markdown",
   "metadata": {},
   "source": [
    "<div class=\"alert alert-block alert-success\">\n",
    "<b>Comentario del revisor</b> <a class=\"tocSkip\"></a>\n",
    "    \n",
    "Excelente, buen trabajo con el desarrollo de las secciones de prueba de cordura y de conclusiones generales. </div>"
   ]
  }
 ],
 "metadata": {
  "ExecuteTimeLog": [
   {
    "duration": 465,
    "start_time": "2024-06-25T20:25:52.893Z"
   },
   {
    "duration": 1077,
    "start_time": "2024-06-25T20:25:53.417Z"
   },
   {
    "duration": 129,
    "start_time": "2024-06-25T20:27:23.996Z"
   },
   {
    "duration": 4,
    "start_time": "2024-06-25T20:27:52.789Z"
   },
   {
    "duration": 124,
    "start_time": "2024-06-25T20:27:53.791Z"
   },
   {
    "duration": 419,
    "start_time": "2024-06-25T20:31:39.869Z"
   },
   {
    "duration": 1099,
    "start_time": "2024-06-25T20:31:40.292Z"
   },
   {
    "duration": 4,
    "start_time": "2024-06-25T20:32:32.907Z"
   },
   {
    "duration": 157,
    "start_time": "2024-06-25T20:32:32.916Z"
   },
   {
    "duration": 17,
    "start_time": "2024-06-25T20:32:43.154Z"
   },
   {
    "duration": 22,
    "start_time": "2024-06-25T20:32:54.411Z"
   },
   {
    "duration": 24,
    "start_time": "2024-06-25T20:34:22.677Z"
   },
   {
    "duration": 15,
    "start_time": "2024-06-25T20:34:49.460Z"
   },
   {
    "duration": 22,
    "start_time": "2024-06-25T20:35:31.106Z"
   },
   {
    "duration": 18,
    "start_time": "2024-06-25T20:36:14.559Z"
   },
   {
    "duration": 19,
    "start_time": "2024-06-25T20:36:37.895Z"
   },
   {
    "duration": 3,
    "start_time": "2024-06-25T20:43:01.923Z"
   },
   {
    "duration": 11,
    "start_time": "2024-06-25T20:43:02.411Z"
   },
   {
    "duration": 13,
    "start_time": "2024-06-25T20:43:02.981Z"
   },
   {
    "duration": 20,
    "start_time": "2024-06-25T20:43:03.409Z"
   },
   {
    "duration": 1516,
    "start_time": "2024-06-30T20:10:31.698Z"
   },
   {
    "duration": 32,
    "start_time": "2024-06-30T20:10:33.228Z"
   },
   {
    "duration": 315,
    "start_time": "2024-07-01T22:20:39.127Z"
   },
   {
    "duration": 25,
    "start_time": "2024-07-01T22:20:44.638Z"
   },
   {
    "duration": 23,
    "start_time": "2024-07-01T22:20:45.162Z"
   },
   {
    "duration": 22,
    "start_time": "2024-07-01T22:20:45.634Z"
   },
   {
    "duration": 4,
    "start_time": "2024-07-01T22:21:19.392Z"
   },
   {
    "duration": 22,
    "start_time": "2024-07-01T22:21:20.714Z"
   },
   {
    "duration": 5270,
    "start_time": "2024-07-01T22:21:33.815Z"
   },
   {
    "duration": 21,
    "start_time": "2024-07-01T22:21:39.088Z"
   },
   {
    "duration": 18,
    "start_time": "2024-07-01T22:21:39.112Z"
   },
   {
    "duration": 20,
    "start_time": "2024-07-01T22:21:39.136Z"
   },
   {
    "duration": 5,
    "start_time": "2024-07-01T22:21:39.160Z"
   },
   {
    "duration": 44,
    "start_time": "2024-07-01T22:21:39.168Z"
   },
   {
    "duration": 5,
    "start_time": "2024-07-01T22:21:39.215Z"
   },
   {
    "duration": 4,
    "start_time": "2024-07-01T22:22:43.970Z"
   },
   {
    "duration": 11,
    "start_time": "2024-07-01T22:23:00.522Z"
   },
   {
    "duration": 5,
    "start_time": "2024-07-01T22:23:01.391Z"
   },
   {
    "duration": 125,
    "start_time": "2024-07-01T22:32:08.984Z"
   },
   {
    "duration": 1472,
    "start_time": "2024-07-01T22:32:39.570Z"
   },
   {
    "duration": 14,
    "start_time": "2024-07-01T22:32:41.045Z"
   },
   {
    "duration": 18,
    "start_time": "2024-07-01T22:32:41.062Z"
   },
   {
    "duration": 47,
    "start_time": "2024-07-01T22:32:41.084Z"
   },
   {
    "duration": 5,
    "start_time": "2024-07-01T22:32:41.134Z"
   },
   {
    "duration": 10,
    "start_time": "2024-07-01T22:32:41.143Z"
   },
   {
    "duration": 11,
    "start_time": "2024-07-01T22:32:41.157Z"
   },
   {
    "duration": 1934,
    "start_time": "2024-07-01T22:32:41.174Z"
   },
   {
    "duration": 0,
    "start_time": "2024-07-01T22:32:43.112Z"
   },
   {
    "duration": 10,
    "start_time": "2024-07-01T22:43:08.914Z"
   },
   {
    "duration": 545,
    "start_time": "2024-07-01T22:43:10.897Z"
   },
   {
    "duration": 586,
    "start_time": "2024-07-01T22:43:40.628Z"
   },
   {
    "duration": 537,
    "start_time": "2024-07-01T22:43:56.363Z"
   },
   {
    "duration": 298,
    "start_time": "2024-07-01T23:11:03.732Z"
   },
   {
    "duration": 281,
    "start_time": "2024-07-01T23:11:23.332Z"
   },
   {
    "duration": 268,
    "start_time": "2024-07-01T23:11:50.984Z"
   },
   {
    "duration": 5183,
    "start_time": "2024-07-04T00:23:42.718Z"
   },
   {
    "duration": 20,
    "start_time": "2024-07-04T00:23:47.905Z"
   },
   {
    "duration": 18,
    "start_time": "2024-07-04T00:23:47.928Z"
   },
   {
    "duration": 20,
    "start_time": "2024-07-04T00:23:47.949Z"
   },
   {
    "duration": 4,
    "start_time": "2024-07-04T00:23:47.975Z"
   },
   {
    "duration": 10,
    "start_time": "2024-07-04T00:23:48.013Z"
   },
   {
    "duration": 5,
    "start_time": "2024-07-04T00:23:48.026Z"
   },
   {
    "duration": 10,
    "start_time": "2024-07-04T00:23:48.033Z"
   },
   {
    "duration": 591,
    "start_time": "2024-07-04T00:23:48.047Z"
   },
   {
    "duration": 276,
    "start_time": "2024-07-04T00:23:48.641Z"
   },
   {
    "duration": 1418,
    "start_time": "2024-07-04T00:32:11.036Z"
   },
   {
    "duration": 11,
    "start_time": "2024-07-04T00:32:12.458Z"
   },
   {
    "duration": 17,
    "start_time": "2024-07-04T00:32:12.472Z"
   },
   {
    "duration": 21,
    "start_time": "2024-07-04T00:32:12.511Z"
   },
   {
    "duration": 4,
    "start_time": "2024-07-04T00:32:12.536Z"
   },
   {
    "duration": 10,
    "start_time": "2024-07-04T00:32:12.543Z"
   },
   {
    "duration": 5,
    "start_time": "2024-07-04T00:32:12.556Z"
   },
   {
    "duration": 54,
    "start_time": "2024-07-04T00:32:12.565Z"
   },
   {
    "duration": 575,
    "start_time": "2024-07-04T00:32:12.623Z"
   },
   {
    "duration": 563,
    "start_time": "2024-07-04T00:32:13.201Z"
   },
   {
    "duration": 284,
    "start_time": "2024-07-04T00:32:13.767Z"
   },
   {
    "duration": 265,
    "start_time": "2024-07-04T00:38:29.676Z"
   },
   {
    "duration": 1427,
    "start_time": "2024-07-04T00:39:16.536Z"
   },
   {
    "duration": 12,
    "start_time": "2024-07-04T00:39:17.968Z"
   },
   {
    "duration": 36,
    "start_time": "2024-07-04T00:39:17.983Z"
   },
   {
    "duration": 20,
    "start_time": "2024-07-04T00:39:18.024Z"
   },
   {
    "duration": 4,
    "start_time": "2024-07-04T00:39:18.049Z"
   },
   {
    "duration": 11,
    "start_time": "2024-07-04T00:39:18.056Z"
   },
   {
    "duration": 43,
    "start_time": "2024-07-04T00:39:18.070Z"
   },
   {
    "duration": 8,
    "start_time": "2024-07-04T00:39:18.116Z"
   },
   {
    "duration": 577,
    "start_time": "2024-07-04T00:39:18.127Z"
   },
   {
    "duration": 276,
    "start_time": "2024-07-04T00:39:18.706Z"
   },
   {
    "duration": 279,
    "start_time": "2024-07-04T00:39:18.985Z"
   },
   {
    "duration": 8,
    "start_time": "2024-07-04T01:03:42.732Z"
   },
   {
    "duration": 4,
    "start_time": "2024-07-04T01:03:43.689Z"
   },
   {
    "duration": 8,
    "start_time": "2024-07-04T01:05:03.918Z"
   },
   {
    "duration": 554,
    "start_time": "2024-07-04T01:05:04.966Z"
   },
   {
    "duration": 293,
    "start_time": "2024-07-04T01:05:06.362Z"
   },
   {
    "duration": 240,
    "start_time": "2024-07-04T01:05:08.586Z"
   },
   {
    "duration": 5,
    "start_time": "2024-07-04T01:06:41.478Z"
   },
   {
    "duration": 12,
    "start_time": "2024-07-04T01:06:41.487Z"
   },
   {
    "duration": 22,
    "start_time": "2024-07-04T01:06:41.503Z"
   },
   {
    "duration": 20,
    "start_time": "2024-07-04T01:06:41.529Z"
   },
   {
    "duration": 4,
    "start_time": "2024-07-04T01:06:41.554Z"
   },
   {
    "duration": 10,
    "start_time": "2024-07-04T01:06:41.562Z"
   },
   {
    "duration": 5,
    "start_time": "2024-07-04T01:06:41.611Z"
   },
   {
    "duration": 27,
    "start_time": "2024-07-04T01:06:41.620Z"
   },
   {
    "duration": 572,
    "start_time": "2024-07-04T01:06:41.650Z"
   },
   {
    "duration": 310,
    "start_time": "2024-07-04T01:06:42.226Z"
   },
   {
    "duration": 262,
    "start_time": "2024-07-04T01:06:42.539Z"
   },
   {
    "duration": 5,
    "start_time": "2024-07-04T01:06:51.301Z"
   },
   {
    "duration": 11,
    "start_time": "2024-07-04T01:06:52.214Z"
   },
   {
    "duration": 13,
    "start_time": "2024-07-04T01:06:52.900Z"
   },
   {
    "duration": 20,
    "start_time": "2024-07-04T01:06:53.758Z"
   },
   {
    "duration": 4,
    "start_time": "2024-07-04T01:06:55.832Z"
   },
   {
    "duration": 8,
    "start_time": "2024-07-04T01:06:56.549Z"
   },
   {
    "duration": 5,
    "start_time": "2024-07-04T01:06:57.369Z"
   },
   {
    "duration": 9,
    "start_time": "2024-07-04T01:07:01.125Z"
   },
   {
    "duration": 561,
    "start_time": "2024-07-04T01:07:02.238Z"
   },
   {
    "duration": 304,
    "start_time": "2024-07-04T01:07:03.145Z"
   },
   {
    "duration": 241,
    "start_time": "2024-07-04T01:07:04.547Z"
   },
   {
    "duration": 535,
    "start_time": "2024-07-04T01:21:16.618Z"
   },
   {
    "duration": 1238,
    "start_time": "2024-07-04T01:21:44.526Z"
   },
   {
    "duration": 523,
    "start_time": "2024-07-04T01:22:47.237Z"
   },
   {
    "duration": 7,
    "start_time": "2024-07-04T01:23:50.579Z"
   },
   {
    "duration": 565,
    "start_time": "2024-07-04T01:23:51.008Z"
   },
   {
    "duration": 4,
    "start_time": "2024-07-04T01:24:07.643Z"
   },
   {
    "duration": 11,
    "start_time": "2024-07-04T01:24:08.085Z"
   },
   {
    "duration": 13,
    "start_time": "2024-07-04T01:24:08.842Z"
   },
   {
    "duration": 19,
    "start_time": "2024-07-04T01:24:09.589Z"
   },
   {
    "duration": 4,
    "start_time": "2024-07-04T01:24:11.766Z"
   },
   {
    "duration": 7,
    "start_time": "2024-07-04T01:24:12.821Z"
   },
   {
    "duration": 5,
    "start_time": "2024-07-04T01:24:13.694Z"
   },
   {
    "duration": 7,
    "start_time": "2024-07-04T01:24:16.400Z"
   },
   {
    "duration": 8,
    "start_time": "2024-07-04T01:24:17.210Z"
   },
   {
    "duration": 537,
    "start_time": "2024-07-04T01:25:39.672Z"
   },
   {
    "duration": 1035,
    "start_time": "2024-07-04T01:26:31.980Z"
   },
   {
    "duration": 614,
    "start_time": "2024-07-04T01:27:49.442Z"
   },
   {
    "duration": 729,
    "start_time": "2024-07-04T01:27:59.591Z"
   },
   {
    "duration": 549,
    "start_time": "2024-07-04T01:28:34.770Z"
   },
   {
    "duration": 569,
    "start_time": "2024-07-04T01:28:38.493Z"
   },
   {
    "duration": 619,
    "start_time": "2024-07-04T01:30:04.139Z"
   },
   {
    "duration": 618,
    "start_time": "2024-07-04T01:30:54.156Z"
   },
   {
    "duration": 570,
    "start_time": "2024-07-04T02:03:28.248Z"
   },
   {
    "duration": 4,
    "start_time": "2024-07-04T02:12:13.082Z"
   },
   {
    "duration": 13,
    "start_time": "2024-07-04T02:12:14.037Z"
   },
   {
    "duration": 13,
    "start_time": "2024-07-04T02:12:14.756Z"
   },
   {
    "duration": 19,
    "start_time": "2024-07-04T02:12:15.264Z"
   },
   {
    "duration": 5,
    "start_time": "2024-07-04T02:12:18.647Z"
   },
   {
    "duration": 8,
    "start_time": "2024-07-04T02:12:19.030Z"
   },
   {
    "duration": 5,
    "start_time": "2024-07-04T02:12:19.570Z"
   },
   {
    "duration": 9,
    "start_time": "2024-07-04T02:12:21.678Z"
   },
   {
    "duration": 610,
    "start_time": "2024-07-04T02:12:23.325Z"
   },
   {
    "duration": 17109,
    "start_time": "2024-07-04T02:15:24.020Z"
   },
   {
    "duration": 2051,
    "start_time": "2024-07-04T02:16:08.657Z"
   },
   {
    "duration": 19,
    "start_time": "2024-07-04T02:17:39.997Z"
   },
   {
    "duration": 3260,
    "start_time": "2024-07-04T02:18:25.702Z"
   },
   {
    "duration": 22,
    "start_time": "2024-07-04T02:18:37.160Z"
   },
   {
    "duration": 27,
    "start_time": "2024-07-04T02:22:22.969Z"
   },
   {
    "duration": 4,
    "start_time": "2024-07-04T02:23:36.092Z"
   },
   {
    "duration": 4,
    "start_time": "2024-07-04T02:23:40.935Z"
   },
   {
    "duration": 3,
    "start_time": "2024-07-04T02:24:03.958Z"
   },
   {
    "duration": 49,
    "start_time": "2024-07-04T02:32:49.692Z"
   },
   {
    "duration": 4855,
    "start_time": "2024-07-04T02:34:09.484Z"
   },
   {
    "duration": 26,
    "start_time": "2024-07-04T02:34:14.343Z"
   },
   {
    "duration": 544,
    "start_time": "2024-07-04T02:41:07.622Z"
   },
   {
    "duration": 1437,
    "start_time": "2024-07-04T02:44:51.993Z"
   },
   {
    "duration": 13,
    "start_time": "2024-07-04T02:44:53.433Z"
   },
   {
    "duration": 22,
    "start_time": "2024-07-04T02:44:53.448Z"
   },
   {
    "duration": 48,
    "start_time": "2024-07-04T02:44:53.475Z"
   },
   {
    "duration": 4,
    "start_time": "2024-07-04T02:44:53.526Z"
   },
   {
    "duration": 9,
    "start_time": "2024-07-04T02:44:53.533Z"
   },
   {
    "duration": 6,
    "start_time": "2024-07-04T02:44:53.544Z"
   },
   {
    "duration": 8,
    "start_time": "2024-07-04T02:44:53.553Z"
   },
   {
    "duration": 617,
    "start_time": "2024-07-04T02:44:53.564Z"
   },
   {
    "duration": 56,
    "start_time": "2024-07-04T02:44:54.186Z"
   },
   {
    "duration": 4699,
    "start_time": "2024-07-04T02:44:54.245Z"
   },
   {
    "duration": 24,
    "start_time": "2024-07-04T02:44:58.947Z"
   },
   {
    "duration": 7,
    "start_time": "2024-07-04T02:44:58.974Z"
   },
   {
    "duration": 0,
    "start_time": "2024-07-04T02:44:59.013Z"
   },
   {
    "duration": 552,
    "start_time": "2024-07-04T02:47:27.633Z"
   },
   {
    "duration": 45,
    "start_time": "2024-07-04T02:47:50.417Z"
   },
   {
    "duration": 39,
    "start_time": "2024-07-04T02:48:43.688Z"
   },
   {
    "duration": 489,
    "start_time": "2024-07-04T02:58:01.306Z"
   },
   {
    "duration": 5,
    "start_time": "2024-07-04T02:58:40.028Z"
   },
   {
    "duration": 12,
    "start_time": "2024-07-04T02:58:42.196Z"
   },
   {
    "duration": 19,
    "start_time": "2024-07-04T02:58:43.306Z"
   },
   {
    "duration": 18,
    "start_time": "2024-07-04T02:58:43.776Z"
   },
   {
    "duration": 3,
    "start_time": "2024-07-04T02:58:46.575Z"
   },
   {
    "duration": 8,
    "start_time": "2024-07-04T02:58:47.056Z"
   },
   {
    "duration": 5,
    "start_time": "2024-07-04T02:58:47.545Z"
   },
   {
    "duration": 8,
    "start_time": "2024-07-04T02:58:50.988Z"
   },
   {
    "duration": 553,
    "start_time": "2024-07-04T02:58:52.444Z"
   },
   {
    "duration": 37,
    "start_time": "2024-07-04T02:58:54.332Z"
   },
   {
    "duration": 4800,
    "start_time": "2024-07-04T02:58:59.528Z"
   },
   {
    "duration": 26,
    "start_time": "2024-07-04T02:59:04.331Z"
   },
   {
    "duration": 7,
    "start_time": "2024-07-04T02:59:51.257Z"
   },
   {
    "duration": 3403,
    "start_time": "2024-07-04T03:05:29.505Z"
   },
   {
    "duration": 19,
    "start_time": "2024-07-04T03:06:08.658Z"
   },
   {
    "duration": 1224,
    "start_time": "2024-07-04T03:07:30.206Z"
   },
   {
    "duration": 13,
    "start_time": "2024-07-04T03:07:31.435Z"
   },
   {
    "duration": 24,
    "start_time": "2024-07-04T03:07:31.452Z"
   },
   {
    "duration": 52,
    "start_time": "2024-07-04T03:07:31.479Z"
   },
   {
    "duration": 4,
    "start_time": "2024-07-04T03:07:31.538Z"
   },
   {
    "duration": 9,
    "start_time": "2024-07-04T03:07:31.546Z"
   },
   {
    "duration": 5,
    "start_time": "2024-07-04T03:07:31.558Z"
   },
   {
    "duration": 46,
    "start_time": "2024-07-04T03:07:31.566Z"
   },
   {
    "duration": 570,
    "start_time": "2024-07-04T03:07:31.616Z"
   },
   {
    "duration": 50,
    "start_time": "2024-07-04T03:07:32.188Z"
   },
   {
    "duration": 3432,
    "start_time": "2024-07-04T03:07:32.241Z"
   },
   {
    "duration": 35,
    "start_time": "2024-07-04T03:07:35.677Z"
   },
   {
    "duration": 2799,
    "start_time": "2024-07-04T03:07:35.714Z"
   },
   {
    "duration": 7,
    "start_time": "2024-07-04T03:07:38.519Z"
   },
   {
    "duration": 0,
    "start_time": "2024-07-04T03:07:38.529Z"
   },
   {
    "duration": 2795,
    "start_time": "2024-07-04T03:10:50.584Z"
   },
   {
    "duration": 18466,
    "start_time": "2024-07-04T03:10:57.514Z"
   },
   {
    "duration": 21915,
    "start_time": "2024-07-04T03:12:12.005Z"
   },
   {
    "duration": 21882,
    "start_time": "2024-07-04T03:12:40.136Z"
   },
   {
    "duration": 35538,
    "start_time": "2024-07-04T03:13:28.148Z"
   },
   {
    "duration": 2293,
    "start_time": "2024-07-04T03:15:27.223Z"
   },
   {
    "duration": 1816,
    "start_time": "2024-07-04T03:15:44.690Z"
   },
   {
    "duration": 6479,
    "start_time": "2024-07-04T03:16:02.858Z"
   },
   {
    "duration": 2823,
    "start_time": "2024-07-04T03:17:17.906Z"
   },
   {
    "duration": 4939,
    "start_time": "2024-07-04T03:17:30.185Z"
   },
   {
    "duration": 5256,
    "start_time": "2024-07-04T03:18:06.717Z"
   },
   {
    "duration": 5211,
    "start_time": "2024-07-04T03:19:14.583Z"
   },
   {
    "duration": 15,
    "start_time": "2024-07-04T03:21:03.601Z"
   },
   {
    "duration": 3319,
    "start_time": "2024-07-04T03:21:25.512Z"
   },
   {
    "duration": 21,
    "start_time": "2024-07-04T03:21:28.835Z"
   },
   {
    "duration": 6,
    "start_time": "2024-07-04T03:27:40.929Z"
   },
   {
    "duration": 5,
    "start_time": "2024-07-04T03:27:59.725Z"
   },
   {
    "duration": 135,
    "start_time": "2024-07-04T03:28:46.076Z"
   },
   {
    "duration": 94,
    "start_time": "2024-07-04T03:29:07.454Z"
   },
   {
    "duration": 698,
    "start_time": "2024-07-04T03:30:33.550Z"
   },
   {
    "duration": 99,
    "start_time": "2024-07-04T03:30:41.669Z"
   },
   {
    "duration": 14347,
    "start_time": "2024-07-04T03:32:27.133Z"
   },
   {
    "duration": 1087,
    "start_time": "2024-07-04T03:33:08.103Z"
   },
   {
    "duration": 1562,
    "start_time": "2024-07-04T03:33:27.398Z"
   },
   {
    "duration": 2121,
    "start_time": "2024-07-04T03:35:29.248Z"
   },
   {
    "duration": 1905,
    "start_time": "2024-07-04T03:35:39.699Z"
   },
   {
    "duration": 27,
    "start_time": "2024-07-04T03:38:18.720Z"
   },
   {
    "duration": 27,
    "start_time": "2024-07-04T03:38:58.691Z"
   },
   {
    "duration": 41,
    "start_time": "2024-07-04T03:39:55.112Z"
   },
   {
    "duration": 42,
    "start_time": "2024-07-04T03:40:21.101Z"
   },
   {
    "duration": 45,
    "start_time": "2024-07-04T03:40:43.411Z"
   },
   {
    "duration": 28,
    "start_time": "2024-07-04T03:41:23.204Z"
   },
   {
    "duration": 3592,
    "start_time": "2024-07-04T03:44:34.153Z"
   },
   {
    "duration": 1180,
    "start_time": "2024-07-04T03:45:27.389Z"
   },
   {
    "duration": 13,
    "start_time": "2024-07-04T03:45:28.573Z"
   },
   {
    "duration": 32,
    "start_time": "2024-07-04T03:45:28.589Z"
   },
   {
    "duration": 20,
    "start_time": "2024-07-04T03:45:28.624Z"
   },
   {
    "duration": 3,
    "start_time": "2024-07-04T03:45:28.649Z"
   },
   {
    "duration": 12,
    "start_time": "2024-07-04T03:45:28.656Z"
   },
   {
    "duration": 40,
    "start_time": "2024-07-04T03:45:28.673Z"
   },
   {
    "duration": 10,
    "start_time": "2024-07-04T03:45:28.717Z"
   },
   {
    "duration": 572,
    "start_time": "2024-07-04T03:45:28.731Z"
   },
   {
    "duration": 38,
    "start_time": "2024-07-04T03:45:29.311Z"
   },
   {
    "duration": 28,
    "start_time": "2024-07-04T03:45:29.352Z"
   },
   {
    "duration": 3352,
    "start_time": "2024-07-04T03:45:29.383Z"
   },
   {
    "duration": 451,
    "start_time": "2024-07-04T03:45:32.738Z"
   },
   {
    "duration": 0,
    "start_time": "2024-07-04T03:45:33.193Z"
   },
   {
    "duration": 0,
    "start_time": "2024-07-04T03:45:33.196Z"
   },
   {
    "duration": 0,
    "start_time": "2024-07-04T03:45:33.216Z"
   },
   {
    "duration": 94,
    "start_time": "2024-07-04T03:46:05.587Z"
   },
   {
    "duration": 457,
    "start_time": "2024-07-04T03:47:41.078Z"
   },
   {
    "duration": 1631,
    "start_time": "2024-07-04T03:47:58.597Z"
   },
   {
    "duration": 3362,
    "start_time": "2024-07-04T03:48:13.432Z"
   },
   {
    "duration": 19,
    "start_time": "2024-07-04T03:48:17.978Z"
   },
   {
    "duration": 3358,
    "start_time": "2024-07-04T03:48:38.345Z"
   },
   {
    "duration": 442,
    "start_time": "2024-07-04T03:50:17.891Z"
   },
   {
    "duration": 1623,
    "start_time": "2024-07-04T03:54:56.897Z"
   },
   {
    "duration": 14,
    "start_time": "2024-07-04T04:01:45.766Z"
   },
   {
    "duration": 23,
    "start_time": "2024-07-04T04:16:16.415Z"
   },
   {
    "duration": 6,
    "start_time": "2024-07-04T04:16:24.328Z"
   },
   {
    "duration": 16,
    "start_time": "2024-07-04T04:20:37.859Z"
   },
   {
    "duration": 4,
    "start_time": "2024-07-04T04:22:50.431Z"
   },
   {
    "duration": 119,
    "start_time": "2024-07-04T04:23:44.899Z"
   },
   {
    "duration": 5,
    "start_time": "2024-07-04T04:24:31.119Z"
   },
   {
    "duration": 8,
    "start_time": "2024-07-04T04:24:44.396Z"
   },
   {
    "duration": 8,
    "start_time": "2024-07-04T04:25:00.851Z"
   },
   {
    "duration": 4,
    "start_time": "2024-07-04T04:28:03.163Z"
   },
   {
    "duration": 5,
    "start_time": "2024-07-04T04:30:06.987Z"
   },
   {
    "duration": 233,
    "start_time": "2024-07-04T04:30:26.204Z"
   },
   {
    "duration": 5,
    "start_time": "2024-07-04T04:32:22.096Z"
   },
   {
    "duration": 153,
    "start_time": "2024-07-04T04:32:30.659Z"
   },
   {
    "duration": 1191,
    "start_time": "2024-07-04T04:32:39.594Z"
   },
   {
    "duration": 13,
    "start_time": "2024-07-04T04:32:40.789Z"
   },
   {
    "duration": 19,
    "start_time": "2024-07-04T04:32:40.813Z"
   },
   {
    "duration": 20,
    "start_time": "2024-07-04T04:32:40.835Z"
   },
   {
    "duration": 3,
    "start_time": "2024-07-04T04:32:40.860Z"
   },
   {
    "duration": 49,
    "start_time": "2024-07-04T04:32:40.866Z"
   },
   {
    "duration": 5,
    "start_time": "2024-07-04T04:32:40.918Z"
   },
   {
    "duration": 9,
    "start_time": "2024-07-04T04:32:40.927Z"
   },
   {
    "duration": 580,
    "start_time": "2024-07-04T04:32:40.940Z"
   },
   {
    "duration": 40,
    "start_time": "2024-07-04T04:32:41.523Z"
   },
   {
    "duration": 48,
    "start_time": "2024-07-04T04:32:41.566Z"
   },
   {
    "duration": 3376,
    "start_time": "2024-07-04T04:32:41.616Z"
   },
   {
    "duration": 431,
    "start_time": "2024-07-04T04:32:44.995Z"
   },
   {
    "duration": 0,
    "start_time": "2024-07-04T04:32:45.430Z"
   },
   {
    "duration": 0,
    "start_time": "2024-07-04T04:32:45.433Z"
   },
   {
    "duration": 0,
    "start_time": "2024-07-04T04:32:45.435Z"
   },
   {
    "duration": 0,
    "start_time": "2024-07-04T04:32:45.439Z"
   },
   {
    "duration": 0,
    "start_time": "2024-07-04T04:32:45.442Z"
   },
   {
    "duration": 0,
    "start_time": "2024-07-04T04:32:45.444Z"
   },
   {
    "duration": 21,
    "start_time": "2024-07-04T04:33:42.712Z"
   },
   {
    "duration": 423,
    "start_time": "2024-07-04T04:33:47.034Z"
   },
   {
    "duration": 1640,
    "start_time": "2024-07-04T04:33:49.252Z"
   },
   {
    "duration": 90,
    "start_time": "2024-07-04T04:33:52.534Z"
   },
   {
    "duration": 7,
    "start_time": "2024-07-04T04:33:54.587Z"
   },
   {
    "duration": 8,
    "start_time": "2024-07-04T04:33:55.602Z"
   },
   {
    "duration": 292,
    "start_time": "2024-07-04T04:33:56.451Z"
   },
   {
    "duration": 6,
    "start_time": "2024-07-04T04:35:04.182Z"
   },
   {
    "duration": 7,
    "start_time": "2024-07-04T04:35:27.237Z"
   },
   {
    "duration": 1206,
    "start_time": "2024-07-04T04:37:13.058Z"
   },
   {
    "duration": 12,
    "start_time": "2024-07-04T04:37:14.267Z"
   },
   {
    "duration": 37,
    "start_time": "2024-07-04T04:37:14.281Z"
   },
   {
    "duration": 21,
    "start_time": "2024-07-04T04:37:14.321Z"
   },
   {
    "duration": 5,
    "start_time": "2024-07-04T04:37:14.348Z"
   },
   {
    "duration": 9,
    "start_time": "2024-07-04T04:37:14.355Z"
   },
   {
    "duration": 4,
    "start_time": "2024-07-04T04:37:14.367Z"
   },
   {
    "duration": 8,
    "start_time": "2024-07-04T04:37:14.414Z"
   },
   {
    "duration": 572,
    "start_time": "2024-07-04T04:37:14.425Z"
   },
   {
    "duration": 42,
    "start_time": "2024-07-04T04:37:15.000Z"
   },
   {
    "duration": 29,
    "start_time": "2024-07-04T04:37:15.045Z"
   },
   {
    "duration": 3338,
    "start_time": "2024-07-04T04:37:15.077Z"
   },
   {
    "duration": 20,
    "start_time": "2024-07-04T04:37:18.418Z"
   },
   {
    "duration": 452,
    "start_time": "2024-07-04T04:37:18.443Z"
   },
   {
    "duration": 1649,
    "start_time": "2024-07-04T04:37:18.898Z"
   },
   {
    "duration": 106,
    "start_time": "2024-07-04T04:37:20.551Z"
   },
   {
    "duration": 10,
    "start_time": "2024-07-04T04:37:20.660Z"
   },
   {
    "duration": 8,
    "start_time": "2024-07-04T04:37:20.674Z"
   },
   {
    "duration": 29,
    "start_time": "2024-07-04T04:37:20.685Z"
   },
   {
    "duration": 355,
    "start_time": "2024-07-04T23:27:51.407Z"
   },
   {
    "duration": 1334,
    "start_time": "2024-07-04T23:28:11.630Z"
   },
   {
    "duration": 22,
    "start_time": "2024-07-04T23:28:12.969Z"
   },
   {
    "duration": 33,
    "start_time": "2024-07-04T23:28:12.994Z"
   },
   {
    "duration": 49,
    "start_time": "2024-07-04T23:28:13.031Z"
   },
   {
    "duration": 5,
    "start_time": "2024-07-04T23:28:13.083Z"
   },
   {
    "duration": 39,
    "start_time": "2024-07-04T23:28:13.092Z"
   },
   {
    "duration": 5,
    "start_time": "2024-07-04T23:28:13.134Z"
   },
   {
    "duration": 9,
    "start_time": "2024-07-04T23:28:13.142Z"
   },
   {
    "duration": 659,
    "start_time": "2024-07-04T23:28:13.155Z"
   },
   {
    "duration": 48,
    "start_time": "2024-07-04T23:28:13.826Z"
   },
   {
    "duration": 52,
    "start_time": "2024-07-04T23:28:13.879Z"
   },
   {
    "duration": 3756,
    "start_time": "2024-07-04T23:28:13.934Z"
   },
   {
    "duration": 41,
    "start_time": "2024-07-04T23:28:17.694Z"
   },
   {
    "duration": 542,
    "start_time": "2024-07-04T23:28:17.740Z"
   },
   {
    "duration": 1893,
    "start_time": "2024-07-04T23:28:18.286Z"
   },
   {
    "duration": 116,
    "start_time": "2024-07-04T23:28:20.183Z"
   },
   {
    "duration": 20,
    "start_time": "2024-07-04T23:28:20.303Z"
   },
   {
    "duration": 17,
    "start_time": "2024-07-04T23:28:20.326Z"
   },
   {
    "duration": 9,
    "start_time": "2024-07-04T23:28:20.347Z"
   },
   {
    "duration": 7,
    "start_time": "2024-07-04T23:29:34.309Z"
   },
   {
    "duration": 1356,
    "start_time": "2024-07-04T23:36:32.719Z"
   },
   {
    "duration": 14,
    "start_time": "2024-07-04T23:36:34.080Z"
   },
   {
    "duration": 36,
    "start_time": "2024-07-04T23:36:34.098Z"
   },
   {
    "duration": 46,
    "start_time": "2024-07-04T23:36:34.137Z"
   },
   {
    "duration": 35,
    "start_time": "2024-07-04T23:36:34.189Z"
   },
   {
    "duration": 12,
    "start_time": "2024-07-04T23:36:34.229Z"
   },
   {
    "duration": 6,
    "start_time": "2024-07-04T23:36:34.245Z"
   },
   {
    "duration": 12,
    "start_time": "2024-07-04T23:36:34.255Z"
   },
   {
    "duration": 641,
    "start_time": "2024-07-04T23:36:34.272Z"
   },
   {
    "duration": 38,
    "start_time": "2024-07-04T23:36:34.925Z"
   },
   {
    "duration": 29,
    "start_time": "2024-07-04T23:36:34.967Z"
   },
   {
    "duration": 3840,
    "start_time": "2024-07-04T23:36:35.024Z"
   },
   {
    "duration": 22,
    "start_time": "2024-07-04T23:36:38.868Z"
   },
   {
    "duration": 521,
    "start_time": "2024-07-04T23:36:38.895Z"
   },
   {
    "duration": 1960,
    "start_time": "2024-07-04T23:36:39.423Z"
   },
   {
    "duration": 117,
    "start_time": "2024-07-04T23:36:41.387Z"
   },
   {
    "duration": 16,
    "start_time": "2024-07-04T23:36:41.511Z"
   },
   {
    "duration": 11,
    "start_time": "2024-07-04T23:36:41.531Z"
   },
   {
    "duration": 9,
    "start_time": "2024-07-04T23:36:41.545Z"
   }
  ],
  "kernelspec": {
   "display_name": "Python 3 (ipykernel)",
   "language": "python",
   "name": "python3"
  },
  "language_info": {
   "codemirror_mode": {
    "name": "ipython",
    "version": 3
   },
   "file_extension": ".py",
   "mimetype": "text/x-python",
   "name": "python",
   "nbconvert_exporter": "python",
   "pygments_lexer": "ipython3",
   "version": "3.9.19"
  },
  "toc": {
   "base_numbering": 1,
   "nav_menu": {},
   "number_sections": true,
   "sideBar": true,
   "skip_h1_title": true,
   "title_cell": "Table of Contents",
   "title_sidebar": "Contents",
   "toc_cell": false,
   "toc_position": {},
   "toc_section_display": true,
   "toc_window_display": false
  }
 },
 "nbformat": 4,
 "nbformat_minor": 2
}
