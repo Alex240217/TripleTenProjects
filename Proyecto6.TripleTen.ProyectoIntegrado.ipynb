{
 "cells": [
  {
   "cell_type": "markdown",
   "metadata": {},
   "source": [
    "# Proyecto Integrado Sprint 6\n"
   ]
  },
  {
   "cell_type": "markdown",
   "metadata": {},
   "source": [
    "## Información General del DF."
   ]
  },
  {
   "cell_type": "code",
   "execution_count": 1,
   "metadata": {
    "tags": [
     "e5c1f0c2-db9f-43a0-99b9-4875c52427e8"
    ]
   },
   "outputs": [],
   "source": [
    "import pandas as pd\n",
    "import matplotlib.pyplot as plt\n",
    "import numpy as np \n",
    "import seaborn as sns"
   ]
  },
  {
   "cell_type": "code",
   "execution_count": 2,
   "metadata": {},
   "outputs": [],
   "source": [
    "games=pd.read_csv(\"/datasets/games.csv\")\n",
    "#En esta celda importamos el DF y le asignamos el nombre \"games\""
   ]
  },
  {
   "cell_type": "code",
   "execution_count": 3,
   "metadata": {},
   "outputs": [
    {
     "name": "stdout",
     "output_type": "stream",
     "text": [
      "                        Name Platform  Year_of_Release         Genre  \\\n",
      "0                 Wii Sports      Wii           2006.0        Sports   \n",
      "1          Super Mario Bros.      NES           1985.0      Platform   \n",
      "2             Mario Kart Wii      Wii           2008.0        Racing   \n",
      "3          Wii Sports Resort      Wii           2009.0        Sports   \n",
      "4   Pokemon Red/Pokemon Blue       GB           1996.0  Role-Playing   \n",
      "5                     Tetris       GB           1989.0        Puzzle   \n",
      "6      New Super Mario Bros.       DS           2006.0      Platform   \n",
      "7                   Wii Play      Wii           2006.0          Misc   \n",
      "8  New Super Mario Bros. Wii      Wii           2009.0      Platform   \n",
      "9                  Duck Hunt      NES           1984.0       Shooter   \n",
      "\n",
      "   NA_sales  EU_sales  JP_sales  Other_sales  Critic_Score User_Score Rating  \n",
      "0     41.36     28.96      3.77         8.45          76.0          8      E  \n",
      "1     29.08      3.58      6.81         0.77           NaN        NaN    NaN  \n",
      "2     15.68     12.76      3.79         3.29          82.0        8.3      E  \n",
      "3     15.61     10.93      3.28         2.95          80.0          8      E  \n",
      "4     11.27      8.89     10.22         1.00           NaN        NaN    NaN  \n",
      "5     23.20      2.26      4.22         0.58           NaN        NaN    NaN  \n",
      "6     11.28      9.14      6.50         2.88          89.0        8.5      E  \n",
      "7     13.96      9.18      2.93         2.84          58.0        6.6      E  \n",
      "8     14.44      6.94      4.70         2.24          87.0        8.4      E  \n",
      "9     26.93      0.63      0.28         0.47           NaN        NaN    NaN  \n"
     ]
    }
   ],
   "source": [
    "print(games.head(10))\n",
    "#En esta celda mostramos los 10 primeros resultados para conocer al DF"
   ]
  },
  {
   "cell_type": "code",
   "execution_count": 4,
   "metadata": {},
   "outputs": [
    {
     "name": "stdout",
     "output_type": "stream",
     "text": [
      "<class 'pandas.core.frame.DataFrame'>\n",
      "RangeIndex: 16715 entries, 0 to 16714\n",
      "Data columns (total 11 columns):\n",
      " #   Column           Non-Null Count  Dtype  \n",
      "---  ------           --------------  -----  \n",
      " 0   Name             16713 non-null  object \n",
      " 1   Platform         16715 non-null  object \n",
      " 2   Year_of_Release  16446 non-null  float64\n",
      " 3   Genre            16713 non-null  object \n",
      " 4   NA_sales         16715 non-null  float64\n",
      " 5   EU_sales         16715 non-null  float64\n",
      " 6   JP_sales         16715 non-null  float64\n",
      " 7   Other_sales      16715 non-null  float64\n",
      " 8   Critic_Score     8137 non-null   float64\n",
      " 9   User_Score       10014 non-null  object \n",
      " 10  Rating           9949 non-null   object \n",
      "dtypes: float64(6), object(5)\n",
      "memory usage: 1.4+ MB\n",
      "None\n"
     ]
    }
   ],
   "source": [
    "print(games.info())\n",
    "#Esta celda nos permite conocer desde el numero de filas, nombre de columnas, valores nulos y types."
   ]
  },
  {
   "cell_type": "code",
   "execution_count": 5,
   "metadata": {},
   "outputs": [
    {
     "name": "stdout",
     "output_type": "stream",
     "text": [
      "0\n"
     ]
    }
   ],
   "source": [
    "print(games.duplicated().sum())\n",
    "# Con esta instrucción buscamos filas duplicadas dentro del DF"
   ]
  },
  {
   "cell_type": "code",
   "execution_count": 6,
   "metadata": {},
   "outputs": [
    {
     "name": "stdout",
     "output_type": "stream",
     "text": [
      "Name                  2\n",
      "Platform              0\n",
      "Year_of_Release     269\n",
      "Genre                 2\n",
      "NA_sales              0\n",
      "EU_sales              0\n",
      "JP_sales              0\n",
      "Other_sales           0\n",
      "Critic_Score       8578\n",
      "User_Score         6701\n",
      "Rating             6766\n",
      "dtype: int64\n"
     ]
    }
   ],
   "source": [
    "print(games.isna().sum())\n",
    "# Con esta instrucción buscamos valores ausentes en el DF"
   ]
  },
  {
   "cell_type": "code",
   "execution_count": 7,
   "metadata": {},
   "outputs": [
    {
     "name": "stdout",
     "output_type": "stream",
     "text": [
      "0         1\n",
      "0.2       2\n",
      "0.3       2\n",
      "0.5       2\n",
      "0.6       2\n",
      "       ... \n",
      "9.5       6\n",
      "9.6       2\n",
      "9.7       1\n",
      "tbd    2424\n",
      "NaN    6701\n",
      "Name: User_Score, Length: 97, dtype: int64\n"
     ]
    }
   ],
   "source": [
    "print(games[\"User_Score\"].value_counts(dropna=False).sort_index())\n",
    "#Buscamos mas información en la columna \"user_score\" ya que es una de las columnas que contienen una gran cantidad\n",
    "#de valores nulos. "
   ]
  },
  {
   "cell_type": "code",
   "execution_count": 8,
   "metadata": {},
   "outputs": [
    {
     "name": "stdout",
     "output_type": "stream",
     "text": [
      "13.0       1\n",
      "17.0       1\n",
      "19.0       6\n",
      "20.0       3\n",
      "21.0       1\n",
      "        ... \n",
      "95.0      16\n",
      "96.0      18\n",
      "97.0      11\n",
      "98.0       4\n",
      "NaN     8578\n",
      "Name: Critic_Score, Length: 83, dtype: int64\n"
     ]
    }
   ],
   "source": [
    "print(games[\"Critic_Score\"].value_counts(dropna=False).sort_index())\n",
    "#Buscamos mas información en la columna \"critic_score\" ya que es una de las columnas que contienen una gran cantidad\n",
    "#de valores nulos. "
   ]
  },
  {
   "cell_type": "code",
   "execution_count": 9,
   "metadata": {},
   "outputs": [
    {
     "name": "stdout",
     "output_type": "stream",
     "text": [
      "NaN     6766\n",
      "E       3990\n",
      "T       2961\n",
      "M       1563\n",
      "E10+    1420\n",
      "EC         8\n",
      "K-A        3\n",
      "RP         3\n",
      "AO         1\n",
      "Name: Rating, dtype: int64\n"
     ]
    }
   ],
   "source": [
    "print(games[\"Rating\"].value_counts(dropna=False))\n",
    "#Buscamos mas información en la columna \"rating\" ya que es una de las columnas que contienen una gran cantidad\n",
    "#de valores nulos. "
   ]
  },
  {
   "cell_type": "markdown",
   "metadata": {},
   "source": [
    "## Preparación de los Datos."
   ]
  },
  {
   "cell_type": "code",
   "execution_count": 10,
   "metadata": {},
   "outputs": [],
   "source": [
    "new_column_names = {col: col.lower() for col in games.columns}\n",
    "games.rename(columns=new_column_names, inplace=True)\n",
    "#Con esta instrucción cambiamos los nombres de las columnas a minúsculas. "
   ]
  },
  {
   "cell_type": "code",
   "execution_count": 11,
   "metadata": {},
   "outputs": [
    {
     "name": "stdout",
     "output_type": "stream",
     "text": [
      "                       name platform  year_of_release         genre  na_sales  \\\n",
      "0                Wii Sports      Wii           2006.0        Sports     41.36   \n",
      "1         Super Mario Bros.      NES           1985.0      Platform     29.08   \n",
      "2            Mario Kart Wii      Wii           2008.0        Racing     15.68   \n",
      "3         Wii Sports Resort      Wii           2009.0        Sports     15.61   \n",
      "4  Pokemon Red/Pokemon Blue       GB           1996.0  Role-Playing     11.27   \n",
      "\n",
      "   eu_sales  jp_sales  other_sales  critic_score user_score rating  \n",
      "0     28.96      3.77         8.45          76.0          8      E  \n",
      "1      3.58      6.81         0.77           NaN        NaN    NaN  \n",
      "2     12.76      3.79         3.29          82.0        8.3      E  \n",
      "3     10.93      3.28         2.95          80.0          8      E  \n",
      "4      8.89     10.22         1.00           NaN        NaN    NaN  \n"
     ]
    }
   ],
   "source": [
    "print(games.head())\n",
    "#Se cumple el primer requerimiento, los nombres de las columnas están en minusculas."
   ]
  },
  {
   "cell_type": "code",
   "execution_count": 12,
   "metadata": {},
   "outputs": [],
   "source": [
    "games[\"year_date\"] = pd.to_datetime(games[\"year_of_release\"], format=\"%Y\")\n",
    "#creamos una nueva columna llamada year_date con el formato to_datetime."
   ]
  },
  {
   "cell_type": "code",
   "execution_count": 13,
   "metadata": {},
   "outputs": [],
   "source": [
    "games[\"user_score\"]=games['user_score'].replace('tbd', np.nan)\n",
    "#reemplazamos los valores tbd por nan con el fin de poder cambiar el tipo de datos en la columna. "
   ]
  },
  {
   "cell_type": "code",
   "execution_count": 14,
   "metadata": {},
   "outputs": [],
   "source": [
    "games['user_score'] = pd.to_numeric(games['user_score'])\n",
    "\n",
    "median_user_score = games['user_score'].median()\n",
    "\n",
    "games['user_score_median'] = games['user_score'].fillna(median_user_score)\n",
    "\n",
    "#llenamos los valores nan con la mediana de los valores de la misma columna. \n"
   ]
  },
  {
   "cell_type": "code",
   "execution_count": 15,
   "metadata": {},
   "outputs": [],
   "source": [
    "games[\"total_sales\"]= games[\"na_sales\"] + games[\"eu_sales\"] + games[\"jp_sales\"] + games[\"other_sales\"]\n",
    "\n",
    "#creamos una nueva columna con el nombre total_sales."
   ]
  },
  {
   "cell_type": "code",
   "execution_count": 16,
   "metadata": {},
   "outputs": [
    {
     "name": "stdout",
     "output_type": "stream",
     "text": [
      "                       name platform  year_of_release         genre  na_sales  \\\n",
      "0                Wii Sports      Wii           2006.0        Sports     41.36   \n",
      "1         Super Mario Bros.      NES           1985.0      Platform     29.08   \n",
      "2            Mario Kart Wii      Wii           2008.0        Racing     15.68   \n",
      "3         Wii Sports Resort      Wii           2009.0        Sports     15.61   \n",
      "4  Pokemon Red/Pokemon Blue       GB           1996.0  Role-Playing     11.27   \n",
      "\n",
      "   eu_sales  jp_sales  other_sales  critic_score  user_score rating  \\\n",
      "0     28.96      3.77         8.45          76.0         8.0      E   \n",
      "1      3.58      6.81         0.77           NaN         NaN    NaN   \n",
      "2     12.76      3.79         3.29          82.0         8.3      E   \n",
      "3     10.93      3.28         2.95          80.0         8.0      E   \n",
      "4      8.89     10.22         1.00           NaN         NaN    NaN   \n",
      "\n",
      "   year_date  user_score_median  total_sales  \n",
      "0 2006-01-01                8.0        82.54  \n",
      "1 1985-01-01                7.5        40.24  \n",
      "2 2008-01-01                8.3        35.52  \n",
      "3 2009-01-01                8.0        32.77  \n",
      "4 1996-01-01                7.5        31.38  \n"
     ]
    }
   ],
   "source": [
    "print(games.head())\n",
    "\n",
    "#imprimimos una muestra del df donde podemos observar las nuevas columnas: year_date, user_score_median y total_sales"
   ]
  },
  {
   "cell_type": "code",
   "execution_count": 17,
   "metadata": {},
   "outputs": [
    {
     "name": "stdout",
     "output_type": "stream",
     "text": [
      "<class 'pandas.core.frame.DataFrame'>\n",
      "RangeIndex: 16715 entries, 0 to 16714\n",
      "Data columns (total 14 columns):\n",
      " #   Column             Non-Null Count  Dtype         \n",
      "---  ------             --------------  -----         \n",
      " 0   name               16713 non-null  object        \n",
      " 1   platform           16715 non-null  object        \n",
      " 2   year_of_release    16446 non-null  float64       \n",
      " 3   genre              16713 non-null  object        \n",
      " 4   na_sales           16715 non-null  float64       \n",
      " 5   eu_sales           16715 non-null  float64       \n",
      " 6   jp_sales           16715 non-null  float64       \n",
      " 7   other_sales        16715 non-null  float64       \n",
      " 8   critic_score       8137 non-null   float64       \n",
      " 9   user_score         7590 non-null   float64       \n",
      " 10  rating             9949 non-null   object        \n",
      " 11  year_date          16446 non-null  datetime64[ns]\n",
      " 12  user_score_median  16715 non-null  float64       \n",
      " 13  total_sales        16715 non-null  float64       \n",
      "dtypes: datetime64[ns](1), float64(9), object(4)\n",
      "memory usage: 1.8+ MB\n",
      "None\n"
     ]
    }
   ],
   "source": [
    "print(games.info())\n",
    "#imprimimos la info del dataframe para observar el tipo de datos que tenemos en las columnas. "
   ]
  },
  {
   "cell_type": "markdown",
   "metadata": {},
   "source": [
    "### Conforme a las instrucciones:\n",
    "* Se colocaron los nombres de las columnas en minúsculas.\n",
    "* Se crearon dos columnas nuevas: year_date (datetime), user_score_median (float) y total_sales (float)\n",
    "* Los valores TBD fueron cambiados por valores NaN para poder convertirlos posteriormente a float, de igual manera para tener alternativas para manejar estos datos se creó la columna user_score_median donde se rellenaron los valores NaN con la mediana de las calificaciones.  \n",
    " "
   ]
  },
  {
   "cell_type": "markdown",
   "metadata": {},
   "source": [
    "## Análisis de Datos."
   ]
  },
  {
   "cell_type": "markdown",
   "metadata": {},
   "source": [
    "### ¿Cuántos juegos fueron lanzados en difentes años?\n",
    "Se puede observar un incremento significativo en la década de los 90s que encuentran su limite al llegar al año 2010; a partir de esa fecha se observa una caida hasta el 2016.\n",
    "\n",
    "Con una muestra que considera esta cantidad de años y de mercados, vale la pena observar no solo los periodos de expansión y contracción en la economía mundial, sino también el ciclo de vida de la industria donde podemos pensar que esta entrando en la fase de madurez o estabilidad, la cual usualmente es posterior al crecimiento observado entre el año 2000 al 2010"
   ]
  },
  {
   "cell_type": "code",
   "execution_count": 18,
   "metadata": {},
   "outputs": [
    {
     "data": {
      "text/plain": [
       "<AxesSubplot:xlabel='year_date'>"
      ]
     },
     "execution_count": 18,
     "metadata": {},
     "output_type": "execute_result"
    },
    {
     "data": {
      "image/png": "[encoded data removed]",
      "text/plain": [
       "<Figure size 640x480 with 1 Axes>"
      ]
     },
     "metadata": {},
     "output_type": "display_data"
    }
   ],
   "source": [
    "games.groupby(\"year_date\")[\"name\"].count().plot(kind=\"line\")"
   ]
  },
  {
   "cell_type": "markdown",
   "metadata": {},
   "source": [
    "### Observa cómo varían las ventas de una plataforma a otra. Elige las plataformas con las mayores ventas totales y construye una distribución basada en los datos de cada año. \n",
    "\n",
    "Podemos observar que si revisamos la cantidad de juegos, tanto PS2, DS, PS3, Wii, X360 son las plataformas que cuentan con la mayor cantidad de títulos disponibles, sin embargo, cuando filtramos por ventas totales observamos un cambio en el orden, doned si bien PS2 se mantiene como la plataforma con mas ventas, ahora x360 se ubica como la segunda mas relevante, seguido por PS3, Wii y DS.\n",
    "\n",
    "Resulta interesante hacer notar que todas las plataformas anteriormente mencionadas parecen encontrarse al final de su ciclo de vida, siendo interesante considerar las consolas \"sucesoras\" para análisis posteriores.   "
   ]
  },
  {
   "cell_type": "code",
   "execution_count": 19,
   "metadata": {},
   "outputs": [
    {
     "name": "stdout",
     "output_type": "stream",
     "text": [
      "['Wii' 'NES' 'GB' 'DS' 'X360' 'PS3' 'PS2' 'SNES' 'GBA' 'PS4' '3DS' 'N64'\n",
      " 'PS' 'XB' 'PC' '2600' 'PSP' 'XOne' 'WiiU' 'GC' 'GEN' 'DC' 'PSV' 'SAT'\n",
      " 'SCD' 'WS' 'NG' 'TG16' '3DO' 'GG' 'PCFX']\n"
     ]
    },
    {
     "data": {
      "text/plain": [
       "PS2     2161\n",
       "DS      2151\n",
       "PS3     1331\n",
       "Wii     1320\n",
       "X360    1262\n",
       "Name: platform, dtype: int64"
      ]
     },
     "execution_count": 19,
     "metadata": {},
     "output_type": "execute_result"
    }
   ],
   "source": [
    "print(games[\"platform\"].unique())\n",
    "games[\"platform\"].value_counts().head()"
   ]
  },
  {
   "cell_type": "code",
   "execution_count": 20,
   "metadata": {},
   "outputs": [
    {
     "data": {
      "text/plain": [
       "platform\n",
       "PS2     1255.77\n",
       "X360     971.42\n",
       "PS3      939.65\n",
       "Wii      907.51\n",
       "DS       806.12\n",
       "Name: total_sales, dtype: float64"
      ]
     },
     "execution_count": 20,
     "metadata": {},
     "output_type": "execute_result"
    }
   ],
   "source": [
    "games.groupby(\"platform\")[\"total_sales\"].sum().sort_values(ascending=False).head()"
   ]
  },
  {
   "cell_type": "code",
   "execution_count": 21,
   "metadata": {},
   "outputs": [
    {
     "data": {
      "image/png": "[encoded data removed]",
      "text/plain": [
       "<Figure size 1500x800 with 1 Axes>"
      ]
     },
     "metadata": {},
     "output_type": "display_data"
    }
   ],
   "source": [
    "top_5_platforms = games.groupby(\"platform\")[\"total_sales\"].sum().sort_values(ascending=False).head().index\n",
    "\n",
    "filtered_games = games[games[\"platform\"].isin(top_5_platforms)]\n",
    "\n",
    "grouped_data = filtered_games.groupby(['platform', 'year_date'])['total_sales'].sum().unstack()\n",
    "\n",
    "grouped_data.T.plot(kind='bar', stacked=True, figsize=(15, 8), colormap='tab20')\n",
    "\n",
    "plt.title(\"Distribución de Ventas Totales por Año para las 5 Principales Plataformas\")\n",
    "plt.xlabel(\"Año\")\n",
    "plt.ylabel(\"Ventas Totales\")\n",
    "plt.legend(title=\"Plataforma\")\n",
    "plt.show()\n",
    "\n"
   ]
  },
  {
   "cell_type": "markdown",
   "metadata": {},
   "source": [
    "### Plataformas que solian ser populares pero ya no lo son.\n",
    "\n",
    "Podemos observar que todas las plataformas contenidas en el top 10 de mayores ventas terminaron o estan terminando su ciclo de vida, motivo por el cual podemos considerar a PS, PS2, Wii, y X360 como los casos mas emblemáticos de plataformas que solian ser populares pero ya no lo son. "
   ]
  },
  {
   "cell_type": "code",
   "execution_count": 22,
   "metadata": {},
   "outputs": [
    {
     "data": {
      "image/png": "[encoded data removed]",
      "text/plain": [
       "<Figure size 1500x800 with 1 Axes>"
      ]
     },
     "metadata": {},
     "output_type": "display_data"
    }
   ],
   "source": [
    "top_10_platforms = games.groupby(\"platform\")[\"total_sales\"].sum().sort_values(ascending=False).head(10).index\n",
    "\n",
    "filtered_games = games[games[\"platform\"].isin(top_10_platforms)]\n",
    "\n",
    "grouped_data = filtered_games.groupby(['platform', 'year_date'])['total_sales'].sum().unstack()\n",
    "\n",
    "grouped_data.T.plot(kind='bar', stacked=True, figsize=(15, 8), colormap='tab20')\n",
    "\n",
    "plt.title(\"Distribución de Ventas Totales por Año para las 10 Principales Plataformas\")\n",
    "plt.xlabel(\"Año\")\n",
    "plt.ylabel(\"Ventas Totales\")\n",
    "plt.legend(title=\"Plataforma\")\n",
    "plt.show()"
   ]
  },
  {
   "cell_type": "markdown",
   "metadata": {},
   "source": [
    "### Ciclo de vida de las plataformas. \n",
    "\n",
    "Podemos observar que existieron plataformas que no duraron ni siquiera un año en el mercado (GG, PCXS y TG16), mientras que existen otras extremadamente longevas como el caso de la PC con 31 años, siendo el promedio de ciclo de vida 7.6 años. \n",
    "\n",
    "Considerando lo anterior y observando su año de primera venta podemos considerar que existen 4 plataformas cuyo ciclo de vida se encuentra plenamente vigente siendo estas:\n",
    "\n",
    "* PS4 con apenas 3 años en el mercado.\n",
    "* WiiU con 4 años en el mercado.\n",
    "* XOne con 3 años en el mercado. \n",
    "* PC que escapa de estos ciclos,sosteniendo su presencia desde el principio de los datos presentes en el análisis.\n",
    "\n",
    "En este punto vale la pena hacer una aclaración que resulta de gran valor para interpretar los datos en función de los años que se puedan consideren relevantes.\n",
    "\n",
    "Todas las industrias pasan por diferentes etapas, la etapa emergente o si consideramos el producto de introducción que en nuestros datos podrían considerarse desde 1980 a 1993 aproximadamente, una fase de crecimiento que puede ir de 1993 al 2010 y una fase de madurez o estabilidad que considera desde aproximadamente el 2011 al 2016 que es donde podemos asumir que se encuentra la industria, a pesar de lo cual recomendaría conocer mejor el ecosistema de negocios y especialmente los \"productos sustitutos\" y el estado de \"R&D\" para evaluar la capacidad predictiva de este periodo. \n",
    "\n",
    "Debido a lo anterior el rango de años que podemos considerar esta del 2011 al 2016, sin embargo no dejare de lado los años anteriores, ya que resulta interesante analizar a PC como la unica plataforma que ha estado presente desde el principio. \n",
    "\n",
    "Se considera adicionalmente un analisis de la generación anterior de las consolas consideradas como potenciales para observar su comportamiento y una posible ruta que puede seguir la nueva generación de plataformas. \n"
   ]
  },
  {
   "cell_type": "code",
   "execution_count": 23,
   "metadata": {},
   "outputs": [
    {
     "data": {
      "image/png": "[encoded data removed]",
      "text/plain": [
       "<Figure size 640x480 with 1 Axes>"
      ]
     },
     "metadata": {},
     "output_type": "display_data"
    }
   ],
   "source": [
    "filtered_games = games[games['platform'].isin([\"XOne\", \"WiiU\", \"PS4\", \"PC\"])]\n",
    "\n",
    "pivot_table = filtered_games.pivot_table(index=\"year_date\", columns=\"platform\", values=\"total_sales\", aggfunc=\"sum\")\n",
    "\n",
    "pivot_table.plot(kind=\"line\")\n",
    "\n",
    "plt.title('Ventas totales por año de las plataformas potenciales.')\n",
    "plt.xlabel('Year')\n",
    "plt.ylabel('Total Sales')\n",
    "plt.legend(title='Platform')\n",
    "plt.grid(True)\n",
    "plt.show()"
   ]
  },
  {
   "cell_type": "code",
   "execution_count": 24,
   "metadata": {},
   "outputs": [
    {
     "data": {
      "image/png": "[encoded data removed]",
      "text/plain": [
       "<Figure size 640x480 with 1 Axes>"
      ]
     },
     "metadata": {},
     "output_type": "display_data"
    }
   ],
   "source": [
    "filtered_games = games[games['platform'].isin([\"X360\", \"Wii\", \"PS3\", \"PC\"])]\n",
    "\n",
    "pivot_table = filtered_games.pivot_table(index=\"year_date\", columns=\"platform\", values=\"total_sales\", aggfunc=\"sum\")\n",
    "\n",
    "pivot_table.plot(kind=\"line\")\n",
    "\n",
    "plt.title('Ventas totales por año de las plataformas generación anterior.')\n",
    "plt.xlabel('Year')\n",
    "plt.ylabel('Total Sales')\n",
    "plt.legend(title='Platform')\n",
    "plt.grid(True)\n",
    "plt.show()"
   ]
  },
  {
   "cell_type": "code",
   "execution_count": 25,
   "metadata": {},
   "outputs": [
    {
     "name": "stdout",
     "output_type": "stream",
     "text": [
      "Duración de vida de cada plataforma (en años):\n",
      "   platform primera_venta ultima_venta  duracion\n",
      "0      2600    1980-01-01   1989-01-01         9\n",
      "1       3DO    1994-01-01   1995-01-01         1\n",
      "2       3DS    2011-01-01   2016-01-01         5\n",
      "3        DC    1998-01-01   2008-01-01        10\n",
      "4        DS    1985-01-01   2013-01-01        28\n",
      "5        GB    1988-01-01   2001-01-01        13\n",
      "6       GBA    2000-01-01   2007-01-01         7\n",
      "7        GC    2001-01-01   2007-01-01         6\n",
      "8       GEN    1990-01-01   1994-01-01         4\n",
      "9        GG    1992-01-01   1992-01-01         0\n",
      "10      N64    1996-01-01   2002-01-01         6\n",
      "11      NES    1983-01-01   1994-01-01        11\n",
      "12       NG    1993-01-01   1996-01-01         3\n",
      "13       PC    1985-01-01   2016-01-01        31\n",
      "14     PCFX    1996-01-01   1996-01-01         0\n",
      "15       PS    1994-01-01   2003-01-01         9\n",
      "16      PS2    2000-01-01   2011-01-01        11\n",
      "17      PS3    2006-01-01   2016-01-01        10\n",
      "18      PS4    2013-01-01   2016-01-01         3\n",
      "19      PSP    2004-01-01   2015-01-01        11\n",
      "20      PSV    2011-01-01   2016-01-01         5\n",
      "21      SAT    1994-01-01   1999-01-01         5\n",
      "22      SCD    1993-01-01   1994-01-01         1\n",
      "23     SNES    1990-01-01   1999-01-01         9\n",
      "24     TG16    1995-01-01   1995-01-01         0\n",
      "25       WS    1999-01-01   2001-01-01         2\n",
      "26      Wii    2006-01-01   2016-01-01        10\n",
      "27     WiiU    2012-01-01   2016-01-01         4\n",
      "28     X360    2005-01-01   2016-01-01        11\n",
      "29       XB    2000-01-01   2008-01-01         8\n",
      "30     XOne    2013-01-01   2016-01-01         3\n",
      "\n",
      "7.612903225806452\n"
     ]
    }
   ],
   "source": [
    "primera_venta = games.groupby('platform')['year_date'].min().reset_index()\n",
    "ultima_venta = games.groupby('platform')['year_date'].max().reset_index()\n",
    "\n",
    "tiempo_vida = pd.merge(primera_venta, ultima_venta, on='platform')\n",
    "tiempo_vida.columns = ['platform', 'primera_venta', 'ultima_venta']\n",
    "\n",
    "tiempo_vida['duracion'] = tiempo_vida['ultima_venta'].dt.year - tiempo_vida['primera_venta'].dt.year\n",
    "\n",
    "print(\"Duración de vida de cada plataforma (en años):\")\n",
    "print(tiempo_vida)\n",
    "\n",
    "duracion_media = tiempo_vida['duracion'].mean()\n",
    "\n",
    "print()\n",
    "\n",
    "print(duracion_media)"
   ]
  },
  {
   "cell_type": "markdown",
   "metadata": {},
   "source": [
    "### Plataformas potencialmente rentables. "
   ]
  },
  {
   "cell_type": "markdown",
   "metadata": {},
   "source": [
    "#### Para poder responder esta pregunta se solicita conocer:\n",
    "* Plataformas líderes en ventas: \n",
    "\n",
    "Cuando observamos las plataformas con mayor número de ventas podemos observar que en el top 5 encontramos plataformas de generaciones pasadas que ya cumplieron su ciclo de vida, así como plataformas portátiles. en el top 10 encontramos a dos plataformas potenciales como PS4 y PC, y debemos ir al top20 para encontrar al XOne y WiiU.  \n",
    "\n",
    "* Conocer su comportamiento: cuales crecen en ventas y cuales se reducen:\n",
    "\n",
    "Considerando lo anterior, así como la aclaración respecto a que los datos de 2016 pueden estar incompletos y observando la gráfica \"Ventas totales por año de las plataformas potenciales\", podemos observar que la mayoría de las plataformas con mayores ventas ya terminaron su ciclo de vida y la última generación puede estar comenzando su declive (con alta probabilidad no tan marcado como aparece en esta gráfica) en espera de una siguiente generación. "
   ]
  },
  {
   "cell_type": "code",
   "execution_count": 26,
   "metadata": {},
   "outputs": [
    {
     "data": {
      "text/plain": [
       "platform\n",
       "PS2     1255.77\n",
       "X360     971.42\n",
       "PS3      939.65\n",
       "Wii      907.51\n",
       "DS       806.12\n",
       "PS       730.86\n",
       "GBA      317.85\n",
       "PS4      314.14\n",
       "PSP      294.05\n",
       "PC       259.52\n",
       "3DS      259.00\n",
       "XB       257.74\n",
       "GB       255.46\n",
       "NES      251.05\n",
       "N64      218.68\n",
       "SNES     200.04\n",
       "GC       198.93\n",
       "XOne     159.32\n",
       "2600      96.98\n",
       "WiiU      82.19\n",
       "Name: total_sales, dtype: float64"
      ]
     },
     "execution_count": 26,
     "metadata": {},
     "output_type": "execute_result"
    }
   ],
   "source": [
    "games.groupby(\"platform\")[\"total_sales\"].sum().sort_values(ascending=False).head(20)"
   ]
  },
  {
   "cell_type": "markdown",
   "metadata": {},
   "source": [
    "### Ventas globales de juegos por plataforma. \n",
    "\n",
    "Para revisar las ventas globales de juegos por plataforma se realizan 2 boxplots, uno con las principales plataformas de ventas que no considera su ciclo de vida, y otra con las plataformas que son potenciales actualmente. \n",
    "\n",
    "Podemos observar que si bien en el boxplot general PS4 no tiene una posición favorecida, cuando acotamos a las plataformas actuales es sin duda la que mayor cantidad de ventas tiene, seguido de XBox One. "
   ]
  },
  {
   "cell_type": "code",
   "execution_count": 27,
   "metadata": {},
   "outputs": [
    {
     "data": {
      "image/png": "[encoded data removed]",
      "text/plain": [
       "<Figure size 640x480 with 1 Axes>"
      ]
     },
     "metadata": {},
     "output_type": "display_data"
    }
   ],
   "source": [
    "filtered_games = games.query(\"year_date > '1993-01-01'\")\n",
    "\n",
    "filtered_games = filtered_games[filtered_games['platform'].isin([\"PS\",\"PS2\",\"PS3\",\"PS4\",\"PSP\", \"Wii\",\"Wii\", \"DS\", \"GBA\", \"X360\", \"XOne\", \"PC\"])]\n",
    "\n",
    "sales_by_year = filtered_games.groupby([\"year_date\", \"platform\"])[\"total_sales\"].sum().reset_index()\n",
    "\n",
    "\n",
    "sales_by_year.boxplot(column=\"total_sales\", by=\"platform\")\n",
    "plt.title('Total Sales by Platform')\n",
    "plt.suptitle('') \n",
    "plt.xlabel('Platform')\n",
    "plt.ylabel('Total Sales')\n",
    "plt.show()"
   ]
  },
  {
   "cell_type": "code",
   "execution_count": 28,
   "metadata": {},
   "outputs": [
    {
     "data": {
      "image/png": "[encoded data removed]",
      "text/plain": [
       "<Figure size 640x480 with 1 Axes>"
      ]
     },
     "metadata": {},
     "output_type": "display_data"
    }
   ],
   "source": [
    "filtered_games = games.query(\"year_date > '2013-01-01'\")\n",
    "\n",
    "filtered_games = filtered_games[filtered_games['platform'].isin([\"XOne\", \"WiiU\", \"PS4\", \"PC\"])]\n",
    "\n",
    "sales_by_year = filtered_games.groupby([\"year_date\", \"platform\"])[\"total_sales\"].sum().reset_index()\n",
    "\n",
    "\n",
    "sales_by_year.boxplot(column=\"total_sales\", by=\"platform\")\n",
    "plt.title('Total Sales by Platform')\n",
    "plt.suptitle('') \n",
    "plt.xlabel('Platform')\n",
    "plt.ylabel('Total Sales')\n",
    "plt.show()"
   ]
  },
  {
   "cell_type": "markdown",
   "metadata": {},
   "source": [
    "### Correlación entre reseñas y ventas. \n",
    "\n",
    "Se usa la plataforma PS4 por su potencial para ser rentable y se realiza un gráfico de dispersión, tanto para observar como se correlacionan sus ventas con el score de los críticos como con el de los usuarios, además de calcular la correlación.\n",
    "\n",
    "Los resultados arrojan que existe una correlación debil con el score de los críticos, pero no existe una correlación entre las ventas y el score que asignan los usuarios. \n",
    "\n",
    "De cualquier manera en ambos casos seria deseable contar con valores mas precisos en las columnas user_score y critic_score, ya que aunque se solucionaron los problemas iniciales, estas soluciones no dejan de presentar sesgos importantes. "
   ]
  },
  {
   "cell_type": "code",
   "execution_count": 46,
   "metadata": {},
   "outputs": [
    {
     "data": {
      "image/png": "[encoded data removed]",
      "text/plain": [
       "<Figure size 1400x600 with 2 Axes>"
      ]
     },
     "metadata": {},
     "output_type": "display_data"
    },
    {
     "name": "stdout",
     "output_type": "stream",
     "text": [
      "Correlación entre Critic Score y Total Sales (PS4): 0.40656790206178095\n",
      "Correlación entre User Score y Total Sales (PS4): -0.06275557891282788\n"
     ]
    }
   ],
   "source": [
    "ps4_games = games[games['platform'] == 'PS4']\n",
    "\n",
    "plt.figure(figsize=(14, 6))\n",
    "\n",
    "plt.subplot(1, 2, 1)\n",
    "sns.scatterplot(data=ps4_games, x='critic_score', y='total_sales', alpha=0.5)\n",
    "plt.title('Critic Score vs Total Sales (PS4)')\n",
    "plt.xlabel('Critic Score')\n",
    "plt.ylabel('Total Sales (millions)')\n",
    "plt.grid(True)\n",
    "\n",
    "plt.subplot(1, 2, 2)\n",
    "sns.scatterplot(data=ps4_games, x='user_score_median', y='total_sales', alpha=0.5)\n",
    "plt.title('User Score vs Total Sales (PS4)')\n",
    "plt.xlabel('User Score')\n",
    "plt.ylabel('Total Sales (millions)')\n",
    "plt.grid(True)\n",
    "\n",
    "plt.tight_layout()\n",
    "plt.show()\n",
    "\n",
    "\n",
    "correlation_critic = ps4_games['critic_score'].corr(ps4_games['total_sales'])\n",
    "correlation_user = ps4_games['user_score_median'].corr(ps4_games['total_sales'])\n",
    "\n",
    "print(f\"Correlación entre Critic Score y Total Sales (PS4): {correlation_critic:}\")\n",
    "print(f\"Correlación entre User Score y Total Sales (PS4): {correlation_user:}\")"
   ]
  },
  {
   "cell_type": "markdown",
   "metadata": {},
   "source": [
    "### Comparativa de Juegos en diversas plataformas. \n",
    "\n",
    "Podemos observar que en 7 de los 10 casos en los que comparamos juegos que tienen versiones para diferentes plataformas, PS4 tiene la mayor cantidad de ventas, "
   ]
  },
  {
   "cell_type": "code",
   "execution_count": 45,
   "metadata": {},
   "outputs": [
    {
     "data": {
      "image/png": "[encoded data removed]",
      "text/plain": [
       "<Figure size 1400x800 with 1 Axes>"
      ]
     },
     "metadata": {},
     "output_type": "display_data"
    }
   ],
   "source": [
    "ps4_games_names = ps4_games['name'].unique()\n",
    "\n",
    "other_platforms_games = games[games['name'].isin(ps4_games_names) & (games['platform'] != 'ps4')]\n",
    "\n",
    "combined_data = pd.concat([ps4_games, other_platforms_games])\n",
    "\n",
    "ventas_por_juego_y_plataforma = combined_data.groupby(['name', 'platform'])['total_sales'].sum().reset_index()\n",
    "\n",
    "top_10_games = ventas_por_juego_y_plataforma.groupby('name')['total_sales'].sum().nlargest(10).index\n",
    "top_10_data = ventas_por_juego_y_plataforma[ventas_por_juego_y_plataforma['name'].isin(top_10_games)]\n",
    "\n",
    "plt.figure(figsize=(14, 8))\n",
    "sns.barplot(x='total_sales', y='name', hue='platform', data=top_10_data, dodge=True)\n",
    "plt.title('Comparación de ventas en diferentes plataformas')\n",
    "plt.xlabel('Ventas totales')\n",
    "plt.ylabel('Juego')\n",
    "plt.legend(title='Plataforma')\n",
    "plt.grid(True)\n",
    "plt.show()"
   ]
  },
  {
   "cell_type": "markdown",
   "metadata": {},
   "source": [
    "### Géneros más rentables. \n",
    "\n",
    "Los géneros mas rentables parecen ser: Plataform, Shooter, Sports y Figthing.  "
   ]
  },
  {
   "cell_type": "code",
   "execution_count": 30,
   "metadata": {},
   "outputs": [
    {
     "name": "stdout",
     "output_type": "stream",
     "text": [
      "count    16715.000000\n",
      "mean         0.533396\n",
      "std          1.548261\n",
      "min          0.000000\n",
      "0%           0.000000\n",
      "10%          0.020000\n",
      "20%          0.050000\n",
      "30%          0.080000\n",
      "40%          0.110000\n",
      "50%          0.170000\n",
      "60%          0.250000\n",
      "70%          0.380000\n",
      "80%          0.600000\n",
      "90%          1.206000\n",
      "95%          2.040000\n",
      "99%          5.467200\n",
      "100%        82.540000\n",
      "max         82.540000\n",
      "Name: total_sales, dtype: float64\n"
     ]
    }
   ],
   "source": [
    "percentiles = np.linspace(0, 1, 11).tolist() + [0.95, 0.99]\n",
    "\n",
    "sales_description = games[\"total_sales\"].describe(percentiles=percentiles)\n",
    "\n",
    "print(sales_description)\n"
   ]
  },
  {
   "cell_type": "code",
   "execution_count": 50,
   "metadata": {},
   "outputs": [
    {
     "data": {
      "image/png": "[encoded data removed]",
      "text/plain": [
       "<Figure size 640x480 with 1 Axes>"
      ]
     },
     "metadata": {},
     "output_type": "display_data"
    }
   ],
   "source": [
    "games_wo = games.query(\"total_sales < 5.467200\")\n",
    "\n",
    "games_wo.boxplot(\n",
    "    column=\"total_sales\",\n",
    "    by=\"genre\",\n",
    ")\n",
    "plt.ylim(0, 2)\n",
    "plt.xticks(rotation=45)\n",
    "plt.show()"
   ]
  },
  {
   "cell_type": "markdown",
   "metadata": {},
   "source": [
    "## Perfil de Usuarios por Región."
   ]
  },
  {
   "cell_type": "markdown",
   "metadata": {},
   "source": [
    "### Perfiles de usuarios por región en base a las plataformas, géneros y ratings más populares. "
   ]
  },
  {
   "cell_type": "code",
   "execution_count": 32,
   "metadata": {},
   "outputs": [
    {
     "data": {
      "image/png": "[encoded data removed]",
      "text/plain": [
       "<Figure size 1500x400 with 3 Axes>"
      ]
     },
     "metadata": {},
     "output_type": "display_data"
    },
    {
     "data": {
      "image/png": "[encoded data removed]",
      "text/plain": [
       "<Figure size 1500x400 with 3 Axes>"
      ]
     },
     "metadata": {},
     "output_type": "display_data"
    },
    {
     "data": {
      "image/png": "[encoded data removed]",
      "text/plain": [
       "<Figure size 1500x400 with 3 Axes>"
      ]
     },
     "metadata": {},
     "output_type": "display_data"
    },
    {
     "data": {
      "image/png": "[encoded data removed]",
      "text/plain": [
       "<Figure size 1500x400 with 3 Axes>"
      ]
     },
     "metadata": {},
     "output_type": "display_data"
    }
   ],
   "source": [
    "for region in [\"na_sales\", \"eu_sales\", \"jp_sales\", \"other_sales\"]:\n",
    "\n",
    "    fig, axes = plt.subplots(ncols=3, nrows=1, figsize=(15, 4))\n",
    "\n",
    "    sales_by_platform = games.groupby(\"platform\")[region].sum()\n",
    "    top_5_patforms = sales_by_platform.sort_values().tail(5).reset_index()\n",
    "    top_5_patforms[\"market_share\"] = top_5_patforms[region] / sales_by_platform.sum()\n",
    "    \n",
    "    top_5_genres = games.groupby(\"genre\")[region].sum().sort_values().tail(5).reset_index()\n",
    "    \n",
    "    top_5_ratings= games.groupby(\"rating\")[region].sum().sort_values().tail(5).reset_index()\n",
    "\n",
    "    fig.suptitle(f\"Profiles in region {region}\", y=0.96)\n",
    "\n",
    "    axes[0].set_title(\"Market Share in top 5 platforms\")\n",
    "    top_5_patforms.plot(kind=\"bar\", x=\"platform\", y=\"market_share\", ax=axes[0])\n",
    "\n",
    "    axes[1].set_title(\"Sales in top 5 Genres\")\n",
    "    top_5_genres.plot(kind=\"bar\", x=\"genre\", y=region, ax=axes[1], color=\"orange\")\n",
    "    \n",
    "    axes[2].set_title(\"Sales in top 5 Ratings\")\n",
    "    top_5_ratings.plot(kind=\"bar\", x= \"rating\", y= region, ax=axes[2], color=\"green\")\n",
    "    \n",
    "    fig.tight_layout(pad=1)\n",
    "\n"
   ]
  },
  {
   "cell_type": "markdown",
   "metadata": {},
   "source": [
    "### Conclusiones de los perfiles por región.\n",
    "\n",
    "* Respecto a la región de Norte América\n",
    "\n",
    "Al considerar las ventas totales y su cuota de mercado (market share) podemos observar que hay dos plataformas de Sony, lo que nos permite inferir una preferencia para las consolas de sony y por lo tanto para PS4 como la plataforma que puede tener el mayor \"market share\" en la última generación. \n",
    "\n",
    "Respecto al género, es muy claro que aquellos videojuegos de acción tienen preferencia sobre los demás, teniendo en segundo lugar a los juegos de deportes. \n",
    "\n",
    "Respecto al rating, la clasificación de mayor venta fue E (Everyone) tiene una mayor preferencia.\n",
    "\n",
    "* Respecto a la región de Europa.\n",
    "\n",
    "De nuevo se observa una preferencia por las consolas de Sony (PS, PS2 y PS3 aparecen en el top 5) por lo que podemos inferir que PS4 será la plataforma de mayor cuota de mercado de la nueva generación. \n",
    "\n",
    "Respecto al género, de nuevo los videojuegos de acción tienen preferecia sobre los demas, y de igual manera el segundo lugar lo obtienene los juegos de deportes. \n",
    "\n",
    "El rating E (Everyone) tiene la mayor preferencia en este mercado. \n",
    "\n",
    "* Respecto a la región Japón.\n",
    "\n",
    "Es interesante observar que dos consolas portátiles de nintendo se encuentran en el top 5 (SNES, DS y 3DS)\n",
    "\n",
    "El género dominante es el de los juegos de rol\n",
    "\n",
    "Mientras que el rating E (Everyone) se mantiene como el dominante también en esta región.\n",
    "\n",
    "* Respecto a la región \"Otros paises\"\n",
    "\n",
    "Las plataformas más populares son 2 de Sony (PS2 y PS3) \n",
    "\n",
    "El género de acción es el más popular, seguido por los deportes.\n",
    "\n",
    "La clasificación mas popular, al igual que en el resto de regiones es E (Everyone)\n"
   ]
  },
  {
   "cell_type": "markdown",
   "metadata": {},
   "source": [
    "#### Las cinco plataformas principales. Describe las variaciones en sus cuotas de mercado de una región a otra.\n",
    "\n",
    "En todas las regiones excepto Japón parece existir una preferencia por las consolas de Sony, seguido por la consola de Microsoft X360.\n",
    "\n",
    "En Japón se observa no solo un cambio en la preferencia hacia las plataformas de Nintendo, pero también por aquellas definidas como portátiles (3DS y DS)\n",
    "\n",
    "#### Los cinco géneros principales. Explica la diferencia.\n",
    "\n",
    "Los generos de acción y deportes se mantienen en el primer y segundo lugar de preferencias respectivamente en todas las regiones excepto en Japón, donde ocupan el segundo y tercer lugar, dejando el primer lugar para los juegos de rol. \n",
    "\n",
    "#### Si las clasificaciones de ESRB afectan a las ventas en regiones individuales.\n",
    "\n",
    "Las clasificaciones se mantienen estables con una alta coincidencia entre las regiones, siendo la clasificacion E la dominante en todas las regiones, seguidas por M, T y E10+.\n",
    "\n",
    "No parece existir una afectación en las ventas por las clasificaciones en ninguna región, pareciera mas una tendencia global. "
   ]
  },
  {
   "cell_type": "markdown",
   "metadata": {},
   "source": [
    "## Pruebas de Hipótesis. "
   ]
  },
  {
   "cell_type": "markdown",
   "metadata": {},
   "source": [
    "### Calificaciones promedio de los usuarios para las plataformas Xbox One y PC son las mismas"
   ]
  },
  {
   "cell_type": "code",
   "execution_count": 33,
   "metadata": {},
   "outputs": [
    {
     "name": "stdout",
     "output_type": "stream",
     "text": [
      "Valor p: 0.9929649852182456\n"
     ]
    }
   ],
   "source": [
    "from scipy.stats import levene\n",
    "\n",
    "XOne_User_Score = games[games[\"platform\"] == \"XOne\"][\"user_score_median\"].dropna()\n",
    "PC_User_Score = games[games[\"platform\"] == \"PC\"][\"user_score_median\"].dropna()\n",
    "\n",
    "# Realizar la prueba de Levene\n",
    "statistic, p_value = levene(XOne_User_Score, PC_User_Score)\n",
    "\n",
    "# Mostrar el valor p\n",
    "print(\"Valor p:\", p_value)\n",
    "alpha=0.05 \n",
    "\n",
    "\n"
   ]
  },
  {
   "cell_type": "code",
   "execution_count": 34,
   "metadata": {},
   "outputs": [
    {
     "name": "stdout",
     "output_type": "stream",
     "text": [
      "Valor p: 0.00010123955107193582\n"
     ]
    }
   ],
   "source": [
    "from scipy.stats import ttest_ind\n",
    "\n",
    "XOne_User_Score = games[games[\"platform\"] == \"XOne\"][\"user_score_median\"].dropna()\n",
    "PC_User_Score = games[games[\"platform\"] == \"PC\"][\"user_score_median\"].dropna()\n",
    "\n",
    "statistic, p_value = ttest_ind(\n",
    "    XOne_User_Score,\n",
    "    PC_User_Score,\n",
    "    equal_var=True\n",
    ")\n",
    "\n",
    "statistic, p_value\n",
    "\n",
    "print(\"Valor p:\", p_value)\n",
    "alpha=0.05 \n",
    "\n"
   ]
  },
  {
   "cell_type": "markdown",
   "metadata": {},
   "source": [
    "#### Para desarrollar la prueba de hipótesis que nos permita saber si las calificaciones promedio de los usuarios para las plataformas Xbox One y PC son las mismas usamos una prueba de Levene para conocer si las varianzas muestran diferencia estadística y una prueba de T test o T de Student usando un valor alpha de 0.05 y formulando las hipótesis de la siguiente manera:\n",
    "\n",
    "* Hipótesis Nula: El promedio de las calificaciones de los usuarios en las plataformas Xbox One y PC No tienen una diferente significativa. \n",
    "\n",
    "* Hipótesis Alternativa: El promedio de las calificaciones de los usuarios en las plataformas Xbox One y PC tienen una diferente significativa. \n",
    "\n",
    "#### Los resultados son los siguientes:\n",
    "\n",
    "* La prueba de levene arrojo un resultado de 0.99 lo cual nos permite concluir que no hay evidencia para negar que las varianzas sean diferentes, lo cual nos permite definir este valor para la prueba de ttest_ind.\n",
    "\n",
    "* La prueba T Test arrojo un valor p=0.0001 lo cual nos permite concluir que se rechaza la hipótesis nula y se acepta la hipótesis alternativa, definiendo con esto que existe evidencia de una diferencia estadística entre las calificaciones promedio de Xbox One y PC. "
   ]
  },
  {
   "cell_type": "markdown",
   "metadata": {},
   "source": [
    "### Calificaciones promedio de los usuarios para los géneros de Acción y Deportes son diferentes."
   ]
  },
  {
   "cell_type": "code",
   "execution_count": 35,
   "metadata": {},
   "outputs": [
    {
     "name": "stdout",
     "output_type": "stream",
     "text": [
      "Valor p: 0.6828105166182066\n"
     ]
    }
   ],
   "source": [
    "from scipy.stats import levene\n",
    "\n",
    "Action_User_Score = games[games[\"genre\"] == \"Action\"][\"user_score_median\"].dropna()\n",
    "Sports_User_Score = games[games[\"genre\"] == \"Sports\"][\"user_score_median\"].dropna()\n",
    "\n",
    "# Realizar la prueba de Levene\n",
    "statistic, p_value = levene(Action_User_Score, Sports_User_Score)\n",
    "\n",
    "# Mostrar el valor p\n",
    "print(\"Valor p:\", p_value)\n",
    "alpha=0.05 "
   ]
  },
  {
   "cell_type": "code",
   "execution_count": 36,
   "metadata": {},
   "outputs": [
    {
     "name": "stdout",
     "output_type": "stream",
     "text": [
      "Valor p: 0.7131417795320426\n"
     ]
    }
   ],
   "source": [
    "from scipy.stats import ttest_ind\n",
    "\n",
    "Action_User_Score = games[games[\"genre\"] == \"Action\"][\"user_score_median\"].dropna()\n",
    "Sports_User_Score = games[games[\"genre\"] == \"Sports\"][\"user_score_median\"].dropna()\n",
    "\n",
    "statistic, p_value = ttest_ind(\n",
    "    Action_User_Score,\n",
    "    Sports_User_Score,\n",
    "    equal_var=True\n",
    ")\n",
    "\n",
    "statistic, p_value\n",
    "\n",
    "print(\"Valor p:\", p_value)\n",
    "alpha=0.05 "
   ]
  },
  {
   "cell_type": "markdown",
   "metadata": {},
   "source": [
    "#### Para desarrollar la prueba de hipótesis que nos permita saber si las calificaciones promedio de los usuarios para los géneros de Acción y Deportes son las mismas usamos una prueba de Levene para conocer si las varianzas muestran diferencia estadística y una prueba de  T test o T de Student usando un valor alpha de 0.05 y formulando las hipótesis de la siguiente manera:\n",
    "\n",
    "* Hipótesis Nula: El promedio de las calificaciones de los usuarios en los géneros de acción y deportes No tienen una diferente significativa. \n",
    "\n",
    "* Hipótesis Alternativa: El promedio de las calificaciones de los usuarios en los géneros de acción y deportes tienen una diferente significativa. \n",
    "\n",
    "#### Los resultados son los siguientes:\n",
    "\n",
    "* La prueba de levene arrojo un resultado de 0.68 lo cual nos permite concluir que no hay evidencia para negar que las varianzas sean diferentes, lo cual nos permite definir este valor para la prueba de ttest_ind.\n",
    "\n",
    "* La prueba T Test arrojo un valor p=0.7131 lo cual nos permite concluir que se acepta la hipótesis nula, definiendo con esto que No existe evidencia de una diferencia estadística entre las calificaciones promedio de los géneros Action y Sports. "
   ]
  },
  {
   "cell_type": "markdown",
   "metadata": {},
   "source": [
    "## Conclusiones Generales."
   ]
  },
  {
   "cell_type": "markdown",
   "metadata": {},
   "source": [
    "### Respecto a la información general del DF.\n",
    "\n",
    "Llama mucho la atención la cantidad de valores nulos en diferentes columnas y la aparición de los valores TBD, los \n",
    "cuales fueron convertidos a NaN y posteriomente rellenados con la mediana para poder hacer los cálculos necesarios.\n",
    "\n",
    "Entiendo que debemos buscar soluciones ante estas eventualidades, e incluso complementar con otros DF que encontremos \n",
    "sin embargo, me hace pensar respecto a la necesidad de prevenir estas situaciones para desarrollar un análisis más\n",
    "preciso. \n",
    "\n",
    "### Respecto a la prepación de los datos.\n",
    "\n",
    "Con el fin de no modificar de forma irreversible la información provista, se crearon 3 nuevas columas para el DF\n",
    "que permitan mantener la información original y modificar esta para facilitar los análisis posteriores. \n",
    "\n",
    "\n",
    "### Respecto al Análsis de los datos.\n",
    "\n",
    "Resulta interesante tener un volumen de datos tan amplio, ya que permite evaluar la industria desde una perspectiva que general que facilita un análisis estratégico de mayor calidad. \n",
    "\n",
    "Por otro lado creo que los datos incompletos del año 2016 y el ciclo de vida de las plataformas de ultima generación hacen que tengamos que revisar los comportamientos previos para observar tendencias que faciliten el análisis.\n",
    "\n",
    "### Respecto al Perfil de Usuarios por Región.\n",
    "\n",
    "Llamo mi atención que exista un dominio tan evidente de los generos de acción y deportes, así como de la clasificación E en los videojuegos, lo cual permite cierta capacidad predictiva respecto al tipo de juego y clasificación que será un exito en ventas, respecto a la plataforma no es ninguna sopresa encontrar a Sony, Microsoft y Nintendo, pero si me pareció relevante que en Japón existan dos plataformas móviles en el top 5. \n",
    "\n",
    "### Respecto a las Pruebas de Hipótesis. \n",
    "\n",
    "En ambos casos, previo a la prueba ttest_ind se realizo la prueba de levene para poder conocer si existian diferencias estadísticas entre las varianzas, permitiendo con esto realizar la prueba para revisar las medias de los grupos de una manera más precisa. \n"
   ]
  }
 ],
 "metadata": {
  "ExecuteTimeLog": [
   {
    "duration": 534,
    "start_time": "2024-05-27T22:23:25.569Z"
   },
   {
    "duration": 1171,
    "start_time": "2024-05-27T22:23:26.108Z"
   },
   {
    "duration": 0,
    "start_time": "2024-05-27T22:23:27.283Z"
   },
   {
    "duration": 5,
    "start_time": "2024-05-27T22:25:19.736Z"
   },
   {
    "duration": 122,
    "start_time": "2024-05-27T22:25:20.626Z"
   },
   {
    "duration": 52,
    "start_time": "2024-05-27T22:25:54.154Z"
   },
   {
    "duration": 15,
    "start_time": "2024-05-27T22:25:58.102Z"
   },
   {
    "duration": 21,
    "start_time": "2024-05-27T22:28:15.835Z"
   },
   {
    "duration": 30,
    "start_time": "2024-05-27T22:29:02.961Z"
   },
   {
    "duration": 19,
    "start_time": "2024-05-27T22:29:28.286Z"
   },
   {
    "duration": 21,
    "start_time": "2024-05-27T22:29:49.587Z"
   },
   {
    "duration": 5,
    "start_time": "2024-05-27T22:34:10.239Z"
   },
   {
    "duration": 11,
    "start_time": "2024-05-27T22:34:31.389Z"
   },
   {
    "duration": 18,
    "start_time": "2024-05-27T22:36:07.176Z"
   },
   {
    "duration": 5,
    "start_time": "2024-05-27T22:36:25.255Z"
   },
   {
    "duration": 15,
    "start_time": "2024-05-27T22:40:26.634Z"
   },
   {
    "duration": 1124,
    "start_time": "2024-05-27T22:42:25.066Z"
   },
   {
    "duration": 94,
    "start_time": "2024-05-27T22:45:05.647Z"
   },
   {
    "duration": 6,
    "start_time": "2024-05-27T22:47:03.260Z"
   },
   {
    "duration": 5,
    "start_time": "2024-05-27T22:47:21.702Z"
   },
   {
    "duration": 6,
    "start_time": "2024-05-27T22:48:43.119Z"
   },
   {
    "duration": 5,
    "start_time": "2024-05-27T22:48:53.845Z"
   },
   {
    "duration": 14,
    "start_time": "2024-05-27T22:50:16.536Z"
   },
   {
    "duration": 5,
    "start_time": "2024-05-27T22:50:30.877Z"
   },
   {
    "duration": 3,
    "start_time": "2024-05-27T22:51:31.632Z"
   },
   {
    "duration": 38,
    "start_time": "2024-05-27T22:51:31.640Z"
   },
   {
    "duration": 11,
    "start_time": "2024-05-27T22:51:31.680Z"
   },
   {
    "duration": 22,
    "start_time": "2024-05-27T22:51:31.694Z"
   },
   {
    "duration": 5,
    "start_time": "2024-05-27T22:51:31.720Z"
   },
   {
    "duration": 16,
    "start_time": "2024-05-27T22:51:31.728Z"
   },
   {
    "duration": 6,
    "start_time": "2024-05-27T22:51:31.747Z"
   },
   {
    "duration": 52,
    "start_time": "2024-05-27T22:51:31.756Z"
   },
   {
    "duration": 6,
    "start_time": "2024-05-27T22:51:31.812Z"
   },
   {
    "duration": 13,
    "start_time": "2024-05-27T22:51:31.822Z"
   },
   {
    "duration": 6,
    "start_time": "2024-05-27T22:51:31.838Z"
   },
   {
    "duration": 6,
    "start_time": "2024-05-27T22:51:31.847Z"
   },
   {
    "duration": 3,
    "start_time": "2024-05-27T22:55:05.818Z"
   },
   {
    "duration": 39,
    "start_time": "2024-05-27T22:55:05.825Z"
   },
   {
    "duration": 12,
    "start_time": "2024-05-27T22:55:05.866Z"
   },
   {
    "duration": 42,
    "start_time": "2024-05-27T22:55:05.882Z"
   },
   {
    "duration": 5,
    "start_time": "2024-05-27T22:55:05.928Z"
   },
   {
    "duration": 17,
    "start_time": "2024-05-27T22:55:05.937Z"
   },
   {
    "duration": 6,
    "start_time": "2024-05-27T22:55:05.958Z"
   },
   {
    "duration": 62,
    "start_time": "2024-05-27T22:55:05.967Z"
   },
   {
    "duration": 0,
    "start_time": "2024-05-27T22:55:06.032Z"
   },
   {
    "duration": 0,
    "start_time": "2024-05-27T22:55:06.035Z"
   },
   {
    "duration": 0,
    "start_time": "2024-05-27T22:55:06.037Z"
   },
   {
    "duration": 7,
    "start_time": "2024-05-27T22:58:06.483Z"
   },
   {
    "duration": 7,
    "start_time": "2024-05-27T22:58:07.504Z"
   },
   {
    "duration": 18,
    "start_time": "2024-05-27T22:58:07.834Z"
   },
   {
    "duration": 6,
    "start_time": "2024-05-27T22:58:08.264Z"
   },
   {
    "duration": 4,
    "start_time": "2024-06-06T18:59:37.363Z"
   },
   {
    "duration": 480,
    "start_time": "2024-06-06T18:59:58.970Z"
   },
   {
    "duration": 3,
    "start_time": "2024-06-06T19:00:03.816Z"
   },
   {
    "duration": 61,
    "start_time": "2024-06-06T19:00:03.823Z"
   },
   {
    "duration": 16,
    "start_time": "2024-06-06T19:00:03.886Z"
   },
   {
    "duration": 347,
    "start_time": "2024-06-06T19:00:03.906Z"
   },
   {
    "duration": 0,
    "start_time": "2024-06-06T19:00:04.256Z"
   },
   {
    "duration": 0,
    "start_time": "2024-06-06T19:00:04.258Z"
   },
   {
    "duration": 0,
    "start_time": "2024-06-06T19:00:04.261Z"
   },
   {
    "duration": 0,
    "start_time": "2024-06-06T19:00:04.263Z"
   },
   {
    "duration": 0,
    "start_time": "2024-06-06T19:00:04.265Z"
   },
   {
    "duration": 0,
    "start_time": "2024-06-06T19:00:04.267Z"
   },
   {
    "duration": 0,
    "start_time": "2024-06-06T19:00:04.290Z"
   },
   {
    "duration": 3,
    "start_time": "2024-06-06T20:11:08.105Z"
   },
   {
    "duration": 19,
    "start_time": "2024-06-06T20:15:24.021Z"
   },
   {
    "duration": 3,
    "start_time": "2024-06-06T20:29:10.524Z"
   },
   {
    "duration": 36,
    "start_time": "2024-06-06T20:29:11.611Z"
   },
   {
    "duration": 17,
    "start_time": "2024-06-06T20:29:12.445Z"
   },
   {
    "duration": 3921,
    "start_time": "2024-06-06T20:38:50.099Z"
   },
   {
    "duration": 39,
    "start_time": "2024-06-06T20:38:57.193Z"
   },
   {
    "duration": 15,
    "start_time": "2024-06-06T20:38:58.321Z"
   },
   {
    "duration": 69,
    "start_time": "2024-06-06T20:38:59.403Z"
   },
   {
    "duration": 10,
    "start_time": "2024-06-06T22:00:54.433Z"
   },
   {
    "duration": 11,
    "start_time": "2024-06-06T22:53:26.363Z"
   },
   {
    "duration": 9,
    "start_time": "2024-06-06T22:53:39.229Z"
   },
   {
    "duration": 9,
    "start_time": "2024-06-06T22:54:18.344Z"
   },
   {
    "duration": 18,
    "start_time": "2024-06-06T23:01:34.216Z"
   },
   {
    "duration": 7,
    "start_time": "2024-06-06T23:03:08.342Z"
   },
   {
    "duration": 10,
    "start_time": "2024-06-06T23:03:49.249Z"
   },
   {
    "duration": 8,
    "start_time": "2024-06-06T23:13:08.540Z"
   },
   {
    "duration": 7,
    "start_time": "2024-06-06T23:13:40.535Z"
   },
   {
    "duration": 7,
    "start_time": "2024-06-06T23:17:53.529Z"
   },
   {
    "duration": 6,
    "start_time": "2024-06-06T23:18:04.450Z"
   },
   {
    "duration": 8,
    "start_time": "2024-06-06T23:19:02.203Z"
   },
   {
    "duration": 9,
    "start_time": "2024-06-06T23:19:47.697Z"
   },
   {
    "duration": 8,
    "start_time": "2024-06-06T23:20:05.305Z"
   },
   {
    "duration": 37,
    "start_time": "2024-06-06T23:24:11.307Z"
   },
   {
    "duration": 5,
    "start_time": "2024-06-06T23:24:27.547Z"
   },
   {
    "duration": 11,
    "start_time": "2024-06-06T23:24:39.992Z"
   },
   {
    "duration": 817,
    "start_time": "2024-06-06T23:36:42.390Z"
   },
   {
    "duration": 1242,
    "start_time": "2024-06-06T23:37:00.422Z"
   },
   {
    "duration": 108,
    "start_time": "2024-06-06T23:54:43.630Z"
   },
   {
    "duration": 73,
    "start_time": "2024-06-07T00:19:40.374Z"
   },
   {
    "duration": 7,
    "start_time": "2024-06-07T00:20:07.107Z"
   },
   {
    "duration": 7,
    "start_time": "2024-06-07T00:20:27.040Z"
   },
   {
    "duration": 29,
    "start_time": "2024-06-07T00:23:27.223Z"
   },
   {
    "duration": 8,
    "start_time": "2024-06-07T00:23:52.317Z"
   },
   {
    "duration": 7,
    "start_time": "2024-06-07T00:23:53.201Z"
   },
   {
    "duration": 7,
    "start_time": "2024-06-07T00:23:53.774Z"
   },
   {
    "duration": 22,
    "start_time": "2024-06-07T00:23:54.337Z"
   },
   {
    "duration": 3,
    "start_time": "2024-06-07T00:27:06.914Z"
   },
   {
    "duration": 42,
    "start_time": "2024-06-07T00:27:06.921Z"
   },
   {
    "duration": 15,
    "start_time": "2024-06-07T00:27:06.966Z"
   },
   {
    "duration": 22,
    "start_time": "2024-06-07T00:27:06.984Z"
   },
   {
    "duration": 10,
    "start_time": "2024-06-07T00:27:07.011Z"
   },
   {
    "duration": 10,
    "start_time": "2024-06-07T00:27:07.024Z"
   },
   {
    "duration": 9,
    "start_time": "2024-06-07T00:27:07.037Z"
   },
   {
    "duration": 9,
    "start_time": "2024-06-07T00:27:07.092Z"
   },
   {
    "duration": 5,
    "start_time": "2024-06-07T00:27:07.105Z"
   },
   {
    "duration": 12,
    "start_time": "2024-06-07T00:27:07.115Z"
   },
   {
    "duration": 8,
    "start_time": "2024-06-07T00:27:07.133Z"
   },
   {
    "duration": 51,
    "start_time": "2024-06-07T00:27:07.144Z"
   },
   {
    "duration": 6,
    "start_time": "2024-06-07T00:27:07.198Z"
   },
   {
    "duration": 14,
    "start_time": "2024-06-07T00:27:07.207Z"
   },
   {
    "duration": 21,
    "start_time": "2024-06-07T00:27:07.224Z"
   },
   {
    "duration": 32,
    "start_time": "2024-06-07T00:46:17.870Z"
   },
   {
    "duration": 6,
    "start_time": "2024-06-07T00:50:46.318Z"
   },
   {
    "duration": 6,
    "start_time": "2024-06-07T00:52:07.655Z"
   },
   {
    "duration": 294,
    "start_time": "2024-06-07T00:53:02.585Z"
   },
   {
    "duration": 62,
    "start_time": "2024-06-07T00:53:23.799Z"
   },
   {
    "duration": 268,
    "start_time": "2024-06-07T00:53:39.065Z"
   },
   {
    "duration": 63,
    "start_time": "2024-06-07T00:55:15.377Z"
   },
   {
    "duration": 4,
    "start_time": "2024-06-07T00:56:15.964Z"
   },
   {
    "duration": 37,
    "start_time": "2024-06-07T00:56:15.975Z"
   },
   {
    "duration": 12,
    "start_time": "2024-06-07T00:56:16.016Z"
   },
   {
    "duration": 19,
    "start_time": "2024-06-07T00:56:16.031Z"
   },
   {
    "duration": 38,
    "start_time": "2024-06-07T00:56:16.052Z"
   },
   {
    "duration": 9,
    "start_time": "2024-06-07T00:56:16.095Z"
   },
   {
    "duration": 8,
    "start_time": "2024-06-07T00:56:16.108Z"
   },
   {
    "duration": 8,
    "start_time": "2024-06-07T00:56:16.119Z"
   },
   {
    "duration": 4,
    "start_time": "2024-06-07T00:56:16.131Z"
   },
   {
    "duration": 60,
    "start_time": "2024-06-07T00:56:16.139Z"
   },
   {
    "duration": 7,
    "start_time": "2024-06-07T00:56:16.202Z"
   },
   {
    "duration": 6,
    "start_time": "2024-06-07T00:56:16.212Z"
   },
   {
    "duration": 7,
    "start_time": "2024-06-07T00:56:16.222Z"
   },
   {
    "duration": 104,
    "start_time": "2024-06-07T00:56:16.234Z"
   },
   {
    "duration": 0,
    "start_time": "2024-06-07T00:56:16.341Z"
   },
   {
    "duration": 1,
    "start_time": "2024-06-07T00:56:16.344Z"
   },
   {
    "duration": 15,
    "start_time": "2024-06-07T00:57:05.266Z"
   },
   {
    "duration": 7,
    "start_time": "2024-06-07T00:57:13.241Z"
   },
   {
    "duration": 22,
    "start_time": "2024-06-07T00:57:13.743Z"
   },
   {
    "duration": 13,
    "start_time": "2024-06-07T00:57:30.000Z"
   },
   {
    "duration": 7,
    "start_time": "2024-06-07T00:57:52.192Z"
   },
   {
    "duration": 6,
    "start_time": "2024-06-07T00:57:52.996Z"
   },
   {
    "duration": 6,
    "start_time": "2024-06-07T00:57:53.718Z"
   },
   {
    "duration": 13,
    "start_time": "2024-06-07T00:57:54.502Z"
   },
   {
    "duration": 13,
    "start_time": "2024-06-07T00:57:57.451Z"
   },
   {
    "duration": 742,
    "start_time": "2024-06-07T00:58:12.274Z"
   },
   {
    "duration": 94,
    "start_time": "2024-06-07T00:58:13.020Z"
   },
   {
    "duration": 17,
    "start_time": "2024-06-07T00:58:13.117Z"
   },
   {
    "duration": 23,
    "start_time": "2024-06-07T00:58:13.138Z"
   },
   {
    "duration": 11,
    "start_time": "2024-06-07T00:58:13.194Z"
   },
   {
    "duration": 9,
    "start_time": "2024-06-07T00:58:13.208Z"
   },
   {
    "duration": 9,
    "start_time": "2024-06-07T00:58:13.221Z"
   },
   {
    "duration": 8,
    "start_time": "2024-06-07T00:58:13.235Z"
   },
   {
    "duration": 46,
    "start_time": "2024-06-07T00:58:13.246Z"
   },
   {
    "duration": 13,
    "start_time": "2024-06-07T00:58:13.296Z"
   },
   {
    "duration": 8,
    "start_time": "2024-06-07T00:58:13.312Z"
   },
   {
    "duration": 7,
    "start_time": "2024-06-07T00:58:13.323Z"
   },
   {
    "duration": 7,
    "start_time": "2024-06-07T00:58:13.334Z"
   },
   {
    "duration": 63,
    "start_time": "2024-06-07T00:58:13.345Z"
   },
   {
    "duration": 14,
    "start_time": "2024-06-07T00:58:13.411Z"
   },
   {
    "duration": 9,
    "start_time": "2024-06-07T00:58:13.430Z"
   },
   {
    "duration": 60,
    "start_time": "2024-06-07T00:58:13.442Z"
   },
   {
    "duration": 12,
    "start_time": "2024-06-07T00:58:41.419Z"
   },
   {
    "duration": 14,
    "start_time": "2024-06-07T00:58:43.754Z"
   },
   {
    "duration": 13,
    "start_time": "2024-06-07T01:05:15.186Z"
   },
   {
    "duration": 13,
    "start_time": "2024-06-07T01:05:16.756Z"
   },
   {
    "duration": 4,
    "start_time": "2024-06-07T01:05:22.392Z"
   },
   {
    "duration": 38,
    "start_time": "2024-06-07T01:05:22.400Z"
   },
   {
    "duration": 13,
    "start_time": "2024-06-07T01:05:22.440Z"
   },
   {
    "duration": 63,
    "start_time": "2024-06-07T01:05:22.457Z"
   },
   {
    "duration": 14,
    "start_time": "2024-06-07T01:05:22.526Z"
   },
   {
    "duration": 10,
    "start_time": "2024-06-07T01:05:22.543Z"
   },
   {
    "duration": 43,
    "start_time": "2024-06-07T01:05:22.556Z"
   },
   {
    "duration": 9,
    "start_time": "2024-06-07T01:05:22.602Z"
   },
   {
    "duration": 5,
    "start_time": "2024-06-07T01:05:22.615Z"
   },
   {
    "duration": 12,
    "start_time": "2024-06-07T01:05:22.623Z"
   },
   {
    "duration": 8,
    "start_time": "2024-06-07T01:05:22.638Z"
   },
   {
    "duration": 9,
    "start_time": "2024-06-07T01:05:22.699Z"
   },
   {
    "duration": 7,
    "start_time": "2024-06-07T01:05:22.712Z"
   },
   {
    "duration": 13,
    "start_time": "2024-06-07T01:05:22.726Z"
   },
   {
    "duration": 15,
    "start_time": "2024-06-07T01:05:22.741Z"
   },
   {
    "duration": 37,
    "start_time": "2024-06-07T01:05:22.759Z"
   },
   {
    "duration": 23,
    "start_time": "2024-06-07T01:05:22.802Z"
   },
   {
    "duration": 801,
    "start_time": "2024-06-07T01:07:23.192Z"
   },
   {
    "duration": 5,
    "start_time": "2024-06-07T01:07:32.260Z"
   },
   {
    "duration": 6,
    "start_time": "2024-06-07T01:07:32.945Z"
   },
   {
    "duration": 12,
    "start_time": "2024-06-07T01:07:34.031Z"
   },
   {
    "duration": 13,
    "start_time": "2024-06-07T01:07:36.666Z"
   },
   {
    "duration": 685,
    "start_time": "2024-06-07T01:07:52.764Z"
   },
   {
    "duration": 98,
    "start_time": "2024-06-07T01:07:53.453Z"
   },
   {
    "duration": 15,
    "start_time": "2024-06-07T01:07:53.554Z"
   },
   {
    "duration": 41,
    "start_time": "2024-06-07T01:07:53.572Z"
   },
   {
    "duration": 11,
    "start_time": "2024-06-07T01:07:53.619Z"
   },
   {
    "duration": 10,
    "start_time": "2024-06-07T01:07:53.633Z"
   },
   {
    "duration": 46,
    "start_time": "2024-06-07T01:07:53.646Z"
   },
   {
    "duration": 8,
    "start_time": "2024-06-07T01:07:53.696Z"
   },
   {
    "duration": 5,
    "start_time": "2024-06-07T01:07:53.708Z"
   },
   {
    "duration": 11,
    "start_time": "2024-06-07T01:07:53.716Z"
   },
   {
    "duration": 8,
    "start_time": "2024-06-07T01:07:53.731Z"
   },
   {
    "duration": 52,
    "start_time": "2024-06-07T01:07:53.743Z"
   },
   {
    "duration": 10,
    "start_time": "2024-06-07T01:07:53.798Z"
   },
   {
    "duration": 14,
    "start_time": "2024-06-07T01:07:53.814Z"
   },
   {
    "duration": 15,
    "start_time": "2024-06-07T01:07:53.831Z"
   },
   {
    "duration": 45,
    "start_time": "2024-06-07T01:07:53.849Z"
   },
   {
    "duration": 22,
    "start_time": "2024-06-07T01:07:53.898Z"
   },
   {
    "duration": 4,
    "start_time": "2024-06-07T01:11:38.072Z"
   },
   {
    "duration": 11,
    "start_time": "2024-06-07T01:11:39.597Z"
   },
   {
    "duration": 13,
    "start_time": "2024-06-07T01:11:40.642Z"
   },
   {
    "duration": 5,
    "start_time": "2024-06-07T01:11:52.015Z"
   },
   {
    "duration": 5,
    "start_time": "2024-06-07T01:11:52.803Z"
   },
   {
    "duration": 12,
    "start_time": "2024-06-07T01:11:53.308Z"
   },
   {
    "duration": 15,
    "start_time": "2024-06-07T01:11:54.223Z"
   },
   {
    "duration": 6,
    "start_time": "2024-06-07T01:11:56.077Z"
   },
   {
    "duration": 11,
    "start_time": "2024-06-07T01:12:11.731Z"
   },
   {
    "duration": 14,
    "start_time": "2024-06-07T01:12:12.478Z"
   },
   {
    "duration": 5,
    "start_time": "2024-06-07T01:12:14.889Z"
   },
   {
    "duration": 9,
    "start_time": "2024-06-07T01:12:19.799Z"
   },
   {
    "duration": 5,
    "start_time": "2024-06-07T01:12:20.287Z"
   },
   {
    "duration": 14,
    "start_time": "2024-06-07T01:12:21.148Z"
   },
   {
    "duration": 14,
    "start_time": "2024-06-07T01:12:21.629Z"
   },
   {
    "duration": 6,
    "start_time": "2024-06-07T01:12:22.303Z"
   },
   {
    "duration": 4305,
    "start_time": "2024-06-07T21:32:13.970Z"
   },
   {
    "duration": 59,
    "start_time": "2024-06-07T21:32:18.278Z"
   },
   {
    "duration": 14,
    "start_time": "2024-06-07T21:32:18.341Z"
   },
   {
    "duration": 19,
    "start_time": "2024-06-07T21:32:18.358Z"
   },
   {
    "duration": 11,
    "start_time": "2024-06-07T21:32:18.381Z"
   },
   {
    "duration": 9,
    "start_time": "2024-06-07T21:32:18.433Z"
   },
   {
    "duration": 9,
    "start_time": "2024-06-07T21:32:18.446Z"
   },
   {
    "duration": 7,
    "start_time": "2024-06-07T21:32:18.458Z"
   },
   {
    "duration": 6,
    "start_time": "2024-06-07T21:32:18.469Z"
   },
   {
    "duration": 60,
    "start_time": "2024-06-07T21:32:18.478Z"
   },
   {
    "duration": 7,
    "start_time": "2024-06-07T21:32:18.541Z"
   },
   {
    "duration": 6,
    "start_time": "2024-06-07T21:32:18.552Z"
   },
   {
    "duration": 822,
    "start_time": "2024-06-07T21:32:18.561Z"
   },
   {
    "duration": 0,
    "start_time": "2024-06-07T21:32:19.390Z"
   },
   {
    "duration": 0,
    "start_time": "2024-06-07T21:32:19.392Z"
   },
   {
    "duration": 0,
    "start_time": "2024-06-07T21:32:19.396Z"
   },
   {
    "duration": 16,
    "start_time": "2024-06-07T23:15:15.231Z"
   },
   {
    "duration": 13,
    "start_time": "2024-06-07T23:15:18.202Z"
   },
   {
    "duration": 11,
    "start_time": "2024-06-07T23:30:40.430Z"
   },
   {
    "duration": 18,
    "start_time": "2024-06-07T23:30:55.724Z"
   },
   {
    "duration": 569,
    "start_time": "2024-06-07T23:34:11.942Z"
   },
   {
    "duration": 805,
    "start_time": "2024-06-07T23:35:28.692Z"
   },
   {
    "duration": 4,
    "start_time": "2024-06-07T23:39:36.840Z"
   },
   {
    "duration": 37,
    "start_time": "2024-06-07T23:39:36.848Z"
   },
   {
    "duration": 12,
    "start_time": "2024-06-07T23:39:36.889Z"
   },
   {
    "duration": 39,
    "start_time": "2024-06-07T23:39:36.904Z"
   },
   {
    "duration": 10,
    "start_time": "2024-06-07T23:39:36.948Z"
   },
   {
    "duration": 10,
    "start_time": "2024-06-07T23:39:36.961Z"
   },
   {
    "duration": 9,
    "start_time": "2024-06-07T23:39:36.974Z"
   },
   {
    "duration": 53,
    "start_time": "2024-06-07T23:39:36.985Z"
   },
   {
    "duration": 5,
    "start_time": "2024-06-07T23:39:37.041Z"
   },
   {
    "duration": 11,
    "start_time": "2024-06-07T23:39:37.049Z"
   },
   {
    "duration": 6,
    "start_time": "2024-06-07T23:39:37.065Z"
   },
   {
    "duration": 6,
    "start_time": "2024-06-07T23:39:37.073Z"
   },
   {
    "duration": 80,
    "start_time": "2024-06-07T23:39:37.082Z"
   },
   {
    "duration": 15,
    "start_time": "2024-06-07T23:39:37.165Z"
   },
   {
    "duration": 13,
    "start_time": "2024-06-07T23:39:37.184Z"
   },
   {
    "duration": 43,
    "start_time": "2024-06-07T23:39:37.201Z"
   },
   {
    "duration": 3,
    "start_time": "2024-06-07T23:58:28.819Z"
   },
   {
    "duration": 37,
    "start_time": "2024-06-07T23:58:28.826Z"
   },
   {
    "duration": 12,
    "start_time": "2024-06-07T23:58:28.866Z"
   },
   {
    "duration": 19,
    "start_time": "2024-06-07T23:58:28.881Z"
   },
   {
    "duration": 37,
    "start_time": "2024-06-07T23:58:28.904Z"
   },
   {
    "duration": 10,
    "start_time": "2024-06-07T23:58:28.943Z"
   },
   {
    "duration": 8,
    "start_time": "2024-06-07T23:58:28.956Z"
   },
   {
    "duration": 9,
    "start_time": "2024-06-07T23:58:28.967Z"
   },
   {
    "duration": 5,
    "start_time": "2024-06-07T23:58:28.978Z"
   },
   {
    "duration": 11,
    "start_time": "2024-06-07T23:58:29.034Z"
   },
   {
    "duration": 11,
    "start_time": "2024-06-07T23:58:29.049Z"
   },
   {
    "duration": 10,
    "start_time": "2024-06-07T23:58:29.064Z"
   },
   {
    "duration": 15,
    "start_time": "2024-06-07T23:58:29.077Z"
   },
   {
    "duration": 14,
    "start_time": "2024-06-07T23:58:29.134Z"
   },
   {
    "duration": 6,
    "start_time": "2024-06-07T23:58:29.151Z"
   },
   {
    "duration": 19,
    "start_time": "2024-06-07T23:58:29.160Z"
   },
   {
    "duration": 816,
    "start_time": "2024-06-08T00:04:17.242Z"
   },
   {
    "duration": 88,
    "start_time": "2024-06-08T00:04:18.069Z"
   },
   {
    "duration": 17,
    "start_time": "2024-06-08T00:04:18.165Z"
   },
   {
    "duration": 20,
    "start_time": "2024-06-08T00:04:18.190Z"
   },
   {
    "duration": 20,
    "start_time": "2024-06-08T00:04:18.215Z"
   },
   {
    "duration": 12,
    "start_time": "2024-06-08T00:04:18.238Z"
   },
   {
    "duration": 8,
    "start_time": "2024-06-08T00:04:18.252Z"
   },
   {
    "duration": 14,
    "start_time": "2024-06-08T00:04:18.262Z"
   },
   {
    "duration": 5,
    "start_time": "2024-06-08T00:04:18.279Z"
   },
   {
    "duration": 14,
    "start_time": "2024-06-08T00:04:18.286Z"
   },
   {
    "duration": 9,
    "start_time": "2024-06-08T00:04:18.334Z"
   },
   {
    "duration": 8,
    "start_time": "2024-06-08T00:04:18.346Z"
   },
   {
    "duration": 13,
    "start_time": "2024-06-08T00:04:18.357Z"
   },
   {
    "duration": 11,
    "start_time": "2024-06-08T00:04:18.374Z"
   },
   {
    "duration": 44,
    "start_time": "2024-06-08T00:04:18.390Z"
   },
   {
    "duration": 25,
    "start_time": "2024-06-08T00:04:18.441Z"
   },
   {
    "duration": 354,
    "start_time": "2024-06-08T00:16:30.880Z"
   },
   {
    "duration": 31,
    "start_time": "2024-06-08T00:16:42.300Z"
   },
   {
    "duration": 24,
    "start_time": "2024-06-08T00:17:31.764Z"
   },
   {
    "duration": 721,
    "start_time": "2024-06-08T00:18:24.646Z"
   },
   {
    "duration": 356,
    "start_time": "2024-06-08T00:18:41.138Z"
   },
   {
    "duration": 98,
    "start_time": "2024-06-08T00:22:27.499Z"
   },
   {
    "duration": 184,
    "start_time": "2024-06-08T00:22:34.047Z"
   },
   {
    "duration": 292,
    "start_time": "2024-06-08T00:23:33.646Z"
   },
   {
    "duration": 324,
    "start_time": "2024-06-08T00:23:52.241Z"
   },
   {
    "duration": 348,
    "start_time": "2024-06-08T00:24:12.400Z"
   },
   {
    "duration": 253,
    "start_time": "2024-06-08T00:24:25.059Z"
   },
   {
    "duration": 605,
    "start_time": "2024-06-08T00:24:35.988Z"
   },
   {
    "duration": 24,
    "start_time": "2024-06-08T00:25:08.352Z"
   },
   {
    "duration": 24,
    "start_time": "2024-06-08T00:25:28.586Z"
   },
   {
    "duration": 6,
    "start_time": "2024-06-08T00:26:13.200Z"
   },
   {
    "duration": 803,
    "start_time": "2024-06-08T00:26:25.176Z"
   },
   {
    "duration": 1147,
    "start_time": "2024-06-08T00:26:37.574Z"
   },
   {
    "duration": 8,
    "start_time": "2024-06-08T00:30:12.440Z"
   },
   {
    "duration": 5,
    "start_time": "2024-06-08T00:32:28.254Z"
   },
   {
    "duration": 5,
    "start_time": "2024-06-08T00:32:35.770Z"
   },
   {
    "duration": 10,
    "start_time": "2024-06-08T00:32:39.294Z"
   },
   {
    "duration": 12,
    "start_time": "2024-06-08T00:32:45.605Z"
   },
   {
    "duration": 3,
    "start_time": "2024-06-08T00:38:25.503Z"
   },
   {
    "duration": 349,
    "start_time": "2024-06-08T00:39:41.824Z"
   },
   {
    "duration": 23,
    "start_time": "2024-06-08T00:43:55.266Z"
   },
   {
    "duration": 11,
    "start_time": "2024-06-08T00:44:03.243Z"
   },
   {
    "duration": 16,
    "start_time": "2024-06-08T00:44:32.841Z"
   },
   {
    "duration": 10,
    "start_time": "2024-06-08T00:44:44.450Z"
   },
   {
    "duration": 11,
    "start_time": "2024-06-08T00:44:53.874Z"
   },
   {
    "duration": 12,
    "start_time": "2024-06-08T00:45:06.593Z"
   },
   {
    "duration": 17,
    "start_time": "2024-06-08T00:48:10.546Z"
   },
   {
    "duration": 12,
    "start_time": "2024-06-08T00:50:36.743Z"
   },
   {
    "duration": 11,
    "start_time": "2024-06-08T00:51:07.874Z"
   },
   {
    "duration": 13,
    "start_time": "2024-06-08T00:51:27.122Z"
   },
   {
    "duration": 10,
    "start_time": "2024-06-08T00:51:36.086Z"
   },
   {
    "duration": 12,
    "start_time": "2024-06-08T00:51:47.080Z"
   },
   {
    "duration": 10,
    "start_time": "2024-06-08T00:52:22.530Z"
   },
   {
    "duration": 11,
    "start_time": "2024-06-08T00:52:52.890Z"
   },
   {
    "duration": 10,
    "start_time": "2024-06-08T00:53:00.794Z"
   },
   {
    "duration": 11,
    "start_time": "2024-06-08T00:53:09.659Z"
   },
   {
    "duration": 12,
    "start_time": "2024-06-08T00:53:21.781Z"
   },
   {
    "duration": 189,
    "start_time": "2024-06-08T01:34:12.312Z"
   },
   {
    "duration": 1552,
    "start_time": "2024-06-08T01:35:02.159Z"
   },
   {
    "duration": 47,
    "start_time": "2024-06-08T01:35:27.881Z"
   },
   {
    "duration": 42,
    "start_time": "2024-06-08T01:35:37.788Z"
   },
   {
    "duration": 37,
    "start_time": "2024-06-08T01:35:56.844Z"
   },
   {
    "duration": 334,
    "start_time": "2024-06-08T21:22:28.928Z"
   },
   {
    "duration": 4366,
    "start_time": "2024-06-08T21:22:39.021Z"
   },
   {
    "duration": 67,
    "start_time": "2024-06-08T21:22:43.391Z"
   },
   {
    "duration": 15,
    "start_time": "2024-06-08T21:22:43.464Z"
   },
   {
    "duration": 23,
    "start_time": "2024-06-08T21:22:43.482Z"
   },
   {
    "duration": 10,
    "start_time": "2024-06-08T21:22:43.532Z"
   },
   {
    "duration": 11,
    "start_time": "2024-06-08T21:22:43.545Z"
   },
   {
    "duration": 10,
    "start_time": "2024-06-08T21:22:43.559Z"
   },
   {
    "duration": 7,
    "start_time": "2024-06-08T21:22:43.572Z"
   },
   {
    "duration": 50,
    "start_time": "2024-06-08T21:22:43.583Z"
   },
   {
    "duration": 13,
    "start_time": "2024-06-08T21:22:43.636Z"
   },
   {
    "duration": 8,
    "start_time": "2024-06-08T21:22:43.652Z"
   },
   {
    "duration": 7,
    "start_time": "2024-06-08T21:22:43.663Z"
   },
   {
    "duration": 13,
    "start_time": "2024-06-08T21:22:43.673Z"
   },
   {
    "duration": 9,
    "start_time": "2024-06-08T21:22:43.732Z"
   },
   {
    "duration": 14,
    "start_time": "2024-06-08T21:22:43.745Z"
   },
   {
    "duration": 21,
    "start_time": "2024-06-08T21:22:43.762Z"
   },
   {
    "duration": 469,
    "start_time": "2024-06-08T21:22:43.786Z"
   },
   {
    "duration": 9,
    "start_time": "2024-06-08T21:22:44.258Z"
   },
   {
    "duration": 11,
    "start_time": "2024-06-08T21:22:44.270Z"
   },
   {
    "duration": 50,
    "start_time": "2024-06-08T21:22:44.284Z"
   },
   {
    "duration": 20,
    "start_time": "2024-06-08T21:24:58.520Z"
   },
   {
    "duration": 83,
    "start_time": "2024-06-08T21:25:15.778Z"
   },
   {
    "duration": 13,
    "start_time": "2024-06-08T21:25:27.920Z"
   },
   {
    "duration": 25,
    "start_time": "2024-06-08T21:27:05.489Z"
   },
   {
    "duration": 14,
    "start_time": "2024-06-08T21:33:08.648Z"
   },
   {
    "duration": 18,
    "start_time": "2024-06-08T21:36:24.749Z"
   },
   {
    "duration": 35,
    "start_time": "2024-06-08T21:36:52.518Z"
   },
   {
    "duration": 543,
    "start_time": "2024-06-08T21:37:14.371Z"
   },
   {
    "duration": 4,
    "start_time": "2024-06-08T21:37:17.318Z"
   },
   {
    "duration": 38,
    "start_time": "2024-06-08T21:37:17.325Z"
   },
   {
    "duration": 11,
    "start_time": "2024-06-08T21:37:17.366Z"
   },
   {
    "duration": 18,
    "start_time": "2024-06-08T21:37:17.381Z"
   },
   {
    "duration": 30,
    "start_time": "2024-06-08T21:37:17.405Z"
   },
   {
    "duration": 10,
    "start_time": "2024-06-08T21:37:17.438Z"
   },
   {
    "duration": 9,
    "start_time": "2024-06-08T21:37:17.451Z"
   },
   {
    "duration": 9,
    "start_time": "2024-06-08T21:37:17.463Z"
   },
   {
    "duration": 5,
    "start_time": "2024-06-08T21:37:17.475Z"
   },
   {
    "duration": 11,
    "start_time": "2024-06-08T21:37:17.534Z"
   },
   {
    "duration": 7,
    "start_time": "2024-06-08T21:37:17.549Z"
   },
   {
    "duration": 6,
    "start_time": "2024-06-08T21:37:17.559Z"
   },
   {
    "duration": 12,
    "start_time": "2024-06-08T21:37:17.568Z"
   },
   {
    "duration": 48,
    "start_time": "2024-06-08T21:37:17.585Z"
   },
   {
    "duration": 14,
    "start_time": "2024-06-08T21:37:17.636Z"
   },
   {
    "duration": 18,
    "start_time": "2024-06-08T21:37:17.653Z"
   },
   {
    "duration": 353,
    "start_time": "2024-06-08T21:37:17.674Z"
   },
   {
    "duration": 9,
    "start_time": "2024-06-08T21:37:18.034Z"
   },
   {
    "duration": 11,
    "start_time": "2024-06-08T21:37:18.046Z"
   },
   {
    "duration": 179,
    "start_time": "2024-06-08T21:37:18.059Z"
   },
   {
    "duration": 3,
    "start_time": "2024-06-08T21:38:11.038Z"
   },
   {
    "duration": 37,
    "start_time": "2024-06-08T21:38:11.046Z"
   },
   {
    "duration": 14,
    "start_time": "2024-06-08T21:38:11.085Z"
   },
   {
    "duration": 48,
    "start_time": "2024-06-08T21:38:11.102Z"
   },
   {
    "duration": 10,
    "start_time": "2024-06-08T21:38:11.154Z"
   },
   {
    "duration": 9,
    "start_time": "2024-06-08T21:38:11.167Z"
   },
   {
    "duration": 53,
    "start_time": "2024-06-08T21:38:11.180Z"
   },
   {
    "duration": 8,
    "start_time": "2024-06-08T21:38:11.236Z"
   },
   {
    "duration": 6,
    "start_time": "2024-06-08T21:38:11.247Z"
   },
   {
    "duration": 11,
    "start_time": "2024-06-08T21:38:11.256Z"
   },
   {
    "duration": 8,
    "start_time": "2024-06-08T21:38:11.270Z"
   },
   {
    "duration": 6,
    "start_time": "2024-06-08T21:38:11.280Z"
   },
   {
    "duration": 14,
    "start_time": "2024-06-08T21:38:11.335Z"
   },
   {
    "duration": 6,
    "start_time": "2024-06-08T21:38:11.356Z"
   },
   {
    "duration": 16,
    "start_time": "2024-06-08T21:38:11.366Z"
   },
   {
    "duration": 61,
    "start_time": "2024-06-08T21:38:11.386Z"
   },
   {
    "duration": 353,
    "start_time": "2024-06-08T21:38:11.450Z"
   },
   {
    "duration": 26,
    "start_time": "2024-06-08T21:38:11.807Z"
   },
   {
    "duration": 11,
    "start_time": "2024-06-08T21:38:11.836Z"
   },
   {
    "duration": 34,
    "start_time": "2024-06-08T21:38:11.850Z"
   },
   {
    "duration": 1254,
    "start_time": "2024-06-08T21:38:26.153Z"
   },
   {
    "duration": 49,
    "start_time": "2024-06-08T21:38:27.411Z"
   },
   {
    "duration": 16,
    "start_time": "2024-06-08T21:38:27.462Z"
   },
   {
    "duration": 18,
    "start_time": "2024-06-08T21:38:27.481Z"
   },
   {
    "duration": 11,
    "start_time": "2024-06-08T21:38:27.532Z"
   },
   {
    "duration": 9,
    "start_time": "2024-06-08T21:38:27.547Z"
   },
   {
    "duration": 9,
    "start_time": "2024-06-08T21:38:27.560Z"
   },
   {
    "duration": 8,
    "start_time": "2024-06-08T21:38:27.572Z"
   },
   {
    "duration": 4,
    "start_time": "2024-06-08T21:38:27.583Z"
   },
   {
    "duration": 11,
    "start_time": "2024-06-08T21:38:27.633Z"
   },
   {
    "duration": 8,
    "start_time": "2024-06-08T21:38:27.647Z"
   },
   {
    "duration": 6,
    "start_time": "2024-06-08T21:38:27.658Z"
   },
   {
    "duration": 11,
    "start_time": "2024-06-08T21:38:27.668Z"
   },
   {
    "duration": 49,
    "start_time": "2024-06-08T21:38:27.684Z"
   },
   {
    "duration": 14,
    "start_time": "2024-06-08T21:38:27.735Z"
   },
   {
    "duration": 19,
    "start_time": "2024-06-08T21:38:27.752Z"
   },
   {
    "duration": 379,
    "start_time": "2024-06-08T21:38:27.774Z"
   },
   {
    "duration": 9,
    "start_time": "2024-06-08T21:38:28.157Z"
   },
   {
    "duration": 10,
    "start_time": "2024-06-08T21:38:28.170Z"
   },
   {
    "duration": 497,
    "start_time": "2024-06-08T21:38:28.183Z"
   },
   {
    "duration": 389,
    "start_time": "2024-06-08T21:39:14.781Z"
   },
   {
    "duration": 25,
    "start_time": "2024-06-08T21:39:40.878Z"
   },
   {
    "duration": 316,
    "start_time": "2024-06-08T22:32:14.081Z"
   },
   {
    "duration": 23,
    "start_time": "2024-06-08T22:32:31.686Z"
   },
   {
    "duration": 4962,
    "start_time": "2024-06-09T21:50:05.927Z"
   },
   {
    "duration": 62,
    "start_time": "2024-06-09T21:50:10.892Z"
   },
   {
    "duration": 14,
    "start_time": "2024-06-09T21:50:10.957Z"
   },
   {
    "duration": 27,
    "start_time": "2024-06-09T21:50:10.975Z"
   },
   {
    "duration": 13,
    "start_time": "2024-06-09T21:50:11.007Z"
   },
   {
    "duration": 10,
    "start_time": "2024-06-09T21:50:11.023Z"
   },
   {
    "duration": 8,
    "start_time": "2024-06-09T21:50:11.036Z"
   },
   {
    "duration": 8,
    "start_time": "2024-06-09T21:50:11.047Z"
   },
   {
    "duration": 7,
    "start_time": "2024-06-09T21:50:11.102Z"
   },
   {
    "duration": 11,
    "start_time": "2024-06-09T21:50:11.112Z"
   },
   {
    "duration": 8,
    "start_time": "2024-06-09T21:50:11.127Z"
   },
   {
    "duration": 7,
    "start_time": "2024-06-09T21:50:11.137Z"
   },
   {
    "duration": 13,
    "start_time": "2024-06-09T21:50:11.147Z"
   },
   {
    "duration": 7,
    "start_time": "2024-06-09T21:50:11.205Z"
   },
   {
    "duration": 14,
    "start_time": "2024-06-09T21:50:11.214Z"
   },
   {
    "duration": 19,
    "start_time": "2024-06-09T21:50:11.231Z"
   },
   {
    "duration": 393,
    "start_time": "2024-06-09T21:50:11.252Z"
   },
   {
    "duration": 9,
    "start_time": "2024-06-09T21:50:11.648Z"
   },
   {
    "duration": 11,
    "start_time": "2024-06-09T21:50:11.661Z"
   },
   {
    "duration": 46,
    "start_time": "2024-06-09T21:50:11.675Z"
   },
   {
    "duration": 394,
    "start_time": "2024-06-09T21:57:22.619Z"
   },
   {
    "duration": 4,
    "start_time": "2024-06-09T21:57:31.251Z"
   },
   {
    "duration": 42,
    "start_time": "2024-06-09T21:57:31.259Z"
   },
   {
    "duration": 13,
    "start_time": "2024-06-09T21:57:31.304Z"
   },
   {
    "duration": 19,
    "start_time": "2024-06-09T21:57:31.320Z"
   },
   {
    "duration": 11,
    "start_time": "2024-06-09T21:57:31.370Z"
   },
   {
    "duration": 22,
    "start_time": "2024-06-09T21:57:31.384Z"
   },
   {
    "duration": 9,
    "start_time": "2024-06-09T21:57:31.409Z"
   },
   {
    "duration": 8,
    "start_time": "2024-06-09T21:57:31.421Z"
   },
   {
    "duration": 5,
    "start_time": "2024-06-09T21:57:31.434Z"
   },
   {
    "duration": 61,
    "start_time": "2024-06-09T21:57:31.442Z"
   },
   {
    "duration": 7,
    "start_time": "2024-06-09T21:57:31.506Z"
   },
   {
    "duration": 7,
    "start_time": "2024-06-09T21:57:31.516Z"
   },
   {
    "duration": 12,
    "start_time": "2024-06-09T21:57:31.526Z"
   },
   {
    "duration": 6,
    "start_time": "2024-06-09T21:57:31.541Z"
   },
   {
    "duration": 58,
    "start_time": "2024-06-09T21:57:31.550Z"
   },
   {
    "duration": 19,
    "start_time": "2024-06-09T21:57:31.611Z"
   },
   {
    "duration": 422,
    "start_time": "2024-06-09T21:57:31.634Z"
   },
   {
    "duration": 10,
    "start_time": "2024-06-09T21:57:32.063Z"
   },
   {
    "duration": 28,
    "start_time": "2024-06-09T21:57:32.076Z"
   },
   {
    "duration": 20,
    "start_time": "2024-06-09T21:57:32.107Z"
   },
   {
    "duration": 23,
    "start_time": "2024-06-09T21:57:32.130Z"
   },
   {
    "duration": 25,
    "start_time": "2024-06-09T21:57:39.365Z"
   },
   {
    "duration": 5265,
    "start_time": "2024-06-11T19:43:34.918Z"
   },
   {
    "duration": 67,
    "start_time": "2024-06-11T19:43:40.187Z"
   },
   {
    "duration": 17,
    "start_time": "2024-06-11T19:43:40.257Z"
   },
   {
    "duration": 29,
    "start_time": "2024-06-11T19:43:40.288Z"
   },
   {
    "duration": 14,
    "start_time": "2024-06-11T19:43:40.322Z"
   },
   {
    "duration": 14,
    "start_time": "2024-06-11T19:43:40.339Z"
   },
   {
    "duration": 11,
    "start_time": "2024-06-11T19:43:40.356Z"
   },
   {
    "duration": 9,
    "start_time": "2024-06-11T19:43:40.408Z"
   },
   {
    "duration": 5,
    "start_time": "2024-06-11T19:43:40.421Z"
   },
   {
    "duration": 16,
    "start_time": "2024-06-11T19:43:40.429Z"
   },
   {
    "duration": 9,
    "start_time": "2024-06-11T19:43:40.448Z"
   },
   {
    "duration": 49,
    "start_time": "2024-06-11T19:43:40.460Z"
   },
   {
    "duration": 17,
    "start_time": "2024-06-11T19:43:40.516Z"
   },
   {
    "duration": 17,
    "start_time": "2024-06-11T19:43:40.540Z"
   },
   {
    "duration": 16,
    "start_time": "2024-06-11T19:43:40.562Z"
   },
   {
    "duration": 46,
    "start_time": "2024-06-11T19:43:40.581Z"
   },
   {
    "duration": 378,
    "start_time": "2024-06-11T19:43:40.632Z"
   },
   {
    "duration": 13,
    "start_time": "2024-06-11T19:43:41.012Z"
   },
   {
    "duration": 14,
    "start_time": "2024-06-11T19:43:41.028Z"
   },
   {
    "duration": 63,
    "start_time": "2024-06-11T19:43:41.045Z"
   },
   {
    "duration": 520,
    "start_time": "2024-06-11T19:43:41.114Z"
   },
   {
    "duration": 21,
    "start_time": "2024-06-11T19:46:06.777Z"
   },
   {
    "duration": 19,
    "start_time": "2024-06-11T19:46:28.112Z"
   },
   {
    "duration": 4947,
    "start_time": "2024-06-11T21:40:43.174Z"
   },
   {
    "duration": 52,
    "start_time": "2024-06-11T21:40:48.126Z"
   },
   {
    "duration": 15,
    "start_time": "2024-06-11T21:40:48.182Z"
   },
   {
    "duration": 22,
    "start_time": "2024-06-11T21:40:48.207Z"
   },
   {
    "duration": 18,
    "start_time": "2024-06-11T21:40:48.233Z"
   },
   {
    "duration": 10,
    "start_time": "2024-06-11T21:40:48.256Z"
   },
   {
    "duration": 43,
    "start_time": "2024-06-11T21:40:48.268Z"
   },
   {
    "duration": 8,
    "start_time": "2024-06-11T21:40:48.314Z"
   },
   {
    "duration": 9,
    "start_time": "2024-06-11T21:40:48.325Z"
   },
   {
    "duration": 5,
    "start_time": "2024-06-11T21:40:48.337Z"
   },
   {
    "duration": 12,
    "start_time": "2024-06-11T21:40:48.346Z"
   },
   {
    "duration": 12,
    "start_time": "2024-06-11T21:40:48.407Z"
   },
   {
    "duration": 8,
    "start_time": "2024-06-11T21:40:48.424Z"
   },
   {
    "duration": 13,
    "start_time": "2024-06-11T21:40:48.439Z"
   },
   {
    "duration": 8,
    "start_time": "2024-06-11T21:40:48.455Z"
   },
   {
    "duration": 54,
    "start_time": "2024-06-11T21:40:48.466Z"
   },
   {
    "duration": 23,
    "start_time": "2024-06-11T21:40:48.524Z"
   },
   {
    "duration": 376,
    "start_time": "2024-06-11T21:40:48.550Z"
   },
   {
    "duration": 11,
    "start_time": "2024-06-11T21:40:48.929Z"
   },
   {
    "duration": 12,
    "start_time": "2024-06-11T21:40:48.943Z"
   },
   {
    "duration": 61,
    "start_time": "2024-06-11T21:40:48.958Z"
   },
   {
    "duration": 418,
    "start_time": "2024-06-11T21:40:49.022Z"
   },
   {
    "duration": 376,
    "start_time": "2024-06-11T22:51:14.174Z"
   },
   {
    "duration": 1367,
    "start_time": "2024-06-11T22:51:45.610Z"
   },
   {
    "duration": 50,
    "start_time": "2024-06-11T22:51:46.984Z"
   },
   {
    "duration": 21,
    "start_time": "2024-06-11T22:51:47.039Z"
   },
   {
    "duration": 25,
    "start_time": "2024-06-11T22:51:47.063Z"
   },
   {
    "duration": 19,
    "start_time": "2024-06-11T22:51:47.109Z"
   },
   {
    "duration": 11,
    "start_time": "2024-06-11T22:51:47.131Z"
   },
   {
    "duration": 11,
    "start_time": "2024-06-11T22:51:47.145Z"
   },
   {
    "duration": 50,
    "start_time": "2024-06-11T22:51:47.161Z"
   },
   {
    "duration": 10,
    "start_time": "2024-06-11T22:51:47.214Z"
   },
   {
    "duration": 5,
    "start_time": "2024-06-11T22:51:47.227Z"
   },
   {
    "duration": 11,
    "start_time": "2024-06-11T22:51:47.236Z"
   },
   {
    "duration": 56,
    "start_time": "2024-06-11T22:51:47.250Z"
   },
   {
    "duration": 7,
    "start_time": "2024-06-11T22:51:47.309Z"
   },
   {
    "duration": 13,
    "start_time": "2024-06-11T22:51:47.322Z"
   },
   {
    "duration": 9,
    "start_time": "2024-06-11T22:51:47.341Z"
   },
   {
    "duration": 15,
    "start_time": "2024-06-11T22:51:47.353Z"
   },
   {
    "duration": 19,
    "start_time": "2024-06-11T22:51:47.408Z"
   },
   {
    "duration": 374,
    "start_time": "2024-06-11T22:51:47.433Z"
   },
   {
    "duration": 12,
    "start_time": "2024-06-11T22:51:47.810Z"
   },
   {
    "duration": 13,
    "start_time": "2024-06-11T22:51:47.825Z"
   },
   {
    "duration": 1514,
    "start_time": "2024-06-11T22:51:47.841Z"
   },
   {
    "duration": 0,
    "start_time": "2024-06-11T22:51:49.362Z"
   },
   {
    "duration": 0,
    "start_time": "2024-06-11T22:51:49.365Z"
   },
   {
    "duration": 262,
    "start_time": "2024-06-11T22:51:54.104Z"
   },
   {
    "duration": 55,
    "start_time": "2024-06-11T22:52:43.017Z"
   },
   {
    "duration": 13,
    "start_time": "2024-06-11T22:52:51.924Z"
   },
   {
    "duration": 12,
    "start_time": "2024-06-11T22:53:05.005Z"
   },
   {
    "duration": 14,
    "start_time": "2024-06-11T22:54:38.004Z"
   },
   {
    "duration": 6,
    "start_time": "2024-06-11T22:55:23.818Z"
   },
   {
    "duration": 32,
    "start_time": "2024-06-11T22:56:16.763Z"
   },
   {
    "duration": 28,
    "start_time": "2024-06-11T22:57:42.437Z"
   },
   {
    "duration": 8,
    "start_time": "2024-06-11T22:58:32.345Z"
   },
   {
    "duration": 10,
    "start_time": "2024-06-11T22:58:46.459Z"
   },
   {
    "duration": 6,
    "start_time": "2024-06-11T22:59:03.960Z"
   },
   {
    "duration": 9,
    "start_time": "2024-06-11T22:59:19.195Z"
   },
   {
    "duration": 14,
    "start_time": "2024-06-11T22:59:53.214Z"
   },
   {
    "duration": 16,
    "start_time": "2024-06-11T23:00:01.704Z"
   },
   {
    "duration": 20,
    "start_time": "2024-06-11T23:00:36.512Z"
   },
   {
    "duration": 23,
    "start_time": "2024-06-11T23:01:20.243Z"
   },
   {
    "duration": 638,
    "start_time": "2024-06-11T23:03:14.983Z"
   },
   {
    "duration": 100,
    "start_time": "2024-06-11T23:17:29.559Z"
   },
   {
    "duration": 24,
    "start_time": "2024-06-11T23:17:47.478Z"
   },
   {
    "duration": 24,
    "start_time": "2024-06-11T23:18:01.122Z"
   },
   {
    "duration": 27,
    "start_time": "2024-06-11T23:18:27.002Z"
   },
   {
    "duration": 10,
    "start_time": "2024-06-11T23:23:10.495Z"
   },
   {
    "duration": 24,
    "start_time": "2024-06-11T23:24:26.189Z"
   },
   {
    "duration": 31,
    "start_time": "2024-06-11T23:25:05.021Z"
   },
   {
    "duration": 29,
    "start_time": "2024-06-11T23:27:49.241Z"
   },
   {
    "duration": 33,
    "start_time": "2024-06-11T23:28:43.315Z"
   },
   {
    "duration": 45,
    "start_time": "2024-06-11T23:35:25.841Z"
   },
   {
    "duration": 26,
    "start_time": "2024-06-11T23:35:49.245Z"
   },
   {
    "duration": 26,
    "start_time": "2024-06-11T23:36:05.330Z"
   },
   {
    "duration": 25,
    "start_time": "2024-06-11T23:38:07.953Z"
   },
   {
    "duration": 26,
    "start_time": "2024-06-11T23:39:29.842Z"
   },
   {
    "duration": 33,
    "start_time": "2024-06-11T23:39:35.664Z"
   },
   {
    "duration": 35,
    "start_time": "2024-06-11T23:39:40.534Z"
   },
   {
    "duration": 28,
    "start_time": "2024-06-11T23:40:41.039Z"
   },
   {
    "duration": 31,
    "start_time": "2024-06-11T23:41:23.439Z"
   },
   {
    "duration": 28,
    "start_time": "2024-06-11T23:41:35.912Z"
   },
   {
    "duration": 26,
    "start_time": "2024-06-11T23:44:55.797Z"
   },
   {
    "duration": 18,
    "start_time": "2024-06-11T23:51:54.448Z"
   },
   {
    "duration": 34,
    "start_time": "2024-06-11T23:53:11.929Z"
   },
   {
    "duration": 17,
    "start_time": "2024-06-11T23:53:29.592Z"
   },
   {
    "duration": 11,
    "start_time": "2024-06-12T00:00:04.861Z"
   },
   {
    "duration": 1321,
    "start_time": "2024-06-12T00:00:40.019Z"
   },
   {
    "duration": 42,
    "start_time": "2024-06-12T00:00:41.344Z"
   },
   {
    "duration": 24,
    "start_time": "2024-06-12T00:00:41.393Z"
   },
   {
    "duration": 18,
    "start_time": "2024-06-12T00:00:41.421Z"
   },
   {
    "duration": 18,
    "start_time": "2024-06-12T00:00:41.444Z"
   },
   {
    "duration": 50,
    "start_time": "2024-06-12T00:00:41.464Z"
   },
   {
    "duration": 10,
    "start_time": "2024-06-12T00:00:41.517Z"
   },
   {
    "duration": 7,
    "start_time": "2024-06-12T00:00:41.530Z"
   },
   {
    "duration": 8,
    "start_time": "2024-06-12T00:00:41.540Z"
   },
   {
    "duration": 5,
    "start_time": "2024-06-12T00:00:41.551Z"
   },
   {
    "duration": 56,
    "start_time": "2024-06-12T00:00:41.559Z"
   },
   {
    "duration": 8,
    "start_time": "2024-06-12T00:00:41.618Z"
   },
   {
    "duration": 6,
    "start_time": "2024-06-12T00:00:41.630Z"
   },
   {
    "duration": 12,
    "start_time": "2024-06-12T00:00:41.644Z"
   },
   {
    "duration": 51,
    "start_time": "2024-06-12T00:00:41.658Z"
   },
   {
    "duration": 14,
    "start_time": "2024-06-12T00:00:41.711Z"
   },
   {
    "duration": 19,
    "start_time": "2024-06-12T00:00:41.727Z"
   },
   {
    "duration": 364,
    "start_time": "2024-06-12T00:00:41.749Z"
   },
   {
    "duration": 9,
    "start_time": "2024-06-12T00:00:42.116Z"
   },
   {
    "duration": 11,
    "start_time": "2024-06-12T00:00:42.128Z"
   },
   {
    "duration": 20,
    "start_time": "2024-06-12T00:00:42.142Z"
   },
   {
    "duration": 45,
    "start_time": "2024-06-12T00:00:42.165Z"
   },
   {
    "duration": 0,
    "start_time": "2024-06-12T00:00:42.214Z"
   },
   {
    "duration": 0,
    "start_time": "2024-06-12T00:00:42.216Z"
   },
   {
    "duration": 1757,
    "start_time": "2024-06-12T00:02:14.943Z"
   },
   {
    "duration": 1134,
    "start_time": "2024-06-12T00:02:24.367Z"
   },
   {
    "duration": 3317,
    "start_time": "2024-06-12T00:02:34.973Z"
   },
   {
    "duration": 2274,
    "start_time": "2024-06-12T00:02:54.743Z"
   },
   {
    "duration": 2077,
    "start_time": "2024-06-12T00:06:33.844Z"
   },
   {
    "duration": 373,
    "start_time": "2024-06-12T00:07:27.370Z"
   },
   {
    "duration": 2085,
    "start_time": "2024-06-12T00:07:35.577Z"
   },
   {
    "duration": 2046,
    "start_time": "2024-06-12T00:07:44.591Z"
   },
   {
    "duration": 316,
    "start_time": "2024-06-12T00:07:52.585Z"
   },
   {
    "duration": 2108,
    "start_time": "2024-06-12T00:09:31.701Z"
   },
   {
    "duration": 216,
    "start_time": "2024-06-12T00:13:26.056Z"
   },
   {
    "duration": 366,
    "start_time": "2024-06-12T00:13:32.456Z"
   },
   {
    "duration": 240,
    "start_time": "2024-06-12T00:13:50.572Z"
   },
   {
    "duration": 2876,
    "start_time": "2024-06-12T00:14:01.955Z"
   },
   {
    "duration": 7,
    "start_time": "2024-06-12T00:15:09.175Z"
   },
   {
    "duration": 825,
    "start_time": "2024-06-12T00:15:15.814Z"
   },
   {
    "duration": 968,
    "start_time": "2024-06-12T00:15:24.641Z"
   },
   {
    "duration": 859,
    "start_time": "2024-06-12T00:15:28.492Z"
   },
   {
    "duration": 682,
    "start_time": "2024-06-12T00:16:54.889Z"
   },
   {
    "duration": 850,
    "start_time": "2024-06-12T00:17:12.480Z"
   },
   {
    "duration": 829,
    "start_time": "2024-06-12T00:17:19.426Z"
   },
   {
    "duration": 964,
    "start_time": "2024-06-12T00:24:15.887Z"
   },
   {
    "duration": 837,
    "start_time": "2024-06-12T00:24:22.275Z"
   },
   {
    "duration": 2692,
    "start_time": "2024-06-12T00:26:07.766Z"
   },
   {
    "duration": 241,
    "start_time": "2024-06-12T00:26:35.160Z"
   },
   {
    "duration": 2828,
    "start_time": "2024-06-12T00:27:03.403Z"
   },
   {
    "duration": 3086,
    "start_time": "2024-06-12T00:28:12.488Z"
   },
   {
    "duration": 3076,
    "start_time": "2024-06-12T00:28:22.135Z"
   },
   {
    "duration": 2867,
    "start_time": "2024-06-12T00:28:38.478Z"
   },
   {
    "duration": 2721,
    "start_time": "2024-06-12T00:29:03.560Z"
   },
   {
    "duration": 3329,
    "start_time": "2024-06-12T00:30:19.994Z"
   },
   {
    "duration": 2213,
    "start_time": "2024-06-12T00:30:54.003Z"
   },
   {
    "duration": 408,
    "start_time": "2024-06-12T00:36:43.451Z"
   },
   {
    "duration": 2731,
    "start_time": "2024-06-12T00:37:05.144Z"
   },
   {
    "duration": 2389,
    "start_time": "2024-06-12T00:39:01.375Z"
   },
   {
    "duration": 451,
    "start_time": "2024-06-12T00:42:38.398Z"
   },
   {
    "duration": 2411,
    "start_time": "2024-06-12T00:42:58.842Z"
   },
   {
    "duration": 2571,
    "start_time": "2024-06-12T00:46:29.538Z"
   },
   {
    "duration": 2297,
    "start_time": "2024-06-12T00:49:39.173Z"
   },
   {
    "duration": 2898,
    "start_time": "2024-06-12T01:00:49.664Z"
   },
   {
    "duration": 331,
    "start_time": "2024-06-12T02:39:13.902Z"
   },
   {
    "duration": 5171,
    "start_time": "2024-06-12T02:39:25.451Z"
   },
   {
    "duration": 61,
    "start_time": "2024-06-12T02:39:30.627Z"
   },
   {
    "duration": 14,
    "start_time": "2024-06-12T02:39:30.691Z"
   },
   {
    "duration": 23,
    "start_time": "2024-06-12T02:39:30.710Z"
   },
   {
    "duration": 18,
    "start_time": "2024-06-12T02:39:30.738Z"
   },
   {
    "duration": 11,
    "start_time": "2024-06-12T02:39:30.759Z"
   },
   {
    "duration": 10,
    "start_time": "2024-06-12T02:39:30.772Z"
   },
   {
    "duration": 48,
    "start_time": "2024-06-12T02:39:30.785Z"
   },
   {
    "duration": 7,
    "start_time": "2024-06-12T02:39:30.836Z"
   },
   {
    "duration": 6,
    "start_time": "2024-06-12T02:39:30.847Z"
   },
   {
    "duration": 11,
    "start_time": "2024-06-12T02:39:30.855Z"
   },
   {
    "duration": 7,
    "start_time": "2024-06-12T02:39:30.870Z"
   },
   {
    "duration": 53,
    "start_time": "2024-06-12T02:39:30.882Z"
   },
   {
    "duration": 12,
    "start_time": "2024-06-12T02:39:30.942Z"
   },
   {
    "duration": 7,
    "start_time": "2024-06-12T02:39:30.957Z"
   },
   {
    "duration": 12,
    "start_time": "2024-06-12T02:39:30.967Z"
   },
   {
    "duration": 59,
    "start_time": "2024-06-12T02:39:30.983Z"
   },
   {
    "duration": 379,
    "start_time": "2024-06-12T02:39:31.045Z"
   },
   {
    "duration": 11,
    "start_time": "2024-06-12T02:39:31.437Z"
   },
   {
    "duration": 13,
    "start_time": "2024-06-12T02:39:31.452Z"
   },
   {
    "duration": 22,
    "start_time": "2024-06-12T02:39:31.468Z"
   },
   {
    "duration": 3024,
    "start_time": "2024-06-12T02:39:31.493Z"
   },
   {
    "duration": 981,
    "start_time": "2024-06-12T02:39:34.520Z"
   },
   {
    "duration": 10,
    "start_time": "2024-06-12T02:45:54.396Z"
   },
   {
    "duration": 337,
    "start_time": "2024-06-12T02:46:33.610Z"
   },
   {
    "duration": 366,
    "start_time": "2024-06-12T02:47:30.612Z"
   },
   {
    "duration": 348,
    "start_time": "2024-06-12T02:48:15.685Z"
   },
   {
    "duration": 425,
    "start_time": "2024-06-12T02:50:20.342Z"
   },
   {
    "duration": 661,
    "start_time": "2024-06-12T02:51:13.071Z"
   },
   {
    "duration": 439,
    "start_time": "2024-06-12T02:52:29.997Z"
   },
   {
    "duration": 656,
    "start_time": "2024-06-12T02:52:59.271Z"
   },
   {
    "duration": 1756,
    "start_time": "2024-06-12T02:53:42.785Z"
   },
   {
    "duration": 662,
    "start_time": "2024-06-12T02:55:14.811Z"
   },
   {
    "duration": 12,
    "start_time": "2024-06-12T03:02:13.497Z"
   },
   {
    "duration": 22,
    "start_time": "2024-06-12T03:02:27.097Z"
   },
   {
    "duration": 12,
    "start_time": "2024-06-12T03:02:38.639Z"
   },
   {
    "duration": 3408,
    "start_time": "2024-06-12T03:12:33.604Z"
   },
   {
    "duration": 8,
    "start_time": "2024-06-12T03:13:51.925Z"
   },
   {
    "duration": 6,
    "start_time": "2024-06-12T03:14:26.111Z"
   },
   {
    "duration": 6,
    "start_time": "2024-06-12T03:14:55.439Z"
   },
   {
    "duration": 26,
    "start_time": "2024-06-12T03:26:11.815Z"
   },
   {
    "duration": 45,
    "start_time": "2024-06-12T03:29:17.023Z"
   },
   {
    "duration": 22,
    "start_time": "2024-06-12T03:29:29.775Z"
   },
   {
    "duration": 39,
    "start_time": "2024-06-12T03:33:07.217Z"
   },
   {
    "duration": 101,
    "start_time": "2024-06-12T03:33:25.810Z"
   },
   {
    "duration": 100,
    "start_time": "2024-06-12T03:34:43.549Z"
   },
   {
    "duration": 23,
    "start_time": "2024-06-12T03:35:02.401Z"
   },
   {
    "duration": 21,
    "start_time": "2024-06-12T03:36:06.866Z"
   },
   {
    "duration": 23,
    "start_time": "2024-06-12T03:36:40.923Z"
   },
   {
    "duration": 28,
    "start_time": "2024-06-12T03:37:01.927Z"
   },
   {
    "duration": 381,
    "start_time": "2024-06-12T03:57:36.633Z"
   },
   {
    "duration": 1166,
    "start_time": "2024-06-12T04:03:08.526Z"
   },
   {
    "duration": 395,
    "start_time": "2024-06-12T04:07:56.557Z"
   },
   {
    "duration": 13,
    "start_time": "2024-06-12T04:08:30.279Z"
   },
   {
    "duration": 102,
    "start_time": "2024-06-12T04:08:56.234Z"
   },
   {
    "duration": 827,
    "start_time": "2024-06-12T04:09:11.461Z"
   },
   {
    "duration": 11,
    "start_time": "2024-06-12T04:10:28.435Z"
   },
   {
    "duration": 23,
    "start_time": "2024-06-12T04:12:23.664Z"
   },
   {
    "duration": 26,
    "start_time": "2024-06-12T04:12:43.821Z"
   },
   {
    "duration": 440,
    "start_time": "2024-06-12T04:15:36.849Z"
   },
   {
    "duration": 429,
    "start_time": "2024-06-12T04:15:57.106Z"
   },
   {
    "duration": 366,
    "start_time": "2024-06-12T04:16:50.457Z"
   },
   {
    "duration": 550,
    "start_time": "2024-06-12T04:17:21.225Z"
   },
   {
    "duration": 367,
    "start_time": "2024-06-12T04:17:38.556Z"
   },
   {
    "duration": 368,
    "start_time": "2024-06-12T04:17:56.142Z"
   },
   {
    "duration": 372,
    "start_time": "2024-06-12T04:18:15.920Z"
   },
   {
    "duration": 7,
    "start_time": "2024-06-12T04:18:36.512Z"
   },
   {
    "duration": 361,
    "start_time": "2024-06-12T04:18:43.593Z"
   },
   {
    "duration": 394,
    "start_time": "2024-06-12T04:19:21.893Z"
   },
   {
    "duration": 15,
    "start_time": "2024-06-12T04:21:18.725Z"
   },
   {
    "duration": 5263,
    "start_time": "2024-06-13T02:57:05.099Z"
   },
   {
    "duration": 1350,
    "start_time": "2024-06-13T02:57:18.042Z"
   },
   {
    "duration": 58,
    "start_time": "2024-06-13T02:57:19.397Z"
   },
   {
    "duration": 16,
    "start_time": "2024-06-13T02:57:19.457Z"
   },
   {
    "duration": 46,
    "start_time": "2024-06-13T02:57:19.478Z"
   },
   {
    "duration": 22,
    "start_time": "2024-06-13T02:57:19.527Z"
   },
   {
    "duration": 13,
    "start_time": "2024-06-13T02:57:19.551Z"
   },
   {
    "duration": 12,
    "start_time": "2024-06-13T02:57:19.567Z"
   },
   {
    "duration": 10,
    "start_time": "2024-06-13T02:57:19.624Z"
   },
   {
    "duration": 10,
    "start_time": "2024-06-13T02:57:19.638Z"
   },
   {
    "duration": 7,
    "start_time": "2024-06-13T02:57:19.654Z"
   },
   {
    "duration": 14,
    "start_time": "2024-06-13T02:57:19.666Z"
   },
   {
    "duration": 11,
    "start_time": "2024-06-13T02:57:19.725Z"
   },
   {
    "duration": 8,
    "start_time": "2024-06-13T02:57:19.740Z"
   },
   {
    "duration": 14,
    "start_time": "2024-06-13T02:57:19.753Z"
   },
   {
    "duration": 53,
    "start_time": "2024-06-13T02:57:19.771Z"
   },
   {
    "duration": 19,
    "start_time": "2024-06-13T02:57:19.829Z"
   },
   {
    "duration": 24,
    "start_time": "2024-06-13T02:57:19.852Z"
   },
   {
    "duration": 419,
    "start_time": "2024-06-13T02:57:19.879Z"
   },
   {
    "duration": 24,
    "start_time": "2024-06-13T02:57:20.302Z"
   },
   {
    "duration": 13,
    "start_time": "2024-06-13T02:57:20.330Z"
   },
   {
    "duration": 823,
    "start_time": "2024-06-13T02:57:20.346Z"
   },
   {
    "duration": 1259,
    "start_time": "2024-06-13T02:57:21.173Z"
   },
   {
    "duration": 27,
    "start_time": "2024-06-13T02:57:22.436Z"
   },
   {
    "duration": 19,
    "start_time": "2024-06-13T02:57:22.467Z"
   },
   {
    "duration": 41,
    "start_time": "2024-06-13T02:57:22.490Z"
   },
   {
    "duration": 448,
    "start_time": "2024-06-13T02:57:22.534Z"
   },
   {
    "duration": 3318,
    "start_time": "2024-06-13T02:57:22.985Z"
   },
   {
    "duration": 1320,
    "start_time": "2024-06-13T02:57:26.310Z"
   },
   {
    "duration": 1340,
    "start_time": "2024-06-13T03:01:58.861Z"
   },
   {
    "duration": 56,
    "start_time": "2024-06-13T03:02:00.205Z"
   },
   {
    "duration": 17,
    "start_time": "2024-06-13T03:02:00.264Z"
   },
   {
    "duration": 19,
    "start_time": "2024-06-13T03:02:00.284Z"
   },
   {
    "duration": 18,
    "start_time": "2024-06-13T03:02:00.328Z"
   },
   {
    "duration": 11,
    "start_time": "2024-06-13T03:02:00.350Z"
   },
   {
    "duration": 10,
    "start_time": "2024-06-13T03:02:00.363Z"
   },
   {
    "duration": 50,
    "start_time": "2024-06-13T03:02:00.377Z"
   },
   {
    "duration": 9,
    "start_time": "2024-06-13T03:02:00.430Z"
   },
   {
    "duration": 4,
    "start_time": "2024-06-13T03:02:00.443Z"
   },
   {
    "duration": 11,
    "start_time": "2024-06-13T03:02:00.451Z"
   },
   {
    "duration": 9,
    "start_time": "2024-06-13T03:02:00.465Z"
   },
   {
    "duration": 7,
    "start_time": "2024-06-13T03:02:00.522Z"
   },
   {
    "duration": 13,
    "start_time": "2024-06-13T03:02:00.537Z"
   },
   {
    "duration": 8,
    "start_time": "2024-06-13T03:02:00.553Z"
   },
   {
    "duration": 14,
    "start_time": "2024-06-13T03:02:00.563Z"
   },
   {
    "duration": 23,
    "start_time": "2024-06-13T03:02:00.624Z"
   },
   {
    "duration": 370,
    "start_time": "2024-06-13T03:02:00.650Z"
   },
   {
    "duration": 12,
    "start_time": "2024-06-13T03:02:01.023Z"
   },
   {
    "duration": 11,
    "start_time": "2024-06-13T03:02:01.038Z"
   },
   {
    "duration": 785,
    "start_time": "2024-06-13T03:02:01.052Z"
   },
   {
    "duration": 1185,
    "start_time": "2024-06-13T03:02:01.841Z"
   },
   {
    "duration": 24,
    "start_time": "2024-06-13T03:02:03.028Z"
   },
   {
    "duration": 18,
    "start_time": "2024-06-13T03:02:03.055Z"
   },
   {
    "duration": 47,
    "start_time": "2024-06-13T03:02:03.076Z"
   },
   {
    "duration": 404,
    "start_time": "2024-06-13T03:02:03.126Z"
   },
   {
    "duration": 3406,
    "start_time": "2024-06-13T03:02:03.533Z"
   },
   {
    "duration": 6,
    "start_time": "2024-06-13T03:02:06.944Z"
   },
   {
    "duration": 1020,
    "start_time": "2024-06-13T03:26:04.605Z"
   },
   {
    "duration": 921,
    "start_time": "2024-06-13T03:26:20.498Z"
   },
   {
    "duration": 409,
    "start_time": "2024-06-13T03:34:08.329Z"
   },
   {
    "duration": 338,
    "start_time": "2024-06-13T03:39:50.940Z"
   },
   {
    "duration": 327,
    "start_time": "2024-06-13T03:42:38.318Z"
   },
   {
    "duration": 12,
    "start_time": "2024-06-13T03:47:18.820Z"
   },
   {
    "duration": 11,
    "start_time": "2024-06-13T03:48:50.868Z"
   },
   {
    "duration": 11,
    "start_time": "2024-06-13T03:49:03.333Z"
   },
   {
    "duration": 311,
    "start_time": "2024-06-13T04:04:05.979Z"
   },
   {
    "duration": 319,
    "start_time": "2024-06-13T04:04:26.763Z"
   },
   {
    "duration": 21,
    "start_time": "2024-06-13T04:14:05.161Z"
   },
   {
    "duration": 235,
    "start_time": "2024-06-13T04:17:15.363Z"
   },
   {
    "duration": 793,
    "start_time": "2024-06-13T04:20:48.791Z"
   },
   {
    "duration": 95,
    "start_time": "2024-06-13T04:21:00.873Z"
   },
   {
    "duration": 44,
    "start_time": "2024-06-13T04:21:37.862Z"
   },
   {
    "duration": 137,
    "start_time": "2024-06-13T04:26:11.836Z"
   },
   {
    "duration": 116,
    "start_time": "2024-06-13T04:28:10.878Z"
   },
   {
    "duration": 309,
    "start_time": "2024-06-13T04:33:45.470Z"
   },
   {
    "duration": 301,
    "start_time": "2024-06-13T04:40:50.448Z"
   },
   {
    "duration": 374,
    "start_time": "2024-06-13T04:42:03.971Z"
   },
   {
    "duration": 343,
    "start_time": "2024-06-13T04:49:14.716Z"
   },
   {
    "duration": 275,
    "start_time": "2024-06-13T04:51:37.624Z"
   },
   {
    "duration": 514,
    "start_time": "2024-06-13T04:52:26.828Z"
   },
   {
    "duration": 15,
    "start_time": "2024-06-13T04:53:19.013Z"
   },
   {
    "duration": 28,
    "start_time": "2024-06-13T06:57:31.465Z"
   },
   {
    "duration": 1372,
    "start_time": "2024-06-13T06:58:16.041Z"
   },
   {
    "duration": 41,
    "start_time": "2024-06-13T06:58:17.423Z"
   },
   {
    "duration": 17,
    "start_time": "2024-06-13T06:58:17.467Z"
   },
   {
    "duration": 50,
    "start_time": "2024-06-13T06:58:17.488Z"
   },
   {
    "duration": 19,
    "start_time": "2024-06-13T06:58:17.543Z"
   },
   {
    "duration": 11,
    "start_time": "2024-06-13T06:58:17.565Z"
   },
   {
    "duration": 46,
    "start_time": "2024-06-13T06:58:17.579Z"
   },
   {
    "duration": 8,
    "start_time": "2024-06-13T06:58:17.629Z"
   },
   {
    "duration": 9,
    "start_time": "2024-06-13T06:58:17.640Z"
   },
   {
    "duration": 5,
    "start_time": "2024-06-13T06:58:17.653Z"
   },
   {
    "duration": 12,
    "start_time": "2024-06-13T06:58:17.662Z"
   },
   {
    "duration": 8,
    "start_time": "2024-06-13T06:58:17.725Z"
   },
   {
    "duration": 10,
    "start_time": "2024-06-13T06:58:17.736Z"
   },
   {
    "duration": 14,
    "start_time": "2024-06-13T06:58:17.754Z"
   },
   {
    "duration": 8,
    "start_time": "2024-06-13T06:58:17.771Z"
   },
   {
    "duration": 15,
    "start_time": "2024-06-13T06:58:17.822Z"
   },
   {
    "duration": 20,
    "start_time": "2024-06-13T06:58:17.841Z"
   },
   {
    "duration": 395,
    "start_time": "2024-06-13T06:58:17.864Z"
   },
   {
    "duration": 14,
    "start_time": "2024-06-13T06:58:18.263Z"
   },
   {
    "duration": 42,
    "start_time": "2024-06-13T06:58:18.281Z"
   },
   {
    "duration": 780,
    "start_time": "2024-06-13T06:58:18.326Z"
   },
   {
    "duration": 1285,
    "start_time": "2024-06-13T06:58:19.109Z"
   },
   {
    "duration": 371,
    "start_time": "2024-06-13T06:58:20.397Z"
   },
   {
    "duration": 384,
    "start_time": "2024-06-13T06:58:20.772Z"
   },
   {
    "duration": 27,
    "start_time": "2024-06-13T06:58:21.161Z"
   },
   {
    "duration": 38,
    "start_time": "2024-06-13T06:58:21.191Z"
   },
   {
    "duration": 369,
    "start_time": "2024-06-13T06:58:21.232Z"
   },
   {
    "duration": 238,
    "start_time": "2024-06-13T06:58:21.604Z"
   },
   {
    "duration": 16,
    "start_time": "2024-06-13T06:58:21.846Z"
   },
   {
    "duration": 12,
    "start_time": "2024-06-13T06:58:21.865Z"
   },
   {
    "duration": 515,
    "start_time": "2024-06-13T06:58:21.881Z"
   },
   {
    "duration": 2956,
    "start_time": "2024-06-13T06:58:22.399Z"
   },
   {
    "duration": 8,
    "start_time": "2024-06-13T06:58:25.358Z"
   },
   {
    "duration": 0,
    "start_time": "2024-06-13T06:58:25.369Z"
   },
   {
    "duration": 508,
    "start_time": "2024-06-13T06:58:36.049Z"
   },
   {
    "duration": 30,
    "start_time": "2024-06-13T06:58:47.691Z"
   },
   {
    "duration": 902,
    "start_time": "2024-06-13T06:59:40.440Z"
   },
   {
    "duration": 93,
    "start_time": "2024-06-13T07:00:55.807Z"
   },
   {
    "duration": 90,
    "start_time": "2024-06-13T07:01:16.841Z"
   },
   {
    "duration": 14,
    "start_time": "2024-06-13T07:04:33.644Z"
   },
   {
    "duration": 14,
    "start_time": "2024-06-13T07:09:51.928Z"
   },
   {
    "duration": 15,
    "start_time": "2024-06-13T07:19:16.576Z"
   },
   {
    "duration": 17,
    "start_time": "2024-06-13T07:20:20.949Z"
   },
   {
    "duration": 14,
    "start_time": "2024-06-13T07:26:37.308Z"
   },
   {
    "duration": 13,
    "start_time": "2024-06-13T07:26:37.848Z"
   },
   {
    "duration": 14,
    "start_time": "2024-06-13T07:26:39.260Z"
   },
   {
    "duration": 16,
    "start_time": "2024-06-13T07:26:39.809Z"
   },
   {
    "duration": 1328,
    "start_time": "2024-06-13T07:29:44.930Z"
   },
   {
    "duration": 39,
    "start_time": "2024-06-13T07:29:46.262Z"
   },
   {
    "duration": 23,
    "start_time": "2024-06-13T07:29:46.304Z"
   },
   {
    "duration": 19,
    "start_time": "2024-06-13T07:29:46.331Z"
   },
   {
    "duration": 18,
    "start_time": "2024-06-13T07:29:46.353Z"
   },
   {
    "duration": 49,
    "start_time": "2024-06-13T07:29:46.374Z"
   },
   {
    "duration": 10,
    "start_time": "2024-06-13T07:29:46.426Z"
   },
   {
    "duration": 8,
    "start_time": "2024-06-13T07:29:46.440Z"
   },
   {
    "duration": 8,
    "start_time": "2024-06-13T07:29:46.451Z"
   },
   {
    "duration": 5,
    "start_time": "2024-06-13T07:29:46.467Z"
   },
   {
    "duration": 11,
    "start_time": "2024-06-13T07:29:46.524Z"
   },
   {
    "duration": 8,
    "start_time": "2024-06-13T07:29:46.539Z"
   },
   {
    "duration": 6,
    "start_time": "2024-06-13T07:29:46.550Z"
   },
   {
    "duration": 13,
    "start_time": "2024-06-13T07:29:46.560Z"
   },
   {
    "duration": 53,
    "start_time": "2024-06-13T07:29:46.576Z"
   },
   {
    "duration": 23,
    "start_time": "2024-06-13T07:29:46.632Z"
   },
   {
    "duration": 22,
    "start_time": "2024-06-13T07:29:46.659Z"
   },
   {
    "duration": 391,
    "start_time": "2024-06-13T07:29:46.684Z"
   },
   {
    "duration": 12,
    "start_time": "2024-06-13T07:29:47.078Z"
   },
   {
    "duration": 34,
    "start_time": "2024-06-13T07:29:47.094Z"
   },
   {
    "duration": 765,
    "start_time": "2024-06-13T07:29:47.131Z"
   },
   {
    "duration": 1179,
    "start_time": "2024-06-13T07:29:47.900Z"
   },
   {
    "duration": 324,
    "start_time": "2024-06-13T07:29:49.084Z"
   },
   {
    "duration": 351,
    "start_time": "2024-06-13T07:29:49.412Z"
   },
   {
    "duration": 26,
    "start_time": "2024-06-13T07:29:49.766Z"
   },
   {
    "duration": 40,
    "start_time": "2024-06-13T07:29:49.795Z"
   },
   {
    "duration": 374,
    "start_time": "2024-06-13T07:29:49.838Z"
   },
   {
    "duration": 253,
    "start_time": "2024-06-13T07:29:50.225Z"
   },
   {
    "duration": 18,
    "start_time": "2024-06-13T07:29:50.482Z"
   },
   {
    "duration": 15,
    "start_time": "2024-06-13T07:29:50.522Z"
   },
   {
    "duration": 542,
    "start_time": "2024-06-13T07:29:50.540Z"
   },
   {
    "duration": 2993,
    "start_time": "2024-06-13T07:29:51.085Z"
   },
   {
    "duration": 16,
    "start_time": "2024-06-13T07:29:54.081Z"
   },
   {
    "duration": 32,
    "start_time": "2024-06-13T07:29:54.101Z"
   },
   {
    "duration": 16,
    "start_time": "2024-06-13T07:29:54.136Z"
   },
   {
    "duration": 16,
    "start_time": "2024-06-13T07:29:54.155Z"
   },
   {
    "duration": 667,
    "start_time": "2024-06-13T07:38:30.443Z"
   },
   {
    "duration": 478,
    "start_time": "2024-06-13T07:39:54.052Z"
   },
   {
    "duration": 620,
    "start_time": "2024-06-13T07:40:44.951Z"
   },
   {
    "duration": 38,
    "start_time": "2024-06-13T07:43:30.308Z"
   },
   {
    "duration": 683,
    "start_time": "2024-06-13T07:48:04.690Z"
   },
   {
    "duration": 34,
    "start_time": "2024-06-13T07:48:06.547Z"
   },
   {
    "duration": 35,
    "start_time": "2024-06-13T07:50:41.759Z"
   },
   {
    "duration": 52,
    "start_time": "2024-06-13T07:51:21.679Z"
   },
   {
    "duration": 1269,
    "start_time": "2024-06-13T07:51:37.992Z"
   },
   {
    "duration": 664,
    "start_time": "2024-06-13T07:59:35.348Z"
   },
   {
    "duration": 416,
    "start_time": "2024-06-13T08:02:43.490Z"
   },
   {
    "duration": 388,
    "start_time": "2024-06-13T08:03:06.104Z"
   },
   {
    "duration": 394,
    "start_time": "2024-06-13T08:06:30.938Z"
   },
   {
    "duration": 401,
    "start_time": "2024-06-13T08:06:36.837Z"
   }
  ],
  "kernelspec": {
   "display_name": "Python 3 (ipykernel)",
   "language": "python",
   "name": "python3"
  },
  "language_info": {
   "codemirror_mode": {
    "name": "ipython",
    "version": 3
   },
   "file_extension": ".py",
   "mimetype": "text/x-python",
   "name": "python",
   "nbconvert_exporter": "python",
   "pygments_lexer": "ipython3",
   "version": "3.9.19"
  },
  "toc": {
   "base_numbering": 1,
   "nav_menu": {},
   "number_sections": true,
   "sideBar": true,
   "skip_h1_title": true,
   "title_cell": "Table of Contents",
   "title_sidebar": "Contents",
   "toc_cell": false,
   "toc_position": {},
   "toc_section_display": true,
   "toc_window_display": false
  }
 },
 "nbformat": 4,
 "nbformat_minor": 2
}
