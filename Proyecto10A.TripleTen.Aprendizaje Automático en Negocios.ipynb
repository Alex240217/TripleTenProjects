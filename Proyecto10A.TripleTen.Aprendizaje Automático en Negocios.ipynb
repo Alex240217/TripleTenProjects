{
 "cells": [
  {
   "cell_type": "markdown",
   "metadata": {},
   "source": [
    "¡Hola!\n",
    "\n",
    "Mi nombre es Tonatiuh Cruz. Me complace revisar tu proyecto hoy.\n",
    "\n",
    "Al identificar cualquier error inicialmente, simplemente los destacaré. Te animo a localizar y abordar los problemas de forma independiente como parte de tu preparación para un rol como data-scientist. En un entorno profesional, tu líder de equipo seguiría un enfoque similar. Si encuentras la tarea desafiante, proporcionaré una pista más específica en la próxima iteración.\n",
    "\n",
    "Encontrarás mis comentarios a continuación - **por favor no los muevas, modifiques o elimines**.\n",
    "\n",
    "Puedes encontrar mis comentarios en cajas verdes, amarillas o rojas como esta:\n",
    "\n",
    "<div class=\"alert alert-block alert-success\">\n",
    "<b>Comentario del revisor</b> <a class=\"tocSkip\"></a>\n",
    "\n",
    "Éxito. Todo está hecho correctamente.\n",
    "</div>\n",
    "\n",
    "<div class=\"alert alert-block alert-warning\">\n",
    "<b>Comentario del revisor</b> <a class=\"tocSkip\"></a>\n",
    "\n",
    "Observaciones. Algunas recomendaciones.\n",
    "</div>\n",
    "\n",
    "<div class=\"alert alert-block alert-danger\">\n",
    "<b>Comentario del revisor</b> <a class=\"tocSkip\"></a>\n",
    "\n",
    "Necesita corrección. El bloque requiere algunas correcciones. El trabajo no puede ser aceptado con comentarios en rojo.\n",
    "</div>\n",
    "\n",
    "Puedes responderme utilizando esto:\n",
    "\n",
    "<div class=\"alert alert-block alert-info\">\n",
    "<b>Respuesta del estudiante.</b> <a class=\"tocSkip\"></a>\n",
    "</div>"
   ]
  },
  {
   "cell_type": "markdown",
   "metadata": {},
   "source": [
    "# Proyecto Sprint 10 "
   ]
  },
  {
   "cell_type": "markdown",
   "metadata": {},
   "source": [
    "## Contexto y Objetivos.\n",
    "\n",
    "Tu tarea es encontrar los mejores lugares donde abrir 200 pozos nuevos de petróleo.\n",
    "\n",
    "Condiciones:\n",
    "\n",
    "Solo se debe usar la regresión lineal para el entrenamiento del modelo.\n",
    "\n",
    "Al explorar la región, se lleva a cabo un estudio de 500 puntos con la selección de los mejores 200 puntos para el cálculo del beneficio.\n",
    "\n",
    "El presupuesto para el desarrollo de 200 pozos petroleros es de 100 millones de dólares.\n",
    "\n",
    "Un barril de materias primas genera 4.5 USD de ingresos. El ingreso de una unidad de producto es de 4500 dólares (el volumen de reservas está expresado en miles de barriles).\n",
    "\n",
    "Después de la evaluación de riesgo, mantén solo las regiones con riesgo de pérdidas inferior al 2.5%. De las que se ajustan a los criterios, se debe seleccionar la región con el beneficio promedio más alto.\n",
    "\n",
    "\n",
    "Instrucciones del proyecto\n",
    "\n",
    "Descarga y prepara los datos. Explica el procedimiento.\n",
    "\n",
    "Entrena y prueba el modelo para cada región en geo_data_0.csv:\n",
    "\n",
    "Divide los datos en un conjunto de entrenamiento y un conjunto de validación en una proporción de 75:25\n",
    "\n",
    "Entrena el modelo y haz predicciones para el conjunto de validación.\n",
    "\n",
    "Guarda las predicciones y las respuestas correctas para el conjunto de validación.\n",
    "\n",
    "Muestra el volumen medio de reservas predicho y RMSE del modelo.\n",
    "\n",
    "Analiza los resultados.\n",
    "\n",
    "Coloca todos los pasos previos en funciones, realiza y ejecuta los pasos 2.1-2.5 para los archivos 'geo_data_1.csv' y 'geo_data_2.csv'.\n",
    "\n",
    "Prepárate para el cálculo de ganancias:\n",
    "\n",
    "Almacena todos los valores necesarios para los cálculos en variables separadas.\n",
    "\n",
    "Dada la inversión de 100 millones por 200 pozos petrolíferos, de media un pozo petrolífero debe producir al menos un valor de 500,000 dólares en unidades para evitar pérdidas (esto es equivalente a 111.1 unidades). Compara esta cantidad con la cantidad media de reservas en cada región.\n",
    "\n",
    "Presenta conclusiones sobre cómo preparar el paso para calcular el beneficio.\n",
    "\n",
    "Escribe una función para calcular la ganancia de un conjunto de pozos de petróleo seleccionados y modela las predicciones:\n",
    "\n",
    "Elige los 200 pozos con los valores de predicción más altos de cada una de las 3 regiones (es decir, archivos 'csv').\n",
    "\n",
    "Resume el volumen objetivo de reservas según dichas predicciones. Almacena las predicciones para los 200 pozos para cada una de las 3 regiones.\n",
    "\n",
    "Calcula la ganancia potencial de los 200 pozos principales por región. Presenta tus conclusiones: propón una región para el desarrollo de pozos petrolíferos y justifica tu elección.\n",
    "\n",
    "Calcula riesgos y ganancias para cada región:\n",
    "\n",
    "Utilizando las predicciones que almacenaste en el paso 4.2, emplea la técnica del bootstrapping con 1000 muestras para hallar la distribución de los beneficios.\n",
    "\n",
    "Encuentra el beneficio promedio, el intervalo de confianza del 95% y el riesgo de pérdidas. La pérdida es una ganancia negativa, calcúlala como una probabilidad y luego exprésala como un porcentaje.\n",
    "\n",
    "Presenta tus conclusiones: propón una región para el desarrollo de pozos petrolíferos y justifica tu elección. ¿Coincide tu elección con la elección anterior?"
   ]
  },
  {
   "cell_type": "markdown",
   "metadata": {},
   "source": [
    "## Importación de Datos y Carga de Librerias. "
   ]
  },
  {
   "cell_type": "code",
   "execution_count": 1,
   "metadata": {},
   "outputs": [],
   "source": [
    "import pandas as pd \n",
    "import numpy as np\n",
    "from IPython.display import HTML\n",
    "import matplotlib.pyplot as plt\n",
    "from sklearn.model_selection import train_test_split\n",
    "from sklearn.linear_model import LinearRegression\n",
    "from sklearn.preprocessing import StandardScaler, MinMaxScaler\n",
    "from sklearn.metrics import accuracy_score, precision_score, recall_score, f1_score, roc_auc_score, r2_score, mean_squared_error"
   ]
  },
  {
   "cell_type": "code",
   "execution_count": 2,
   "metadata": {},
   "outputs": [],
   "source": [
    "df0=pd.read_csv(\"/datasets/geo_data_0.csv\")\n",
    "df1=pd.read_csv(\"/datasets/geo_data_1.csv\")\n",
    "df2=pd.read_csv(\"/datasets/geo_data_2.csv\")"
   ]
  },
  {
   "cell_type": "markdown",
   "metadata": {},
   "source": [
    "### Revisión de Datos. "
   ]
  },
  {
   "cell_type": "code",
   "execution_count": 3,
   "metadata": {},
   "outputs": [
    {
     "name": "stdout",
     "output_type": "stream",
     "text": [
      "      id        f0        f1        f2     product\n",
      "0  txEyH  0.705745 -0.497823  1.221170  105.280062\n",
      "1  2acmU  1.334711 -0.340164  4.365080   73.037750\n",
      "2  409Wp  1.022732  0.151990  1.419926   85.265647\n",
      "3  iJLyR -0.032172  0.139033  2.978566  168.620776\n",
      "4  Xdl7t  1.988431  0.155413  4.751769  154.036647\n",
      "\n",
      "      id         f0         f1        f2     product\n",
      "0  kBEdx -15.001348  -8.276000 -0.005876    3.179103\n",
      "1  62mP7  14.272088  -3.475083  0.999183   26.953261\n",
      "2  vyE1P   6.263187  -5.948386  5.001160  134.766305\n",
      "3  KcrkZ -13.081196 -11.506057  4.999415  137.945408\n",
      "4  AHL4O  12.702195  -8.147433  5.004363  134.766305\n",
      "\n",
      "      id        f0        f1        f2     product\n",
      "0  fwXo0 -1.146987  0.963328 -0.828965   27.758673\n",
      "1  WJtFt  0.262778  0.269839 -2.530187   56.069697\n",
      "2  ovLUW  0.194587  0.289035 -5.586433   62.871910\n",
      "3  q6cA6  2.236060 -0.553760  0.930038  114.572842\n",
      "4  WPMUX -0.515993  1.716266  5.899011  149.600746\n",
      "\n"
     ]
    }
   ],
   "source": [
    "print(df0.head())\n",
    "print()\n",
    "print(df1.head())\n",
    "print()\n",
    "print(df2.head())\n",
    "print()"
   ]
  },
  {
   "cell_type": "code",
   "execution_count": 4,
   "metadata": {},
   "outputs": [
    {
     "name": "stdout",
     "output_type": "stream",
     "text": [
      "<class 'pandas.core.frame.DataFrame'>\n",
      "RangeIndex: 100000 entries, 0 to 99999\n",
      "Data columns (total 5 columns):\n",
      " #   Column   Non-Null Count   Dtype  \n",
      "---  ------   --------------   -----  \n",
      " 0   id       100000 non-null  object \n",
      " 1   f0       100000 non-null  float64\n",
      " 2   f1       100000 non-null  float64\n",
      " 3   f2       100000 non-null  float64\n",
      " 4   product  100000 non-null  float64\n",
      "dtypes: float64(4), object(1)\n",
      "memory usage: 3.8+ MB\n",
      "None\n",
      "\n",
      "<class 'pandas.core.frame.DataFrame'>\n",
      "RangeIndex: 100000 entries, 0 to 99999\n",
      "Data columns (total 5 columns):\n",
      " #   Column   Non-Null Count   Dtype  \n",
      "---  ------   --------------   -----  \n",
      " 0   id       100000 non-null  object \n",
      " 1   f0       100000 non-null  float64\n",
      " 2   f1       100000 non-null  float64\n",
      " 3   f2       100000 non-null  float64\n",
      " 4   product  100000 non-null  float64\n",
      "dtypes: float64(4), object(1)\n",
      "memory usage: 3.8+ MB\n",
      "None\n",
      "\n",
      "<class 'pandas.core.frame.DataFrame'>\n",
      "RangeIndex: 100000 entries, 0 to 99999\n",
      "Data columns (total 5 columns):\n",
      " #   Column   Non-Null Count   Dtype  \n",
      "---  ------   --------------   -----  \n",
      " 0   id       100000 non-null  object \n",
      " 1   f0       100000 non-null  float64\n",
      " 2   f1       100000 non-null  float64\n",
      " 3   f2       100000 non-null  float64\n",
      " 4   product  100000 non-null  float64\n",
      "dtypes: float64(4), object(1)\n",
      "memory usage: 3.8+ MB\n",
      "None\n",
      "\n",
      "0\n",
      "\n",
      "0\n",
      "\n",
      "0\n"
     ]
    }
   ],
   "source": [
    "print(df0.info())\n",
    "print()\n",
    "print(df1.info())\n",
    "print()\n",
    "print(df2.info())\n",
    "print()\n",
    "print(df0.duplicated().sum())\n",
    "print()\n",
    "print(df1.duplicated().sum())\n",
    "print()\n",
    "print(df2.duplicated().sum())"
   ]
  },
  {
   "cell_type": "markdown",
   "metadata": {},
   "source": [
    "### Conclusiones.\n",
    "\n",
    "Podemos observar que los tres dataframes estan compuestos por 5 columnas y 100,000 filas, el type de los datos es el correcto en los 3 dataframes y no encontramos valores nulos ni filas repetidas en ninguno de los casos. "
   ]
  },
  {
   "cell_type": "markdown",
   "metadata": {},
   "source": [
    "<div class=\"alert alert-block alert-success\">\n",
    "<b>Comentario del revisor</b> <a class=\"tocSkip\"></a>\n",
    "\n",
    "Buena exploración inicial de los datos. En este punto ya tienes una idea general de cómo están distribuidos los datos de las diferentes regiones.\n",
    "</div>"
   ]
  },
  {
   "cell_type": "markdown",
   "metadata": {},
   "source": [
    "## Entrenamiento y Prueba del Modelo."
   ]
  },
  {
   "cell_type": "code",
   "execution_count": 5,
   "metadata": {},
   "outputs": [
    {
     "name": "stdout",
     "output_type": "stream",
     "text": [
      "(75000, 5)\n",
      "(25000, 5)\n",
      "Mean Squared Error (MSE): 1428.1405969008988\n",
      "Root Mean Squared Error (RMSE): 37.79074750386526\n",
      "R^2 Score: 0.26776014012545246\n",
      "Promedio de las predicciones: 92.5244\n"
     ]
    },
    {
     "data": {
      "image/png": "[encoded data removed]",
      "text/plain": [
       "<Figure size 800x400 with 1 Axes>"
      ]
     },
     "metadata": {},
     "output_type": "display_data"
    },
    {
     "name": "stdout",
     "output_type": "stream",
     "text": [
      "          id        f0        f1        f2     product  predictions\n",
      "44587  pxU7m  0.317542 -0.248327  6.336022  115.280823   124.089079\n",
      "78610  Z1XrS -0.796904  0.671518  7.881672  143.001721   117.180341\n",
      "81732  Nwu1P -0.063480  0.591133  2.861750  183.911296    87.908062\n",
      "85755  ZjTNn  0.146021  0.804540  2.604513   38.049557    84.079244\n",
      "58038  JG1Sc  2.089738  0.253895  5.560110  159.519848   119.027789\n",
      "<class 'pandas.core.frame.DataFrame'>\n",
      "Int64Index: 25000 entries, 44587 to 55956\n",
      "Data columns (total 6 columns):\n",
      " #   Column       Non-Null Count  Dtype  \n",
      "---  ------       --------------  -----  \n",
      " 0   id           25000 non-null  object \n",
      " 1   f0           25000 non-null  float64\n",
      " 2   f1           25000 non-null  float64\n",
      " 3   f2           25000 non-null  float64\n",
      " 4   product      25000 non-null  float64\n",
      " 5   predictions  25000 non-null  float64\n",
      "dtypes: float64(5), object(1)\n",
      "memory usage: 1.3+ MB\n",
      "None\n"
     ]
    }
   ],
   "source": [
    "# Definimos el target y los features para posteriormente dividir el dataframe en los segmentos de train y valid.\n",
    "target = \"product\"\n",
    "entity_columns = \"id\"\n",
    "features = [\"f0\", \"f1\", \"f2\"]\n",
    "\n",
    "# Dividimos el dataframe en segmentos de train y valid\n",
    "train, valid = train_test_split(df0, test_size=0.25, random_state=8)\n",
    "\n",
    "print(train.shape)\n",
    "print(valid.shape)\n",
    "\n",
    "# Escalado de datos\n",
    "scaler = StandardScaler()\n",
    "train_scaled = scaler.fit_transform(train[features])\n",
    "valid_scaled = scaler.transform(valid[features])\n",
    "\n",
    "# Entrenamos el modelo\n",
    "model_0 = LinearRegression()\n",
    "model_0.fit(train_scaled, train[target])\n",
    "preds_0 = model_0.predict(valid_scaled)\n",
    "\n",
    "# Resultados\n",
    "results_df_0 = valid.copy()\n",
    "results_df_0[\"predictions\"] = preds_0\n",
    "\n",
    "mse = mean_squared_error(valid[target], preds_0)\n",
    "rmse = np.sqrt(mse)\n",
    "r2 = r2_score(valid[target], preds_0)\n",
    "\n",
    "print(f'Mean Squared Error (MSE): {mse}')\n",
    "print(f'Root Mean Squared Error (RMSE): {rmse}')\n",
    "print(f'R^2 Score: {r2}')\n",
    "print(f'Promedio de las predicciones: {round(preds_0.mean(), 4)}')\n",
    "\n",
    "# Gráfico\n",
    "plt.figure(figsize=(8, 4))\n",
    "ax = plt.gca()\n",
    "valid[target].hist(ax=ax, label=\"target\", alpha=0.5)\n",
    "ax.hist(preds_0, label=\"prediction\", alpha=0.5)\n",
    "plt.legend()\n",
    "plt.show()\n",
    "\n",
    "print(results_df_0.head())\n",
    "print(results_df_0.info())\n"
   ]
  },
  {
   "cell_type": "markdown",
   "metadata": {},
   "source": [
    "<div class=\"alert alert-block alert-danger\">\n",
    "<b>Comentario del revisor</b> <a class=\"tocSkip\"></a>\n",
    "\n",
    "Buen trabajo segmentando, solamente recuerda realizar el escalado la información. El escalado te puede ser muy útil para mejorar el rendimiento del modelo al asegurar que todas las características tienen el mismo rango. \n",
    "</div>"
   ]
  },
  {
   "cell_type": "markdown",
   "metadata": {},
   "source": [
    "<div class=\"alert alert-block alert-success\">\n",
    "<b>Comentario del revisor</b> <a class=\"tocSkip\"></a>\n",
    "\n",
    "Gran trabajo con los ajustes!\n",
    "</div>"
   ]
  },
  {
   "cell_type": "markdown",
   "metadata": {},
   "source": [
    "### Buenas tardes Tonatiuh, ya incluí el escalado de los datos, tanto en la revisión del primer dataframe como en la función para los otros dos, al no cambiar los valores mantengo las mismas conclusiones, muchas gracias "
   ]
  },
  {
   "cell_type": "code",
   "execution_count": 6,
   "metadata": {},
   "outputs": [],
   "source": [
    "def linear_regression_analysis(df, target, features, test_size=0.25, random_state=8, plot_histogram=False, df_name=\"DataFrame\"):\n",
    "    # Dividimos el dataframe en segmentos de entrenamiento y validación\n",
    "    train, valid = train_test_split(df, test_size=test_size, random_state=random_state)\n",
    "\n",
    "    print(f'Tamaño del conjunto de entrenamiento: {train.shape}')\n",
    "    print(f'Tamaño del conjunto de validación: {valid.shape}')\n",
    "\n",
    "    # Escalado de datos\n",
    "    scaler = StandardScaler()\n",
    "    train_scaled = scaler.fit_transform(train[features])\n",
    "    valid_scaled = scaler.transform(valid[features])\n",
    "\n",
    "    # Entrenamos el modelo\n",
    "    model = LinearRegression()\n",
    "    model.fit(train_scaled, train[target])\n",
    "\n",
    "    # Predicciones\n",
    "    preds = model.predict(valid_scaled)\n",
    "\n",
    "    # Métricas de evaluación\n",
    "    mse = mean_squared_error(valid[target], preds)\n",
    "    rmse = np.sqrt(mse)\n",
    "    r2 = r2_score(valid[target], preds)\n",
    "\n",
    "    print(f'Mean Squared Error (MSE): {mse}')\n",
    "    print(f'Root Mean Squared Error (RMSE): {rmse}')\n",
    "    print(f'R^2 Score: {r2}')\n",
    "    print(f'Promedio de las predicciones: {round(preds.mean(), 4)}')\n",
    "\n",
    "    mean_target_value = valid[target].mean()\n",
    "    relative_rmse = (rmse / mean_target_value) * 100\n",
    "    print(f'El RMSE representa aproximadamente el {relative_rmse:.2f}% del valor medio del objetivo.')\n",
    "    \n",
    "    # Resultados\n",
    "    results_df = valid.copy()\n",
    "    results_df[\"predictions\"] = preds\n",
    "    results_df.name = df_name\n",
    "\n",
    "    # Gráfico opcional\n",
    "    if plot_histogram:\n",
    "        plt.figure(figsize=(8, 4))\n",
    "        ax = plt.gca()\n",
    "        valid[target].hist(ax=ax, label=\"target\", alpha=0.5)\n",
    "        ax.hist(preds, label=\"prediction\", alpha=0.5)\n",
    "        plt.legend()\n",
    "        plt.show()\n",
    "\n",
    "    return {\n",
    "        'model': model,\n",
    "        'mse': mse,\n",
    "        'rmse': rmse,\n",
    "        'r2': r2,\n",
    "        'mean_pred': round(preds.mean(), 4),\n",
    "        'relative_rmse': relative_rmse,\n",
    "        'results_df': results_df \n",
    "    }\n"
   ]
  },
  {
   "cell_type": "code",
   "execution_count": 7,
   "metadata": {},
   "outputs": [
    {
     "name": "stdout",
     "output_type": "stream",
     "text": [
      "Tamaño del conjunto de entrenamiento: (75000, 5)\n",
      "Tamaño del conjunto de validación: (25000, 5)\n",
      "Mean Squared Error (MSE): 0.7904608808460346\n",
      "Root Mean Squared Error (RMSE): 0.8890786696609219\n",
      "R^2 Score: 0.9996269869164385\n",
      "Promedio de las predicciones: 69.0012\n",
      "El RMSE representa aproximadamente el 1.29% del valor medio del objetivo.\n"
     ]
    },
    {
     "data": {
      "image/png": "[encoded data removed]",
      "text/plain": [
       "<Figure size 800x400 with 1 Axes>"
      ]
     },
     "metadata": {},
     "output_type": "display_data"
    },
    {
     "name": "stdout",
     "output_type": "stream",
     "text": [
      "          id         f0         f1        f2     product  predictions\n",
      "44587  TmNZ6   6.542701  -6.828050  1.002575   26.953261    27.875536\n",
      "78610  q1ySJ  -2.390464  -1.749470  3.999152  110.992147   109.823286\n",
      "81732  2EaLb  17.367245  -6.450393  0.009930    0.000000    -0.453222\n",
      "85755  d0FY2 -11.577116 -11.800480  3.998211  110.992147   111.343662\n",
      "58038  2QZsS  -1.320143  -6.516750  2.998591   84.038886    82.803660\n",
      "Nombre del DataFrame resultante: results_df1\n",
      "<class 'pandas.core.frame.DataFrame'>\n",
      "Int64Index: 25000 entries, 44587 to 55956\n",
      "Data columns (total 6 columns):\n",
      " #   Column       Non-Null Count  Dtype  \n",
      "---  ------       --------------  -----  \n",
      " 0   id           25000 non-null  object \n",
      " 1   f0           25000 non-null  float64\n",
      " 2   f1           25000 non-null  float64\n",
      " 3   f2           25000 non-null  float64\n",
      " 4   product      25000 non-null  float64\n",
      " 5   predictions  25000 non-null  float64\n",
      "dtypes: float64(5), object(1)\n",
      "memory usage: 1.3+ MB\n",
      "None\n"
     ]
    }
   ],
   "source": [
    "target = \"product\"\n",
    "features = [\"f0\", \"f1\", \"f2\"]\n",
    "\n",
    "results = linear_regression_analysis(df1, target, features, plot_histogram=True)\n",
    "\n",
    "results_df1 = results['results_df']\n",
    "results_df1.name = \"results_df1\"\n",
    "\n",
    "print(results_df1.head())\n",
    "print(\"Nombre del DataFrame resultante:\", results_df1.name)\n",
    "print(results_df1.info())"
   ]
  },
  {
   "cell_type": "code",
   "execution_count": null,
   "metadata": {},
   "outputs": [],
   "source": []
  },
  {
   "cell_type": "code",
   "execution_count": 8,
   "metadata": {},
   "outputs": [
    {
     "name": "stdout",
     "output_type": "stream",
     "text": [
      "Tamaño del conjunto de entrenamiento: (75000, 5)\n",
      "Tamaño del conjunto de validación: (25000, 5)\n",
      "Mean Squared Error (MSE): 1615.3574131618968\n",
      "Root Mean Squared Error (RMSE): 40.19150921726997\n",
      "R^2 Score: 0.20357429641696845\n",
      "Promedio de las predicciones: 95.1301\n",
      "El RMSE representa aproximadamente el 42.42% del valor medio del objetivo.\n"
     ]
    },
    {
     "data": {
      "image/png": "[encoded data removed]",
      "text/plain": [
       "<Figure size 800x400 with 1 Axes>"
      ]
     },
     "metadata": {},
     "output_type": "display_data"
    },
    {
     "name": "stdout",
     "output_type": "stream",
     "text": [
      "          id         f0         f1        f2     product  predictions\n",
      "44587  TmNZ6   6.542701  -6.828050  1.002575   26.953261    27.875536\n",
      "78610  q1ySJ  -2.390464  -1.749470  3.999152  110.992147   109.823286\n",
      "81732  2EaLb  17.367245  -6.450393  0.009930    0.000000    -0.453222\n",
      "85755  d0FY2 -11.577116 -11.800480  3.998211  110.992147   111.343662\n",
      "58038  2QZsS  -1.320143  -6.516750  2.998591   84.038886    82.803660\n",
      "Nombre del DataFrame resultante: results_df2\n",
      "<class 'pandas.core.frame.DataFrame'>\n",
      "Int64Index: 25000 entries, 44587 to 55956\n",
      "Data columns (total 6 columns):\n",
      " #   Column       Non-Null Count  Dtype  \n",
      "---  ------       --------------  -----  \n",
      " 0   id           25000 non-null  object \n",
      " 1   f0           25000 non-null  float64\n",
      " 2   f1           25000 non-null  float64\n",
      " 3   f2           25000 non-null  float64\n",
      " 4   product      25000 non-null  float64\n",
      " 5   predictions  25000 non-null  float64\n",
      "dtypes: float64(5), object(1)\n",
      "memory usage: 1.3+ MB\n",
      "None\n"
     ]
    }
   ],
   "source": [
    "target = \"product\"\n",
    "features = [\"f0\", \"f1\", \"f2\"]\n",
    "\n",
    "results = linear_regression_analysis(df2, target, features, plot_histogram=True)\n",
    "\n",
    "results_df2 = results['results_df']\n",
    "results_df2.name = \"results_df2\"\n",
    "\n",
    "print(results_df1.head())\n",
    "print(\"Nombre del DataFrame resultante:\", results_df2.name)\n",
    "print(results_df2.info())"
   ]
  },
  {
   "cell_type": "markdown",
   "metadata": {},
   "source": [
    "### Conclusiones.\n",
    "\n",
    "Al usar el modelo de regresión lineal y comparar las predicciones con los datos podemos observar figuras que coinciden parcialmente en los dataframe 0 y 2, sin embargo encontramos discrepancias relevantes en el df1, especialmente en los datos centrales; sin embargo resulta relevante el RSME resulta particularmente alto para los dataframe 0 y 2 (40.82% y 42.42% respectivamente) mientras que para el df1 resulta de solo el 1.29%.\n",
    "\n",
    "Respecto a las predicciones para el df0 el valor promedio de las predicciones fué de 92.5244, mientras que para el df1 fue de 69.0012 y para el df2 fue de 95.1301.\n",
    "\n",
    "En otras palabras, los dos DF con mayor valor promedio en las predicciones también manifiestan un RSME mayor. "
   ]
  },
  {
   "cell_type": "markdown",
   "metadata": {},
   "source": [
    "<div class=\"alert alert-block alert-success\">\n",
    "<b>Comentario del revisor</b> <a class=\"tocSkip\"></a>\n",
    "\n",
    "Implementaste el modelo de regresión logística de forma excelente para los 3 conjuntos de datos! En este punto ya puedes obervar cuál es el modelo con el mayor $R^2$ y menor RMSE. A pesar de que la elección de la región 1 pareciera ser muy clara por estas dos métricas, su volumen es significativamente menor al de las otras regiones. Debido a esto es necesario realizar unos cuántos análisis más.\n",
    "</div>"
   ]
  },
  {
   "cell_type": "markdown",
   "metadata": {},
   "source": [
    "## Cálculo de Ganancias"
   ]
  },
  {
   "cell_type": "code",
   "execution_count": 9,
   "metadata": {},
   "outputs": [],
   "source": [
    "# Variables\n",
    "income_per_unit= 4500 \n",
    "cost_per_200wells= 100000000\n",
    "risk_threshold=0.025\n"
   ]
  },
  {
   "cell_type": "code",
   "execution_count": 10,
   "metadata": {},
   "outputs": [
    {
     "name": "stdout",
     "output_type": "stream",
     "text": [
      "La cantidad de reservas medias de la región 0 es: 92.50000000000001\n",
      "La cantidad de reservas medias de la región 1 es: 68.82500000000002\n",
      "La cantidad de reservas medias de la región 2 es: 95.00000000000004\n"
     ]
    }
   ],
   "source": [
    "# Comparación del mínimo de barriles requeridos para cubrir la inversión(111.1)\n",
    "\n",
    "print(\"La cantidad de reservas medias de la región 0 es:\", df0[\"product\"].mean())\n",
    "print(\"La cantidad de reservas medias de la región 1 es:\", df1[\"product\"].mean())\n",
    "print(\"La cantidad de reservas medias de la región 2 es:\", df2[\"product\"].mean())"
   ]
  },
  {
   "cell_type": "code",
   "execution_count": 11,
   "metadata": {},
   "outputs": [],
   "source": [
    "def compute_gains(df,\n",
    "    prediction_col=\"predictions\",\n",
    "    product_col=\"product\",\n",
    "    cost_per_200wells=100000000, \n",
    "    income_per_unit=4500,\n",
    "    print_results=False\n",
    "):\n",
    "    df_ordered = df.sort_values(by=prediction_col, ascending=False).reset_index(drop=True)\n",
    "    top_200_wells = df_ordered.head(200)\n",
    "    \n",
    "    estimated_revenues = top_200_wells[prediction_col].sum() * income_per_unit\n",
    "    estimated_profit = estimated_revenues - cost_per_200wells\n",
    "    \n",
    "    real_revenues = top_200_wells[product_col].sum() * income_per_unit\n",
    "    real_profit = real_revenues - cost_per_200wells\n",
    "    \n",
    "    mean_predicted_target = round(top_200_wells[prediction_col].mean(), 4)\n",
    "    mean_target = round(top_200_wells[product_col].mean(), 4)\n",
    "    \n",
    "    if print_results:\n",
    "        print(f\"\"\"\n",
    "    Mean predicted target: {mean_predicted_target}\n",
    "    Mean target: {mean_target}\n",
    "    \n",
    "    Estimated revenues: {round(estimated_revenues, 4)}\n",
    "    Estimated profit: {round(estimated_profit, 4)}\n",
    "    \n",
    "    Real revenues: {round(real_revenues, 4)}\n",
    "    Real profit: {round(real_profit, 4)}\n",
    "    \"\"\")\n",
    "    \n",
    "    return real_profit, real_revenues, estimated_revenues \n",
    "  \n"
   ]
  },
  {
   "cell_type": "code",
   "execution_count": 12,
   "metadata": {},
   "outputs": [
    {
     "name": "stdout",
     "output_type": "stream",
     "text": [
      "\n",
      "Resultados para DataFrame 1:\n",
      "\n",
      "    Mean predicted target: 155.4662\n",
      "    Mean target: 146.5445\n",
      "    \n",
      "    Estimated revenues: 139919580.0336\n",
      "    Estimated profit: 39919580.0336\n",
      "    \n",
      "    Real revenues: 131890053.4757\n",
      "    Real profit: 31890053.4757\n",
      "    \n",
      "DataFrame 1 - Ingresos reales: 131890053.4757\n",
      "DataFrame 1 - Ingresos estimados: 139919580.0336\n",
      "\n",
      "Resultados para DataFrame 2:\n",
      "\n",
      "    Mean predicted target: 138.7578\n",
      "    Mean target: 137.9454\n",
      "    \n",
      "    Estimated revenues: 124882014.2012\n",
      "    Estimated profit: 24882014.2012\n",
      "    \n",
      "    Real revenues: 124150866.9668\n",
      "    Real profit: 24150866.9668\n",
      "    \n",
      "DataFrame 2 - Ingresos reales: 124150866.9668\n",
      "DataFrame 2 - Ingresos estimados: 124882014.2012\n",
      "\n",
      "Resultados para DataFrame 3:\n",
      "\n",
      "    Mean predicted target: 148.9596\n",
      "    Mean target: 138.8469\n",
      "    \n",
      "    Estimated revenues: 134063624.6759\n",
      "    Estimated profit: 34063624.6759\n",
      "    \n",
      "    Real revenues: 124962219.4566\n",
      "    Real profit: 24962219.4566\n",
      "    \n",
      "DataFrame 3 - Ingresos reales: 124962219.4566\n",
      "DataFrame 3 - Ingresos estimados: 134063624.6759\n"
     ]
    }
   ],
   "source": [
    "dataframes = [results_df_0, results_df1, results_df2]\n",
    "\n",
    "for i, df in enumerate(dataframes, start=1):\n",
    "    print(f\"\\nResultados para DataFrame {i}:\")\n",
    "    real_profit, real_revenues, estimated_revenues = compute_gains(df, print_results=True)\n",
    "    print(f\"DataFrame {i} - Ingresos reales: {round(real_revenues, 4)}\")\n",
    "    print(f\"DataFrame {i} - Ingresos estimados: {round(estimated_revenues, 4)}\")"
   ]
  },
  {
   "cell_type": "markdown",
   "metadata": {},
   "source": [
    "### Conclusiones. \n",
    "\n",
    "Cuando comparamos las tres regiones podemos observar que la región 0 es la que tiene mayores ganancias(USD$31,890,053.47), aunque no es el que tiene un promedio mas alto entre las regiones (92.50), la región 2 le sigue con  (USD$24,962,219.45) y la cantidad más alta de reservas medias (95). \n",
    "\n",
    "La recomendación es que la región 0 sea la elegida. "
   ]
  },
  {
   "cell_type": "markdown",
   "metadata": {},
   "source": [
    "<div class=\"alert alert-block alert-success\">\n",
    "<b>Comentario del revisor</b> <a class=\"tocSkip\"></a>\n",
    "\n",
    "Muy bien calculado el beneficio bruto de las 3 regiones! Estos cálculos te ayudarán en la elección de la mejor región teniendo en cuenta también los beneficios brutos según las predicciones, pero a pesar de que el beneficio bruto sea mayor en tu conjunto data2, es necesario comprobar los riesgos que implica.\n",
    "</div>\n",
    "\n"
   ]
  },
  {
   "cell_type": "markdown",
   "metadata": {},
   "source": [
    "## Riesgos y Ganancias para cada región."
   ]
  },
  {
   "cell_type": "code",
   "execution_count": 13,
   "metadata": {},
   "outputs": [
    {
     "name": "stdout",
     "output_type": "stream",
     "text": [
      "DataFrame 1:\n",
      "Mean Gain: 50064841.16\n",
      "95% Confidence Interval: (-20652971.94, 87654441.44)\n",
      "Risk of Loss: 33.33%\n",
      "\n",
      "DataFrame 2:\n",
      "Mean Gain: 28918060.24\n",
      "95% Confidence Interval: (-41856497.87, 67562609.46)\n",
      "Risk of Loss: 33.33%\n",
      "\n",
      "DataFrame 3:\n",
      "Mean Gain: 51977394.15\n",
      "95% Confidence Interval: (-18969601.44, 89469045.17)\n",
      "Risk of Loss: 33.33%\n",
      "\n"
     ]
    }
   ],
   "source": [
    "bootstrap_reps = 1000\n",
    "bootstrap_size = 200  \n",
    "\n",
    "dataframes = [results_df_0, results_df1, results_df2]\n",
    "\n",
    "cost_per_200wells = 100000000\n",
    "income_per_unit = 4500\n",
    "\n",
    "results = []\n",
    "for df in dataframes:\n",
    "    region_gains = []\n",
    "    \n",
    "    for _ in range(bootstrap_reps):\n",
    "        bootstrap_sample = df.sample(n=bootstrap_size, replace=True)\n",
    "        real_profit = compute_gains(bootstrap_sample)\n",
    "        region_gains.append(real_profit)\n",
    "\n",
    "    mean_gain = np.mean(region_gains)\n",
    "    confidence_interval = np.percentile(region_gains, [2.5, 97.5])\n",
    "    risk_of_loss = np.mean(np.array(region_gains) < 0) * 100 \n",
    "    \n",
    "    results.append({\n",
    "        \"mean_gain\": mean_gain,\n",
    "        \"confidence_interval\": confidence_interval,\n",
    "        \"risk_of_loss\": risk_of_loss\n",
    "    })\n",
    "\n",
    "for idx, result in enumerate(results):\n",
    "    print(f\"DataFrame {idx+1}:\")\n",
    "    print(f\"Mean Gain: {round(result['mean_gain'], 2)}\")\n",
    "    print(f\"95% Confidence Interval: ({round(result['confidence_interval'][0], 2)}, {round(result['confidence_interval'][1], 2)})\")\n",
    "    print(f\"Risk of Loss: {round(result['risk_of_loss'], 2)}%\")\n",
    "    print()\n",
    "    "
   ]
  },
  {
   "cell_type": "markdown",
   "metadata": {},
   "source": [
    "<div class=\"alert alert-block alert-success\">\n",
    "<b>Comentario del revisor</b> <a class=\"tocSkip\"></a>\n",
    "\n",
    "Excelente trabajo calculando el beneficio promedio, los intervalos de confianza del 95% y el riesgo de pérdidas. El uso de percentiles para los intervalos de confianza es una muy buena práctica este tipo de análisis. Tus cálculos están bien fundamentados y proporcionan información valiosa sobre el rendimiento de las simulaciones de bootstrap.\n",
    "</div>\n",
    "\n"
   ]
  },
  {
   "cell_type": "markdown",
   "metadata": {},
   "source": [
    "### Conclusión.\n",
    "\n",
    "Al analizar los riesgos y ganancia para cada uno de los dataframe podemos observar que si bien los tres tienen un riesgo de perdida de 33.33% el dataframe 3 tiene ventaja sobre los demas al tener una mayor ganancia (USD$52 millones vs USD$50 millones y USD$28 millones, por lo que a riesgos iguales se cambia la sugerencia para que sea la región 3 la elegida.\n"
   ]
  },
  {
   "cell_type": "markdown",
   "metadata": {},
   "source": [
    "<div class=\"alert alert-block alert-warning\">\n",
    "<b>Resumen de la revisión</b> <a class=\"tocSkip\"></a>\n",
    "\n",
    "Excelente trabajo! Tu código es ordenado y limpio, tanto tu exploración y procesamiento de datos es correcta y eficiente y además la implementación del modelo de regresión lineal y los análisis posteriores brindaron información confiable y suficiente para la toma de decisiones. Solamente te dejo unos comentarios para termianr de complementar el análisis.  Sigue con el excelente trabajo!\n",
    "\n",
    "</div>\n",
    "\n"
   ]
  },
  {
   "cell_type": "markdown",
   "metadata": {},
   "source": [
    "<div class=\"alert alert-block alert-success\">\n",
    "<b>Comentario del revisor</b> <a class=\"tocSkip\"></a>\n",
    "\n",
    "Gran trabajo con los ajustes! Que sigas disfrutando los siguientes cursos!\n",
    "</div>"
   ]
  }
 ],
 "metadata": {
  "ExecuteTimeLog": [
   {
    "duration": 13,
    "start_time": "2024-07-29T20:50:47.282Z"
   },
   {
    "duration": 431,
    "start_time": "2024-07-29T20:50:54.206Z"
   },
   {
    "duration": 1085,
    "start_time": "2024-07-29T20:50:55.862Z"
   },
   {
    "duration": 125,
    "start_time": "2024-07-29T20:51:25.452Z"
   },
   {
    "duration": 126,
    "start_time": "2024-07-29T20:54:54.276Z"
   },
   {
    "duration": 515,
    "start_time": "2024-07-29T20:55:17.069Z"
   },
   {
    "duration": 18,
    "start_time": "2024-07-29T20:55:55.325Z"
   },
   {
    "duration": 45,
    "start_time": "2024-07-29T21:37:44.450Z"
   },
   {
    "duration": 97,
    "start_time": "2024-07-29T21:39:45.138Z"
   },
   {
    "duration": 194,
    "start_time": "2024-07-29T21:40:01.712Z"
   },
   {
    "duration": 10,
    "start_time": "2024-07-29T22:12:14.023Z"
   },
   {
    "duration": 159,
    "start_time": "2024-07-29T22:12:31.043Z"
   },
   {
    "duration": 6,
    "start_time": "2024-07-29T22:12:47.656Z"
   },
   {
    "duration": 264,
    "start_time": "2024-07-29T22:13:07.363Z"
   },
   {
    "duration": 308,
    "start_time": "2024-08-10T22:31:42.980Z"
   },
   {
    "duration": 21,
    "start_time": "2024-08-10T22:31:49.307Z"
   },
   {
    "duration": 4979,
    "start_time": "2024-08-10T22:31:53.519Z"
   },
   {
    "duration": 485,
    "start_time": "2024-08-10T22:31:58.502Z"
   },
   {
    "duration": 17,
    "start_time": "2024-08-10T22:31:58.990Z"
   },
   {
    "duration": 9,
    "start_time": "2024-08-10T22:37:09.633Z"
   },
   {
    "duration": 24,
    "start_time": "2024-08-10T22:37:16.112Z"
   },
   {
    "duration": 25,
    "start_time": "2024-08-10T22:37:25.031Z"
   },
   {
    "duration": 6,
    "start_time": "2024-08-10T22:37:30.586Z"
   },
   {
    "duration": 24,
    "start_time": "2024-08-10T22:38:24.317Z"
   },
   {
    "duration": 149,
    "start_time": "2024-08-10T22:40:08.548Z"
   },
   {
    "duration": 21,
    "start_time": "2024-08-10T22:40:16.061Z"
   },
   {
    "duration": 851,
    "start_time": "2024-08-10T22:43:14.540Z"
   },
   {
    "duration": 6,
    "start_time": "2024-08-10T22:43:59.636Z"
   },
   {
    "duration": 383,
    "start_time": "2024-08-10T22:43:59.647Z"
   },
   {
    "duration": 15,
    "start_time": "2024-08-10T22:44:00.033Z"
   },
   {
    "duration": 211,
    "start_time": "2024-08-10T22:44:00.051Z"
   },
   {
    "duration": 116,
    "start_time": "2024-08-10T22:44:00.266Z"
   },
   {
    "duration": 37,
    "start_time": "2024-08-10T22:45:29.576Z"
   },
   {
    "duration": 116,
    "start_time": "2024-08-10T22:48:15.120Z"
   },
   {
    "duration": 67,
    "start_time": "2024-08-10T22:56:37.583Z"
   },
   {
    "duration": 6,
    "start_time": "2024-08-10T22:57:38.413Z"
   },
   {
    "duration": 391,
    "start_time": "2024-08-10T22:57:39.261Z"
   },
   {
    "duration": 15,
    "start_time": "2024-08-10T22:57:40.331Z"
   },
   {
    "duration": 195,
    "start_time": "2024-08-10T22:57:40.893Z"
   },
   {
    "duration": 41,
    "start_time": "2024-08-10T22:57:42.649Z"
   },
   {
    "duration": 129,
    "start_time": "2024-08-10T23:38:51.023Z"
   },
   {
    "duration": 9,
    "start_time": "2024-08-10T23:38:55.237Z"
   },
   {
    "duration": 36,
    "start_time": "2024-08-10T23:38:56.708Z"
   },
   {
    "duration": 38,
    "start_time": "2024-08-10T23:38:58.440Z"
   },
   {
    "duration": 33,
    "start_time": "2024-08-10T23:39:21.107Z"
   },
   {
    "duration": 34,
    "start_time": "2024-08-10T23:55:40.773Z"
   },
   {
    "duration": 390,
    "start_time": "2024-08-10T23:57:09.686Z"
   },
   {
    "duration": 392,
    "start_time": "2024-08-11T00:02:05.979Z"
   },
   {
    "duration": 402,
    "start_time": "2024-08-11T00:03:38.480Z"
   },
   {
    "duration": 457,
    "start_time": "2024-08-11T00:04:04.804Z"
   },
   {
    "duration": 443,
    "start_time": "2024-08-11T00:04:54.109Z"
   },
   {
    "duration": 459,
    "start_time": "2024-08-11T00:05:13.298Z"
   },
   {
    "duration": 11,
    "start_time": "2024-08-11T00:09:37.296Z"
   },
   {
    "duration": 25,
    "start_time": "2024-08-11T00:09:41.851Z"
   },
   {
    "duration": 6,
    "start_time": "2024-08-11T00:09:50.498Z"
   },
   {
    "duration": 372,
    "start_time": "2024-08-11T00:09:50.508Z"
   },
   {
    "duration": 15,
    "start_time": "2024-08-11T00:09:50.883Z"
   },
   {
    "duration": 213,
    "start_time": "2024-08-11T00:09:50.901Z"
   },
   {
    "duration": 453,
    "start_time": "2024-08-11T00:09:51.126Z"
   },
   {
    "duration": 12,
    "start_time": "2024-08-11T00:09:51.582Z"
   },
   {
    "duration": 45,
    "start_time": "2024-08-11T00:09:51.597Z"
   },
   {
    "duration": 0,
    "start_time": "2024-08-11T00:09:51.645Z"
   },
   {
    "duration": 0,
    "start_time": "2024-08-11T00:09:51.647Z"
   },
   {
    "duration": 11,
    "start_time": "2024-08-11T00:12:37.321Z"
   },
   {
    "duration": 453,
    "start_time": "2024-08-11T00:12:39.897Z"
   },
   {
    "duration": 449,
    "start_time": "2024-08-11T00:12:45.413Z"
   },
   {
    "duration": 557,
    "start_time": "2024-08-11T00:12:51.194Z"
   },
   {
    "duration": 452,
    "start_time": "2024-08-11T00:13:39.423Z"
   },
   {
    "duration": 431,
    "start_time": "2024-08-11T00:13:42.720Z"
   },
   {
    "duration": 406,
    "start_time": "2024-08-11T00:30:09.853Z"
   },
   {
    "duration": 1322,
    "start_time": "2024-08-11T00:32:04.888Z"
   },
   {
    "duration": 367,
    "start_time": "2024-08-11T00:32:06.214Z"
   },
   {
    "duration": 16,
    "start_time": "2024-08-11T00:32:06.584Z"
   },
   {
    "duration": 213,
    "start_time": "2024-08-11T00:32:06.604Z"
   },
   {
    "duration": 519,
    "start_time": "2024-08-11T00:32:06.828Z"
   },
   {
    "duration": 11,
    "start_time": "2024-08-11T00:32:07.350Z"
   },
   {
    "duration": 432,
    "start_time": "2024-08-11T00:32:07.364Z"
   },
   {
    "duration": 444,
    "start_time": "2024-08-11T00:32:07.799Z"
   },
   {
    "duration": 5,
    "start_time": "2024-08-11T00:32:08.245Z"
   },
   {
    "duration": 4,
    "start_time": "2024-08-11T01:12:02.284Z"
   },
   {
    "duration": 5,
    "start_time": "2024-08-11T01:15:37.834Z"
   },
   {
    "duration": 5,
    "start_time": "2024-08-11T01:17:57.425Z"
   },
   {
    "duration": 4,
    "start_time": "2024-08-11T01:21:52.338Z"
   },
   {
    "duration": 11,
    "start_time": "2024-08-11T01:27:21.903Z"
   },
   {
    "duration": 6,
    "start_time": "2024-08-11T01:27:35.203Z"
   },
   {
    "duration": 376,
    "start_time": "2024-08-11T01:27:35.213Z"
   },
   {
    "duration": 14,
    "start_time": "2024-08-11T01:27:35.592Z"
   },
   {
    "duration": 203,
    "start_time": "2024-08-11T01:27:35.609Z"
   },
   {
    "duration": 455,
    "start_time": "2024-08-11T01:27:35.816Z"
   },
   {
    "duration": 10,
    "start_time": "2024-08-11T01:27:36.274Z"
   },
   {
    "duration": 473,
    "start_time": "2024-08-11T01:27:36.287Z"
   },
   {
    "duration": 404,
    "start_time": "2024-08-11T01:27:36.763Z"
   },
   {
    "duration": 4,
    "start_time": "2024-08-11T01:27:37.171Z"
   },
   {
    "duration": 5,
    "start_time": "2024-08-11T01:27:37.178Z"
   },
   {
    "duration": 415,
    "start_time": "2024-08-11T01:31:06.978Z"
   },
   {
    "duration": 10,
    "start_time": "2024-08-11T01:31:20.445Z"
   },
   {
    "duration": 436,
    "start_time": "2024-08-11T01:31:31.435Z"
   },
   {
    "duration": 397,
    "start_time": "2024-08-11T01:31:32.449Z"
   },
   {
    "duration": 5,
    "start_time": "2024-08-11T01:31:35.280Z"
   },
   {
    "duration": 5,
    "start_time": "2024-08-11T01:31:36.304Z"
   },
   {
    "duration": 225,
    "start_time": "2024-08-11T01:33:45.645Z"
   },
   {
    "duration": 4,
    "start_time": "2024-08-11T01:34:00.635Z"
   },
   {
    "duration": 5,
    "start_time": "2024-08-11T01:34:01.137Z"
   },
   {
    "duration": 41,
    "start_time": "2024-08-11T01:35:30.203Z"
   },
   {
    "duration": 492,
    "start_time": "2024-08-11T01:40:41.935Z"
   },
   {
    "duration": 410,
    "start_time": "2024-08-11T01:41:05.860Z"
   },
   {
    "duration": 454,
    "start_time": "2024-08-11T01:41:25.374Z"
   },
   {
    "duration": 10,
    "start_time": "2024-08-11T01:45:43.320Z"
   },
   {
    "duration": 823,
    "start_time": "2024-08-11T01:45:58.157Z"
   },
   {
    "duration": 11,
    "start_time": "2024-08-11T01:46:22.945Z"
   },
   {
    "duration": 429,
    "start_time": "2024-08-11T01:46:55.150Z"
   },
   {
    "duration": 420,
    "start_time": "2024-08-11T01:49:30.657Z"
   },
   {
    "duration": 146,
    "start_time": "2024-08-11T01:53:20.393Z"
   },
   {
    "duration": 424,
    "start_time": "2024-08-11T01:57:48.271Z"
   },
   {
    "duration": 423,
    "start_time": "2024-08-11T01:59:23.649Z"
   },
   {
    "duration": 10,
    "start_time": "2024-08-11T02:00:49.098Z"
   },
   {
    "duration": 420,
    "start_time": "2024-08-11T02:02:04.751Z"
   },
   {
    "duration": 419,
    "start_time": "2024-08-11T02:05:03.162Z"
   },
   {
    "duration": 465,
    "start_time": "2024-08-11T02:05:37.613Z"
   },
   {
    "duration": 421,
    "start_time": "2024-08-11T02:06:44.051Z"
   },
   {
    "duration": 37,
    "start_time": "2024-08-11T02:11:52.218Z"
   },
   {
    "duration": 440,
    "start_time": "2024-08-11T02:12:52.888Z"
   },
   {
    "duration": 10,
    "start_time": "2024-08-11T02:13:04.448Z"
   },
   {
    "duration": 10,
    "start_time": "2024-08-11T02:13:14.510Z"
   },
   {
    "duration": 453,
    "start_time": "2024-08-11T02:13:22.011Z"
   },
   {
    "duration": 462,
    "start_time": "2024-08-11T02:15:40.100Z"
   },
   {
    "duration": 619,
    "start_time": "2024-08-11T02:15:53.076Z"
   },
   {
    "duration": 462,
    "start_time": "2024-08-11T02:16:05.606Z"
   },
   {
    "duration": 11,
    "start_time": "2024-08-11T02:22:03.010Z"
   },
   {
    "duration": 11,
    "start_time": "2024-08-11T02:22:19.916Z"
   },
   {
    "duration": 395,
    "start_time": "2024-08-11T02:22:23.372Z"
   },
   {
    "duration": 10,
    "start_time": "2024-08-11T02:30:57.043Z"
   },
   {
    "duration": 458,
    "start_time": "2024-08-11T02:30:57.915Z"
   },
   {
    "duration": 17,
    "start_time": "2024-08-11T02:32:41.382Z"
   },
   {
    "duration": 11,
    "start_time": "2024-08-11T02:35:39.189Z"
   },
   {
    "duration": 429,
    "start_time": "2024-08-11T02:37:04.190Z"
   },
   {
    "duration": 409,
    "start_time": "2024-08-11T02:37:20.861Z"
   },
   {
    "duration": 448,
    "start_time": "2024-08-11T02:37:49.116Z"
   },
   {
    "duration": 437,
    "start_time": "2024-08-11T02:38:40.714Z"
   },
   {
    "duration": 439,
    "start_time": "2024-08-11T02:39:05.516Z"
   },
   {
    "duration": 403,
    "start_time": "2024-08-11T02:39:40.854Z"
   },
   {
    "duration": 5,
    "start_time": "2024-08-11T02:39:51.564Z"
   },
   {
    "duration": 5,
    "start_time": "2024-08-11T02:40:26.049Z"
   },
   {
    "duration": 5,
    "start_time": "2024-08-11T02:45:05.277Z"
   },
   {
    "duration": 39,
    "start_time": "2024-08-11T02:47:25.473Z"
   },
   {
    "duration": 37,
    "start_time": "2024-08-11T02:48:24.618Z"
   },
   {
    "duration": 5,
    "start_time": "2024-08-11T02:48:37.127Z"
   },
   {
    "duration": 374,
    "start_time": "2024-08-11T02:48:37.141Z"
   },
   {
    "duration": 18,
    "start_time": "2024-08-11T02:48:37.518Z"
   },
   {
    "duration": 208,
    "start_time": "2024-08-11T02:48:37.540Z"
   },
   {
    "duration": 429,
    "start_time": "2024-08-11T02:48:37.754Z"
   },
   {
    "duration": 10,
    "start_time": "2024-08-11T02:48:38.188Z"
   },
   {
    "duration": 481,
    "start_time": "2024-08-11T02:48:38.201Z"
   },
   {
    "duration": 582,
    "start_time": "2024-08-11T02:48:38.685Z"
   },
   {
    "duration": 4,
    "start_time": "2024-08-11T02:48:39.270Z"
   },
   {
    "duration": 6,
    "start_time": "2024-08-11T02:48:39.277Z"
   },
   {
    "duration": 67,
    "start_time": "2024-08-11T02:48:39.286Z"
   },
   {
    "duration": 5,
    "start_time": "2024-08-11T02:48:50.759Z"
   },
   {
    "duration": 35,
    "start_time": "2024-08-11T02:48:56.336Z"
   },
   {
    "duration": 5,
    "start_time": "2024-08-11T02:49:07.834Z"
   },
   {
    "duration": 35,
    "start_time": "2024-08-11T02:49:09.487Z"
   },
   {
    "duration": 38,
    "start_time": "2024-08-11T02:50:29.666Z"
   },
   {
    "duration": 1472,
    "start_time": "2024-08-11T02:56:25.245Z"
   },
   {
    "duration": 386,
    "start_time": "2024-08-11T02:56:26.722Z"
   },
   {
    "duration": 25,
    "start_time": "2024-08-11T02:56:27.111Z"
   },
   {
    "duration": 220,
    "start_time": "2024-08-11T02:56:27.139Z"
   },
   {
    "duration": 685,
    "start_time": "2024-08-11T02:56:27.364Z"
   },
   {
    "duration": 0,
    "start_time": "2024-08-11T02:56:28.051Z"
   },
   {
    "duration": 0,
    "start_time": "2024-08-11T02:56:28.054Z"
   },
   {
    "duration": 0,
    "start_time": "2024-08-11T02:56:28.056Z"
   },
   {
    "duration": 0,
    "start_time": "2024-08-11T02:56:28.057Z"
   },
   {
    "duration": 0,
    "start_time": "2024-08-11T02:56:28.059Z"
   },
   {
    "duration": 0,
    "start_time": "2024-08-11T02:56:28.063Z"
   },
   {
    "duration": 486,
    "start_time": "2024-08-11T02:56:58.601Z"
   },
   {
    "duration": 13,
    "start_time": "2024-08-11T03:00:27.422Z"
   },
   {
    "duration": 11,
    "start_time": "2024-08-11T03:02:33.018Z"
   },
   {
    "duration": 439,
    "start_time": "2024-08-11T03:02:46.739Z"
   },
   {
    "duration": 448,
    "start_time": "2024-08-11T03:03:13.006Z"
   },
   {
    "duration": 4,
    "start_time": "2024-08-11T03:03:15.955Z"
   },
   {
    "duration": 6,
    "start_time": "2024-08-11T03:03:16.451Z"
   },
   {
    "duration": 51,
    "start_time": "2024-08-11T03:03:17.539Z"
   },
   {
    "duration": 16,
    "start_time": "2024-08-11T03:05:59.475Z"
   },
   {
    "duration": 25,
    "start_time": "2024-08-11T03:06:08.615Z"
   },
   {
    "duration": 440,
    "start_time": "2024-08-11T03:09:14.852Z"
   },
   {
    "duration": 24,
    "start_time": "2024-08-11T03:12:45.284Z"
   },
   {
    "duration": 8,
    "start_time": "2024-08-11T03:13:23.846Z"
   },
   {
    "duration": 6,
    "start_time": "2024-08-11T03:13:49.571Z"
   },
   {
    "duration": 6,
    "start_time": "2024-08-11T03:13:56.781Z"
   },
   {
    "duration": 418,
    "start_time": "2024-08-11T03:14:26.860Z"
   },
   {
    "duration": 550,
    "start_time": "2024-08-11T03:15:10.624Z"
   },
   {
    "duration": 452,
    "start_time": "2024-08-11T03:18:26.212Z"
   },
   {
    "duration": 474,
    "start_time": "2024-08-11T03:18:40.410Z"
   },
   {
    "duration": 441,
    "start_time": "2024-08-11T03:19:22.847Z"
   },
   {
    "duration": 440,
    "start_time": "2024-08-11T03:19:47.959Z"
   },
   {
    "duration": 464,
    "start_time": "2024-08-11T03:22:28.110Z"
   },
   {
    "duration": 465,
    "start_time": "2024-08-11T03:22:56.510Z"
   },
   {
    "duration": 449,
    "start_time": "2024-08-11T03:23:14.229Z"
   },
   {
    "duration": 419,
    "start_time": "2024-08-11T03:23:29.145Z"
   },
   {
    "duration": 27,
    "start_time": "2024-08-11T03:23:51.634Z"
   },
   {
    "duration": 7,
    "start_time": "2024-08-11T03:24:35.226Z"
   },
   {
    "duration": 26,
    "start_time": "2024-08-11T03:24:35.954Z"
   },
   {
    "duration": 7,
    "start_time": "2024-08-11T03:27:29.535Z"
   },
   {
    "duration": 6,
    "start_time": "2024-08-11T03:28:01.684Z"
   },
   {
    "duration": 25,
    "start_time": "2024-08-11T03:28:05.748Z"
   },
   {
    "duration": 7,
    "start_time": "2024-08-11T03:32:48.400Z"
   },
   {
    "duration": 26,
    "start_time": "2024-08-11T03:32:50.835Z"
   },
   {
    "duration": 1340,
    "start_time": "2024-08-11T03:33:54.380Z"
   },
   {
    "duration": 386,
    "start_time": "2024-08-11T03:33:55.723Z"
   },
   {
    "duration": 18,
    "start_time": "2024-08-11T03:33:56.111Z"
   },
   {
    "duration": 210,
    "start_time": "2024-08-11T03:33:56.132Z"
   },
   {
    "duration": 516,
    "start_time": "2024-08-11T03:33:56.347Z"
   },
   {
    "duration": 12,
    "start_time": "2024-08-11T03:33:56.866Z"
   },
   {
    "duration": 492,
    "start_time": "2024-08-11T03:33:56.881Z"
   },
   {
    "duration": 472,
    "start_time": "2024-08-11T03:33:57.376Z"
   },
   {
    "duration": 4,
    "start_time": "2024-08-11T03:33:57.851Z"
   },
   {
    "duration": 8,
    "start_time": "2024-08-11T03:33:57.859Z"
   },
   {
    "duration": 62,
    "start_time": "2024-08-11T03:33:57.869Z"
   },
   {
    "duration": 7,
    "start_time": "2024-08-11T03:34:59.880Z"
   },
   {
    "duration": 26,
    "start_time": "2024-08-11T03:35:04.980Z"
   },
   {
    "duration": 4,
    "start_time": "2024-08-11T03:35:35.299Z"
   },
   {
    "duration": 4,
    "start_time": "2024-08-11T03:35:44.198Z"
   },
   {
    "duration": 6,
    "start_time": "2024-08-11T03:35:44.843Z"
   },
   {
    "duration": 26,
    "start_time": "2024-08-11T03:35:45.862Z"
   },
   {
    "duration": 406,
    "start_time": "2024-08-11T03:43:28.871Z"
   },
   {
    "duration": 24,
    "start_time": "2024-08-11T03:43:37.360Z"
   },
   {
    "duration": 26,
    "start_time": "2024-08-11T03:44:10.729Z"
   },
   {
    "duration": 5,
    "start_time": "2024-08-11T03:44:21.959Z"
   },
   {
    "duration": 7,
    "start_time": "2024-08-11T03:45:19.098Z"
   },
   {
    "duration": 5,
    "start_time": "2024-08-11T03:45:28.124Z"
   },
   {
    "duration": 5,
    "start_time": "2024-08-11T03:45:50.997Z"
   },
   {
    "duration": 7,
    "start_time": "2024-08-11T03:46:08.990Z"
   },
   {
    "duration": 7,
    "start_time": "2024-08-11T04:17:22.208Z"
   },
   {
    "duration": 65,
    "start_time": "2024-08-11T04:17:27.544Z"
   },
   {
    "duration": 6,
    "start_time": "2024-08-11T04:18:05.297Z"
   },
   {
    "duration": 45,
    "start_time": "2024-08-11T04:18:05.852Z"
   },
   {
    "duration": 6,
    "start_time": "2024-08-11T04:20:42.689Z"
   },
   {
    "duration": 48,
    "start_time": "2024-08-11T04:20:44.327Z"
   },
   {
    "duration": 6,
    "start_time": "2024-08-11T04:21:30.679Z"
   },
   {
    "duration": 394,
    "start_time": "2024-08-11T04:21:30.690Z"
   },
   {
    "duration": 16,
    "start_time": "2024-08-11T04:21:31.087Z"
   },
   {
    "duration": 214,
    "start_time": "2024-08-11T04:21:31.108Z"
   },
   {
    "duration": 447,
    "start_time": "2024-08-11T04:21:31.327Z"
   },
   {
    "duration": 14,
    "start_time": "2024-08-11T04:21:31.778Z"
   },
   {
    "duration": 489,
    "start_time": "2024-08-11T04:21:31.797Z"
   },
   {
    "duration": 466,
    "start_time": "2024-08-11T04:21:32.289Z"
   },
   {
    "duration": 4,
    "start_time": "2024-08-11T04:21:32.761Z"
   },
   {
    "duration": 7,
    "start_time": "2024-08-11T04:21:32.768Z"
   },
   {
    "duration": 8,
    "start_time": "2024-08-11T04:21:32.778Z"
   },
   {
    "duration": 174,
    "start_time": "2024-08-11T04:21:32.788Z"
   },
   {
    "duration": 0,
    "start_time": "2024-08-11T04:21:32.965Z"
   },
   {
    "duration": 6,
    "start_time": "2024-08-11T04:22:44.166Z"
   },
   {
    "duration": 47,
    "start_time": "2024-08-11T04:22:46.358Z"
   },
   {
    "duration": 10,
    "start_time": "2024-08-11T04:31:10.948Z"
   },
   {
    "duration": 9,
    "start_time": "2024-08-11T04:31:22.595Z"
   },
   {
    "duration": 8,
    "start_time": "2024-08-11T04:31:46.019Z"
   },
   {
    "duration": 49,
    "start_time": "2024-08-11T04:31:48.600Z"
   },
   {
    "duration": 7,
    "start_time": "2024-08-11T04:33:53.347Z"
   },
   {
    "duration": 65,
    "start_time": "2024-08-11T04:33:54.974Z"
   },
   {
    "duration": 7,
    "start_time": "2024-08-11T04:39:28.418Z"
   },
   {
    "duration": 27,
    "start_time": "2024-08-11T04:39:29.148Z"
   },
   {
    "duration": 28,
    "start_time": "2024-08-11T04:40:12.763Z"
   },
   {
    "duration": 8,
    "start_time": "2024-08-11T04:45:03.959Z"
   },
   {
    "duration": 27,
    "start_time": "2024-08-11T04:45:05.160Z"
   },
   {
    "duration": 62,
    "start_time": "2024-08-11T04:58:13.451Z"
   },
   {
    "duration": 35,
    "start_time": "2024-08-11T05:00:56.001Z"
   },
   {
    "duration": 4993,
    "start_time": "2024-08-11T05:02:54.681Z"
   },
   {
    "duration": 4956,
    "start_time": "2024-08-11T05:08:08.708Z"
   },
   {
    "duration": 1419,
    "start_time": "2024-08-11T05:09:42.031Z"
   },
   {
    "duration": 454,
    "start_time": "2024-08-11T05:09:43.453Z"
   },
   {
    "duration": 29,
    "start_time": "2024-08-11T05:09:43.910Z"
   },
   {
    "duration": 210,
    "start_time": "2024-08-11T05:09:43.947Z"
   },
   {
    "duration": 501,
    "start_time": "2024-08-11T05:09:44.160Z"
   },
   {
    "duration": 11,
    "start_time": "2024-08-11T05:09:44.664Z"
   },
   {
    "duration": 503,
    "start_time": "2024-08-11T05:09:44.678Z"
   },
   {
    "duration": 471,
    "start_time": "2024-08-11T05:09:45.188Z"
   },
   {
    "duration": 4,
    "start_time": "2024-08-11T05:09:45.662Z"
   },
   {
    "duration": 9,
    "start_time": "2024-08-11T05:09:45.671Z"
   },
   {
    "duration": 7,
    "start_time": "2024-08-11T05:09:45.683Z"
   },
   {
    "duration": 58,
    "start_time": "2024-08-11T05:09:45.693Z"
   },
   {
    "duration": 4920,
    "start_time": "2024-08-11T05:09:45.755Z"
   },
   {
    "duration": 18,
    "start_time": "2024-08-11T05:12:25.217Z"
   },
   {
    "duration": 583,
    "start_time": "2024-08-11T05:19:00.953Z"
   },
   {
    "duration": 579,
    "start_time": "2024-08-11T05:19:40.447Z"
   },
   {
    "duration": 487,
    "start_time": "2024-08-11T05:20:22.473Z"
   },
   {
    "duration": 213,
    "start_time": "2024-08-11T05:20:29.824Z"
   },
   {
    "duration": 24,
    "start_time": "2024-08-11T05:24:33.373Z"
   },
   {
    "duration": 184,
    "start_time": "2024-08-11T05:25:17.578Z"
   },
   {
    "duration": 198,
    "start_time": "2024-08-11T05:25:45.745Z"
   },
   {
    "duration": 190,
    "start_time": "2024-08-11T05:25:53.761Z"
   },
   {
    "duration": 4150,
    "start_time": "2024-08-11T05:29:27.033Z"
   },
   {
    "duration": 197,
    "start_time": "2024-08-11T05:29:31.187Z"
   },
   {
    "duration": 223,
    "start_time": "2024-08-11T05:29:31.388Z"
   },
   {
    "duration": 202,
    "start_time": "2024-08-11T05:29:31.871Z"
   },
   {
    "duration": 202,
    "start_time": "2024-08-11T05:29:32.442Z"
   },
   {
    "duration": 2957,
    "start_time": "2024-08-11T05:35:00.545Z"
   },
   {
    "duration": 2945,
    "start_time": "2024-08-11T05:40:13.471Z"
   },
   {
    "duration": 2972,
    "start_time": "2024-08-11T05:40:17.963Z"
   },
   {
    "duration": 216,
    "start_time": "2024-08-11T05:40:20.939Z"
   },
   {
    "duration": 208,
    "start_time": "2024-08-11T05:40:21.158Z"
   },
   {
    "duration": 207,
    "start_time": "2024-08-11T05:40:21.370Z"
   },
   {
    "duration": 229,
    "start_time": "2024-08-11T05:40:21.828Z"
   },
   {
    "duration": 3066,
    "start_time": "2024-08-11T05:40:42.174Z"
   },
   {
    "duration": 210,
    "start_time": "2024-08-11T05:40:45.244Z"
   },
   {
    "duration": 222,
    "start_time": "2024-08-11T05:40:45.457Z"
   },
   {
    "duration": 218,
    "start_time": "2024-08-11T05:40:45.683Z"
   },
   {
    "duration": 195,
    "start_time": "2024-08-11T05:40:45.904Z"
   },
   {
    "duration": 6,
    "start_time": "2024-08-11T05:45:27.261Z"
   },
   {
    "duration": 392,
    "start_time": "2024-08-11T05:45:27.271Z"
   },
   {
    "duration": 16,
    "start_time": "2024-08-11T05:45:27.666Z"
   },
   {
    "duration": 226,
    "start_time": "2024-08-11T05:45:27.685Z"
   },
   {
    "duration": 449,
    "start_time": "2024-08-11T05:45:27.926Z"
   },
   {
    "duration": 11,
    "start_time": "2024-08-11T05:45:28.379Z"
   },
   {
    "duration": 477,
    "start_time": "2024-08-11T05:45:28.393Z"
   },
   {
    "duration": 393,
    "start_time": "2024-08-11T05:45:28.873Z"
   },
   {
    "duration": 4,
    "start_time": "2024-08-11T05:45:29.270Z"
   },
   {
    "duration": 8,
    "start_time": "2024-08-11T05:45:29.278Z"
   },
   {
    "duration": 37,
    "start_time": "2024-08-11T05:45:29.289Z"
   },
   {
    "duration": 33,
    "start_time": "2024-08-11T05:45:29.329Z"
   },
   {
    "duration": 4170,
    "start_time": "2024-08-11T05:45:29.367Z"
   },
   {
    "duration": 1411,
    "start_time": "2024-08-11T05:47:53.962Z"
   },
   {
    "duration": 1412,
    "start_time": "2024-08-11T05:49:31.727Z"
   },
   {
    "duration": 2981,
    "start_time": "2024-08-11T05:49:48.404Z"
   },
   {
    "duration": 2961,
    "start_time": "2024-08-11T05:54:41.908Z"
   },
   {
    "duration": 7,
    "start_time": "2024-08-11T06:00:04.968Z"
   },
   {
    "duration": 36,
    "start_time": "2024-08-11T06:00:10.992Z"
   },
   {
    "duration": 26,
    "start_time": "2024-08-11T06:01:06.894Z"
   },
   {
    "duration": 4100,
    "start_time": "2024-08-11T06:01:40.432Z"
   },
   {
    "duration": 7,
    "start_time": "2024-08-11T06:03:13.146Z"
   },
   {
    "duration": 27,
    "start_time": "2024-08-11T06:03:13.692Z"
   },
   {
    "duration": 4183,
    "start_time": "2024-08-11T06:03:38.719Z"
   },
   {
    "duration": 7,
    "start_time": "2024-08-11T06:05:43.533Z"
   },
   {
    "duration": 27,
    "start_time": "2024-08-11T06:05:44.379Z"
   },
   {
    "duration": 4102,
    "start_time": "2024-08-11T06:06:20.071Z"
   },
   {
    "duration": 447,
    "start_time": "2024-08-11T06:07:23.752Z"
   },
   {
    "duration": 429,
    "start_time": "2024-08-11T06:07:43.374Z"
   },
   {
    "duration": 466,
    "start_time": "2024-08-11T06:08:35.538Z"
   },
   {
    "duration": 472,
    "start_time": "2024-08-11T06:08:50.910Z"
   },
   {
    "duration": 402,
    "start_time": "2024-08-11T06:09:04.578Z"
   },
   {
    "duration": 3,
    "start_time": "2024-08-11T06:09:44.692Z"
   },
   {
    "duration": 7,
    "start_time": "2024-08-11T06:09:45.198Z"
   },
   {
    "duration": 8,
    "start_time": "2024-08-11T06:09:45.892Z"
   },
   {
    "duration": 29,
    "start_time": "2024-08-11T06:09:46.283Z"
   },
   {
    "duration": 4148,
    "start_time": "2024-08-11T06:09:47.693Z"
   },
   {
    "duration": 4157,
    "start_time": "2024-08-11T06:17:55.639Z"
   },
   {
    "duration": 4153,
    "start_time": "2024-08-11T06:23:08.618Z"
   },
   {
    "duration": 4114,
    "start_time": "2024-08-11T06:25:02.944Z"
   },
   {
    "duration": 1399,
    "start_time": "2024-08-11T06:28:02.113Z"
   },
   {
    "duration": 383,
    "start_time": "2024-08-11T06:28:03.517Z"
   },
   {
    "duration": 23,
    "start_time": "2024-08-11T06:28:03.903Z"
   },
   {
    "duration": 204,
    "start_time": "2024-08-11T06:28:03.929Z"
   },
   {
    "duration": 526,
    "start_time": "2024-08-11T06:28:04.138Z"
   },
   {
    "duration": 11,
    "start_time": "2024-08-11T06:28:04.668Z"
   },
   {
    "duration": 489,
    "start_time": "2024-08-11T06:28:04.683Z"
   },
   {
    "duration": 465,
    "start_time": "2024-08-11T06:28:05.175Z"
   },
   {
    "duration": 4,
    "start_time": "2024-08-11T06:28:05.642Z"
   },
   {
    "duration": 7,
    "start_time": "2024-08-11T06:28:05.649Z"
   },
   {
    "duration": 8,
    "start_time": "2024-08-11T06:28:05.659Z"
   },
   {
    "duration": 458,
    "start_time": "2024-08-11T06:28:05.670Z"
   },
   {
    "duration": 0,
    "start_time": "2024-08-11T06:28:06.131Z"
   },
   {
    "duration": 8,
    "start_time": "2024-08-11T06:29:04.390Z"
   },
   {
    "duration": 34,
    "start_time": "2024-08-11T06:29:04.907Z"
   },
   {
    "duration": 30,
    "start_time": "2024-08-11T06:30:29.617Z"
   },
   {
    "duration": 4141,
    "start_time": "2024-08-11T06:30:37.324Z"
   },
   {
    "duration": 1336,
    "start_time": "2024-08-11T06:35:28.067Z"
   },
   {
    "duration": 376,
    "start_time": "2024-08-11T06:35:29.406Z"
   },
   {
    "duration": 17,
    "start_time": "2024-08-11T06:35:29.785Z"
   },
   {
    "duration": 228,
    "start_time": "2024-08-11T06:35:29.805Z"
   },
   {
    "duration": 532,
    "start_time": "2024-08-11T06:35:30.038Z"
   },
   {
    "duration": 14,
    "start_time": "2024-08-11T06:35:30.573Z"
   },
   {
    "duration": 494,
    "start_time": "2024-08-11T06:35:30.589Z"
   },
   {
    "duration": 490,
    "start_time": "2024-08-11T06:35:31.085Z"
   },
   {
    "duration": 6,
    "start_time": "2024-08-11T06:35:31.579Z"
   },
   {
    "duration": 8,
    "start_time": "2024-08-11T06:35:31.587Z"
   },
   {
    "duration": 8,
    "start_time": "2024-08-11T06:35:31.625Z"
   },
   {
    "duration": 29,
    "start_time": "2024-08-11T06:35:31.636Z"
   },
   {
    "duration": 4156,
    "start_time": "2024-08-11T06:35:31.668Z"
   },
   {
    "duration": 5610,
    "start_time": "2024-08-12T22:23:56.579Z"
   },
   {
    "duration": 228,
    "start_time": "2024-08-12T22:25:02.751Z"
   },
   {
    "duration": 553,
    "start_time": "2024-08-12T22:25:02.984Z"
   },
   {
    "duration": 19,
    "start_time": "2024-08-12T22:25:03.540Z"
   },
   {
    "duration": 259,
    "start_time": "2024-08-12T22:25:03.563Z"
   },
   {
    "duration": 510,
    "start_time": "2024-08-12T22:25:03.831Z"
   },
   {
    "duration": 104,
    "start_time": "2024-08-12T22:25:04.344Z"
   },
   {
    "duration": 475,
    "start_time": "2024-08-12T22:25:04.452Z"
   },
   {
    "duration": 478,
    "start_time": "2024-08-12T22:25:04.931Z"
   },
   {
    "duration": 5,
    "start_time": "2024-08-12T22:25:05.425Z"
   },
   {
    "duration": 10,
    "start_time": "2024-08-12T22:25:05.437Z"
   },
   {
    "duration": 11,
    "start_time": "2024-08-12T22:25:05.451Z"
   },
   {
    "duration": 72,
    "start_time": "2024-08-12T22:25:05.466Z"
   },
   {
    "duration": 4582,
    "start_time": "2024-08-12T22:25:05.542Z"
   },
   {
    "duration": 16,
    "start_time": "2024-08-12T22:30:52.696Z"
   },
   {
    "duration": 13,
    "start_time": "2024-08-12T22:35:28.627Z"
   },
   {
    "duration": 502,
    "start_time": "2024-08-12T22:35:29.171Z"
   },
   {
    "duration": 473,
    "start_time": "2024-08-12T22:35:34.393Z"
   },
   {
    "duration": 4,
    "start_time": "2024-08-12T22:35:39.273Z"
   },
   {
    "duration": 11,
    "start_time": "2024-08-12T22:35:39.817Z"
   },
   {
    "duration": 13,
    "start_time": "2024-08-12T22:35:40.585Z"
   },
   {
    "duration": 48,
    "start_time": "2024-08-12T22:35:41.300Z"
   },
   {
    "duration": 6,
    "start_time": "2024-08-12T22:45:50.820Z"
   },
   {
    "duration": 430,
    "start_time": "2024-08-12T22:45:50.832Z"
   },
   {
    "duration": 17,
    "start_time": "2024-08-12T22:45:51.265Z"
   },
   {
    "duration": 245,
    "start_time": "2024-08-12T22:45:51.286Z"
   },
   {
    "duration": 491,
    "start_time": "2024-08-12T22:45:51.536Z"
   },
   {
    "duration": 12,
    "start_time": "2024-08-12T22:45:52.030Z"
   },
   {
    "duration": 475,
    "start_time": "2024-08-12T22:45:52.048Z"
   },
   {
    "duration": 455,
    "start_time": "2024-08-12T22:45:52.526Z"
   },
   {
    "duration": 4,
    "start_time": "2024-08-12T22:45:52.985Z"
   },
   {
    "duration": 34,
    "start_time": "2024-08-12T22:45:52.993Z"
   },
   {
    "duration": 9,
    "start_time": "2024-08-12T22:45:53.030Z"
   },
   {
    "duration": 46,
    "start_time": "2024-08-12T22:45:53.043Z"
   },
   {
    "duration": 4604,
    "start_time": "2024-08-12T22:45:53.095Z"
   },
   {
    "duration": 1462,
    "start_time": "2024-08-12T22:56:36.564Z"
   },
   {
    "duration": 494,
    "start_time": "2024-08-12T22:56:38.032Z"
   },
   {
    "duration": 19,
    "start_time": "2024-08-12T22:56:38.530Z"
   },
   {
    "duration": 245,
    "start_time": "2024-08-12T22:56:38.553Z"
   },
   {
    "duration": 622,
    "start_time": "2024-08-12T22:56:38.804Z"
   },
   {
    "duration": 13,
    "start_time": "2024-08-12T22:56:39.429Z"
   },
   {
    "duration": 528,
    "start_time": "2024-08-12T22:56:39.446Z"
   },
   {
    "duration": 521,
    "start_time": "2024-08-12T22:56:39.977Z"
   },
   {
    "duration": 5,
    "start_time": "2024-08-12T22:56:40.502Z"
   },
   {
    "duration": 10,
    "start_time": "2024-08-12T22:56:40.524Z"
   },
   {
    "duration": 9,
    "start_time": "2024-08-12T22:56:40.540Z"
   },
   {
    "duration": 32,
    "start_time": "2024-08-12T22:56:40.554Z"
   },
   {
    "duration": 4573,
    "start_time": "2024-08-12T22:56:40.589Z"
   },
   {
    "duration": 9,
    "start_time": "2024-08-12T23:56:43.399Z"
   },
   {
    "duration": 5,
    "start_time": "2024-08-12T23:58:02.074Z"
   },
   {
    "duration": 1370,
    "start_time": "2024-08-12T23:58:10.439Z"
   },
   {
    "duration": 368,
    "start_time": "2024-08-12T23:58:11.812Z"
   },
   {
    "duration": 18,
    "start_time": "2024-08-12T23:58:12.184Z"
   },
   {
    "duration": 202,
    "start_time": "2024-08-12T23:58:12.222Z"
   },
   {
    "duration": 542,
    "start_time": "2024-08-12T23:58:12.430Z"
   },
   {
    "duration": 6,
    "start_time": "2024-08-12T23:58:12.974Z"
   },
   {
    "duration": 0,
    "start_time": "2024-08-12T23:58:12.983Z"
   },
   {
    "duration": 0,
    "start_time": "2024-08-12T23:58:12.985Z"
   },
   {
    "duration": 0,
    "start_time": "2024-08-12T23:58:12.988Z"
   },
   {
    "duration": 0,
    "start_time": "2024-08-12T23:58:12.991Z"
   },
   {
    "duration": 0,
    "start_time": "2024-08-12T23:58:12.993Z"
   },
   {
    "duration": 0,
    "start_time": "2024-08-12T23:58:13.022Z"
   },
   {
    "duration": 0,
    "start_time": "2024-08-12T23:58:13.025Z"
   },
   {
    "duration": 0,
    "start_time": "2024-08-12T23:58:13.028Z"
   },
   {
    "duration": 6,
    "start_time": "2024-08-12T23:59:22.228Z"
   },
   {
    "duration": 1375,
    "start_time": "2024-08-13T00:03:56.610Z"
   },
   {
    "duration": 375,
    "start_time": "2024-08-13T00:03:57.988Z"
   },
   {
    "duration": 16,
    "start_time": "2024-08-13T00:03:58.366Z"
   },
   {
    "duration": 216,
    "start_time": "2024-08-13T00:03:58.385Z"
   },
   {
    "duration": 554,
    "start_time": "2024-08-13T00:03:58.605Z"
   },
   {
    "duration": 11,
    "start_time": "2024-08-13T00:03:59.162Z"
   },
   {
    "duration": 501,
    "start_time": "2024-08-13T00:03:59.177Z"
   },
   {
    "duration": 504,
    "start_time": "2024-08-13T00:03:59.681Z"
   },
   {
    "duration": 7,
    "start_time": "2024-08-13T00:04:00.188Z"
   },
   {
    "duration": 25,
    "start_time": "2024-08-13T00:04:00.198Z"
   },
   {
    "duration": 9,
    "start_time": "2024-08-13T00:04:00.226Z"
   },
   {
    "duration": 31,
    "start_time": "2024-08-13T00:04:00.238Z"
   },
   {
    "duration": 4119,
    "start_time": "2024-08-13T00:04:00.272Z"
   }
  ],
  "kernelspec": {
   "display_name": "Python 3 (ipykernel)",
   "language": "python",
   "name": "python3"
  },
  "language_info": {
   "codemirror_mode": {
    "name": "ipython",
    "version": 3
   },
   "file_extension": ".py",
   "mimetype": "text/x-python",
   "name": "python",
   "nbconvert_exporter": "python",
   "pygments_lexer": "ipython3",
   "version": "3.9.19"
  },
  "toc": {
   "base_numbering": 1,
   "nav_menu": {},
   "number_sections": true,
   "sideBar": true,
   "skip_h1_title": true,
   "title_cell": "Table of Contents",
   "title_sidebar": "Contents",
   "toc_cell": false,
   "toc_position": {},
   "toc_section_display": true,
   "toc_window_display": false
  }
 },
 "nbformat": 4,
 "nbformat_minor": 2
}
