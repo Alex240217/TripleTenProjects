{
 "cells": [
  {
   "cell_type": "markdown",
   "metadata": {},
   "source": [
    "# Proyecto Sprint 9\n"
   ]
  },
  {
   "cell_type": "markdown",
   "metadata": {},
   "source": [
    "## Descripcion del proyecto y Objetivos."
   ]
  },
  {
   "cell_type": "markdown",
   "metadata": {},
   "source": [
    "## Importación de librerias, carga de archivo."
   ]
  },
  {
   "cell_type": "code",
   "execution_count": 3,
   "metadata": {},
   "outputs": [
    {
     "ename": "ModuleNotFoundError",
     "evalue": "No module named 'imblearn'",
     "output_type": "error",
     "traceback": [
      "\u001b[0;31m---------------------------------------------------------------------------\u001b[0m",
      "\u001b[0;31mModuleNotFoundError\u001b[0m                       Traceback (most recent call last)",
      "Cell \u001b[0;32mIn[3], line 15\u001b[0m\n\u001b[1;32m     12\u001b[0m \u001b[38;5;28;01mfrom\u001b[39;00m \u001b[38;5;21;01msklearn\u001b[39;00m\u001b[38;5;21;01m.\u001b[39;00m\u001b[38;5;21;01mutils\u001b[39;00m \u001b[38;5;28;01mimport\u001b[39;00m shuffle\n\u001b[1;32m     13\u001b[0m \u001b[38;5;28;01mfrom\u001b[39;00m \u001b[38;5;21;01msklearn\u001b[39;00m\u001b[38;5;21;01m.\u001b[39;00m\u001b[38;5;21;01mmetrics\u001b[39;00m \u001b[38;5;28;01mimport\u001b[39;00m roc_curve\n\u001b[0;32m---> 15\u001b[0m \u001b[38;5;28;01mfrom\u001b[39;00m \u001b[38;5;21;01mimblearn\u001b[39;00m\u001b[38;5;21;01m.\u001b[39;00m\u001b[38;5;21;01mover_sampling\u001b[39;00m \u001b[38;5;28;01mimport\u001b[39;00m SMOTE\n\u001b[1;32m     16\u001b[0m \u001b[38;5;28;01mfrom\u001b[39;00m \u001b[38;5;21;01mimblearn\u001b[39;00m\u001b[38;5;21;01m.\u001b[39;00m\u001b[38;5;21;01munder_sampling\u001b[39;00m \u001b[38;5;28;01mimport\u001b[39;00m RandomUnderSampler\n",
      "\u001b[0;31mModuleNotFoundError\u001b[0m: No module named 'imblearn'"
     ]
    }
   ],
   "source": [
    "import pandas as pd\n",
    "import numpy as np\n",
    "import matplotlib.pyplot as plt\n",
    "\n",
    "from sklearn.model_selection import train_test_split\n",
    "from sklearn.tree import DecisionTreeClassifier\n",
    "from sklearn.ensemble import RandomForestClassifier\n",
    "from sklearn.linear_model import LogisticRegression\n",
    "from sklearn.metrics import accuracy_score, precision_score, recall_score, f1_score, roc_auc_score, accuracy_score, classification_report\n",
    "from sklearn.model_selection import GridSearchCV\n",
    "from sklearn.impute import SimpleImputer\n",
    "from sklearn.utils import shuffle\n",
    "from sklearn.metrics import roc_curve\n",
    "\n",
    "from imblearn.over_sampling import SMOTE\n",
    "from imblearn.under_sampling import RandomUnderSampler"
   ]
  },
  {
   "cell_type": "code",
   "execution_count": null,
   "metadata": {},
   "outputs": [],
   "source": []
  },
  {
   "cell_type": "code",
   "execution_count": null,
   "metadata": {},
   "outputs": [],
   "source": [
    "df=pd.read_csv(\"/datasets/Churn.csv\")"
   ]
  },
  {
   "cell_type": "markdown",
   "metadata": {},
   "source": [
    "## Revisión del DF"
   ]
  },
  {
   "cell_type": "code",
   "execution_count": null,
   "metadata": {},
   "outputs": [],
   "source": [
    "print(df.head(5))\n",
    "print()\n",
    "print(df.info())\n",
    "print()\n",
    "print(df.isnull().sum())\n",
    "print()\n",
    "print(df.duplicated().sum())\n",
    "print()\n",
    "print(df.describe())"
   ]
  },
  {
   "cell_type": "code",
   "execution_count": null,
   "metadata": {},
   "outputs": [],
   "source": [
    "df.columns = df.columns.str.lower()"
   ]
  },
  {
   "cell_type": "code",
   "execution_count": null,
   "metadata": {},
   "outputs": [],
   "source": [
    "promedio = df['tenure'].mean()\n",
    "\n",
    "df['tenure'].fillna(promedio, inplace=True)\n",
    "\n",
    "print(df.isnull().sum())"
   ]
  },
  {
   "cell_type": "code",
   "execution_count": null,
   "metadata": {},
   "outputs": [],
   "source": [
    "df[\"gender_binary\"] = (df[\"gender\"]== \"Female\").astype(\"int\")\n",
    "df[\"france_binary\"] = (df[\"geography\"] == \"France\").astype(\"int\")\n",
    "df[\"germany_binary\"] = (df[\"geography\"] == \"Germany\").astype(\"int\")\n",
    "\n",
    "df.head()"
   ]
  },
  {
   "cell_type": "markdown",
   "metadata": {},
   "source": [
    "### Conclusiones respecto a los datos.\n",
    "Podemos observar que el DF cuenta con 14 columnas y 10,000 filas, de igual manera no hay filas duplicadas y solo encontramos valores nulos en la columna ternure, al ser un número significativo (909) se rellenarán con un promedio de la columna al no poder prescindir de poco mas del 9% de nuestros datos, la única modificacion fue cambiar todos los nombres de las columnas a minúsculas para facilitar su manipulación.   \n",
    "\n",
    "De igual manera se pasan a binario las columnas de Gender, así como la columna Geography; para el primer caso se identifica el género femenino con un 1, quedando 0 para genero masculino, la columna geography se cambio a binario usando dos columnas nuevas, france_binary y germany_binary, no se genera una columna spain_binary ya que este sería definido por dos ceros en las nuevas columnas, pero también para evitar problemas de multicolinearidad.  "
   ]
  },
  {
   "cell_type": "markdown",
   "metadata": {},
   "source": [
    "## Examina el equilibrio de clases y Entrenamiento del modelo sin corregir el desbalance."
   ]
  },
  {
   "cell_type": "markdown",
   "metadata": {},
   "source": [
    "### Equilibrio de clases"
   ]
  },
  {
   "cell_type": "code",
   "execution_count": null,
   "metadata": {},
   "outputs": [],
   "source": [
    "class_weight = df['exited'].value_counts(normalize=True)\n",
    "\n",
    "print(class_weight)\n",
    "\n",
    "colors = ['skyblue', 'salmon']\n",
    "class_weight.plot(kind='bar', rot=0,color=colors, figsize=(15,8))\n",
    "plt.title('Relacion de porcentaje')\n",
    "plt.xlabel('Clase')\n",
    "plt.ylabel('Proporción')\n",
    "plt.show()"
   ]
  },
  {
   "cell_type": "markdown",
   "metadata": {},
   "source": [
    "### Preparación de datos para entrenar el modelo. "
   ]
  },
  {
   "cell_type": "code",
   "execution_count": null,
   "metadata": {},
   "outputs": [],
   "source": [
    "target= \"exited\"\n",
    "drop_columns = [\"rownumber\", \"customerid\", \"surname\", \"geography\", \"gender\"]\n",
    "features = [c for c in df.columns if c not in drop_columns + [target]]\n",
    "\n",
    "for col in features:\n",
    "    df[col] = df[col].astype(\"float\")\n",
    "\n",
    "features"
   ]
  },
  {
   "cell_type": "code",
   "execution_count": null,
   "metadata": {},
   "outputs": [],
   "source": [
    "df_train, df_rest = train_test_split(df, test_size = 0.40, random_state = 8)\n",
    "df_valid, df_test = train_test_split(df_rest, test_size = 0.50, random_state = 8)\n",
    "\n",
    "df_train.shape, df_valid.shape,  df_test.shape"
   ]
  },
  {
   "cell_type": "code",
   "execution_count": null,
   "metadata": {},
   "outputs": [],
   "source": [
    "X_train = df_train[features]\n",
    "y_train = df_train[target]\n",
    "\n",
    "X_val = df_valid[features]\n",
    "y_val = df_valid[target]\n",
    "\n",
    "X_test = df_test[features]\n",
    "y_test = df_test[target]"
   ]
  },
  {
   "cell_type": "markdown",
   "metadata": {},
   "source": [
    "### Random Forest Classifier. "
   ]
  },
  {
   "cell_type": "code",
   "execution_count": null,
   "metadata": {},
   "outputs": [],
   "source": [
    "model = RandomForestClassifier(random_state=8)\n",
    "model.fit(X_train, y_train)\n",
    "\n",
    "y_pred = model.predict(X_test)\n",
    "\n",
    "f1 = f1_score(y_test, y_pred)\n",
    "print(f'F1-score: {f1:.2f}')"
   ]
  },
  {
   "cell_type": "markdown",
   "metadata": {},
   "source": [
    "### Logistic Regression"
   ]
  },
  {
   "cell_type": "code",
   "execution_count": null,
   "metadata": {},
   "outputs": [],
   "source": [
    "model = LogisticRegression(random_state=8)\n",
    "\n",
    "model.fit(X_train, y_train)\n",
    "\n",
    "y_pred = model.predict(X_test)\n",
    "\n",
    "f1 = f1_score(y_test, y_pred)\n",
    "print(f'F1-score: {f1:.2f}')"
   ]
  },
  {
   "cell_type": "markdown",
   "metadata": {},
   "source": [
    "### Decision Tree Classifier"
   ]
  },
  {
   "cell_type": "code",
   "execution_count": null,
   "metadata": {},
   "outputs": [],
   "source": [
    "model = DecisionTreeClassifier(random_state=8)\n",
    "model.fit(X_train, y_train)\n",
    "y_pred = model.predict(X_test)\n",
    "\n",
    "f1 = f1_score(y_test, y_pred)\n",
    "print(f'F1-score: {f1:.2f}')"
   ]
  },
  {
   "cell_type": "markdown",
   "metadata": {},
   "source": [
    "### Conclusiones.\n",
    "\n",
    "1.- Podemos observar que existe un desbalance entre los datos en una relación de 4:1 \n",
    "\n",
    "El valor 0 en la columna 'exited' representa el 79.63% de las observaciones, lo que significa que aproximadamente el 79.63% de las filas en el DataFrame tienen el valor 0 en la columna 'exited'\n",
    "\n",
    "El valor 1 en la columna 'exited' representa el 20.37% de las observaciones, lo que significa que aproximadamente el 20.37% de las filas en el DataFrame tienen el valor 1 en la columna 'exited'.\n",
    "\n",
    "2.- En la preparación de los datos idenfificamos como el taget la columna \"exited\", mientras que para los features eliminamos las columnas \"rownumber\", \"customerid\", \"surname\", \"geography\", \"gender\", ya que o no nos aporta ningun elemento predictivo o ya fueron tratados para poder utilizarse. \n",
    "\n",
    "3.- Podemos observar que el valor F1 en Random Forest Classifier se encuentra cerca del objetivo solicitado 0.57, Logistic Regression se aleja bastante con 0.13 y Decision Tree Classifier obtiene un score de 0.53.\n",
    "\n"
   ]
  },
  {
   "cell_type": "markdown",
   "metadata": {},
   "source": [
    "## Corrección de desequilibrio de clases y entrenamiento de modelo. "
   ]
  },
  {
   "cell_type": "markdown",
   "metadata": {},
   "source": [
    "### Corrección de desequilibrio con Synthetic Minority Over-sampling Technique (SMOTE)"
   ]
  },
  {
   "cell_type": "code",
   "execution_count": null,
   "metadata": {},
   "outputs": [],
   "source": [
    "smote = SMOTE(random_state=42)\n",
    "X_train_smote, y_train_smote = smote.fit_resample(X_train, y_train)\n",
    "\n",
    "# Verificar el balance de clases después del sobremuestreo\n",
    "print('Distribución de clases antes del SMOTE:', y_train.value_counts())\n",
    "print('Distribución de clases después del SMOTE:', y_train_smote.value_counts())"
   ]
  },
  {
   "cell_type": "code",
   "execution_count": null,
   "metadata": {},
   "outputs": [],
   "source": [
    "\n"
   ]
  },
  {
   "cell_type": "code",
   "execution_count": null,
   "metadata": {},
   "outputs": [],
   "source": []
  },
  {
   "cell_type": "code",
   "execution_count": null,
   "metadata": {},
   "outputs": [],
   "source": []
  }
 ],
 "metadata": {
  "ExecuteTimeLog": [
   {
    "duration": 480,
    "start_time": "2024-07-17T23:48:56.063Z"
   },
   {
    "duration": 8,
    "start_time": "2024-07-17T23:48:56.614Z"
   },
   {
    "duration": 6,
    "start_time": "2024-07-17T23:49:08.425Z"
   },
   {
    "duration": 40,
    "start_time": "2024-07-17T23:51:08.218Z"
   },
   {
    "duration": 14,
    "start_time": "2024-07-17T23:52:06.912Z"
   },
   {
    "duration": 39,
    "start_time": "2024-07-17T23:52:27.688Z"
   },
   {
    "duration": 25,
    "start_time": "2024-07-17T23:52:38.778Z"
   },
   {
    "duration": 312,
    "start_time": "2024-07-20T22:15:47.284Z"
   },
   {
    "duration": 456,
    "start_time": "2024-07-20T22:15:51.922Z"
   },
   {
    "duration": 43,
    "start_time": "2024-07-20T22:15:52.454Z"
   },
   {
    "duration": 41,
    "start_time": "2024-07-20T22:15:53.699Z"
   },
   {
    "duration": 74,
    "start_time": "2024-07-20T22:17:55.871Z"
   },
   {
    "duration": 73,
    "start_time": "2024-07-20T22:18:12.780Z"
   },
   {
    "duration": 70,
    "start_time": "2024-07-20T22:18:33.737Z"
   },
   {
    "duration": 71,
    "start_time": "2024-07-20T22:19:19.969Z"
   },
   {
    "duration": 72,
    "start_time": "2024-07-20T22:19:24.824Z"
   },
   {
    "duration": 866,
    "start_time": "2024-07-20T22:29:16.378Z"
   },
   {
    "duration": 77,
    "start_time": "2024-07-20T22:29:41.709Z"
   },
   {
    "duration": 52,
    "start_time": "2024-07-20T22:30:09.539Z"
   },
   {
    "duration": 16,
    "start_time": "2024-07-20T22:30:23.395Z"
   },
   {
    "duration": 11,
    "start_time": "2024-07-20T22:30:30.947Z"
   },
   {
    "duration": 4289,
    "start_time": "2024-07-20T22:33:01.315Z"
   },
   {
    "duration": 3,
    "start_time": "2024-07-20T22:33:50.525Z"
   },
   {
    "duration": 24,
    "start_time": "2024-07-20T22:33:50.534Z"
   },
   {
    "duration": 83,
    "start_time": "2024-07-20T22:33:50.561Z"
   },
   {
    "duration": 11,
    "start_time": "2024-07-20T22:33:50.646Z"
   },
   {
    "duration": 298,
    "start_time": "2024-07-20T22:33:50.661Z"
   },
   {
    "duration": 686,
    "start_time": "2024-07-20T22:40:43.633Z"
   },
   {
    "duration": 70,
    "start_time": "2024-07-20T22:40:44.322Z"
   },
   {
    "duration": 81,
    "start_time": "2024-07-20T22:40:44.395Z"
   },
   {
    "duration": 32,
    "start_time": "2024-07-20T22:40:44.480Z"
   },
   {
    "duration": 286,
    "start_time": "2024-07-20T22:40:44.517Z"
   },
   {
    "duration": 282,
    "start_time": "2024-07-20T22:41:40.240Z"
   },
   {
    "duration": 357,
    "start_time": "2024-07-20T22:54:04.425Z"
   },
   {
    "duration": 263,
    "start_time": "2024-07-20T22:54:48.787Z"
   },
   {
    "duration": 24,
    "start_time": "2024-07-20T23:06:52.225Z"
   },
   {
    "duration": 763,
    "start_time": "2024-07-20T23:07:07.044Z"
   },
   {
    "duration": 26,
    "start_time": "2024-07-20T23:07:07.811Z"
   },
   {
    "duration": 83,
    "start_time": "2024-07-20T23:07:07.840Z"
   },
   {
    "duration": 9,
    "start_time": "2024-07-20T23:07:07.927Z"
   },
   {
    "duration": 301,
    "start_time": "2024-07-20T23:07:07.940Z"
   },
   {
    "duration": 11,
    "start_time": "2024-07-20T23:07:08.245Z"
   },
   {
    "duration": 95,
    "start_time": "2024-07-20T23:20:23.502Z"
   },
   {
    "duration": 31,
    "start_time": "2024-07-20T23:20:43.822Z"
   },
   {
    "duration": 6,
    "start_time": "2024-07-20T23:20:50.707Z"
   },
   {
    "duration": 24,
    "start_time": "2024-07-20T23:20:50.718Z"
   },
   {
    "duration": 89,
    "start_time": "2024-07-20T23:20:50.749Z"
   },
   {
    "duration": 11,
    "start_time": "2024-07-20T23:20:50.841Z"
   },
   {
    "duration": 301,
    "start_time": "2024-07-20T23:20:50.856Z"
   },
   {
    "duration": 30,
    "start_time": "2024-07-20T23:20:51.160Z"
   },
   {
    "duration": 4,
    "start_time": "2024-07-20T23:27:04.403Z"
   },
   {
    "duration": 10,
    "start_time": "2024-07-20T23:27:12.044Z"
   },
   {
    "duration": 7,
    "start_time": "2024-07-20T23:28:56.601Z"
   },
   {
    "duration": 31,
    "start_time": "2024-07-20T23:38:04.334Z"
   },
   {
    "duration": 36,
    "start_time": "2024-07-20T23:38:17.865Z"
   },
   {
    "duration": 24,
    "start_time": "2024-07-20T23:38:27.504Z"
   },
   {
    "duration": 41,
    "start_time": "2024-07-20T23:48:31.145Z"
   },
   {
    "duration": 43,
    "start_time": "2024-07-20T23:49:22.271Z"
   },
   {
    "duration": 27,
    "start_time": "2024-07-20T23:51:00.882Z"
   },
   {
    "duration": 27,
    "start_time": "2024-07-20T23:51:07.488Z"
   },
   {
    "duration": 10,
    "start_time": "2024-07-20T23:51:14.608Z"
   },
   {
    "duration": 13,
    "start_time": "2024-07-21T00:03:48.246Z"
   },
   {
    "duration": 10,
    "start_time": "2024-07-21T00:03:54.995Z"
   },
   {
    "duration": 14,
    "start_time": "2024-07-21T00:03:55.591Z"
   },
   {
    "duration": 16,
    "start_time": "2024-07-21T00:04:15.601Z"
   },
   {
    "duration": 13,
    "start_time": "2024-07-21T00:04:25.057Z"
   },
   {
    "duration": 9,
    "start_time": "2024-07-21T00:19:16.926Z"
   },
   {
    "duration": 5,
    "start_time": "2024-07-21T00:19:23.463Z"
   },
   {
    "duration": 101,
    "start_time": "2024-07-21T00:37:49.169Z"
   },
   {
    "duration": 27,
    "start_time": "2024-07-21T00:38:13.343Z"
   },
   {
    "duration": 469,
    "start_time": "2024-07-21T00:38:18.169Z"
   },
   {
    "duration": 508,
    "start_time": "2024-07-21T00:38:25.187Z"
   },
   {
    "duration": 507,
    "start_time": "2024-07-21T00:39:46.028Z"
   },
   {
    "duration": 828,
    "start_time": "2024-07-21T00:39:53.544Z"
   },
   {
    "duration": 612,
    "start_time": "2024-07-21T00:40:47.452Z"
   },
   {
    "duration": 318,
    "start_time": "2024-07-21T20:55:45.740Z"
   },
   {
    "duration": 5117,
    "start_time": "2024-07-21T20:56:08.000Z"
   },
   {
    "duration": 36,
    "start_time": "2024-07-21T20:56:13.121Z"
   },
   {
    "duration": 82,
    "start_time": "2024-07-21T20:56:13.161Z"
   },
   {
    "duration": 6,
    "start_time": "2024-07-21T20:56:13.247Z"
   },
   {
    "duration": 11,
    "start_time": "2024-07-21T20:56:13.261Z"
   },
   {
    "duration": 57,
    "start_time": "2024-07-21T20:56:13.275Z"
   },
   {
    "duration": 1333,
    "start_time": "2024-07-21T20:56:13.336Z"
   },
   {
    "duration": 0,
    "start_time": "2024-07-21T20:56:14.672Z"
   },
   {
    "duration": 0,
    "start_time": "2024-07-21T20:56:14.674Z"
   },
   {
    "duration": 0,
    "start_time": "2024-07-21T20:56:14.676Z"
   },
   {
    "duration": 0,
    "start_time": "2024-07-21T20:56:14.678Z"
   },
   {
    "duration": 291,
    "start_time": "2024-07-21T20:56:45.150Z"
   },
   {
    "duration": 14,
    "start_time": "2024-07-21T20:56:51.422Z"
   },
   {
    "duration": 15,
    "start_time": "2024-07-21T20:56:54.634Z"
   },
   {
    "duration": 29,
    "start_time": "2024-07-21T20:56:55.687Z"
   },
   {
    "duration": 81,
    "start_time": "2024-07-21T20:57:24.862Z"
   },
   {
    "duration": 835,
    "start_time": "2024-07-21T20:57:38.826Z"
   },
   {
    "duration": 25,
    "start_time": "2024-07-21T21:01:26.762Z"
   },
   {
    "duration": 99,
    "start_time": "2024-07-21T21:02:10.948Z"
   },
   {
    "duration": 7,
    "start_time": "2024-07-21T21:02:28.001Z"
   },
   {
    "duration": 635,
    "start_time": "2024-07-21T21:16:00.217Z"
   },
   {
    "duration": 4,
    "start_time": "2024-07-21T23:28:05.821Z"
   },
   {
    "duration": 994,
    "start_time": "2024-07-21T23:37:40.207Z"
   },
   {
    "duration": 1361,
    "start_time": "2024-07-21T23:38:35.980Z"
   },
   {
    "duration": 24,
    "start_time": "2024-07-21T23:38:37.345Z"
   },
   {
    "duration": 149,
    "start_time": "2024-07-21T23:38:37.372Z"
   },
   {
    "duration": 5,
    "start_time": "2024-07-21T23:38:37.531Z"
   },
   {
    "duration": 11,
    "start_time": "2024-07-21T23:38:37.542Z"
   },
   {
    "duration": 34,
    "start_time": "2024-07-21T23:38:37.556Z"
   },
   {
    "duration": 339,
    "start_time": "2024-07-21T23:38:37.593Z"
   },
   {
    "duration": 15,
    "start_time": "2024-07-21T23:38:37.935Z"
   },
   {
    "duration": 15,
    "start_time": "2024-07-21T23:38:37.953Z"
   },
   {
    "duration": 8,
    "start_time": "2024-07-21T23:38:37.973Z"
   },
   {
    "duration": 1024,
    "start_time": "2024-07-21T23:38:37.984Z"
   },
   {
    "duration": 5667,
    "start_time": "2024-07-22T00:27:22.185Z"
   },
   {
    "duration": 30,
    "start_time": "2024-07-22T00:27:27.859Z"
   },
   {
    "duration": 88,
    "start_time": "2024-07-22T00:27:27.893Z"
   },
   {
    "duration": 10,
    "start_time": "2024-07-22T00:27:27.984Z"
   },
   {
    "duration": 11,
    "start_time": "2024-07-22T00:27:27.998Z"
   },
   {
    "duration": 34,
    "start_time": "2024-07-22T00:27:28.034Z"
   },
   {
    "duration": 312,
    "start_time": "2024-07-22T00:27:28.072Z"
   },
   {
    "duration": 13,
    "start_time": "2024-07-22T00:27:28.388Z"
   },
   {
    "duration": 37,
    "start_time": "2024-07-22T00:27:28.404Z"
   },
   {
    "duration": 10,
    "start_time": "2024-07-22T00:27:28.445Z"
   },
   {
    "duration": 1002,
    "start_time": "2024-07-22T00:27:28.459Z"
   },
   {
    "duration": 1418,
    "start_time": "2024-07-22T00:32:21.391Z"
   },
   {
    "duration": 1057,
    "start_time": "2024-07-22T00:32:56.881Z"
   },
   {
    "duration": 1036,
    "start_time": "2024-07-22T00:33:35.016Z"
   },
   {
    "duration": 195,
    "start_time": "2024-07-22T00:35:39.941Z"
   },
   {
    "duration": 54,
    "start_time": "2024-07-22T00:37:11.576Z"
   },
   {
    "duration": 4,
    "start_time": "2024-07-22T00:52:15.987Z"
   },
   {
    "duration": 1550,
    "start_time": "2024-07-22T00:52:35.225Z"
   },
   {
    "duration": 31,
    "start_time": "2024-07-22T00:52:36.780Z"
   },
   {
    "duration": 155,
    "start_time": "2024-07-22T00:52:36.814Z"
   },
   {
    "duration": 5,
    "start_time": "2024-07-22T00:52:36.972Z"
   },
   {
    "duration": 11,
    "start_time": "2024-07-22T00:52:36.983Z"
   },
   {
    "duration": 59,
    "start_time": "2024-07-22T00:52:36.998Z"
   },
   {
    "duration": 344,
    "start_time": "2024-07-22T00:52:37.059Z"
   },
   {
    "duration": 27,
    "start_time": "2024-07-22T00:52:37.406Z"
   },
   {
    "duration": 18,
    "start_time": "2024-07-22T00:52:37.438Z"
   },
   {
    "duration": 8,
    "start_time": "2024-07-22T00:52:37.459Z"
   },
   {
    "duration": 1038,
    "start_time": "2024-07-22T00:52:37.471Z"
   },
   {
    "duration": 340,
    "start_time": "2024-07-22T00:52:38.513Z"
   },
   {
    "duration": 200,
    "start_time": "2024-07-22T00:52:38.856Z"
   },
   {
    "duration": 7,
    "start_time": "2024-07-22T00:57:00.476Z"
   },
   {
    "duration": 488,
    "start_time": "2024-07-22T00:57:33.578Z"
   },
   {
    "duration": 28,
    "start_time": "2024-07-22T00:58:42.064Z"
   },
   {
    "duration": 30,
    "start_time": "2024-07-22T00:58:49.511Z"
   },
   {
    "duration": 3,
    "start_time": "2024-07-22T01:12:30.708Z"
   },
   {
    "duration": 26,
    "start_time": "2024-07-22T01:12:48.140Z"
   },
   {
    "duration": 31,
    "start_time": "2024-07-22T01:12:54.757Z"
   },
   {
    "duration": 27,
    "start_time": "2024-07-22T01:12:57.642Z"
   },
   {
    "duration": 0,
    "start_time": "2024-07-22T01:12:57.673Z"
   },
   {
    "duration": 0,
    "start_time": "2024-07-22T01:12:57.676Z"
   },
   {
    "duration": 0,
    "start_time": "2024-07-22T01:12:57.679Z"
   },
   {
    "duration": 0,
    "start_time": "2024-07-22T01:12:57.681Z"
   },
   {
    "duration": 0,
    "start_time": "2024-07-22T01:12:57.684Z"
   },
   {
    "duration": 1,
    "start_time": "2024-07-22T01:12:57.686Z"
   },
   {
    "duration": 1,
    "start_time": "2024-07-22T01:12:57.689Z"
   },
   {
    "duration": 0,
    "start_time": "2024-07-22T01:12:57.691Z"
   },
   {
    "duration": 0,
    "start_time": "2024-07-22T01:12:57.694Z"
   },
   {
    "duration": 0,
    "start_time": "2024-07-22T01:12:57.697Z"
   },
   {
    "duration": 0,
    "start_time": "2024-07-22T01:12:57.731Z"
   },
   {
    "duration": 0,
    "start_time": "2024-07-22T01:12:57.733Z"
   },
   {
    "duration": 0,
    "start_time": "2024-07-22T01:12:57.734Z"
   },
   {
    "duration": 1898,
    "start_time": "2024-07-22T01:13:26.319Z"
   },
   {
    "duration": 0,
    "start_time": "2024-07-22T01:13:28.221Z"
   },
   {
    "duration": 0,
    "start_time": "2024-07-22T01:13:28.223Z"
   },
   {
    "duration": 0,
    "start_time": "2024-07-22T01:13:28.224Z"
   },
   {
    "duration": 0,
    "start_time": "2024-07-22T01:13:28.230Z"
   },
   {
    "duration": 0,
    "start_time": "2024-07-22T01:13:28.233Z"
   },
   {
    "duration": 0,
    "start_time": "2024-07-22T01:13:28.236Z"
   },
   {
    "duration": 0,
    "start_time": "2024-07-22T01:13:28.238Z"
   },
   {
    "duration": 1,
    "start_time": "2024-07-22T01:13:28.240Z"
   },
   {
    "duration": 0,
    "start_time": "2024-07-22T01:13:28.243Z"
   },
   {
    "duration": 0,
    "start_time": "2024-07-22T01:13:28.245Z"
   },
   {
    "duration": 0,
    "start_time": "2024-07-22T01:13:28.248Z"
   },
   {
    "duration": 0,
    "start_time": "2024-07-22T01:13:28.253Z"
   },
   {
    "duration": 0,
    "start_time": "2024-07-22T01:13:28.254Z"
   },
   {
    "duration": 16632,
    "start_time": "2024-07-22T01:15:39.359Z"
   },
   {
    "duration": 0,
    "start_time": "2024-07-22T01:15:55.993Z"
   },
   {
    "duration": 4321,
    "start_time": "2024-07-22T01:16:18.510Z"
   },
   {
    "duration": 0,
    "start_time": "2024-07-22T01:16:22.839Z"
   },
   {
    "duration": 0,
    "start_time": "2024-07-22T01:16:22.841Z"
   },
   {
    "duration": 0,
    "start_time": "2024-07-22T01:16:22.843Z"
   },
   {
    "duration": 0,
    "start_time": "2024-07-22T01:16:22.845Z"
   },
   {
    "duration": 0,
    "start_time": "2024-07-22T01:16:22.847Z"
   },
   {
    "duration": 0,
    "start_time": "2024-07-22T01:16:22.849Z"
   },
   {
    "duration": 0,
    "start_time": "2024-07-22T01:16:22.851Z"
   },
   {
    "duration": 0,
    "start_time": "2024-07-22T01:16:22.852Z"
   },
   {
    "duration": 0,
    "start_time": "2024-07-22T01:16:22.855Z"
   },
   {
    "duration": 0,
    "start_time": "2024-07-22T01:16:22.856Z"
   },
   {
    "duration": 0,
    "start_time": "2024-07-22T01:16:22.859Z"
   },
   {
    "duration": 0,
    "start_time": "2024-07-22T01:16:22.861Z"
   },
   {
    "duration": 0,
    "start_time": "2024-07-22T01:16:22.863Z"
   },
   {
    "duration": 2415,
    "start_time": "2024-07-22T01:17:43.429Z"
   },
   {
    "duration": 32,
    "start_time": "2024-07-22T01:20:26.222Z"
   },
   {
    "duration": 3799,
    "start_time": "2024-07-22T01:21:35.244Z"
   },
   {
    "duration": 304,
    "start_time": "2024-07-22T01:22:18.544Z"
   },
   {
    "duration": 4445,
    "start_time": "2024-07-22T01:23:18.365Z"
   },
   {
    "duration": 306,
    "start_time": "2024-07-22T01:23:50.672Z"
   }
  ],
  "kernelspec": {
   "display_name": "Python 3 (ipykernel)",
   "language": "python",
   "name": "python3"
  },
  "language_info": {
   "codemirror_mode": {
    "name": "ipython",
    "version": 3
   },
   "file_extension": ".py",
   "mimetype": "text/x-python",
   "name": "python",
   "nbconvert_exporter": "python",
   "pygments_lexer": "ipython3",
   "version": "3.9.19"
  },
  "toc": {
   "base_numbering": 1,
   "nav_menu": {},
   "number_sections": true,
   "sideBar": true,
   "skip_h1_title": true,
   "title_cell": "Table of Contents",
   "title_sidebar": "Contents",
   "toc_cell": false,
   "toc_position": {},
   "toc_section_display": true,
   "toc_window_display": false
  }
 },
 "nbformat": 4,
 "nbformat_minor": 2
}
